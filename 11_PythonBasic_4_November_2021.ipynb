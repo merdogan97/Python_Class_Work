{
  "nbformat": 4,
  "nbformat_minor": 5,
  "metadata": {
    "kernelspec": {
      "display_name": "Python 3",
      "language": "python",
      "name": "python3"
    },
    "language_info": {
      "codemirror_mode": {
        "name": "ipython",
        "version": 3
      },
      "file_extension": ".py",
      "mimetype": "text/x-python",
      "name": "python",
      "nbconvert_exporter": "python",
      "pygments_lexer": "ipython3",
      "version": "3.8.8"
    },
    "colab": {
      "name": "11_PythonBasic_4-November-2021.ipynb",
      "provenance": [],
      "collapsed_sections": [],
      "include_colab_link": true
    }
  },
  "cells": [
    {
      "cell_type": "markdown",
      "metadata": {
        "id": "view-in-github",
        "colab_type": "text"
      },
      "source": [
        "<a href=\"https://colab.research.google.com/github/merdogan97/Python_Class_Work/blob/main/11_PythonBasic_4_November_2021.ipynb\" target=\"_parent\"><img src=\"https://colab.research.google.com/assets/colab-badge.svg\" alt=\"Open In Colab\"/></a>"
      ]
    },
    {
      "cell_type": "markdown",
      "metadata": {
        "id": "406f2981"
      },
      "source": [
        "<img src=\"https://docs.google.com/uc?id=14xeXxFrVRjvOoUYWn_GuyE-v84wVzrqr\" class=\"img-fluid\" alt=\"CLRWY\" width=\"400\" height=\"200\">"
      ],
      "id": "406f2981"
    },
    {
      "cell_type": "markdown",
      "metadata": {
        "id": "22263af8"
      },
      "source": [
        "<h1><p style=\"text-align: center; color:darkblue\">Python In-Class, <br>4 November 2021</p><h1>"
      ],
      "id": "22263af8"
    },
    {
      "cell_type": "code",
      "metadata": {
        "id": "15d0ecc0"
      },
      "source": [
        "a = set(\"philedelphia\")"
      ],
      "id": "15d0ecc0",
      "execution_count": null,
      "outputs": []
    },
    {
      "cell_type": "code",
      "metadata": {
        "id": "81aa41a8"
      },
      "source": [
        "b = set(\"dolphin\")"
      ],
      "id": "81aa41a8",
      "execution_count": null,
      "outputs": []
    },
    {
      "cell_type": "code",
      "metadata": {
        "id": "2beb1d6c",
        "outputId": "35cb9e1f-47ac-4c65-9474-a2e7c657525d"
      },
      "source": [
        "a"
      ],
      "id": "2beb1d6c",
      "execution_count": null,
      "outputs": [
        {
          "data": {
            "text/plain": [
              "{'a', 'd', 'e', 'h', 'i', 'l', 'p'}"
            ]
          },
          "execution_count": 3,
          "metadata": {},
          "output_type": "execute_result"
        }
      ]
    },
    {
      "cell_type": "code",
      "metadata": {
        "id": "21a38e40",
        "outputId": "e52cac78-a425-4c84-c917-de42ce48bdfe"
      },
      "source": [
        "b"
      ],
      "id": "21a38e40",
      "execution_count": null,
      "outputs": [
        {
          "data": {
            "text/plain": [
              "{'d', 'h', 'i', 'l', 'n', 'o', 'p'}"
            ]
          },
          "execution_count": 4,
          "metadata": {},
          "output_type": "execute_result"
        }
      ]
    },
    {
      "cell_type": "code",
      "metadata": {
        "id": "a19fbd27",
        "outputId": "8bfdee8f-df6e-4dce-b116-fb18fd9e92ad"
      },
      "source": [
        "b - a"
      ],
      "id": "a19fbd27",
      "execution_count": null,
      "outputs": [
        {
          "data": {
            "text/plain": [
              "{'n', 'o'}"
            ]
          },
          "execution_count": 5,
          "metadata": {},
          "output_type": "execute_result"
        }
      ]
    },
    {
      "cell_type": "code",
      "metadata": {
        "id": "0eefd8ff",
        "outputId": "a165a227-c0fd-4e3d-fe13-3f68b14730ea"
      },
      "source": [
        "a - b"
      ],
      "id": "0eefd8ff",
      "execution_count": null,
      "outputs": [
        {
          "data": {
            "text/plain": [
              "{'a', 'e'}"
            ]
          },
          "execution_count": 6,
          "metadata": {},
          "output_type": "execute_result"
        }
      ]
    },
    {
      "cell_type": "code",
      "metadata": {
        "id": "abee8384",
        "outputId": "e9308ff5-7b6b-48d2-acc1-0c312ca5ef0c"
      },
      "source": [
        "bool(set())"
      ],
      "id": "abee8384",
      "execution_count": null,
      "outputs": [
        {
          "data": {
            "text/plain": [
              "False"
            ]
          },
          "execution_count": 7,
          "metadata": {},
          "output_type": "execute_result"
        }
      ]
    },
    {
      "cell_type": "code",
      "metadata": {
        "id": "a1c66e7a",
        "outputId": "91c0787e-0799-4227-899b-570ccf8160ae"
      },
      "source": [
        "bool(a - b)"
      ],
      "id": "a1c66e7a",
      "execution_count": null,
      "outputs": [
        {
          "data": {
            "text/plain": [
              "True"
            ]
          },
          "execution_count": 8,
          "metadata": {},
          "output_type": "execute_result"
        }
      ]
    },
    {
      "cell_type": "code",
      "metadata": {
        "id": "e1413f0d",
        "outputId": "fc6aa4a3-567d-4ece-cd52-9b5e5718f7a6"
      },
      "source": [
        "a | b == b | a"
      ],
      "id": "e1413f0d",
      "execution_count": null,
      "outputs": [
        {
          "data": {
            "text/plain": [
              "True"
            ]
          },
          "execution_count": 9,
          "metadata": {},
          "output_type": "execute_result"
        }
      ]
    },
    {
      "cell_type": "code",
      "metadata": {
        "id": "26a26a8f",
        "outputId": "d74937a5-7132-4fbb-96d2-3ab11a4810ad"
      },
      "source": [
        "a.union(b) == b.union(a)"
      ],
      "id": "26a26a8f",
      "execution_count": null,
      "outputs": [
        {
          "data": {
            "text/plain": [
              "True"
            ]
          },
          "execution_count": 10,
          "metadata": {},
          "output_type": "execute_result"
        }
      ]
    },
    {
      "cell_type": "code",
      "metadata": {
        "id": "15254580",
        "outputId": "128e2523-e64c-41ed-e5d2-2ba475035bc6"
      },
      "source": [
        "a & b == b & a"
      ],
      "id": "15254580",
      "execution_count": null,
      "outputs": [
        {
          "data": {
            "text/plain": [
              "True"
            ]
          },
          "execution_count": 11,
          "metadata": {},
          "output_type": "execute_result"
        }
      ]
    },
    {
      "cell_type": "code",
      "metadata": {
        "id": "d9f3be2c",
        "outputId": "444f1c1b-3ab0-4ec7-e3ff-f3812dbee089"
      },
      "source": [
        "a.intersection(b) == b.intersection(a)"
      ],
      "id": "d9f3be2c",
      "execution_count": null,
      "outputs": [
        {
          "data": {
            "text/plain": [
              "True"
            ]
          },
          "execution_count": 12,
          "metadata": {},
          "output_type": "execute_result"
        }
      ]
    },
    {
      "cell_type": "code",
      "metadata": {
        "id": "d819767d"
      },
      "source": [
        "date = \"11/04/2021\""
      ],
      "id": "d819767d",
      "execution_count": null,
      "outputs": []
    },
    {
      "cell_type": "code",
      "metadata": {
        "id": "b54ba59c",
        "outputId": "cef2938e-c048-4a0d-9159-d42f4d0166ee"
      },
      "source": [
        "set(date)"
      ],
      "id": "b54ba59c",
      "execution_count": null,
      "outputs": [
        {
          "data": {
            "text/plain": [
              "{'/', '0', '1', '2', '4'}"
            ]
          },
          "execution_count": 14,
          "metadata": {},
          "output_type": "execute_result"
        }
      ]
    },
    {
      "cell_type": "code",
      "metadata": {
        "id": "d403d6dd",
        "outputId": "93e7d857-f390-4924-efb4-bf0d5e1be46c"
      },
      "source": [
        "{date}"
      ],
      "id": "d403d6dd",
      "execution_count": null,
      "outputs": [
        {
          "data": {
            "text/plain": [
              "{'11/04/2021'}"
            ]
          },
          "execution_count": 15,
          "metadata": {},
          "output_type": "execute_result"
        }
      ]
    },
    {
      "cell_type": "code",
      "metadata": {
        "id": "b243480d",
        "outputId": "7eb5e2b5-c473-4e6c-c469-c8e545e808dd"
      },
      "source": [
        "{[1,2]}"
      ],
      "id": "b243480d",
      "execution_count": null,
      "outputs": [
        {
          "ename": "TypeError",
          "evalue": "unhashable type: 'list'",
          "output_type": "error",
          "traceback": [
            "\u001b[0;31m---------------------------------------------------------------------------\u001b[0m",
            "\u001b[0;31mTypeError\u001b[0m                                 Traceback (most recent call last)",
            "\u001b[0;32m<ipython-input-16-4a5722e7ef02>\u001b[0m in \u001b[0;36m<module>\u001b[0;34m\u001b[0m\n\u001b[0;32m----> 1\u001b[0;31m \u001b[0;34m{\u001b[0m\u001b[0;34m[\u001b[0m\u001b[0;36m1\u001b[0m\u001b[0;34m,\u001b[0m\u001b[0;36m2\u001b[0m\u001b[0;34m]\u001b[0m\u001b[0;34m}\u001b[0m\u001b[0;34m\u001b[0m\u001b[0;34m\u001b[0m\u001b[0m\n\u001b[0m",
            "\u001b[0;31mTypeError\u001b[0m: unhashable type: 'list'"
          ]
        }
      ]
    },
    {
      "cell_type": "code",
      "metadata": {
        "id": "d23e810e"
      },
      "source": [
        "usa = set(\"washington\")"
      ],
      "id": "d23e810e",
      "execution_count": null,
      "outputs": []
    },
    {
      "cell_type": "code",
      "metadata": {
        "id": "886349ad"
      },
      "source": [
        "nz = set(\"wellington\")"
      ],
      "id": "886349ad",
      "execution_count": null,
      "outputs": []
    },
    {
      "cell_type": "code",
      "metadata": {
        "id": "85591a4f",
        "outputId": "5c6bb5bb-25f3-4267-e0b5-f03a740412d6"
      },
      "source": [
        "usa - nz"
      ],
      "id": "85591a4f",
      "execution_count": null,
      "outputs": [
        {
          "data": {
            "text/plain": [
              "{'a', 'h', 's'}"
            ]
          },
          "execution_count": 19,
          "metadata": {},
          "output_type": "execute_result"
        }
      ]
    },
    {
      "cell_type": "code",
      "metadata": {
        "id": "0c8a12da",
        "outputId": "8bfd5b6e-c214-4d22-b48f-cfc3576b4d43"
      },
      "source": [
        "nz - usa"
      ],
      "id": "0c8a12da",
      "execution_count": null,
      "outputs": [
        {
          "data": {
            "text/plain": [
              "{'e', 'l'}"
            ]
          },
          "execution_count": 20,
          "metadata": {},
          "output_type": "execute_result"
        }
      ]
    },
    {
      "cell_type": "code",
      "metadata": {
        "id": "28e5384f",
        "outputId": "29d6896c-8e30-48dd-a075-d6af3543aa13"
      },
      "source": [
        "usa & nz"
      ],
      "id": "28e5384f",
      "execution_count": null,
      "outputs": [
        {
          "data": {
            "text/plain": [
              "{'g', 'i', 'n', 'o', 't', 'w'}"
            ]
          },
          "execution_count": 21,
          "metadata": {},
          "output_type": "execute_result"
        }
      ]
    },
    {
      "cell_type": "code",
      "metadata": {
        "id": "27e034ac",
        "outputId": "ff5164d3-8d5d-43d8-f25a-f8ec0c495163"
      },
      "source": [
        "usa | nz"
      ],
      "id": "27e034ac",
      "execution_count": null,
      "outputs": [
        {
          "data": {
            "text/plain": [
              "{'a', 'e', 'g', 'h', 'i', 'l', 'n', 'o', 's', 't', 'w'}"
            ]
          },
          "execution_count": 22,
          "metadata": {},
          "output_type": "execute_result"
        }
      ]
    },
    {
      "cell_type": "code",
      "metadata": {
        "id": "dbe2825c"
      },
      "source": [
        "sayılar = [1,2,3,4,5]"
      ],
      "id": "dbe2825c",
      "execution_count": null,
      "outputs": []
    },
    {
      "cell_type": "code",
      "metadata": {
        "id": "278029db",
        "outputId": "896bf626-bb03-4141-acc9-d1b0a992e46d"
      },
      "source": [
        "print(sayılar[0])"
      ],
      "id": "278029db",
      "execution_count": null,
      "outputs": [
        {
          "name": "stdout",
          "output_type": "stream",
          "text": [
            "1\n"
          ]
        }
      ]
    },
    {
      "cell_type": "code",
      "metadata": {
        "id": "b6ee49b4",
        "outputId": "3304f76b-d914-42ec-a440-e0861fe45eda"
      },
      "source": [
        "print(sayılar[1])"
      ],
      "id": "b6ee49b4",
      "execution_count": null,
      "outputs": [
        {
          "name": "stdout",
          "output_type": "stream",
          "text": [
            "2\n"
          ]
        }
      ]
    },
    {
      "cell_type": "code",
      "metadata": {
        "id": "2943861a",
        "outputId": "5534f64c-e91e-45c9-d8f0-27544556ad40"
      },
      "source": [
        "print(sayılar[2])"
      ],
      "id": "2943861a",
      "execution_count": null,
      "outputs": [
        {
          "name": "stdout",
          "output_type": "stream",
          "text": [
            "3\n"
          ]
        }
      ]
    },
    {
      "cell_type": "code",
      "metadata": {
        "id": "d2670e26",
        "outputId": "fd601327-2f80-4fb6-f44f-7f905166cc40"
      },
      "source": [
        "print(sayılar[3])"
      ],
      "id": "d2670e26",
      "execution_count": null,
      "outputs": [
        {
          "name": "stdout",
          "output_type": "stream",
          "text": [
            "4\n"
          ]
        }
      ]
    },
    {
      "cell_type": "code",
      "metadata": {
        "id": "0d4de929",
        "outputId": "75e26186-1304-4eab-d11c-1357775a9660"
      },
      "source": [
        "print(sayılar[4])"
      ],
      "id": "0d4de929",
      "execution_count": null,
      "outputs": [
        {
          "name": "stdout",
          "output_type": "stream",
          "text": [
            "5\n"
          ]
        }
      ]
    },
    {
      "cell_type": "code",
      "metadata": {
        "id": "7ffef98e"
      },
      "source": [
        "a = 3\n",
        "\n",
        "b = 0"
      ],
      "id": "7ffef98e",
      "execution_count": null,
      "outputs": []
    },
    {
      "cell_type": "code",
      "metadata": {
        "id": "fd25b961"
      },
      "source": [
        "b > a"
      ],
      "id": "fd25b961",
      "execution_count": null,
      "outputs": []
    },
    {
      "cell_type": "code",
      "metadata": {
        "id": "225519a3"
      },
      "source": [
        "if condition :\n",
        "    body1\n",
        "    body2\n",
        "body3"
      ],
      "id": "225519a3",
      "execution_count": null,
      "outputs": []
    },
    {
      "cell_type": "code",
      "metadata": {
        "id": "ee46a100",
        "outputId": "8cc5a292-229b-40ae-98d0-575853f5bff0"
      },
      "source": [
        "if \"0\" :\n",
        "    print(\"hello world\")\n",
        "print(\"print me in all cases.\")"
      ],
      "id": "ee46a100",
      "execution_count": null,
      "outputs": [
        {
          "name": "stdout",
          "output_type": "stream",
          "text": [
            "hello world\n",
            "print me in all cases.\n"
          ]
        }
      ]
    },
    {
      "cell_type": "code",
      "metadata": {
        "id": "15452628",
        "outputId": "a28c9f92-1081-474a-be36-af520044df20"
      },
      "source": [
        "bool(\"0\")"
      ],
      "id": "15452628",
      "execution_count": null,
      "outputs": [
        {
          "data": {
            "text/plain": [
              "True"
            ]
          },
          "execution_count": 30,
          "metadata": {},
          "output_type": "execute_result"
        }
      ]
    },
    {
      "cell_type": "code",
      "metadata": {
        "id": "8d64530d",
        "outputId": "66f28504-9a78-4c79-cf2e-7b4458e23073"
      },
      "source": [
        "if \"0\" and \"\" :\n",
        "    print(\"hello world\")\n",
        "print(\"print me in all cases\")"
      ],
      "id": "8d64530d",
      "execution_count": null,
      "outputs": [
        {
          "name": "stdout",
          "output_type": "stream",
          "text": [
            "print me in all cases\n"
          ]
        }
      ]
    },
    {
      "cell_type": "code",
      "metadata": {
        "id": "e64c1f3f",
        "outputId": "f330c4c4-0899-4ec1-e514-f9df2e82f24d"
      },
      "source": [
        "if 0 or \"False\" and None:\n",
        "    print(\"hello world\")\n",
        "print(\"print me in all cases\")"
      ],
      "id": "e64c1f3f",
      "execution_count": null,
      "outputs": [
        {
          "name": "stdout",
          "output_type": "stream",
          "text": [
            "print me in all cases\n"
          ]
        }
      ]
    },
    {
      "cell_type": "code",
      "metadata": {
        "id": "801035dc",
        "outputId": "7a2c1263-22a5-4112-ad8c-39c6c3acc547"
      },
      "source": [
        "if 1 :\n",
        "    print(\"clarusway\")"
      ],
      "id": "801035dc",
      "execution_count": null,
      "outputs": [
        {
          "name": "stdout",
          "output_type": "stream",
          "text": [
            "clarusway\n"
          ]
        }
      ]
    },
    {
      "cell_type": "code",
      "metadata": {
        "id": "9ab4c948"
      },
      "source": [
        "if 0 :\n",
        "    print(\"clarusway\")"
      ],
      "id": "9ab4c948",
      "execution_count": null,
      "outputs": []
    },
    {
      "cell_type": "code",
      "metadata": {
        "id": "3402ed5c",
        "outputId": "d3acfd55-6e0f-4c10-ab80-e2f39ccc253c"
      },
      "source": [
        "if [\"\"] :\n",
        "    print(\"hello\")"
      ],
      "id": "3402ed5c",
      "execution_count": null,
      "outputs": [
        {
          "name": "stdout",
          "output_type": "stream",
          "text": [
            "hello\n"
          ]
        }
      ]
    },
    {
      "cell_type": "code",
      "metadata": {
        "id": "a0960e99"
      },
      "source": [
        "minced = True\n",
        "bread = True\n",
        "\n",
        "# green\n",
        "lettuce = True\n",
        "onion = True\n",
        "\n",
        "grocer = True"
      ],
      "id": "a0960e99",
      "execution_count": null,
      "outputs": []
    },
    {
      "cell_type": "code",
      "metadata": {
        "id": "2927316b"
      },
      "source": [
        "hamburger = (minced and grocer and bread) and (lettuce or onion)"
      ],
      "id": "2927316b",
      "execution_count": null,
      "outputs": []
    },
    {
      "cell_type": "code",
      "metadata": {
        "id": "dc2ccdbe",
        "outputId": "95d342d8-4445-41bb-fd44-62cf9a776afd"
      },
      "source": [
        "hamburger"
      ],
      "id": "dc2ccdbe",
      "execution_count": null,
      "outputs": [
        {
          "data": {
            "text/plain": [
              "True"
            ]
          },
          "execution_count": 40,
          "metadata": {},
          "output_type": "execute_result"
        }
      ]
    },
    {
      "cell_type": "code",
      "metadata": {
        "id": "5de23951",
        "outputId": "27d77bd2-e27a-4beb-e64b-f01b4bddb705"
      },
      "source": [
        "if hamburger :\n",
        "    print(\"Bon Appetit\")"
      ],
      "id": "5de23951",
      "execution_count": null,
      "outputs": [
        {
          "name": "stdout",
          "output_type": "stream",
          "text": [
            "Bon Appetit\n"
          ]
        }
      ]
    },
    {
      "cell_type": "code",
      "metadata": {
        "id": "d3e6c8be",
        "outputId": "e986f524-6a58-41cf-99ef-0a692cc4a364"
      },
      "source": [
        "1 == 1.0"
      ],
      "id": "d3e6c8be",
      "execution_count": null,
      "outputs": [
        {
          "data": {
            "text/plain": [
              "True"
            ]
          },
          "execution_count": 42,
          "metadata": {},
          "output_type": "execute_result"
        }
      ]
    },
    {
      "cell_type": "code",
      "metadata": {
        "id": "db1311c3",
        "outputId": "59b5da08-8c98-4b35-907e-3eb2ca8f7162"
      },
      "source": [
        "3 > 3"
      ],
      "id": "db1311c3",
      "execution_count": null,
      "outputs": [
        {
          "data": {
            "text/plain": [
              "False"
            ]
          },
          "execution_count": 43,
          "metadata": {},
          "output_type": "execute_result"
        }
      ]
    },
    {
      "cell_type": "code",
      "metadata": {
        "id": "1bb3318a",
        "outputId": "5da28d58-0d4f-4301-ab70-43bc61893219"
      },
      "source": [
        "3 >= 3"
      ],
      "id": "1bb3318a",
      "execution_count": null,
      "outputs": [
        {
          "data": {
            "text/plain": [
              "True"
            ]
          },
          "execution_count": 44,
          "metadata": {},
          "output_type": "execute_result"
        }
      ]
    },
    {
      "cell_type": "code",
      "metadata": {
        "id": "9b63ee86",
        "outputId": "e94f5af5-9ba2-4c29-dd95-52420949bc08"
      },
      "source": [
        "\"ali\" == \"Ali\""
      ],
      "id": "9b63ee86",
      "execution_count": null,
      "outputs": [
        {
          "data": {
            "text/plain": [
              "False"
            ]
          },
          "execution_count": 45,
          "metadata": {},
          "output_type": "execute_result"
        }
      ]
    },
    {
      "cell_type": "code",
      "metadata": {
        "id": "b75b27e6",
        "outputId": "355fc13f-b65f-4565-da1f-1513b73a3627"
      },
      "source": [
        "\"ali\" != \"Ali\""
      ],
      "id": "b75b27e6",
      "execution_count": null,
      "outputs": [
        {
          "data": {
            "text/plain": [
              "True"
            ]
          },
          "execution_count": 46,
          "metadata": {},
          "output_type": "execute_result"
        }
      ]
    },
    {
      "cell_type": "code",
      "metadata": {
        "id": "3b0091f0",
        "outputId": "47b3ae8d-3ddb-4abe-b3fe-510955363223"
      },
      "source": [
        "type(input(\"bir şey yaz :\"))"
      ],
      "id": "3b0091f0",
      "execution_count": null,
      "outputs": [
        {
          "name": "stdout",
          "output_type": "stream",
          "text": [
            "bir şey yaz :birşey\n"
          ]
        },
        {
          "data": {
            "text/plain": [
              "str"
            ]
          },
          "execution_count": 47,
          "metadata": {},
          "output_type": "execute_result"
        }
      ]
    },
    {
      "cell_type": "code",
      "metadata": {
        "id": "97663081",
        "outputId": "286c1f76-699d-4e75-ba7d-52995effef2b"
      },
      "source": [
        "convert = input(\"Enter Yes or No :\").title().strip() == \"Yes\""
      ],
      "id": "97663081",
      "execution_count": null,
      "outputs": [
        {
          "name": "stdout",
          "output_type": "stream",
          "text": [
            "Enter Yes or No :No\n"
          ]
        }
      ]
    },
    {
      "cell_type": "code",
      "metadata": {
        "id": "b615ab67",
        "outputId": "08d663b5-a1ca-4933-b915-8ef999000e19"
      },
      "source": [
        "convert"
      ],
      "id": "b615ab67",
      "execution_count": null,
      "outputs": [
        {
          "data": {
            "text/plain": [
              "True"
            ]
          },
          "execution_count": 49,
          "metadata": {},
          "output_type": "execute_result"
        }
      ]
    },
    {
      "cell_type": "code",
      "metadata": {
        "id": "65ded0c9",
        "outputId": "2edf7a27-9fb1-46f8-ef56-0e7b42058640"
      },
      "source": [
        "print(f\"You entered {input('Enter Yes or No :').title().strip() == 'Yes'}\")"
      ],
      "id": "65ded0c9",
      "execution_count": null,
      "outputs": [
        {
          "name": "stdout",
          "output_type": "stream",
          "text": [
            "Enter Yes or No :Yes\n",
            "You entered True\n"
          ]
        }
      ]
    },
    {
      "cell_type": "code",
      "metadata": {
        "id": "91e3fad6",
        "outputId": "061510ec-4dcb-438d-b2f0-c9de33206c12"
      },
      "source": [
        "num = float(input(\"Enter positive or negative number :\"))\n",
        "\n",
        "if num > 0 :\n",
        "    print(\"You entered positive number\")\n",
        "else :\n",
        "    print(\"You entered negative number\")"
      ],
      "id": "91e3fad6",
      "execution_count": null,
      "outputs": [
        {
          "name": "stdout",
          "output_type": "stream",
          "text": [
            "Enter positive or negative number :-22\n",
            "You entered negative number\n"
          ]
        }
      ]
    },
    {
      "cell_type": "code",
      "metadata": {
        "id": "4319791c",
        "outputId": "708e3e01-996c-4470-8e02-9264f51d3805"
      },
      "source": [
        "float(\"-33\")"
      ],
      "id": "4319791c",
      "execution_count": null,
      "outputs": [
        {
          "data": {
            "text/plain": [
              "-33.0"
            ]
          },
          "execution_count": 57,
          "metadata": {},
          "output_type": "execute_result"
        }
      ]
    },
    {
      "cell_type": "code",
      "metadata": {
        "id": "844da5c6",
        "outputId": "9ef566cf-542c-43d4-f977-d8ba81ad17d3"
      },
      "source": [
        "num1 = float(input(\"Enter first number : \"))\n",
        "num2 = float(input(\"Enter second number : \"))\n",
        "\n",
        "\n",
        "if num1 > num2 :\n",
        "    larger = num1\n",
        "else :\n",
        "    larger = num2\n",
        "    \n",
        "print(\"The larger number is\", larger)"
      ],
      "id": "844da5c6",
      "execution_count": null,
      "outputs": [
        {
          "name": "stdout",
          "output_type": "stream",
          "text": [
            "Enter first number : 5\n",
            "Enter second number : 3\n",
            "The larger number is 5.0\n"
          ]
        }
      ]
    },
    {
      "cell_type": "code",
      "metadata": {
        "id": "da5c7547",
        "outputId": "e15002bc-c988-4218-af2e-ce4a8ee4b4c8"
      },
      "source": [
        "num1 = float(input('Enter first number: '))\n",
        "num2 = float(input('Enter second number: '))\n",
        "\n",
        "if (num1 > num2):\n",
        "    print('The large number is', num1)\n",
        "else:\n",
        "    print('The large number is', num2)\n",
        "\n"
      ],
      "id": "da5c7547",
      "execution_count": null,
      "outputs": [
        {
          "name": "stdout",
          "output_type": "stream",
          "text": [
            "Enter first number: 7\n",
            "Enter second number: 11\n",
            "The large number is 11.0\n"
          ]
        }
      ]
    },
    {
      "cell_type": "code",
      "metadata": {
        "id": "1f666aa9"
      },
      "source": [
        ""
      ],
      "id": "1f666aa9",
      "execution_count": null,
      "outputs": []
    },
    {
      "cell_type": "code",
      "metadata": {
        "id": "00b5f5ec"
      },
      "source": [
        ""
      ],
      "id": "00b5f5ec",
      "execution_count": null,
      "outputs": []
    },
    {
      "cell_type": "code",
      "metadata": {
        "id": "47763842"
      },
      "source": [
        ""
      ],
      "id": "47763842",
      "execution_count": null,
      "outputs": []
    },
    {
      "cell_type": "code",
      "metadata": {
        "id": "55f3f7e0"
      },
      "source": [
        ""
      ],
      "id": "55f3f7e0",
      "execution_count": null,
      "outputs": []
    },
    {
      "cell_type": "code",
      "metadata": {
        "id": "5a7ceabb"
      },
      "source": [
        ""
      ],
      "id": "5a7ceabb",
      "execution_count": null,
      "outputs": []
    }
  ]
}