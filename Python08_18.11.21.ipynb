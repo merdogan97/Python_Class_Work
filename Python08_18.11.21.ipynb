{
  "nbformat": 4,
  "nbformat_minor": 5,
  "metadata": {
    "kernelspec": {
      "display_name": "Python 3",
      "language": "python",
      "name": "python3"
    },
    "language_info": {
      "codemirror_mode": {
        "name": "ipython",
        "version": 3
      },
      "file_extension": ".py",
      "mimetype": "text/x-python",
      "name": "python",
      "nbconvert_exporter": "python",
      "pygments_lexer": "ipython3",
      "version": "3.8.8"
    },
    "colab": {
      "name": "08_PythonBasic_18-October-2021.ipynb",
      "provenance": [],
      "include_colab_link": true
    }
  },
  "cells": [
    {
      "cell_type": "markdown",
      "metadata": {
        "id": "view-in-github",
        "colab_type": "text"
      },
      "source": [
        "<a href=\"https://colab.research.google.com/github/merdogan97/Python_Class_Work/blob/main/Python08_18.11.21.ipynb\" target=\"_parent\"><img src=\"https://colab.research.google.com/assets/colab-badge.svg\" alt=\"Open In Colab\"/></a>"
      ]
    },
    {
      "cell_type": "markdown",
      "metadata": {
        "id": "406f2981"
      },
      "source": [
        "<img src=\"https://docs.google.com/uc?id=14xeXxFrVRjvOoUYWn_GuyE-v84wVzrqr\" class=\"img-fluid\" alt=\"CLRWY\" width=\"400\" height=\"200\">"
      ],
      "id": "406f2981"
    },
    {
      "cell_type": "markdown",
      "metadata": {
        "id": "22263af8"
      },
      "source": [
        "<h1><p style=\"text-align: center; color:darkblue\">Python In-Class, <br>18 October 2021</p><h1>"
      ],
      "id": "22263af8"
    },
    {
      "cell_type": "code",
      "metadata": {
        "id": "8b519371"
      },
      "source": [
        "string = \"ali\""
      ],
      "id": "8b519371",
      "execution_count": null,
      "outputs": []
    },
    {
      "cell_type": "code",
      "metadata": {
        "id": "cd9f9055",
        "outputId": "c48a7bd6-a4fd-45df-8470-921f7edfc7d4"
      },
      "source": [
        "string.upper()"
      ],
      "id": "cd9f9055",
      "execution_count": null,
      "outputs": [
        {
          "data": {
            "text/plain": [
              "'ALI'"
            ]
          },
          "execution_count": 2,
          "metadata": {},
          "output_type": "execute_result"
        }
      ]
    },
    {
      "cell_type": "code",
      "metadata": {
        "id": "b311309d",
        "outputId": "0539bf44-fe00-4daf-93f5-4db3dd212dad"
      },
      "source": [
        "string"
      ],
      "id": "b311309d",
      "execution_count": null,
      "outputs": [
        {
          "data": {
            "text/plain": [
              "'ali'"
            ]
          },
          "execution_count": 3,
          "metadata": {},
          "output_type": "execute_result"
        }
      ]
    },
    {
      "cell_type": "code",
      "metadata": {
        "id": "1cf1a8c1"
      },
      "source": [
        "string = string.upper()"
      ],
      "id": "1cf1a8c1",
      "execution_count": null,
      "outputs": []
    },
    {
      "cell_type": "code",
      "metadata": {
        "id": "e73acffb",
        "outputId": "a08cfb4a-597e-4d12-bb4d-113b6f4989bb"
      },
      "source": [
        "string"
      ],
      "id": "e73acffb",
      "execution_count": null,
      "outputs": [
        {
          "data": {
            "text/plain": [
              "'ALI'"
            ]
          },
          "execution_count": 5,
          "metadata": {},
          "output_type": "execute_result"
        }
      ]
    },
    {
      "cell_type": "code",
      "metadata": {
        "id": "51456fd0"
      },
      "source": [
        "liste = [4,1,6,7,2]"
      ],
      "id": "51456fd0",
      "execution_count": null,
      "outputs": []
    },
    {
      "cell_type": "code",
      "metadata": {
        "id": "4fe95830"
      },
      "source": [
        "liste.sort()"
      ],
      "id": "4fe95830",
      "execution_count": null,
      "outputs": []
    },
    {
      "cell_type": "code",
      "metadata": {
        "id": "3a5515d4",
        "outputId": "422ff9bf-a8bb-4ece-d85c-553c84108089"
      },
      "source": [
        "liste"
      ],
      "id": "3a5515d4",
      "execution_count": null,
      "outputs": [
        {
          "data": {
            "text/plain": [
              "[1, 2, 4, 6, 7]"
            ]
          },
          "execution_count": 8,
          "metadata": {},
          "output_type": "execute_result"
        }
      ]
    },
    {
      "cell_type": "code",
      "metadata": {
        "id": "8457874a"
      },
      "source": [
        "city = ['New York', 'London', 'Istanbul', 'Seoul', 'Sydney']"
      ],
      "id": "8457874a",
      "execution_count": null,
      "outputs": []
    },
    {
      "cell_type": "code",
      "metadata": {
        "id": "fd6ac9fb"
      },
      "source": [
        "city_new = []\n",
        "city_new.append(city)"
      ],
      "id": "fd6ac9fb",
      "execution_count": null,
      "outputs": []
    },
    {
      "cell_type": "code",
      "metadata": {
        "id": "b569b6ae",
        "outputId": "e4245a54-c0b5-428d-ce39-8dc1b0ed7a19"
      },
      "source": [
        "city_new"
      ],
      "id": "b569b6ae",
      "execution_count": null,
      "outputs": [
        {
          "data": {
            "text/plain": [
              "[['New York', 'London', 'Istanbul', 'Seoul', 'Sydney']]"
            ]
          },
          "execution_count": 11,
          "metadata": {},
          "output_type": "execute_result"
        }
      ]
    },
    {
      "cell_type": "code",
      "metadata": {
        "id": "4cc7330e"
      },
      "source": [
        "sayılar = []"
      ],
      "id": "4cc7330e",
      "execution_count": null,
      "outputs": []
    },
    {
      "cell_type": "code",
      "metadata": {
        "id": "b095df48"
      },
      "source": [
        "sayılar.append(55)"
      ],
      "id": "b095df48",
      "execution_count": null,
      "outputs": []
    },
    {
      "cell_type": "code",
      "metadata": {
        "id": "6011ccfa",
        "outputId": "d15ba059-36fb-4f7d-86d5-952018a28973"
      },
      "source": [
        "sayılar"
      ],
      "id": "6011ccfa",
      "execution_count": null,
      "outputs": [
        {
          "data": {
            "text/plain": [
              "[55]"
            ]
          },
          "execution_count": 14,
          "metadata": {},
          "output_type": "execute_result"
        }
      ]
    },
    {
      "cell_type": "code",
      "metadata": {
        "id": "877226fe",
        "outputId": "8d0de28f-846a-40d5-9822-f340aa1f9f0a"
      },
      "source": [
        "len(sayılar)"
      ],
      "id": "877226fe",
      "execution_count": null,
      "outputs": [
        {
          "data": {
            "text/plain": [
              "1"
            ]
          },
          "execution_count": 15,
          "metadata": {},
          "output_type": "execute_result"
        }
      ]
    },
    {
      "cell_type": "code",
      "metadata": {
        "id": "c85a7188",
        "outputId": "b706d334-9f6a-4c0b-fd54-0fce3cc6c29a"
      },
      "source": [
        "len([[]])"
      ],
      "id": "c85a7188",
      "execution_count": null,
      "outputs": [
        {
          "data": {
            "text/plain": [
              "1"
            ]
          },
          "execution_count": 16,
          "metadata": {},
          "output_type": "execute_result"
        }
      ]
    },
    {
      "cell_type": "code",
      "metadata": {
        "id": "f91fd7ff",
        "outputId": "38163a76-e9f4-4aaf-c492-a4a99320df0c"
      },
      "source": [
        "len([[[]], [1,2,3]])"
      ],
      "id": "f91fd7ff",
      "execution_count": null,
      "outputs": [
        {
          "data": {
            "text/plain": [
              "2"
            ]
          },
          "execution_count": 18,
          "metadata": {},
          "output_type": "execute_result"
        }
      ]
    },
    {
      "cell_type": "code",
      "metadata": {
        "id": "0fbf3c1b",
        "outputId": "96d7cf68-c0d8-47cf-8743-9b69ececb668"
      },
      "source": [
        "city_new"
      ],
      "id": "0fbf3c1b",
      "execution_count": null,
      "outputs": [
        {
          "data": {
            "text/plain": [
              "[['New York', 'London', 'Istanbul', 'Seoul', 'Sydney']]"
            ]
          },
          "execution_count": 19,
          "metadata": {},
          "output_type": "execute_result"
        }
      ]
    },
    {
      "cell_type": "code",
      "metadata": {
        "id": "3b3e6782",
        "outputId": "7cb74640-375b-4902-9bda-2545aff97c85"
      },
      "source": [
        "city_new[0]"
      ],
      "id": "3b3e6782",
      "execution_count": null,
      "outputs": [
        {
          "data": {
            "text/plain": [
              "['New York', 'London', 'Istanbul', 'Seoul', 'Sydney']"
            ]
          },
          "execution_count": 20,
          "metadata": {},
          "output_type": "execute_result"
        }
      ]
    },
    {
      "cell_type": "code",
      "metadata": {
        "id": "9fda5bdd",
        "outputId": "aa3048b6-1c15-458e-be7f-b4af507d796a"
      },
      "source": [
        "type(city_new[0])"
      ],
      "id": "9fda5bdd",
      "execution_count": null,
      "outputs": [
        {
          "data": {
            "text/plain": [
              "list"
            ]
          },
          "execution_count": 21,
          "metadata": {},
          "output_type": "execute_result"
        }
      ]
    },
    {
      "cell_type": "code",
      "metadata": {
        "id": "41399831",
        "outputId": "027acb88-5a49-4a73-f54e-5d3d05e64123"
      },
      "source": [
        "city_new[0][2]"
      ],
      "id": "41399831",
      "execution_count": null,
      "outputs": [
        {
          "data": {
            "text/plain": [
              "'Istanbul'"
            ]
          },
          "execution_count": 22,
          "metadata": {},
          "output_type": "execute_result"
        }
      ]
    },
    {
      "cell_type": "code",
      "metadata": {
        "id": "f3f22639",
        "outputId": "c22b667d-86b5-4edf-c28f-fbc366252efa"
      },
      "source": [
        "type(city_new[0][2])"
      ],
      "id": "f3f22639",
      "execution_count": null,
      "outputs": [
        {
          "data": {
            "text/plain": [
              "str"
            ]
          },
          "execution_count": 23,
          "metadata": {},
          "output_type": "execute_result"
        }
      ]
    },
    {
      "cell_type": "code",
      "metadata": {
        "id": "5d842e6f",
        "outputId": "ae30dcaa-9f13-4812-98f1-0646af031374"
      },
      "source": [
        "city_new[0][2][3]"
      ],
      "id": "5d842e6f",
      "execution_count": null,
      "outputs": [
        {
          "data": {
            "text/plain": [
              "'a'"
            ]
          },
          "execution_count": 24,
          "metadata": {},
          "output_type": "execute_result"
        }
      ]
    },
    {
      "cell_type": "code",
      "metadata": {
        "id": "77209c1c",
        "outputId": "ae41fad3-8995-40fe-c7ba-9ee1cc5da779"
      },
      "source": [
        "sayılar"
      ],
      "id": "77209c1c",
      "execution_count": null,
      "outputs": [
        {
          "data": {
            "text/plain": [
              "[55]"
            ]
          },
          "execution_count": 25,
          "metadata": {},
          "output_type": "execute_result"
        }
      ]
    },
    {
      "cell_type": "code",
      "metadata": {
        "id": "82fdafbb",
        "outputId": "1c1c8c00-a57f-42bd-e6d9-894c83a84235"
      },
      "source": [
        "sayılar[0]"
      ],
      "id": "82fdafbb",
      "execution_count": null,
      "outputs": [
        {
          "data": {
            "text/plain": [
              "55"
            ]
          },
          "execution_count": 26,
          "metadata": {},
          "output_type": "execute_result"
        }
      ]
    },
    {
      "cell_type": "code",
      "metadata": {
        "id": "50bee11d",
        "outputId": "6e41ac17-38e9-4bd9-d2ca-53d273d57c29"
      },
      "source": [
        "type(sayılar[0])"
      ],
      "id": "50bee11d",
      "execution_count": null,
      "outputs": [
        {
          "data": {
            "text/plain": [
              "int"
            ]
          },
          "execution_count": 27,
          "metadata": {},
          "output_type": "execute_result"
        }
      ]
    },
    {
      "cell_type": "code",
      "metadata": {
        "id": "eea6e872",
        "outputId": "ba90bafb-2eef-4139-bff5-783df08f8e1b"
      },
      "source": [
        "range(1,11)"
      ],
      "id": "eea6e872",
      "execution_count": null,
      "outputs": [
        {
          "data": {
            "text/plain": [
              "range(1, 11)"
            ]
          },
          "execution_count": 28,
          "metadata": {},
          "output_type": "execute_result"
        }
      ]
    },
    {
      "cell_type": "code",
      "metadata": {
        "id": "ad795ea7"
      },
      "source": [
        "sayılarım = list(range(1, 11))"
      ],
      "id": "ad795ea7",
      "execution_count": null,
      "outputs": []
    },
    {
      "cell_type": "code",
      "metadata": {
        "id": "27f37eca",
        "outputId": "d650ee49-5d8e-463f-90f4-d4df91f1403c"
      },
      "source": [
        "sayılarım"
      ],
      "id": "27f37eca",
      "execution_count": null,
      "outputs": [
        {
          "data": {
            "text/plain": [
              "[1, 2, 3, 4, 5, 6, 7, 8, 9, 10]"
            ]
          },
          "execution_count": 30,
          "metadata": {},
          "output_type": "execute_result"
        }
      ]
    },
    {
      "cell_type": "code",
      "metadata": {
        "id": "e92776c6",
        "outputId": "258fd142-9bf3-43b1-9150-e647e8515693"
      },
      "source": [
        "list(range(11))"
      ],
      "id": "e92776c6",
      "execution_count": null,
      "outputs": [
        {
          "data": {
            "text/plain": [
              "[0, 1, 2, 3, 4, 5, 6, 7, 8, 9, 10]"
            ]
          },
          "execution_count": 31,
          "metadata": {},
          "output_type": "execute_result"
        }
      ]
    },
    {
      "cell_type": "code",
      "metadata": {
        "id": "045b8f7c",
        "outputId": "9e9b0ee5-1239-44f6-9d23-9e8376b72107"
      },
      "source": [
        "list(range(11, 1, -1))"
      ],
      "id": "045b8f7c",
      "execution_count": null,
      "outputs": [
        {
          "data": {
            "text/plain": [
              "[11, 10, 9, 8, 7, 6, 5, 4, 3, 2]"
            ]
          },
          "execution_count": 32,
          "metadata": {},
          "output_type": "execute_result"
        }
      ]
    },
    {
      "cell_type": "code",
      "metadata": {
        "id": "422946d0",
        "outputId": "f52a1fe4-a5ce-4ca5-938d-eb46e363d74c"
      },
      "source": [
        "print(len([[1, 2, 3]][0]))"
      ],
      "id": "422946d0",
      "execution_count": null,
      "outputs": [
        {
          "name": "stdout",
          "output_type": "stream",
          "text": [
            "3\n"
          ]
        }
      ]
    },
    {
      "cell_type": "code",
      "metadata": {
        "id": "2ad97fe8"
      },
      "source": [
        "import sys"
      ],
      "id": "2ad97fe8",
      "execution_count": null,
      "outputs": []
    },
    {
      "cell_type": "code",
      "metadata": {
        "id": "efb1a5dc"
      },
      "source": [
        "x = [1, 2, 3]\n",
        "y = (1, 2, 3)"
      ],
      "id": "efb1a5dc",
      "execution_count": null,
      "outputs": []
    },
    {
      "cell_type": "code",
      "metadata": {
        "id": "e76dd64b",
        "outputId": "56beb258-9d93-431b-f3fd-fadbb62579d4"
      },
      "source": [
        "print(sys.getsizeof(x))\n",
        "print(sys.getsizeof(y))"
      ],
      "id": "e76dd64b",
      "execution_count": null,
      "outputs": [
        {
          "name": "stdout",
          "output_type": "stream",
          "text": [
            "80\n",
            "64\n"
          ]
        }
      ]
    },
    {
      "cell_type": "code",
      "metadata": {
        "id": "89bdc09d"
      },
      "source": [
        "a = 1, 2, 3"
      ],
      "id": "89bdc09d",
      "execution_count": null,
      "outputs": []
    },
    {
      "cell_type": "code",
      "metadata": {
        "id": "fb94e427",
        "outputId": "5c99dc36-e091-4832-888f-3db987549d82"
      },
      "source": [
        "type(a)"
      ],
      "id": "fb94e427",
      "execution_count": null,
      "outputs": [
        {
          "data": {
            "text/plain": [
              "tuple"
            ]
          },
          "execution_count": 38,
          "metadata": {},
          "output_type": "execute_result"
        }
      ]
    },
    {
      "cell_type": "code",
      "metadata": {
        "id": "e2a29623"
      },
      "source": [
        "b = 1"
      ],
      "id": "e2a29623",
      "execution_count": null,
      "outputs": []
    },
    {
      "cell_type": "code",
      "metadata": {
        "id": "fdc76524",
        "outputId": "b15fc5f2-1b50-4f16-e805-633e90108c04"
      },
      "source": [
        "type(b)"
      ],
      "id": "fdc76524",
      "execution_count": null,
      "outputs": [
        {
          "data": {
            "text/plain": [
              "int"
            ]
          },
          "execution_count": 40,
          "metadata": {},
          "output_type": "execute_result"
        }
      ]
    },
    {
      "cell_type": "code",
      "metadata": {
        "id": "1c832379"
      },
      "source": [
        "c = 1,"
      ],
      "id": "1c832379",
      "execution_count": null,
      "outputs": []
    },
    {
      "cell_type": "code",
      "metadata": {
        "id": "31ae3543",
        "outputId": "e0846602-8584-4876-e142-e7fe8ebc08b7"
      },
      "source": [
        "type(c)"
      ],
      "id": "31ae3543",
      "execution_count": null,
      "outputs": [
        {
          "data": {
            "text/plain": [
              "tuple"
            ]
          },
          "execution_count": 42,
          "metadata": {},
          "output_type": "execute_result"
        }
      ]
    },
    {
      "cell_type": "code",
      "metadata": {
        "id": "06ec1361"
      },
      "source": [
        "text = \"Solar\""
      ],
      "id": "06ec1361",
      "execution_count": null,
      "outputs": []
    },
    {
      "cell_type": "code",
      "metadata": {
        "id": "466d9969",
        "outputId": "ec2318a6-309e-4126-e70f-84530b5bab16"
      },
      "source": [
        "type(text)"
      ],
      "id": "466d9969",
      "execution_count": null,
      "outputs": [
        {
          "data": {
            "text/plain": [
              "str"
            ]
          },
          "execution_count": 44,
          "metadata": {},
          "output_type": "execute_result"
        }
      ]
    },
    {
      "cell_type": "code",
      "metadata": {
        "id": "c6bdd835",
        "outputId": "5528a48b-635f-4eb1-f602-e865fa3aa21d"
      },
      "source": [
        "tuple([\"Solar\"])"
      ],
      "id": "c6bdd835",
      "execution_count": null,
      "outputs": [
        {
          "data": {
            "text/plain": [
              "('Solar',)"
            ]
          },
          "execution_count": 45,
          "metadata": {},
          "output_type": "execute_result"
        }
      ]
    },
    {
      "cell_type": "code",
      "metadata": {
        "id": "eeaf5ac0"
      },
      "source": [
        "x = \"Ali\", \"Veli\", \"Deli\""
      ],
      "id": "eeaf5ac0",
      "execution_count": null,
      "outputs": []
    },
    {
      "cell_type": "code",
      "metadata": {
        "id": "f4fd5b80",
        "outputId": "e9a04afe-95c9-4e3b-81b6-4d06c93de8a8"
      },
      "source": [
        "type(x)"
      ],
      "id": "f4fd5b80",
      "execution_count": null,
      "outputs": [
        {
          "data": {
            "text/plain": [
              "tuple"
            ]
          },
          "execution_count": 47,
          "metadata": {},
          "output_type": "execute_result"
        }
      ]
    },
    {
      "cell_type": "code",
      "metadata": {
        "id": "e9d42030"
      },
      "source": [
        ""
      ],
      "id": "e9d42030",
      "execution_count": null,
      "outputs": []
    },
    {
      "cell_type": "code",
      "metadata": {
        "id": "9b95f0d9"
      },
      "source": [
        ""
      ],
      "id": "9b95f0d9",
      "execution_count": null,
      "outputs": []
    }
  ]
}