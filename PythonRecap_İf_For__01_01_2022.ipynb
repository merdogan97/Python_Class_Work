{
  "nbformat": 4,
  "nbformat_minor": 0,
  "metadata": {
    "colab": {
      "name": "PythonRecap_İf/For _01.01.2022.ipynb",
      "provenance": [],
      "collapsed_sections": [],
      "authorship_tag": "ABX9TyP/2xAk5HclrjIoHafrSHqF",
      "include_colab_link": true
    },
    "kernelspec": {
      "name": "python3",
      "display_name": "Python 3"
    },
    "language_info": {
      "name": "python"
    }
  },
  "cells": [
    {
      "cell_type": "markdown",
      "metadata": {
        "id": "view-in-github",
        "colab_type": "text"
      },
      "source": [
        "<a href=\"https://colab.research.google.com/github/merdogan97/Python_Class_Work/blob/main/PythonRecap_%C4%B0f_For__01_01_2022.ipynb\" target=\"_parent\"><img src=\"https://colab.research.google.com/assets/colab-badge.svg\" alt=\"Open In Colab\"/></a>"
      ]
    },
    {
      "cell_type": "markdown",
      "source": [
        "Task\n",
        "Given an integer, n, perform the following conditional actions:\n",
        "\n",
        "If n is odd, print Weird\n",
        "If n is even and in the inclusive range of  to , print Not Weird\n",
        "If n is even and in the inclusive range of  to , print Weird\n",
        "If n  is even and greater than , print Not Weird\n",
        "\n",
        "Print Weird if the number is weird. Otherwise, print Not Weird."
      ],
      "metadata": {
        "id": "fPHKkUqJmJb7"
      }
    },
    {
      "cell_type": "code",
      "execution_count": 5,
      "metadata": {
        "colab": {
          "base_uri": "https://localhost:8080/"
        },
        "id": "8ryb9_avli2C",
        "outputId": "6d5ce94f-2fd2-4464-9a30-446f1b8142c0"
      },
      "outputs": [
        {
          "output_type": "stream",
          "name": "stdout",
          "text": [
            "Give an integer number please:22\n",
            "Not Weird !! \n"
          ]
        }
      ],
      "source": [
        "n = int(input(\"Give an integer number please:\"))\n",
        "\n",
        "if n % 2 == 1:\n",
        "    print(\"Weird !! \")\n",
        "if (n % 2 == 0) and 2<n<5 :\n",
        "    print(\"Not weird !! \")\n",
        "if (n % 2 == 0) and 6<n<20 :\n",
        "    print(\"Weird !! \")\n",
        "if (n % 2 == 0) and n>20 :\n",
        "    print(\"Not Weird !! \")"
      ]
    },
    {
      "cell_type": "code",
      "source": [
        "x = int(input(\"Bir sayı giriniz:\"))\n",
        "if x % 2 == 0 :\n",
        "  print(x, \"çift sayıdır.\")\n",
        "else:\n",
        "  print(x, \"tek sayıdır\")"
      ],
      "metadata": {
        "colab": {
          "base_uri": "https://localhost:8080/"
        },
        "id": "PFiM5MYHmDtZ",
        "outputId": "8a36942a-4032-4af4-ffa2-12d0b2fa7936"
      },
      "execution_count": 7,
      "outputs": [
        {
          "output_type": "stream",
          "name": "stdout",
          "text": [
            "Bir sayı giriniz:4\n",
            "4 çift sayıdır.\n"
          ]
        }
      ]
    },
    {
      "cell_type": "code",
      "source": [
        "sınav1 = int(input(\"Birinci sınav notunu giriniz:\"))\n",
        "sınav2 = int(input(\"İkinci sınav notunu giriniz:\"))\n",
        "perf1 = int(input(\"Birinci performans notunu giriniz: \"))\n",
        "perf2 = int(input(\"İkinci performance notunu giriniz:\"))\n",
        "t1 = sınav1 + sınav2\n",
        "t2 = perf1 + perf2\n",
        "tort =(t1 + t2 )/ 4\n",
        "\n",
        "if tort < 50 :\n",
        "  print(\"Not ortalaması\",tort, \"Sınıfta kaldı !\")\n",
        "\n",
        "else:\n",
        "  print(\"Not ortalaması\", tort, \"Sınıfı geçti, tebrikler !\")"
      ],
      "metadata": {
        "colab": {
          "base_uri": "https://localhost:8080/"
        },
        "id": "Z7M2Maf0rSit",
        "outputId": "6d763b10-7f27-4409-dab6-bf4c71feaf81"
      },
      "execution_count": 10,
      "outputs": [
        {
          "output_type": "stream",
          "name": "stdout",
          "text": [
            "Birinci sınav notunu giriniz:23\n",
            "İkinci sınav notunu giriniz:78\n",
            "Birinci performans notunu giriniz: 45\n",
            "İkinci performance notunu giriniz:56\n",
            "Not ortalaması 50.5 Sınıfı geçti, tebrikler !\n"
          ]
        }
      ]
    },
    {
      "cell_type": "code",
      "source": [
        "almanca = input(\"Almanca biliyor musunuz?(E/H):\")\n",
        "ingilizce = input(\"İngilizce biliyor musunuz?(E/H):\")\n",
        "office = input(\"Office programlarını kullanmayı biliyor musunuz?(E/H): \")\n",
        "if (almanca ==\"E\" or ingilizce == \"E\") and office == \"E\" :\n",
        "  print(\"Tebrikler işe alındınız !\")\n",
        "else:\n",
        "  print(\"Bilgi seviyeniz yetersiz görüldüğünden başvurunuz kabul edilmemiştir.\")"
      ],
      "metadata": {
        "colab": {
          "base_uri": "https://localhost:8080/"
        },
        "id": "nO_VQyBbu_6O",
        "outputId": "8e97c422-5240-4623-b970-39297ff5822e"
      },
      "execution_count": 22,
      "outputs": [
        {
          "output_type": "stream",
          "name": "stdout",
          "text": [
            "Almanca biliyor musunuz?(E/H):H\n",
            "İngilizce biliyor musunuz?(E/H):E\n",
            "Office programlarını kullanmayı biliyor musunuz?(E/H): E\n",
            "Tebrikler işe alındınız !\n"
          ]
        }
      ]
    },
    {
      "cell_type": "code",
      "source": [
        "z = 3 \n",
        "\n",
        "def Oracle(a, b, c):\n",
        "  if a == 42:\n",
        "    return b(c)\n",
        "  return c\n",
        "\n",
        "def Fonk0(x):\n",
        "  return z + x **2\n",
        "\n",
        "def Fonk1(y):\n",
        "  global z      # z 'nin yeni değeri artık buradaki değer olacak\n",
        "  z = z + y*2\n",
        "  return z + y\n",
        "\n",
        "print(Oracle(42, Fonk1, 3))\n",
        "print(Oracle(42, Fonk0, 4))\n",
        "print(Oracle(42, Fonk1, 3))\n",
        "print(Oracle(22, Fonk1, 3))\n"
      ],
      "metadata": {
        "colab": {
          "base_uri": "https://localhost:8080/"
        },
        "id": "mpsdk21oI_A_",
        "outputId": "d8e49ea2-2bb5-4c58-f80f-d5b84c6dcdb5"
      },
      "execution_count": 26,
      "outputs": [
        {
          "output_type": "stream",
          "name": "stdout",
          "text": [
            "12\n",
            "25\n",
            "18\n",
            "3\n"
          ]
        }
      ]
    },
    {
      "cell_type": "markdown",
      "source": [
        "Girilen iki (MxN) 'lik matris içerisindeki birbirine eşit olan elemanları bulup bir listeye ekleyen kodu yazınız."
      ],
      "metadata": {
        "id": "BkM3zCDRYeXq"
      }
    },
    {
      "cell_type": "code",
      "source": [
        "numofRow = int(input(\"Satır sayısını giriniz:\"))\n",
        "numofColumn = int(input(\"Sütün sayısını giriniz:\"))\n",
        "def EnterMatrix(RowParam, ColumnParam):\n",
        "  matrix = []\n",
        "  for x in range(RowParam):\n",
        "    row =[]\n",
        "    for y in range(ColumnParam):\n",
        "        value= float(input(f\"Matrisin [{x+1}][{y+1}] elemanını girin:\"))\n",
        "        row.append(value)\n",
        "    matrix.append(row)\n",
        "  return matrix \n",
        "\n",
        "A = EnterMatrix(numofRow, numofColumn)\n",
        "B = EnterMatrix(numofRow, numofColumn)\n",
        "\n",
        "resultList = []\n",
        "for x in range(numofRow):\n",
        "  for y in range (numofColumn):\n",
        "    if A[x][y] == B[x][y]:\n",
        "      resultList.append(A[x][y])\n",
        "  \n",
        "print(\"Result:\", resultList)"
      ],
      "metadata": {
        "colab": {
          "base_uri": "https://localhost:8080/"
        },
        "id": "B0QRNNitY4r_",
        "outputId": "a8a3b8f8-a511-460e-c755-fee59c09e000"
      },
      "execution_count": 43,
      "outputs": [
        {
          "output_type": "stream",
          "name": "stdout",
          "text": [
            "Satır sayısını giriniz:2\n",
            "Sütün sayısını giriniz:3\n",
            "Matrisin [1][1] elemanını girin:1\n",
            "Matrisin [1][2] elemanını girin:3\n",
            "Matrisin [1][3] elemanını girin:4\n",
            "Matrisin [2][1] elemanını girin:4\n",
            "Matrisin [2][2] elemanını girin:5\n",
            "Matrisin [2][3] elemanını girin:6\n",
            "Matrisin [1][1] elemanını girin:7\n",
            "Matrisin [1][2] elemanını girin:3\n",
            "Matrisin [1][3] elemanını girin:2\n",
            "Matrisin [2][1] elemanını girin:5\n",
            "Matrisin [2][2] elemanını girin:3\n",
            "Matrisin [2][3] elemanını girin:6\n",
            "Result: [3.0, 6.0]\n"
          ]
        }
      ]
    },
    {
      "cell_type": "code",
      "source": [
        "cc = 2\n",
        "if False:\n",
        "  cc = 66\n",
        "\n",
        "def Helmet():\n",
        "  if True:\n",
        "    cc = 40\n",
        "Helmet()\n",
        "print(cc)\n"
      ],
      "metadata": {
        "colab": {
          "base_uri": "https://localhost:8080/"
        },
        "id": "Qecl7Hm8mx9z",
        "outputId": "fc828449-60e4-4c13-a690-aa8021dc35fa"
      },
      "execution_count": 35,
      "outputs": [
        {
          "output_type": "stream",
          "name": "stdout",
          "text": [
            "2\n"
          ]
        }
      ]
    },
    {
      "cell_type": "code",
      "source": [
        "qq = 3\n",
        "def Bike():\n",
        "  qq = 7\n",
        "  return qq\n",
        "print(Bike())\n",
        "print(qq)"
      ],
      "metadata": {
        "colab": {
          "base_uri": "https://localhost:8080/"
        },
        "id": "EfNTGBPkn-AD",
        "outputId": "244c53b4-bf2b-4a43-c771-758b8087f683"
      },
      "execution_count": 36,
      "outputs": [
        {
          "output_type": "stream",
          "name": "stdout",
          "text": [
            "7\n",
            "3\n"
          ]
        }
      ]
    },
    {
      "cell_type": "code",
      "source": [
        "def outerfunction():\n",
        "  b = 20\n",
        "\n",
        "  def innerfunction():\n",
        "      b = 10\n",
        "      c = 30\n",
        "      return c\n",
        "  return innerfunction() + b\n",
        "\n",
        "print(outerfunction())\n",
        "\n"
      ],
      "metadata": {
        "colab": {
          "base_uri": "https://localhost:8080/"
        },
        "id": "rW8IgfOyoiuh",
        "outputId": "57219792-1f45-417b-da1f-2f2e25015580"
      },
      "execution_count": 37,
      "outputs": [
        {
          "output_type": "stream",
          "name": "stdout",
          "text": [
            "50\n"
          ]
        }
      ]
    },
    {
      "cell_type": "markdown",
      "source": [
        "Bir kare matrisinin giriş yapıldıktan sonra, matrisin asal ve yedek köşegenlerini toplayan  ve bunu ekrana yazdıran fonksiyonu yazınız."
      ],
      "metadata": {
        "id": "FZfmK6-ZsKej"
      }
    },
    {
      "cell_type": "code",
      "source": [
        "numofRow = int(input(\"Satır sayısını giriniz:\"))\n",
        "numofColumn = int(input(\"Sütün sayısını giriniz:\"))\n",
        "def EnterMatrix(RowParam, ColumnParam):\n",
        "  matrix = []\n",
        "  for x in range(RowParam):\n",
        "    row =[]\n",
        "    for y in range(ColumnParam):\n",
        "        value= float(input(f\"Matrisin [{x+1}][{y+1}] elemanını girin:\"))\n",
        "        row.append(value)\n",
        "    matrix.append(row)\n",
        "  return matrix \n",
        "\n",
        "dimension = int(input(\"Kare matrisin boyutunu giriniz:\"))\n",
        "A = EnterMatrix(dimension, dimension)\n",
        "\n",
        "asaltoplam= 0\n",
        "yedektoplam= 0\n",
        "\n",
        "for index in range(dimension):\n",
        "  asaltoplam += A[index][index]\n",
        "  yedektoplam += A[index][dimension-index-1]\n",
        "\n",
        "print(\"Asal:\", asaltoplam)\n",
        "print(\"Yedek:\", yedektoplam)"
      ],
      "metadata": {
        "colab": {
          "base_uri": "https://localhost:8080/"
        },
        "id": "wcJbIxMjslyu",
        "outputId": "8f1a2325-7445-46d3-a162-56d160f75413"
      },
      "execution_count": 45,
      "outputs": [
        {
          "output_type": "stream",
          "name": "stdout",
          "text": [
            "Satır sayısını giriniz:3\n",
            "Sütün sayısını giriniz:3\n",
            "Kare matrisin boyutunu giriniz:3\n",
            "Matrisin [1][1] elemanını girin:1\n",
            "Matrisin [1][2] elemanını girin:3\n",
            "Matrisin [1][3] elemanını girin:4\n",
            "Matrisin [2][1] elemanını girin:5\n",
            "Matrisin [2][2] elemanını girin:6\n",
            "Matrisin [2][3] elemanını girin:7\n",
            "Matrisin [3][1] elemanını girin:2\n",
            "Matrisin [3][2] elemanını girin:4\n",
            "Matrisin [3][3] elemanını girin:6\n",
            "Asal: 13.0\n",
            "Yedek: 12.0\n"
          ]
        }
      ]
    },
    {
      "cell_type": "markdown",
      "source": [
        "Vergi mükelleflerinin TCsi, ad ve soyadları, vergi borç miktarları bir dosyaya kayıt edilmek istenmektedir. Ekrandan bu bilgileri sorarak yapılan girişleri bir dosyaya  kaydeden kodu yazınız."
      ],
      "metadata": {
        "id": "RmZGT2xozam2"
      }
    },
    {
      "cell_type": "code",
      "source": [
        "fileobject = open(\"vergi_verileri.txt\", \"a\")\n",
        "\n",
        "while True:\n",
        "  tcKimlikNo = input(\"TC Kimlik Numarası: (Çıkmak için ENTER'a basınız !\")\n",
        "  if tcKimlikNo == \"\":\n",
        "    break\n",
        "  isim = input(\"isim: \")\n",
        "  soyisim = input(\"soyisim: \")\n",
        "  vergiBorcu = float(input(\"Vergi Borcu: \"))\n",
        "  fileobject.write(f\"{tcKimlikNo},{isim},{soyisim},{vergiBorcu}\\n\")\n",
        "\n",
        "fileobject.close()"
      ],
      "metadata": {
        "colab": {
          "base_uri": "https://localhost:8080/"
        },
        "id": "7qX_a-dc0DiU",
        "outputId": "1f00470b-2965-449d-bfb9-b70dfabfd1b0"
      },
      "execution_count": 1,
      "outputs": [
        {
          "name": "stdout",
          "output_type": "stream",
          "text": [
            "TC Kimlik Numarası: (Çıkmak için ENTER'a basınız !3131212323123\n",
            "isim: a\n",
            "soyisim: sedfd\n",
            "Vergi Borcu: 123456\n",
            "TC Kimlik Numarası: (Çıkmak için ENTER'a basınız !\n"
          ]
        }
      ]
    },
    {
      "cell_type": "markdown",
      "source": [
        "# **NOTE:**\n",
        "Dosya yazmayı yukarıdaki açıp kullanırsak sorunlar yaşanabilir,her write işleminde tekrar tekrar açıp kapamamız sorun oluşturabilir. kodun herhangi biri yerinde hata (crash) olursa oradan çıkar ve close olmayacağı için verileri kaybedebiliriz. Bu nedenle aşağıdaki gibi with open ile çalışmak daha uygun olur. Her girişte kayıt yapar ve hata önlenir. açılış ve kapanış komutlarına gerek kalmaz.."
      ],
      "metadata": {
        "id": "HggHOwXZHcDq"
      }
    },
    {
      "cell_type": "code",
      "source": [
        "fileobject = open(\"vergi_verileri.txt\", \"a\")\n",
        "\n",
        "while True:\n",
        "  tcKimlikNo = input(\"TC Kimlik Numarası: (Çıkmak için ENTER'a basınız !\")\n",
        "  if tcKimlikNo == \"\":\n",
        "    break\n",
        "  isim = input(\"isim: \")\n",
        "  soyisim = input(\"soyisim: \")\n",
        "  vergiBorcu = float(input(\"Vergi Borcu: \"))\n",
        "  with open(\"vergi_verileri.txt\", \"a\") as fileobject:   # her defasında kayıtları kaydetmiş olacak\n",
        "  fileobject.write(f\"{tcKimlikNo},{isim},{soyisim},{vergiBorcu}\\n\")\n",
        "\n"
      ],
      "metadata": {
        "id": "eltKOCWnGRSV"
      },
      "execution_count": null,
      "outputs": []
    },
    {
      "cell_type": "markdown",
      "source": [
        "Girilen bir metin içerisinde , yine girilen  bir metin parçasını arayan ve bulduğunda bu yerdeki önceki ve sonraki karakterlerle yazdıran kodu yazınız.\n",
        "Örnek: \"Bugün BİL101 final sınavına girdim\" netni girilmiş olsun, aranacak metin parçası \"nav\" olsun ve bulduktan sonra yazılacak metin \"ınavı\"olacaktır."
      ],
      "metadata": {
        "id": "vzzGl1-nKLHk"
      }
    },
    {
      "cell_type": "code",
      "source": [
        "text = input(\"Metin Giriniz: \")\n",
        "searchPhrase = input(\"Aranacak metin ? :\")\n",
        "\n",
        "index = text.find(searchPhrase)\n",
        "if index < 0 : \n",
        "  print(\"Metin içinde bulunamadı !\")\n",
        "else:\n",
        "  resultString = text[index-3: index + len(searchPhrase)+3] # -1 geri gittiğimiz ve +1 de ileri gideceğimiz için +2 yazarız\n",
        "  print(resultString)         # ben 1 leri 3 yaptım istediğin gibi değiştirebilirsiniz\n"
      ],
      "metadata": {
        "colab": {
          "base_uri": "https://localhost:8080/"
        },
        "id": "AqyoKItyKYJW",
        "outputId": "98354f7b-b4e4-4013-ce76-aa6ca0819157"
      },
      "execution_count": 6,
      "outputs": [
        {
          "output_type": "stream",
          "name": "stdout",
          "text": [
            "Metin Giriniz: Girilen bir metin içerisinde , yine girilen bir metin parçasını arayan ve bulduğunda bu yerdeki önceki ve sonraki karakterlerle yazdıran kodu yazınız. \n",
            "Aranacak metin ? :çası\n",
            "parçasını \n"
          ]
        }
      ]
    },
    {
      "cell_type": "code",
      "source": [
        "for x in range(1,3):  # x ===>1,2\n",
        "  for y in range(1,2): # y ==>1\n",
        "    for i in [-1, 0]: # i ==>-1, 0\n",
        "      for j in [0,1]: # j==> 0,1\n",
        "        for k in range(1,4):    # k ==>1,2,3     for döngüsünde içten dışa doğru döner\n",
        "          if (x+i*k>0 and y+j*k>0):\n",
        "            print (\"x\", x+i*k, y+j*k)"
      ],
      "metadata": {
        "colab": {
          "base_uri": "https://localhost:8080/"
        },
        "id": "BZVMImZBQFL7",
        "outputId": "c87935b4-4304-4e29-b821-8471659f04c6"
      },
      "execution_count": 7,
      "outputs": [
        {
          "output_type": "stream",
          "name": "stdout",
          "text": [
            "x 1 1\n",
            "x 1 1\n",
            "x 1 1\n",
            "x 1 2\n",
            "x 1 3\n",
            "x 1 4\n",
            "x 1 1\n",
            "x 1 2\n",
            "x 2 1\n",
            "x 2 1\n",
            "x 2 1\n",
            "x 2 2\n",
            "x 2 3\n",
            "x 2 4\n"
          ]
        }
      ]
    }
  ]
}