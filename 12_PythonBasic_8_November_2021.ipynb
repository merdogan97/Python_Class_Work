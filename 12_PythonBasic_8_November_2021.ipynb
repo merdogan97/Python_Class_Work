{
  "nbformat": 4,
  "nbformat_minor": 5,
  "metadata": {
    "kernelspec": {
      "display_name": "Python 3",
      "language": "python",
      "name": "python3"
    },
    "language_info": {
      "codemirror_mode": {
        "name": "ipython",
        "version": 3
      },
      "file_extension": ".py",
      "mimetype": "text/x-python",
      "name": "python",
      "nbconvert_exporter": "python",
      "pygments_lexer": "ipython3",
      "version": "3.8.8"
    },
    "colab": {
      "name": "12_PythonBasic_8-November-2021.ipynb",
      "provenance": [],
      "collapsed_sections": [],
      "include_colab_link": true
    }
  },
  "cells": [
    {
      "cell_type": "markdown",
      "metadata": {
        "id": "view-in-github",
        "colab_type": "text"
      },
      "source": [
        "<a href=\"https://colab.research.google.com/github/merdogan97/Python_Class_Work/blob/main/12_PythonBasic_8_November_2021.ipynb\" target=\"_parent\"><img src=\"https://colab.research.google.com/assets/colab-badge.svg\" alt=\"Open In Colab\"/></a>"
      ]
    },
    {
      "cell_type": "markdown",
      "metadata": {
        "id": "406f2981"
      },
      "source": [
        "<img src=\"https://docs.google.com/uc?id=14xeXxFrVRjvOoUYWn_GuyE-v84wVzrqr\" class=\"img-fluid\" alt=\"CLRWY\" width=\"400\" height=\"200\">"
      ],
      "id": "406f2981"
    },
    {
      "cell_type": "markdown",
      "metadata": {
        "id": "22263af8"
      },
      "source": [
        "<h1><p style=\"text-align: center; color:darkblue\">Python In-Class, <br>8 November 2021</p><h1>"
      ],
      "id": "22263af8"
    },
    {
      "cell_type": "code",
      "metadata": {
        "id": "3351c407"
      },
      "source": [
        "bool_value = False"
      ],
      "id": "3351c407",
      "execution_count": null,
      "outputs": []
    },
    {
      "cell_type": "code",
      "metadata": {
        "id": "539c5faf",
        "outputId": "09779aa3-5a56-4cc9-de80-9bc756cf45b1"
      },
      "source": [
        "if bool_value :\n",
        "    print(\"Yes\")\n",
        "    \n",
        "else : \n",
        "    print(\"No\")"
      ],
      "id": "539c5faf",
      "execution_count": null,
      "outputs": [
        {
          "name": "stdout",
          "output_type": "stream",
          "text": [
            "No\n"
          ]
        }
      ]
    },
    {
      "cell_type": "code",
      "metadata": {
        "id": "41f6ceae"
      },
      "source": [
        "bool_value = True"
      ],
      "id": "41f6ceae",
      "execution_count": null,
      "outputs": []
    },
    {
      "cell_type": "code",
      "metadata": {
        "id": "636aa782",
        "outputId": "c3b5aa97-f22e-435f-9c11-dc7515347702"
      },
      "source": [
        "if bool_value :\n",
        "    print(\"Yes\")\n",
        "    \n",
        "else : \n",
        "    print(\"No\")"
      ],
      "id": "636aa782",
      "execution_count": null,
      "outputs": [
        {
          "name": "stdout",
          "output_type": "stream",
          "text": [
            "Yes\n"
          ]
        }
      ]
    },
    {
      "cell_type": "code",
      "metadata": {
        "id": "963ab3e8",
        "outputId": "821c5b17-77ac-4e76-de7a-3c94b46cac23"
      },
      "source": [
        "if True :\n",
        "    print(\"if bloku çalıştı\")\n",
        "elif True :\n",
        "    print(\"ilk elif bloku çalıştı\")"
      ],
      "id": "963ab3e8",
      "execution_count": null,
      "outputs": [
        {
          "name": "stdout",
          "output_type": "stream",
          "text": [
            "if bloku çalıştı\n"
          ]
        }
      ]
    },
    {
      "cell_type": "code",
      "metadata": {
        "id": "d4ab51c3",
        "outputId": "beaed289-3d14-457f-f595-49a24dbabefd"
      },
      "source": [
        "if True :\n",
        "    print(\"if bloku çalıştı\")\n",
        "if True :\n",
        "    print(\"ilk elif bloku çalıştı\")"
      ],
      "id": "d4ab51c3",
      "execution_count": null,
      "outputs": [
        {
          "name": "stdout",
          "output_type": "stream",
          "text": [
            "if bloku çalıştı\n",
            "ilk elif bloku çalıştı\n"
          ]
        }
      ]
    },
    {
      "cell_type": "code",
      "metadata": {
        "id": "5841d8de",
        "outputId": "eb60a38a-31c1-417b-edf4-a930ae4826d9"
      },
      "source": [
        "num1 = float(input(\"Enter first number :\"))\n",
        "num2 = float(input(\"Enter second number :\"))\n",
        "num3 = float(input(\"Enter third number :\"))\n",
        "\n",
        "if (num1 > num2) and (num1 > num3) :\n",
        "    largest = num1\n",
        "elif (num2 > num1) and (num2 > num3) :\n",
        "    largest = num2\n",
        "else :\n",
        "    largest = num3\n",
        "    \n",
        "print(\"the largest number is : \", largest)"
      ],
      "id": "5841d8de",
      "execution_count": null,
      "outputs": [
        {
          "name": "stdout",
          "output_type": "stream",
          "text": [
            "Enter first number :7\n",
            "Enter second number :5\n",
            "Enter third number :3\n",
            "the largest number is :  7.0\n"
          ]
        }
      ]
    },
    {
      "cell_type": "code",
      "metadata": {
        "id": "7ec3dac3",
        "outputId": "bbf8b68a-e638-41cf-c054-9e0e3553ca88"
      },
      "source": [
        "num = float(input(\"enter a number :\"))\n",
        "\n",
        "if num > 0 :\n",
        "    print(\"Positive number.\")\n",
        "elif num == 0 :\n",
        "    print(\"Zero\")\n",
        "else :\n",
        "    print(\"Negative number.\")"
      ],
      "id": "7ec3dac3",
      "execution_count": null,
      "outputs": [
        {
          "name": "stdout",
          "output_type": "stream",
          "text": [
            "enter a number :-8\n",
            "Negative number.\n"
          ]
        }
      ]
    },
    {
      "cell_type": "code",
      "metadata": {
        "id": "b17c2591",
        "outputId": "6c13e528-1baf-4960-85b6-70a78f04ffba"
      },
      "source": [
        "num = float(input(\"enter a number :\"))\n",
        "\n",
        "if num > 0 :\n",
        "    print(\"Positive number.\")\n",
        "elif num == 0 :\n",
        "    print(\"Zero\")\n",
        "else :\n",
        "    print(\"Negative number.\")"
      ],
      "id": "b17c2591",
      "execution_count": null,
      "outputs": [
        {
          "name": "stdout",
          "output_type": "stream",
          "text": [
            "enter a number :0\n",
            "Zero\n"
          ]
        }
      ]
    },
    {
      "cell_type": "code",
      "metadata": {
        "id": "87a45e7e",
        "outputId": "4c6057a1-38fa-4d61-d8c0-d402f82cdf4e"
      },
      "source": [
        "score = int(input(\"Enter your score :\"))\n",
        "\n",
        "if score >= 90 :\n",
        "    if score >= 95 :\n",
        "        score_letter = \"A+\"\n",
        "    else :\n",
        "        score_letter = \"A\"\n",
        "        \n",
        "elif score >= 80 :\n",
        "    if score >= 85 :\n",
        "        score_letter = \"B+\"\n",
        "    else :\n",
        "        score_letter = \"B\"\n",
        "\n",
        "else :\n",
        "    score_letter = \"B-\"\n",
        "    \n",
        "print(\"Your degree is : \", score_letter)"
      ],
      "id": "87a45e7e",
      "execution_count": null,
      "outputs": [
        {
          "name": "stdout",
          "output_type": "stream",
          "text": [
            "Enter your score :88\n",
            "Your degree is :  B+\n"
          ]
        }
      ]
    },
    {
      "cell_type": "code",
      "metadata": {
        "id": "edf8a98d",
        "outputId": "f0a5c9e6-81b5-4115-c38b-08e82d0a905d"
      },
      "source": [
        "score = int(input(\"Enter your score :\"))\n",
        "\n",
        "if score >= 90 :\n",
        "    if score >= 95 :\n",
        "        score_letter = \"A+\"\n",
        "    else :\n",
        "        score_letter = \"A\"\n",
        "        \n",
        "elif score >= 80 :\n",
        "    if score >= 85 :\n",
        "        score_letter = \"B+\"\n",
        "    else :\n",
        "        score_letter = \"B\"\n",
        "\n",
        "else :\n",
        "    score_letter = \"B-\"\n",
        "    \n",
        "print(\"Your degree is : \", score_letter)"
      ],
      "id": "edf8a98d",
      "execution_count": null,
      "outputs": [
        {
          "name": "stdout",
          "output_type": "stream",
          "text": [
            "Enter your score :95\n",
            "Your degree is :  A+\n"
          ]
        }
      ]
    },
    {
      "cell_type": "code",
      "metadata": {
        "id": "75eaa312"
      },
      "source": [
        "while 0 :\n",
        "    print(\"one\")"
      ],
      "id": "75eaa312",
      "execution_count": null,
      "outputs": []
    },
    {
      "cell_type": "code",
      "metadata": {
        "id": "c8ca6112",
        "outputId": "e47df7c8-1f5c-4730-edbc-2621e5a09e4b"
      },
      "source": [
        "condition = 5\n",
        "\n",
        "while condition :\n",
        "    \n",
        "    condition -= 1\n",
        "    \n",
        "    print(condition)"
      ],
      "id": "c8ca6112",
      "execution_count": null,
      "outputs": [
        {
          "name": "stdout",
          "output_type": "stream",
          "text": [
            "4\n",
            "3\n",
            "2\n",
            "1\n",
            "0\n"
          ]
        }
      ]
    },
    {
      "cell_type": "code",
      "metadata": {
        "id": "2d51c3ea",
        "outputId": "44c82bf5-9874-42df-a13b-dae67cacd367"
      },
      "source": [
        "condition = 5\n",
        "\n",
        "while True :\n",
        "    \n",
        "    condition -= 1\n",
        "    \n",
        "    print(condition)\n",
        "    \n",
        "    if condition == 0 :\n",
        "        break"
      ],
      "id": "2d51c3ea",
      "execution_count": null,
      "outputs": [
        {
          "name": "stdout",
          "output_type": "stream",
          "text": [
            "4\n",
            "3\n",
            "2\n",
            "1\n",
            "0\n"
          ]
        }
      ]
    },
    {
      "cell_type": "code",
      "metadata": {
        "id": "6720a42f",
        "outputId": "7d5d90fa-09c5-41cb-be6e-7cb15067bf31"
      },
      "source": [
        "\"onaltı\".isdigit()"
      ],
      "id": "6720a42f",
      "execution_count": null,
      "outputs": [
        {
          "data": {
            "text/plain": [
              "False"
            ]
          },
          "execution_count": 15,
          "metadata": {},
          "output_type": "execute_result"
        }
      ]
    },
    {
      "cell_type": "code",
      "metadata": {
        "id": "57f299f4",
        "outputId": "5f7b2340-1fff-4c92-a5d2-106bd8b29320"
      },
      "source": [
        "\"44\".isdigit()"
      ],
      "id": "57f299f4",
      "execution_count": null,
      "outputs": [
        {
          "data": {
            "text/plain": [
              "True"
            ]
          },
          "execution_count": 16,
          "metadata": {},
          "output_type": "execute_result"
        }
      ]
    },
    {
      "cell_type": "code",
      "metadata": {
        "id": "b6f82468",
        "outputId": "0e262766-e30a-4f3d-ffc4-f054434a0fa0"
      },
      "source": [
        "\"44.0\".isdigit()"
      ],
      "id": "b6f82468",
      "execution_count": null,
      "outputs": [
        {
          "data": {
            "text/plain": [
              "False"
            ]
          },
          "execution_count": 17,
          "metadata": {},
          "output_type": "execute_result"
        }
      ]
    },
    {
      "cell_type": "code",
      "metadata": {
        "id": "6efea623",
        "outputId": "343f105a-2e3f-473b-af98-8c92f7c0068a"
      },
      "source": [
        "\"-33\".isdigit()"
      ],
      "id": "6efea623",
      "execution_count": null,
      "outputs": [
        {
          "data": {
            "text/plain": [
              "False"
            ]
          },
          "execution_count": 18,
          "metadata": {},
          "output_type": "execute_result"
        }
      ]
    },
    {
      "cell_type": "code",
      "metadata": {
        "id": "011a4a5b"
      },
      "source": [
        "age = input(\"Enter your age please :\")\n",
        "\n",
        "while not age.isdigit() :\n",
        "    \n",
        "    print(\"You entered incorrect.\")\n",
        "    \n",
        "    age = input(\"Enter your age again :\")\n",
        "    \n",
        "print(\"Great! You enter valid input : \", age)"
      ],
      "id": "011a4a5b",
      "execution_count": null,
      "outputs": []
    },
    {
      "cell_type": "code",
      "metadata": {
        "id": "b481b432",
        "outputId": "421626f4-93d5-4809-fa23-cdff5ca54c25"
      },
      "source": [
        "\"a\" > \"A\""
      ],
      "id": "b481b432",
      "execution_count": null,
      "outputs": [
        {
          "data": {
            "text/plain": [
              "True"
            ]
          },
          "execution_count": 19,
          "metadata": {},
          "output_type": "execute_result"
        }
      ]
    },
    {
      "cell_type": "code",
      "metadata": {
        "id": "df8c2081",
        "outputId": "32d47d47-cad2-425e-9b00-1c60879b364d"
      },
      "source": [
        "\"a\" == \"a\""
      ],
      "id": "df8c2081",
      "execution_count": null,
      "outputs": [
        {
          "data": {
            "text/plain": [
              "True"
            ]
          },
          "execution_count": 20,
          "metadata": {},
          "output_type": "execute_result"
        }
      ]
    },
    {
      "cell_type": "code",
      "metadata": {
        "id": "560c600b",
        "outputId": "3628b77f-12b4-4ee6-dff1-9438b379b51c"
      },
      "source": [
        "\"bb\" == \"bB\""
      ],
      "id": "560c600b",
      "execution_count": null,
      "outputs": [
        {
          "data": {
            "text/plain": [
              "False"
            ]
          },
          "execution_count": 21,
          "metadata": {},
          "output_type": "execute_result"
        }
      ]
    },
    {
      "cell_type": "code",
      "metadata": {
        "id": "6bfd9abc",
        "outputId": "a27c003d-01c5-41e0-9d64-c4b28b1fe00c"
      },
      "source": [
        "age = input('Enter your age please : ')\n",
        "\n",
        "while not age.isdigit():\n",
        "\tprint ('You entered incorrectly!')\n",
        "\tage = input('Enter your age please : ')\n",
        "print('Great! You enter valid input : ',age)"
      ],
      "id": "6bfd9abc",
      "execution_count": null,
      "outputs": [
        {
          "name": "stdout",
          "output_type": "stream",
          "text": [
            "Enter your age please : -44\n",
            "You entered incorrectly!\n",
            "Enter your age please : onaltı\n",
            "You entered incorrectly!\n",
            "Enter your age please : -0\n",
            "You entered incorrectly!\n",
            "Enter your age please : 888\n",
            "Great! You enter valid input :  888\n"
          ]
        }
      ]
    },
    {
      "cell_type": "code",
      "metadata": {
        "id": "984d3ce4",
        "outputId": "925bee9b-2cb3-449b-873e-5166f5ccb163"
      },
      "source": [
        "answer = 22\n",
        "\n",
        "print(\"Let's play the guessing game!\")\n",
        "\n",
        "while True :\n",
        "    \n",
        "    guess = int(input(\"What a two-digit number ama I thinking of?\"))\n",
        "    \n",
        "    if guess < answer :\n",
        "        print(\"Little higher..\")\n",
        "    elif guess > answer :\n",
        "        print(\"Little lower..\")\n",
        "    else :\n",
        "        print(\"Are you a MINDREADER!!\")\n",
        "        break"
      ],
      "id": "984d3ce4",
      "execution_count": null,
      "outputs": [
        {
          "name": "stdout",
          "output_type": "stream",
          "text": [
            "Let's play the guessing game!\n",
            "What a two-digit number ama I thinking of?88\n",
            "Little lower..\n",
            "What a two-digit number ama I thinking of?55\n",
            "Little lower..\n",
            "What a two-digit number ama I thinking of?11\n",
            "Little higher..\n",
            "What a two-digit number ama I thinking of?20\n",
            "Little higher..\n",
            "What a two-digit number ama I thinking of?22\n",
            "Are you a MINDREADER!!\n"
          ]
        }
      ]
    },
    {
      "cell_type": "code",
      "metadata": {
        "id": "324d73cc",
        "outputId": "8d840923-4f9d-4873-e4f9-52e70d761a94"
      },
      "source": [
        "\"The best is Clarusway always.\".split()"
      ],
      "id": "324d73cc",
      "execution_count": null,
      "outputs": [
        {
          "data": {
            "text/plain": [
              "['The', 'best', 'is', 'Clarusway', 'always.']"
            ]
          },
          "execution_count": 27,
          "metadata": {},
          "output_type": "execute_result"
        }
      ]
    },
    {
      "cell_type": "code",
      "metadata": {
        "id": "cf3caef6",
        "outputId": "7a4a6ad8-706f-44a4-be30-aaeed09b81d8"
      },
      "source": [
        "sentence = input(\"Give me a sentence.\")\n",
        "\n",
        "word_list = sentence.split()\n",
        "i = 0\n",
        "longest = 0\n",
        "\n",
        "while i < len(word_list) :\n",
        "    \n",
        "    if len(word_list[i]) > longest :\n",
        "        \n",
        "        longest = len(word_list[i])\n",
        "        \n",
        "    i += 1\n",
        "    \n",
        "print(\"the length of the longest word :\", longest)"
      ],
      "id": "cf3caef6",
      "execution_count": null,
      "outputs": [
        {
          "name": "stdout",
          "output_type": "stream",
          "text": [
            "Give me a sentence.clarusway is the best\n",
            "the length of the longest word : 9\n"
          ]
        }
      ]
    },
    {
      "cell_type": "code",
      "metadata": {
        "id": "f48ee606"
      },
      "source": [
        ""
      ],
      "id": "f48ee606",
      "execution_count": null,
      "outputs": []
    },
    {
      "cell_type": "code",
      "metadata": {
        "id": "159d9791"
      },
      "source": [
        ""
      ],
      "id": "159d9791",
      "execution_count": null,
      "outputs": []
    },
    {
      "cell_type": "code",
      "metadata": {
        "id": "5039805f"
      },
      "source": [
        ""
      ],
      "id": "5039805f",
      "execution_count": null,
      "outputs": []
    },
    {
      "cell_type": "code",
      "metadata": {
        "id": "4f49823c"
      },
      "source": [
        ""
      ],
      "id": "4f49823c",
      "execution_count": null,
      "outputs": []
    },
    {
      "cell_type": "code",
      "metadata": {
        "id": "c2c3bcaf"
      },
      "source": [
        ""
      ],
      "id": "c2c3bcaf",
      "execution_count": null,
      "outputs": []
    },
    {
      "cell_type": "code",
      "metadata": {
        "id": "377a77d6"
      },
      "source": [
        ""
      ],
      "id": "377a77d6",
      "execution_count": null,
      "outputs": []
    }
  ]
}