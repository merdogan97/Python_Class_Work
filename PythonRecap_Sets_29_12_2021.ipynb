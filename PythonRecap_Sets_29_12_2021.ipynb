{
  "cells": [
    {
      "cell_type": "markdown",
      "metadata": {
        "id": "view-in-github",
        "colab_type": "text"
      },
      "source": [
        "<a href=\"https://colab.research.google.com/github/merdogan97/Python_Class_Work/blob/main/PythonRecap_Sets_29_12_2021.ipynb\" target=\"_parent\"><img src=\"https://colab.research.google.com/assets/colab-badge.svg\" alt=\"Open In Colab\"/></a>"
      ]
    },
    {
      "cell_type": "markdown",
      "metadata": {
        "id": "KoCxYwtSo5Rc"
      },
      "source": [
        "# **Set**\n",
        "Sets are used to store multiple items in a single variable.\n",
        "\n",
        "Set is one of 4 built-in data types in Python used to store collections of data, the other 3 are List, Tuple, and Dictionary, all with different qualities and usage.\n",
        "\n",
        "A set is a collection which is unordered, unchangeable*, and unindexed.\n",
        "\n",
        "* Note: Set items are unchangeable, but you can remove items and add new items.\n",
        "\n",
        "# Set items are **unordered, unchangeable, and do not allow duplicate values.**"
      ]
    },
    {
      "cell_type": "code",
      "source": [
        "Method\tDescription\n",
        "add()\tAdds an element to the set\n",
        "clear()\tRemoves all the elements from the set\n",
        "copy()\tReturns a copy of the set\n",
        "difference()\tReturns a set containing the difference between two or more sets\n",
        "difference_update()\tRemoves the items in this set that are also included in another, specified set\n",
        "discard()\tRemove the specified item\n",
        "intersection()\tReturns a set, that is the intersection of two other sets\n",
        "intersection_update()\tRemoves the items in this set that are not present in other, specified set(s)\n",
        "isdisjoint()\tReturns whether two sets have a intersection or not\n",
        "issubset()\tReturns whether another set contains this set or not\n",
        "issuperset()\tReturns whether this set contains another set or not\n",
        "pop()\tRemoves an element from the set\n",
        "remove()\tRemoves the specified element\n",
        "symmetric_difference()\tReturns a set with the symmetric differences of two sets\n",
        "symmetric_difference_update()\tinserts the symmetric differences from this set and another\n",
        "union()\tReturn a set containing the union of sets\n",
        "update()\tUpdate the set with the union of this set and others\n"
      ],
      "metadata": {
        "id": "rNDYfqzcp_Im"
      },
      "execution_count": null,
      "outputs": []
    },
    {
      "cell_type": "code",
      "execution_count": null,
      "metadata": {
        "colab": {
          "base_uri": "https://localhost:8080/"
        },
        "id": "uudDvRMRjvL-",
        "outputId": "2a10a3a7-26c4-4650-e7a0-adc1b1476fb5"
      },
      "outputs": [
        {
          "name": "stdout",
          "output_type": "stream",
          "text": [
            "{'banana', 'apple', 'cherry'}\n"
          ]
        }
      ],
      "source": [
        "thisset = {\"apple\", \"banana\", \"cherry\"}\n",
        "print(thisset)"
      ]
    },
    {
      "cell_type": "code",
      "execution_count": null,
      "metadata": {
        "colab": {
          "base_uri": "https://localhost:8080/"
        },
        "id": "hyXeCAP2pqdk",
        "outputId": "2f96bba2-eb55-471d-af3f-a92d708c0c04"
      },
      "outputs": [
        {
          "name": "stdout",
          "output_type": "stream",
          "text": [
            "{'banana', 'apple', 'cherry'}\n"
          ]
        }
      ],
      "source": [
        "thisset = {\"apple\", \"banana\", \"cherry\", \"apple\"}\n",
        "\n",
        "print(thisset)"
      ]
    },
    {
      "cell_type": "markdown",
      "metadata": {
        "id": "tTzniwwJpyYk"
      },
      "source": [
        "# Get the Length of a Set"
      ]
    },
    {
      "cell_type": "code",
      "execution_count": null,
      "metadata": {
        "colab": {
          "base_uri": "https://localhost:8080/"
        },
        "id": "OL0ixjLmp0ve",
        "outputId": "feeb3240-c9c0-4194-d3ac-054b3befc629"
      },
      "outputs": [
        {
          "name": "stdout",
          "output_type": "stream",
          "text": [
            "3\n"
          ]
        }
      ],
      "source": [
        "thisset = {\"apple\", \"banana\", \"cherry\", \"apple\"}\n",
        "\n",
        "print(len(thisset))"
      ]
    },
    {
      "cell_type": "markdown",
      "metadata": {
        "id": "7jHxtr8JqGA6"
      },
      "source": [
        "# **Set Items - Data Types**\n",
        "Set items can be of any data type:"
      ]
    },
    {
      "cell_type": "code",
      "execution_count": null,
      "metadata": {
        "id": "Ax6Mw19iqH3L"
      },
      "outputs": [],
      "source": [
        "set1 = {\"apple\", \"banana\", \"cherry\"}\n",
        "set2 = {1, 5, 7, 9, 3}\n",
        "set3 = {True, False, False}"
      ]
    },
    {
      "cell_type": "markdown",
      "metadata": {
        "id": "84h3eXyMqVGw"
      },
      "source": [
        "# A set can contain different data types:"
      ]
    },
    {
      "cell_type": "code",
      "execution_count": null,
      "metadata": {
        "id": "7GMVQwvkqTOw"
      },
      "outputs": [],
      "source": [
        "set1 = {\"abc\", 34, True, 40, \"male\"}"
      ]
    },
    {
      "cell_type": "code",
      "execution_count": null,
      "metadata": {
        "colab": {
          "base_uri": "https://localhost:8080/"
        },
        "id": "O7DijtkIqcDP",
        "outputId": "8f1b39ba-2793-48b9-d193-d781507aa34c"
      },
      "outputs": [
        {
          "name": "stdout",
          "output_type": "stream",
          "text": [
            "<class 'set'>\n"
          ]
        }
      ],
      "source": [
        "myset = {\"apple\", \"banana\", \"cherry\"}\n",
        "print(type(myset))"
      ]
    },
    {
      "cell_type": "markdown",
      "metadata": {
        "id": "_iVCmH_6qhsT"
      },
      "source": [
        "# The set() Constructor\n",
        "It is also possible to use the set() constructor to make a set."
      ]
    },
    {
      "cell_type": "code",
      "execution_count": null,
      "metadata": {
        "colab": {
          "base_uri": "https://localhost:8080/"
        },
        "id": "p4ygEBkOqmA1",
        "outputId": "61c5ed26-7caa-4280-a1b6-e36867b5011b"
      },
      "outputs": [
        {
          "name": "stdout",
          "output_type": "stream",
          "text": [
            "{'banana', 'apple', 'cherry'}\n"
          ]
        }
      ],
      "source": [
        "thisset = set((\"apple\", \"banana\", \"cherry\")) # note the double round-brackets\n",
        "print(thisset)"
      ]
    },
    {
      "cell_type": "markdown",
      "metadata": {
        "id": "QqiiqHxDq_kU"
      },
      "source": [
        "Python Collections (Arrays)\n",
        "\n",
        "There are four collection data types in the Python programming language:\n",
        "\n",
        "List ==> ordered **kalın metin ** changeable. ** Allows *duplicate *members. **OCD\n",
        "\n",
        "Tuple==>** ordered ** ** unchangeable. Allows *duplicate *members. **OUCD\n",
        "\n",
        "Set==> unordered ** *unchangeable *unindexed. **No duplicate members.UOUCND kalın metin\n",
        "\n",
        "Dict==> ** ordered ** changeable ** . **No duplicate members. OCND kalın metin"
      ]
    },
    {
      "cell_type": "markdown",
      "metadata": {
        "id": "bK_Uoz9QrVZK"
      },
      "source": [
        "# **Access Items**\n",
        "You cannot access items in a set by referring to an index or a key.\n",
        "\n",
        "But you can loop through the set items using a for loop, or ask if a specified value is present in a set, by using the in keyword."
      ]
    },
    {
      "cell_type": "code",
      "execution_count": 32,
      "metadata": {
        "id": "W8ZHyMWPrhgR",
        "colab": {
          "base_uri": "https://localhost:8080/"
        },
        "outputId": "fc179063-15c5-4eec-d891-428175427cf0"
      },
      "outputs": [
        {
          "output_type": "stream",
          "name": "stdout",
          "text": [
            "banana\n",
            "apple\n",
            "cherry\n"
          ]
        }
      ],
      "source": [
        "thisset = {\"apple\", \"banana\", \"cherry\"}\n",
        "\n",
        "for x in thisset:\n",
        "  print(x)"
      ]
    },
    {
      "cell_type": "code",
      "execution_count": 31,
      "metadata": {
        "id": "Y0Ee1ifArls0",
        "colab": {
          "base_uri": "https://localhost:8080/"
        },
        "outputId": "351851ef-88a0-46e0-fa8d-2d6d42cffc30"
      },
      "outputs": [
        {
          "output_type": "stream",
          "name": "stdout",
          "text": [
            "True\n"
          ]
        }
      ],
      "source": [
        "thisset = {\"apple\", \"banana\", \"cherry\"}\n",
        "\n",
        "print(\"banana\" in thisset)"
      ]
    },
    {
      "cell_type": "markdown",
      "metadata": {
        "id": "Lbl9dnfursR5"
      },
      "source": [
        "# **Change Items**\n",
        "Once a set is created, you cannot change its items, but you can add new items."
      ]
    },
    {
      "cell_type": "markdown",
      "metadata": {
        "id": "Gcl7QK5Wr93-"
      },
      "source": [
        "# **Add Items**\n",
        "Once a set is created, you cannot change its items, but you can add new items.\n",
        "\n",
        "To add one item to a set use the add() method."
      ]
    },
    {
      "cell_type": "code",
      "execution_count": null,
      "metadata": {
        "colab": {
          "base_uri": "https://localhost:8080/"
        },
        "id": "ZYcx53h4sEot",
        "outputId": "1d00be24-6d32-4455-f952-a03a67b0b9d1"
      },
      "outputs": [
        {
          "name": "stdout",
          "output_type": "stream",
          "text": [
            "{'banana', 'apple', 'orange', 'cherry'}\n"
          ]
        }
      ],
      "source": [
        "thisset = {\"apple\", \"banana\", \"cherry\"}\n",
        "thisset.add(\"orange\")\n",
        "print(thisset)"
      ]
    },
    {
      "cell_type": "code",
      "execution_count": 30,
      "metadata": {
        "colab": {
          "base_uri": "https://localhost:8080/"
        },
        "id": "sOeTpdAus4ZL",
        "outputId": "fb4f0d1b-6b59-417e-84b8-2f134ff317ff"
      },
      "outputs": [
        {
          "output_type": "stream",
          "name": "stdout",
          "text": [
            "{'ayşe', 'ali', 'deli', 'veli'}\n"
          ]
        }
      ],
      "source": [
        "x = {\"ali\", \"veli\",\"deli\"}\n",
        "x.add(\"ayşe\")\n",
        "print(x)"
      ]
    },
    {
      "cell_type": "markdown",
      "source": [
        "# **Add Any Iterable**\n",
        "The object in the update() method does not have to be a set, it can be any iterable object (tuples, lists, dictionaries etc.)."
      ],
      "metadata": {
        "id": "Rmh4aXkvHJbq"
      }
    },
    {
      "cell_type": "code",
      "source": [
        "thisset = {\"apple\", \"banana\", \"cherry\"}\n",
        "mylist = [\"kiwi\", \"orange\"]\n",
        "\n",
        "thisset.update(mylist)\n",
        "\n",
        "print(thisset)"
      ],
      "metadata": {
        "colab": {
          "base_uri": "https://localhost:8080/"
        },
        "id": "uDdJhn22HO3W",
        "outputId": "f2644010-f8fa-4176-d19f-f617a817d433"
      },
      "execution_count": 33,
      "outputs": [
        {
          "output_type": "stream",
          "name": "stdout",
          "text": [
            "{'apple', 'orange', 'kiwi', 'cherry', 'banana'}\n"
          ]
        }
      ]
    },
    {
      "cell_type": "markdown",
      "source": [
        "# **Remove Item**\n",
        "To remove an item in a set, use the remove(), or the discard() method."
      ],
      "metadata": {
        "id": "Y9HTlqqvHWTx"
      }
    },
    {
      "cell_type": "code",
      "source": [
        "thisset = {\"apple\", \"banana\", \"cherry\"}\n",
        "thisset.remove(\"banana\")\n",
        "print(thisset)"
      ],
      "metadata": {
        "colab": {
          "base_uri": "https://localhost:8080/"
        },
        "id": "47G9dTB8HgfW",
        "outputId": "b793a842-9390-4033-f0a4-e17b9f5b2cd3"
      },
      "execution_count": 34,
      "outputs": [
        {
          "output_type": "stream",
          "name": "stdout",
          "text": [
            "{'apple', 'cherry'}\n"
          ]
        }
      ]
    },
    {
      "cell_type": "markdown",
      "source": [
        "# **Remove \"banana\" by using the discard() method:**"
      ],
      "metadata": {
        "id": "QWRSaPw7Hppx"
      }
    },
    {
      "cell_type": "code",
      "source": [
        "thisset = {\"apple\", \"banana\", \"cherry\"}\n",
        "thisset.discard(\"banana\")\n",
        "print(thisset)"
      ],
      "metadata": {
        "colab": {
          "base_uri": "https://localhost:8080/"
        },
        "id": "5MysVZ36HY_O",
        "outputId": "41b4d4d8-e964-4b82-e4d4-70c76d1ae280"
      },
      "execution_count": 35,
      "outputs": [
        {
          "output_type": "stream",
          "name": "stdout",
          "text": [
            "{'apple', 'cherry'}\n"
          ]
        }
      ]
    },
    {
      "cell_type": "markdown",
      "source": [
        "We can also use the pop() method to remove an item, but this method will remove the last item. Remember that sets are unordered, so you will not know what item that gets removed.\n",
        "\n",
        "The return value of the pop() method is the removed item."
      ],
      "metadata": {
        "id": "P0Pi6mQoHyPH"
      }
    },
    {
      "cell_type": "code",
      "source": [
        "thisset = {\"apple\", \"banana\", \"cherry\"}\n",
        "x = thisset.pop()\n",
        "\n",
        "print(x)\n",
        "print(thisset)"
      ],
      "metadata": {
        "colab": {
          "base_uri": "https://localhost:8080/"
        },
        "id": "a_bLV4KpH3Sz",
        "outputId": "7af227c3-332d-403b-fff7-e81d015a77c7"
      },
      "execution_count": 1,
      "outputs": [
        {
          "output_type": "stream",
          "name": "stdout",
          "text": [
            "cherry\n",
            "{'banana', 'apple'}\n"
          ]
        }
      ]
    },
    {
      "cell_type": "markdown",
      "source": [
        "# **The clear() method empties the set:**"
      ],
      "metadata": {
        "id": "h--TJLskj3cf"
      }
    },
    {
      "cell_type": "code",
      "source": [
        "thisset = {\"apple\", \"banana\", \"cherry\"}\n",
        "thisset.clear()\n",
        "print(thisset)"
      ],
      "metadata": {
        "colab": {
          "base_uri": "https://localhost:8080/"
        },
        "id": "0zHMqNSTj6iv",
        "outputId": "ceacb18e-425c-45ca-8a3d-55ff22e96034"
      },
      "execution_count": 2,
      "outputs": [
        {
          "output_type": "stream",
          "name": "stdout",
          "text": [
            "set()\n"
          ]
        }
      ]
    },
    {
      "cell_type": "markdown",
      "source": [
        "# **The del keyword will delete the set completely:**"
      ],
      "metadata": {
        "id": "Py6ooO0gkGAc"
      }
    },
    {
      "cell_type": "code",
      "source": [
        "thisset = {\"apple\", \"banana\", \"cherry\"}\n",
        "del thisset     # name 'thisset' is not defined (silindiği için error verir)\n",
        "print(thisset)"
      ],
      "metadata": {
        "colab": {
          "base_uri": "https://localhost:8080/",
          "height": 201
        },
        "id": "b06Bcm6_kIig",
        "outputId": "ceebd252-089d-439e-851b-428a0b7b3cb7"
      },
      "execution_count": 3,
      "outputs": [
        {
          "output_type": "error",
          "ename": "NameError",
          "evalue": "ignored",
          "traceback": [
            "\u001b[0;31m---------------------------------------------------------------------------\u001b[0m",
            "\u001b[0;31mNameError\u001b[0m                                 Traceback (most recent call last)",
            "\u001b[0;32m<ipython-input-3-2ec9feb8cb8a>\u001b[0m in \u001b[0;36m<module>\u001b[0;34m()\u001b[0m\n\u001b[1;32m      1\u001b[0m \u001b[0mthisset\u001b[0m \u001b[0;34m=\u001b[0m \u001b[0;34m{\u001b[0m\u001b[0;34m\"apple\"\u001b[0m\u001b[0;34m,\u001b[0m \u001b[0;34m\"banana\"\u001b[0m\u001b[0;34m,\u001b[0m \u001b[0;34m\"cherry\"\u001b[0m\u001b[0;34m}\u001b[0m\u001b[0;34m\u001b[0m\u001b[0;34m\u001b[0m\u001b[0m\n\u001b[1;32m      2\u001b[0m \u001b[0;32mdel\u001b[0m \u001b[0mthisset\u001b[0m\u001b[0;34m\u001b[0m\u001b[0;34m\u001b[0m\u001b[0m\n\u001b[0;32m----> 3\u001b[0;31m \u001b[0mprint\u001b[0m\u001b[0;34m(\u001b[0m\u001b[0mthisset\u001b[0m\u001b[0;34m)\u001b[0m\u001b[0;34m\u001b[0m\u001b[0;34m\u001b[0m\u001b[0m\n\u001b[0m",
            "\u001b[0;31mNameError\u001b[0m: name 'thisset' is not defined"
          ]
        }
      ]
    },
    {
      "cell_type": "markdown",
      "source": [
        "# **Loop Items**\n",
        "You can loop through the set items by using a for loop:"
      ],
      "metadata": {
        "id": "Wff90tfgkXfO"
      }
    },
    {
      "cell_type": "code",
      "source": [
        "thisset = {\"apple\", \"banana\", \"cherry\"}\n",
        "\n",
        "for x in thisset:\n",
        "  print(x)"
      ],
      "metadata": {
        "colab": {
          "base_uri": "https://localhost:8080/"
        },
        "id": "TiyWdwq0kcYS",
        "outputId": "ff64f4b6-b550-4bb0-863a-e268ba4ae837"
      },
      "execution_count": 4,
      "outputs": [
        {
          "output_type": "stream",
          "name": "stdout",
          "text": [
            "cherry\n",
            "banana\n",
            "apple\n"
          ]
        }
      ]
    },
    {
      "cell_type": "markdown",
      "source": [
        "# **Join Two Sets**\n",
        "There are several ways to join two or more sets in Python.\n",
        "\n",
        "You can use the union() method that returns a new set containing all items from both sets, or the update() method that inserts all the items from one set into another:"
      ],
      "metadata": {
        "id": "6C-CYXPrkkg1"
      }
    },
    {
      "cell_type": "markdown",
      "source": [
        "# **The union() method returns a new set with all items from both sets:**"
      ],
      "metadata": {
        "id": "sTLpqUrYkqYo"
      }
    },
    {
      "cell_type": "code",
      "source": [
        "set1 = {\"a\", \"b\" , \"c\", \"b\", \"a\"}\n",
        "set2 = {1, 2, 3, 2, 4, 1}\n",
        "\n",
        "set3 = set1.union(set2)\n",
        "print(set3)"
      ],
      "metadata": {
        "colab": {
          "base_uri": "https://localhost:8080/"
        },
        "id": "fZV57NUWknVu",
        "outputId": "c60045b5-d933-43f5-fef2-9fc70c6f234d"
      },
      "execution_count": 7,
      "outputs": [
        {
          "output_type": "stream",
          "name": "stdout",
          "text": [
            "{'b', 1, 2, 3, 4, 'a', 'c'}\n"
          ]
        }
      ]
    },
    {
      "cell_type": "markdown",
      "source": [
        "# **The update() method inserts the items in set2 into set1**"
      ],
      "metadata": {
        "id": "QIwTkLWjk28h"
      }
    },
    {
      "cell_type": "code",
      "source": [
        "set1 = {\"a\", \"b\" , \"c\", \"b\", \"a\"}\n",
        "set2 = {1, 2, 3, 2, 4, 1}\n",
        "\n",
        "set1.update(set2)\n",
        "print(set1)"
      ],
      "metadata": {
        "colab": {
          "base_uri": "https://localhost:8080/"
        },
        "id": "3t7XRRSpk73C",
        "outputId": "820a6c51-872f-43b6-bca1-031e760a98f6"
      },
      "execution_count": 6,
      "outputs": [
        {
          "output_type": "stream",
          "name": "stdout",
          "text": [
            "{'b', 1, 2, 3, 'a', 'c'}\n"
          ]
        }
      ]
    },
    {
      "cell_type": "markdown",
      "source": [
        "# **Keep ONLY the Duplicates**\n",
        "The intersection_update() method will keep only the items that are present in both sets"
      ],
      "metadata": {
        "id": "R-r7M4CUohir"
      }
    },
    {
      "cell_type": "code",
      "source": [
        "x = {\"apple\", \"banana\", \"cherry\"}\n",
        "y = {\"google\", \"microsoft\", \"apple\", \"cherry\"}\n",
        "\n",
        "x.intersection_update(y)\n",
        "\n",
        "print(x)"
      ],
      "metadata": {
        "colab": {
          "base_uri": "https://localhost:8080/"
        },
        "id": "VnJ8y33Poqd-",
        "outputId": "67e88ac8-8f65-4df1-ec1c-87911b5cf8dc"
      },
      "execution_count": 9,
      "outputs": [
        {
          "output_type": "stream",
          "name": "stdout",
          "text": [
            "{'cherry', 'apple'}\n"
          ]
        }
      ]
    },
    {
      "cell_type": "markdown",
      "source": [
        "# **The intersection()** method will return a new set, that only contains the items that are present in both sets."
      ],
      "metadata": {
        "id": "t4FHSGydo2kK"
      }
    },
    {
      "cell_type": "code",
      "source": [
        "x = {\"apple\", \"banana\", \"cherry\"}\n",
        "y = {\"google\", \"microsoft\", \"apple\", \"banana\"}\n",
        "\n",
        "z = x.intersection(y)\n",
        "print(z)"
      ],
      "metadata": {
        "colab": {
          "base_uri": "https://localhost:8080/"
        },
        "id": "kjCMbycdo9TO",
        "outputId": "19896b31-c6fa-42ed-d0ea-eef200574773"
      },
      "execution_count": 10,
      "outputs": [
        {
          "output_type": "stream",
          "name": "stdout",
          "text": [
            "{'banana', 'apple'}\n"
          ]
        }
      ]
    },
    {
      "cell_type": "markdown",
      "source": [
        "# **Keep All, But NOT the Duplicates**\n",
        "The **symmetric_difference_update()** method will keep only the elements that are NOT present in both sets."
      ],
      "metadata": {
        "id": "M16oTogGpHsU"
      }
    },
    {
      "cell_type": "code",
      "source": [
        "x = {\"apple\", \"banana\", \"cherry\"}\n",
        "y = {\"google\", \"microsoft\", \"apple\"}\n",
        "\n",
        "x.symmetric_difference_update(y)\n",
        "print(x)\n"
      ],
      "metadata": {
        "colab": {
          "base_uri": "https://localhost:8080/"
        },
        "id": "pGdQR0JOpPkA",
        "outputId": "8ad7bf28-4b75-4c2d-e7f1-e4097a81055c"
      },
      "execution_count": 11,
      "outputs": [
        {
          "output_type": "stream",
          "name": "stdout",
          "text": [
            "{'cherry', 'microsoft', 'google', 'banana'}\n"
          ]
        }
      ]
    },
    {
      "cell_type": "code",
      "source": [
        "x = {\"apple\", \"banana\", \"cherry\"}\n",
        "y = {\"google\", \"microsoft\", \"apple\"}\n",
        "\n",
        "z = x.symmetric_difference(y)\n",
        "\n",
        "print(z)"
      ],
      "metadata": {
        "colab": {
          "base_uri": "https://localhost:8080/"
        },
        "id": "fAvHhYGHphd6",
        "outputId": "795317ea-f492-489b-a3fa-bed34ad5954e"
      },
      "execution_count": 12,
      "outputs": [
        {
          "output_type": "stream",
          "name": "stdout",
          "text": [
            "{'cherry', 'microsoft', 'google', 'banana'}\n"
          ]
        }
      ]
    },
    {
      "cell_type": "code",
      "source": [
        "Method\tDescription\n",
        "add()\tAdds an element to the set\n",
        "clear()\tRemoves all the elements from the set\n",
        "copy()\tReturns a copy of the set\n",
        "difference()\tReturns a set containing the difference between two or more sets\n",
        "difference_update()\tRemoves the items in this set that are also included in another, specified set\n",
        "discard()\tRemove the specified item\n",
        "intersection()\tReturns a set, that is the intersection of two other sets\n",
        "intersection_update()\tRemoves the items in this set that are not present in other, specified set(s)\n",
        "isdisjoint()\tReturns whether two sets have a intersection or not\n",
        "issubset()\tReturns whether another set contains this set or not\n",
        "issuperset()\tReturns whether this set contains another set or not\n",
        "pop()\tRemoves an element from the set\n",
        "remove()\tRemoves the specified element\n",
        "symmetric_difference()\tReturns a set with the symmetric differences of two sets\n",
        "symmetric_difference_update()\tinserts the symmetric differences from this set and another\n",
        "union()\tReturn a set containing the union of sets\n",
        "update()\tUpdate the set with the union of this set and others\n"
      ],
      "metadata": {
        "id": "d0sUo7q3qJue"
      },
      "execution_count": null,
      "outputs": []
    },
    {
      "cell_type": "code",
      "source": [
        "x = {\"apple\", \"banana\", \"cherry\"}\n",
        "y = {\"google\", \"microsoft\", \"apple\"}\n",
        "\n",
        "x.intersection_update(y)\n",
        "\n",
        "print(x)"
      ],
      "metadata": {
        "colab": {
          "base_uri": "https://localhost:8080/"
        },
        "id": "vRtn5B3Eqjtc",
        "outputId": "f6ba06d5-1248-4c44-c7e7-efed397950ce"
      },
      "execution_count": 13,
      "outputs": [
        {
          "output_type": "stream",
          "name": "stdout",
          "text": [
            "{'apple'}\n"
          ]
        }
      ]
    },
    {
      "cell_type": "code",
      "source": [
        "x = {\"a\", \"b\", \"c\"}\n",
        "y = {\"c\", \"d\", \"e\"}\n",
        "z = {\"f\", \"g\", \"c\"}\n",
        "\n",
        "x.intersection_update(y, z)\n",
        "\n",
        "print(x)"
      ],
      "metadata": {
        "colab": {
          "base_uri": "https://localhost:8080/"
        },
        "id": "vR2Xvl39qsLo",
        "outputId": "e37d88f0-1473-4c1f-b72d-711cc9f65fa9"
      },
      "execution_count": 14,
      "outputs": [
        {
          "output_type": "stream",
          "name": "stdout",
          "text": [
            "{'c'}\n"
          ]
        }
      ]
    },
    {
      "cell_type": "code",
      "source": [
        "x = {\"apple\", \"banana\", \"cherry\"}\n",
        "y = {\"google\", \"microsoft\", \"apple\"}\n",
        "\n",
        "z = x.difference(y) # x 'te olup y 'de olmayanlar\n",
        "print(z)"
      ],
      "metadata": {
        "colab": {
          "base_uri": "https://localhost:8080/"
        },
        "id": "JwXNDyq9q9MJ",
        "outputId": "bc917767-db19-4543-ce99-b3338ba6ce6f"
      },
      "execution_count": 15,
      "outputs": [
        {
          "output_type": "stream",
          "name": "stdout",
          "text": [
            "{'cherry', 'banana'}\n"
          ]
        }
      ]
    },
    {
      "cell_type": "code",
      "source": [
        "x = {\"apple\", \"banana\", \"cherry\"}\n",
        "y = {\"google\", \"microsoft\", \"apple\"}\n",
        "\n",
        "x.difference_update(y)\n",
        "print(x)"
      ],
      "metadata": {
        "colab": {
          "base_uri": "https://localhost:8080/"
        },
        "id": "8ouHi3vrrbyZ",
        "outputId": "4bc7adc7-7889-441c-8766-de23c7168892"
      },
      "execution_count": 16,
      "outputs": [
        {
          "output_type": "stream",
          "name": "stdout",
          "text": [
            "{'cherry', 'banana'}\n"
          ]
        }
      ]
    },
    {
      "cell_type": "markdown",
      "source": [
        "The difference_update() method removes the items that exist in both sets.\n",
        "\n",
        "The difference_update() method is different from the difference() method, because the difference() method returns a new set, without the unwanted items, and the difference_update() method removes the unwanted items from the original set."
      ],
      "metadata": {
        "id": "nw9kE4m6roVy"
      }
    }
  ],
  "metadata": {
    "colab": {
      "name": "PythonRecap_Sets_29.12.2021.ipynb",
      "provenance": [],
      "collapsed_sections": [],
      "authorship_tag": "ABX9TyM2gLJZ2zuNTGmbNLZbodhC",
      "include_colab_link": true
    },
    "kernelspec": {
      "display_name": "Python 3",
      "name": "python3"
    },
    "language_info": {
      "name": "python"
    }
  },
  "nbformat": 4,
  "nbformat_minor": 0
}