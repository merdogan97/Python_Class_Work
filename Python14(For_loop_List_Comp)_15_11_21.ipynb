{
  "nbformat": 4,
  "nbformat_minor": 0,
  "metadata": {
    "colab": {
      "name": "Python14(For loop/List Comp)_15.11.21.ipynb",
      "provenance": [],
      "collapsed_sections": [],
      "authorship_tag": "ABX9TyP+8/qmofxipOQNwTxXR5t8",
      "include_colab_link": true
    },
    "kernelspec": {
      "name": "python3",
      "display_name": "Python 3"
    },
    "language_info": {
      "name": "python"
    }
  },
  "cells": [
    {
      "cell_type": "markdown",
      "metadata": {
        "id": "view-in-github",
        "colab_type": "text"
      },
      "source": [
        "<a href=\"https://colab.research.google.com/github/merdogan97/Python_Class_Work/blob/main/Python14(For_loop_List_Comp)_15_11_21.ipynb\" target=\"_parent\"><img src=\"https://colab.research.google.com/assets/colab-badge.svg\" alt=\"Open In Colab\"/></a>"
      ]
    },
    {
      "cell_type": "code",
      "metadata": {
        "id": "M0DsB0ObjjB3"
      },
      "source": [
        "Görev: Koronavirüstenölüm riskini tahmin etmek . Bir program yazın;\n",
        "\n",
        "Aşağıdaki sorulara yanıt olarak kullanıcıdan \"Evet\" veya \"Hayır\" alır:\n",
        "\n",
        "75 yaşından büyük bir sigara bağımlısı mısın? Değişken → age\n",
        "\n",
        "Ağır bir kronik hastalığınız var mı? Değişken → chronic\n",
        "\n",
        "Bağışıklık sisteminiz çok mu zayıf? Değişken → immune\n",
        "\n",
        "Boole mantık işleçlerini (/) kullanarak mantıksal bir algoritma ayarlayın ve bize bir ileti yazdırmak için verilen değişkenlerle if-deyimleri kullanın: \"Riskli gruptasınız\"(eğer) veya \"Riskli grupta değilsiniz\" (eğer . andorTrueFalse)\n",
        "age =  # can be assigned only True/False\n",
        "chronic =  # can be assigned only True/False\n",
        "immune =  # can be assigned only True/False\n",
        "risk = ?"
      ],
      "execution_count": null,
      "outputs": []
    },
    {
      "cell_type": "code",
      "metadata": {
        "colab": {
          "base_uri": "https://localhost:8080/"
        },
        "id": "gQwITsCQjnWx",
        "outputId": "04543183-ad2b-4eee-ebe1-918fa6e20fc5"
      },
      "source": [
        "age = int(input(\"Lütfen Yaşınızı Giriniz :\"))\n",
        "bagımlılık = bool(input(\"Sigara Bağımlılığınız var mı? :\"))\n",
        "chronic = bool(input(\"Kronik Ağır Bir Hastalığınız Var mı? :\"))\n",
        "immune = bool(input(\"Bağışıklık Sisteminiz Çok mu Zayıf? :\"))\n",
        "Evet = 'True'\n",
        "if (age > 75) and (bagımlılık == 'True' and chronic == 'True'and immune == 'True') :\n",
        "  print(\"Riskli Gruptasınız !!!\")\n",
        "elif \n",
        "else:\n",
        "  print(\"Riskli Grupta Değilsiniz !\")\n",
        " \n"
      ],
      "execution_count": null,
      "outputs": [
        {
          "output_type": "stream",
          "name": "stdout",
          "text": [
            "Lütfen Yaşınızı Giriniz :60\n",
            "Sigara Bağımlılığınız var mı? :Hayır\n",
            "Kronik Ağır Bir Hastalığınız Var mı? :Hayır\n",
            "Bağışıklık Sisteminiz Çok mu Zayıf? :Hayır\n",
            "Riskli Grupta Değilsiniz !\n"
          ]
        }
      ]
    },
    {
      "cell_type": "code",
      "metadata": {
        "colab": {
          "base_uri": "https://localhost:8080/"
        },
        "id": "rUDC8-Fpz_Wz",
        "outputId": "1ceafb39-0b6b-479d-919c-dc7986934433"
      },
      "source": [
        "sum_num = 0\n",
        "for i in range(1,75) :\n",
        "    sum_num += i    # \n",
        "print(sum_num)"
      ],
      "execution_count": null,
      "outputs": [
        {
          "output_type": "stream",
          "name": "stdout",
          "text": [
            "2775\n"
          ]
        }
      ]
    },
    {
      "cell_type": "markdown",
      "metadata": {
        "id": "5Nj8nVbv2IRY"
      },
      "source": [
        "******`Nested For Loop * ******"
      ]
    },
    {
      "cell_type": "code",
      "metadata": {
        "colab": {
          "base_uri": "https://localhost:8080/"
        },
        "id": "D0b8PKAn1O9O",
        "outputId": "8dfd6c75-ddd3-4fb2-e093-184a7e776d3f"
      },
      "source": [
        "x =  [\"I am\", \"You are\"]\n",
        "y = [\"happy\", \"confident\"]\n",
        "for i in x :\n",
        "  for ii in y :\n",
        "    print(i, ii)"
      ],
      "execution_count": null,
      "outputs": [
        {
          "output_type": "stream",
          "name": "stdout",
          "text": [
            "I am happy\n",
            "I am confident\n",
            "You are happy\n",
            "You are confident\n"
          ]
        }
      ]
    },
    {
      "cell_type": "code",
      "metadata": {
        "colab": {
          "base_uri": "https://localhost:8080/"
        },
        "id": "fz70V1ff2yMk",
        "outputId": "5efdeb67-7182-46a2-c188-84eb78fd8ce2"
      },
      "source": [
        "names = [\"Susan\", \"Tom\", \"Edward\"]\n",
        "mood = [\"happy\", \"sad\"]\n",
        "for i in names:\n",
        "  for ii in mood :\n",
        "    print(i, \" is \" , ii)           # print(i + \" is \" + ii)"
      ],
      "execution_count": null,
      "outputs": [
        {
          "output_type": "stream",
          "name": "stdout",
          "text": [
            "Susan  is  happy\n",
            "Susan  is  sad\n",
            "Tom  is  happy\n",
            "Tom  is  sad\n",
            "Edward  is  happy\n",
            "Edward  is  sad\n"
          ]
        }
      ]
    },
    {
      "cell_type": "code",
      "metadata": {
        "colab": {
          "base_uri": "https://localhost:8080/"
        },
        "id": "FVxlKZm6388B",
        "outputId": "2918f2d7-5355-4525-82ca-1254dc21496e"
      },
      "source": [
        "v = (\"five\", 5, True)\n",
        "v\n"
      ],
      "execution_count": null,
      "outputs": [
        {
          "output_type": "execute_result",
          "data": {
            "text/plain": [
              "('five', 5, True)"
            ]
          },
          "metadata": {},
          "execution_count": 37
        }
      ]
    },
    {
      "cell_type": "code",
      "metadata": {
        "colab": {
          "base_uri": "https://localhost:8080/"
        },
        "id": "ChVsFVEkE9u7",
        "outputId": "98883f2f-3352-4384-990f-499bd4e5ba66"
      },
      "source": [
        "v = (\"five\", 5, True)\n",
        "\n",
        "(x, y, z) = v\n",
        "print(x, y, z)\n",
        "print(v)\n"
      ],
      "execution_count": null,
      "outputs": [
        {
          "output_type": "stream",
          "name": "stdout",
          "text": [
            "five 5 True\n",
            "('five', 5, True)\n"
          ]
        }
      ]
    },
    {
      "cell_type": "code",
      "metadata": {
        "colab": {
          "base_uri": "https://localhost:8080/"
        },
        "id": "2wIx3l3n5KsP",
        "outputId": "2cea85c1-f3b1-447c-93bf-4ca96fe393e5"
      },
      "source": [
        "(Monday, Tuesday, Wednesday, Thursday, Friday, Saturday, Sunday) = tuple(range(1,8))\n",
        "Monday\n",
        "Tuesday           # Her bir değişken bir değer aldı.."
      ],
      "execution_count": null,
      "outputs": [
        {
          "output_type": "execute_result",
          "data": {
            "text/plain": [
              "2"
            ]
          },
          "metadata": {},
          "execution_count": 6
        }
      ]
    },
    {
      "cell_type": "code",
      "metadata": {
        "colab": {
          "base_uri": "https://localhost:8080/"
        },
        "id": "0zpSbH465pav",
        "outputId": "bd816a07-21c5-4964-a22b-96f5daa129c8"
      },
      "source": [
        "Thursday"
      ],
      "execution_count": null,
      "outputs": [
        {
          "output_type": "execute_result",
          "data": {
            "text/plain": [
              "4"
            ]
          },
          "metadata": {},
          "execution_count": 42
        }
      ]
    },
    {
      "cell_type": "code",
      "metadata": {
        "colab": {
          "base_uri": "https://localhost:8080/"
        },
        "id": "KcTNsiu75s1W",
        "outputId": "0fc5c178-efa0-4085-b18f-cfd164b8a6d8"
      },
      "source": [
        "Friday"
      ],
      "execution_count": null,
      "outputs": [
        {
          "output_type": "execute_result",
          "data": {
            "text/plain": [
              "5"
            ]
          },
          "metadata": {},
          "execution_count": 43
        }
      ]
    },
    {
      "cell_type": "code",
      "metadata": {
        "colab": {
          "base_uri": "https://localhost:8080/",
          "height": 35
        },
        "id": "tkI9RZnN515Y",
        "outputId": "c30d1ba5-e5c0-44fd-a249-71bfc88dba88"
      },
      "source": [
        "isim = 'ali'      # Değişken ve değer kavramlarını karıştırmayalım.. \n",
        "isim"
      ],
      "execution_count": null,
      "outputs": [
        {
          "output_type": "execute_result",
          "data": {
            "application/vnd.google.colaboratory.intrinsic+json": {
              "type": "string"
            },
            "text/plain": [
              "'ali'"
            ]
          },
          "metadata": {},
          "execution_count": 47
        }
      ]
    },
    {
      "cell_type": "code",
      "metadata": {
        "colab": {
          "base_uri": "https://localhost:8080/"
        },
        "id": "h-wX20XZ6HHc",
        "outputId": "2915c70e-456c-4303-95f3-7c2d7f90a650"
      },
      "source": [
        "[1,2,3,4] + [\"bir\", \"iki\", \"üç\"]   # listeyi listenin sonuna ekledik (extend) yaptık"
      ],
      "execution_count": null,
      "outputs": [
        {
          "output_type": "execute_result",
          "data": {
            "text/plain": [
              "[1, 2, 3, 4, 'bir', 'iki', 'üç']"
            ]
          },
          "metadata": {},
          "execution_count": 48
        }
      ]
    },
    {
      "cell_type": "code",
      "metadata": {
        "id": "xI1gj8606eVe"
      },
      "source": [
        "a, b  = (10, 20, 30, 40)      # 10 ve 30 u atamak istiyorum...  # _,  ile boşluğa gider ve yer kaplamaz !"
      ],
      "execution_count": null,
      "outputs": []
    },
    {
      "cell_type": "code",
      "metadata": {
        "colab": {
          "base_uri": "https://localhost:8080/"
        },
        "id": "eMtJYmB97CB8",
        "outputId": "fccb1e51-f401-4601-9ee8-ce100441abe3"
      },
      "source": [
        "a,_ ,b ,_  = (10, 20, 30, 40)         # _,  ile boşluğa gider ve yer kaplamaz !\n",
        "print(a, b)\n"
      ],
      "execution_count": null,
      "outputs": [
        {
          "output_type": "stream",
          "name": "stdout",
          "text": [
            "10 30\n"
          ]
        }
      ]
    },
    {
      "cell_type": "code",
      "metadata": {
        "colab": {
          "base_uri": "https://localhost:8080/"
        },
        "id": "RqEmS8BO7dZT",
        "outputId": "01c84e6f-3dfa-4c6b-e88e-39e5e9b015ba"
      },
      "source": [
        "x, y, *z = (11, 22, 33, 44, 55)\n",
        "print (x, y, z)           # * ile z ye geri kalan değerleri liste olarak atar..."
      ],
      "execution_count": null,
      "outputs": [
        {
          "output_type": "stream",
          "name": "stdout",
          "text": [
            "11 22 [33, 44, 55]\n"
          ]
        }
      ]
    },
    {
      "cell_type": "code",
      "metadata": {
        "colab": {
          "base_uri": "https://localhost:8080/"
        },
        "id": "YhsT5r5p8AP8",
        "outputId": "160a72ed-c20b-4791-ffe7-e23b1680e6e1"
      },
      "source": [
        "x, y, *_  = (11, 22, 33, 44, 55, 66)   # *_  ile sadece ilk ikisini atamak istiyorum ama geri kalanı dursun hafızada yer kaplamasın\n",
        "print(x, y)"
      ],
      "execution_count": null,
      "outputs": [
        {
          "output_type": "stream",
          "name": "stdout",
          "text": [
            "11 22\n"
          ]
        }
      ]
    },
    {
      "cell_type": "code",
      "metadata": {
        "colab": {
          "base_uri": "https://localhost:8080/"
        },
        "id": "Ny1xGPO4AYpe",
        "outputId": "6a30f946-a833-4610-963e-c0bb96c8bd06"
      },
      "source": [
        "x, y, *z, t = (11, 22, 33, 44, 55, 66, 77)\n",
        "print(x, y, z, t)    # t en sona gider ve z de x,y dışındaki aradaki sayıları alır."
      ],
      "execution_count": null,
      "outputs": [
        {
          "output_type": "stream",
          "name": "stdout",
          "text": [
            "11 22 [33, 44, 55, 66] 77\n"
          ]
        }
      ]
    },
    {
      "cell_type": "markdown",
      "metadata": {
        "id": "e4vOFkDsC4ZJ"
      },
      "source": [
        "   **   LIST COMPREHENSION**\n",
        "\n",
        "[expression for item in iterable]\n",
        "\n",
        "# for item in iterable:\n",
        "   expression\n",
        "\n",
        "   listenin dışına çıkmadan for döngüsü kullanılıyor.\n",
        "\n"
      ]
    },
    {
      "cell_type": "code",
      "metadata": {
        "colab": {
          "base_uri": "https://localhost:8080/"
        },
        "id": "FmIOsTZ2D77k",
        "outputId": "6cbcf0f4-22ec-48d3-f1c6-d44587085338"
      },
      "source": [
        "sayılar = []\n",
        "for i in range(5) :\n",
        " sayılar.append(i)\n",
        "print(sayılar)"
      ],
      "execution_count": null,
      "outputs": [
        {
          "output_type": "stream",
          "name": "stdout",
          "text": [
            "[0, 1, 2, 3, 4]\n"
          ]
        }
      ]
    },
    {
      "cell_type": "code",
      "metadata": {
        "colab": {
          "base_uri": "https://localhost:8080/"
        },
        "id": "ltE2hGo9ETPH",
        "outputId": "53f2a8fd-2d92-4317-820c-e9082094f43b"
      },
      "source": [
        "[i for i in range(5)]"
      ],
      "execution_count": null,
      "outputs": [
        {
          "output_type": "execute_result",
          "data": {
            "text/plain": [
              "[0, 1, 2, 3, 4]"
            ]
          },
          "metadata": {},
          "execution_count": 72
        }
      ]
    },
    {
      "cell_type": "code",
      "metadata": {
        "colab": {
          "base_uri": "https://localhost:8080/"
        },
        "id": "6ebBVQuYErZ7",
        "outputId": "0046041e-ca00-4360-cda8-9a78026e514e"
      },
      "source": [
        "[i**2 for i in range(1,6)]"
      ],
      "execution_count": null,
      "outputs": [
        {
          "output_type": "execute_result",
          "data": {
            "text/plain": [
              "[1, 4, 9, 16, 25]"
            ]
          },
          "metadata": {},
          "execution_count": 78
        }
      ]
    },
    {
      "cell_type": "code",
      "metadata": {
        "colab": {
          "base_uri": "https://localhost:8080/"
        },
        "id": "-smTnGEDE8cN",
        "outputId": "af7c5b37-545d-465b-f57c-84a66ddfc68d"
      },
      "source": [
        "[[i] for i in range(5)]    # Append komutunu kendi yapıyor."
      ],
      "execution_count": null,
      "outputs": [
        {
          "output_type": "execute_result",
          "data": {
            "text/plain": [
              "[[0], [1], [2], [3], [4]]"
            ]
          },
          "metadata": {},
          "execution_count": 79
        }
      ]
    },
    {
      "cell_type": "markdown",
      "metadata": {
        "id": "oWzcCRJeG27o"
      },
      "source": [
        "**Ternary**   IF CONDITION\n",
        "\n",
        "**execute**- body1 if condition else execute body2 **kalın metin**"
      ]
    },
    {
      "cell_type": "code",
      "metadata": {
        "id": "WzmwLkvmHAj5"
      },
      "source": [
        "mylist = [1, 2, 3, 4, 5, 6]\n",
        "newlist = []\n",
        "if i % 2 : \n",
        " newlist.append(i**2)\n",
        "\n",
        "print(newlist)"
      ],
      "execution_count": null,
      "outputs": []
    },
    {
      "cell_type": "code",
      "metadata": {
        "colab": {
          "base_uri": "https://localhost:8080/"
        },
        "id": "hsIyGtvvHujq",
        "outputId": "e2e1d513-c6f3-4e93-cf7e-eeacd48b5cfa"
      },
      "source": [
        "condition = True\n",
        "if condition :\n",
        "  a = 1\n",
        "else:\n",
        "  a = 0\n",
        "print(a)"
      ],
      "execution_count": null,
      "outputs": [
        {
          "output_type": "stream",
          "name": "stdout",
          "text": [
            "1\n"
          ]
        }
      ]
    },
    {
      "cell_type": "code",
      "metadata": {
        "colab": {
          "base_uri": "https://localhost:8080/"
        },
        "id": "ZM9MabbIH_GW",
        "outputId": "6c9f9a05-8305-4c33-9183-dba0f993b0cc"
      },
      "source": [
        "1 if condition else 0"
      ],
      "execution_count": null,
      "outputs": [
        {
          "output_type": "execute_result",
          "data": {
            "text/plain": [
              "1"
            ]
          },
          "metadata": {},
          "execution_count": 84
        }
      ]
    },
    {
      "cell_type": "code",
      "metadata": {
        "colab": {
          "base_uri": "https://localhost:8080/"
        },
        "id": "k3FcaqCdIJwl",
        "outputId": "d9a0b395-7cfe-4c28-be03-89a1cbe91864"
      },
      "source": [
        "condition = False\n",
        "1 if condition else 0"
      ],
      "execution_count": null,
      "outputs": [
        {
          "output_type": "execute_result",
          "data": {
            "text/plain": [
              "0"
            ]
          },
          "metadata": {},
          "execution_count": 85
        }
      ]
    },
    {
      "cell_type": "code",
      "metadata": {
        "colab": {
          "base_uri": "https://localhost:8080/"
        },
        "id": "h1PsoSUVGMWV",
        "outputId": "8b407b6f-3f3a-4c90-d483-b2e5638f40fc"
      },
      "source": [
        "mylist = [1, 2, 3, 4, 5, 6]\n",
        "\n",
        "[i**2 for i in mylist] "
      ],
      "execution_count": null,
      "outputs": [
        {
          "output_type": "execute_result",
          "data": {
            "text/plain": [
              "[1, 4, 9, 16, 25, 36]"
            ]
          },
          "metadata": {},
          "execution_count": 102
        }
      ]
    },
    {
      "cell_type": "code",
      "metadata": {
        "colab": {
          "base_uri": "https://localhost:8080/"
        },
        "id": "bNr538VBQ3q2",
        "outputId": "8d466524-8a6d-4853-b47f-1fad2d7fab8b"
      },
      "source": [
        "mylist = [1, 2, 3, 4, 5, 6]\n",
        "\n",
        "[i**2 for i in mylist if i % 2]    # burada else ihtiyacım yok"
      ],
      "execution_count": null,
      "outputs": [
        {
          "output_type": "execute_result",
          "data": {
            "text/plain": [
              "[1, 9, 25]"
            ]
          },
          "metadata": {},
          "execution_count": 107
        }
      ]
    },
    {
      "cell_type": "markdown",
      "metadata": {
        "id": "w1EUhVEES4jX"
      },
      "source": [
        "### ***LIST COMPREHENSIONS***"
      ]
    },
    {
      "cell_type": "code",
      "metadata": {
        "colab": {
          "base_uri": "https://localhost:8080/"
        },
        "id": "Z7sNV66uTBmy",
        "outputId": "c99d7f4a-034c-49bf-8f9e-5afbe296cac7"
      },
      "source": [
        "sayılar = []\n",
        "for i in range(5) :\n",
        "  sayılar.append(i)\n",
        "print(sayılar)      # Klasik yöntem..."
      ],
      "execution_count": null,
      "outputs": [
        {
          "output_type": "stream",
          "name": "stdout",
          "text": [
            "[0, 1, 2, 3, 4]\n"
          ]
        }
      ]
    },
    {
      "cell_type": "code",
      "metadata": {
        "colab": {
          "base_uri": "https://localhost:8080/"
        },
        "id": "qAY2LtN8a3Z9",
        "outputId": "3474c51c-ecb0-4e0d-b4d1-14464defd85f"
      },
      "source": [
        "[i for i in range(5)]     # Tek satırda.... List comprehension."
      ],
      "execution_count": null,
      "outputs": [
        {
          "output_type": "execute_result",
          "data": {
            "text/plain": [
              "[0, 1, 2, 3, 4]"
            ]
          },
          "metadata": {},
          "execution_count": 11
        }
      ]
    },
    {
      "cell_type": "code",
      "metadata": {
        "colab": {
          "base_uri": "https://localhost:8080/"
        },
        "id": "KLF5u6W6bEGK",
        "outputId": "7fe14153-1d58-4728-8117-f01304005259"
      },
      "source": [
        "[i**2 for i in range(1,6)]"
      ],
      "execution_count": null,
      "outputs": [
        {
          "output_type": "execute_result",
          "data": {
            "text/plain": [
              "[1, 4, 9, 16, 25]"
            ]
          },
          "metadata": {},
          "execution_count": 12
        }
      ]
    },
    {
      "cell_type": "code",
      "metadata": {
        "colab": {
          "base_uri": "https://localhost:8080/"
        },
        "id": "k0jWVKQLcCp3",
        "outputId": "98b0c30f-baa5-4350-8e5a-23f0cf298a84"
      },
      "source": [
        "[[i] for i in range(5)]    # liste şeklinde yapmak istersek, expression (i) yi [] içine alırız.."
      ],
      "execution_count": null,
      "outputs": [
        {
          "output_type": "execute_result",
          "data": {
            "text/plain": [
              "[[0], [1], [2], [3], [4]]"
            ]
          },
          "metadata": {},
          "execution_count": 13
        }
      ]
    },
    {
      "cell_type": "code",
      "metadata": {
        "colab": {
          "base_uri": "https://localhost:8080/"
        },
        "id": "106Hl_KecmY6",
        "outputId": "f186cc67-b172-431b-b87d-2fc3e417c6a6"
      },
      "source": [
        "[[i**2] for i in range(1,6)]"
      ],
      "execution_count": null,
      "outputs": [
        {
          "output_type": "execute_result",
          "data": {
            "text/plain": [
              "[[1], [4], [9], [16], [25]]"
            ]
          },
          "metadata": {},
          "execution_count": 14
        }
      ]
    },
    {
      "cell_type": "markdown",
      "metadata": {
        "id": "zphYnes1d3CO"
      },
      "source": [
        "# **Ternary IF condition yapısı**\n",
        "\n",
        "# execute Body1  ***if ** condition ***else*** execute Body2"
      ]
    },
    {
      "cell_type": "code",
      "metadata": {
        "colab": {
          "base_uri": "https://localhost:8080/"
        },
        "id": "rFEl5peZgNpZ",
        "outputId": "2ebd2b36-763e-410a-f0b6-e4e8738a1b71"
      },
      "source": [
        "condition = True\n",
        "if condition :\n",
        "  a = 1\n",
        "else:\n",
        "  a = 0\n",
        "print(a)"
      ],
      "execution_count": null,
      "outputs": [
        {
          "output_type": "stream",
          "name": "stdout",
          "text": [
            "1\n"
          ]
        }
      ]
    },
    {
      "cell_type": "code",
      "metadata": {
        "colab": {
          "base_uri": "https://localhost:8080/"
        },
        "id": "blEL28IGgfsh",
        "outputId": "2c9dd66c-2c99-4ba7-8d49-00d204c3e0f5"
      },
      "source": [
        "condition = True \n",
        "1 if condition else 0           # condition \"True\" ise Sol taraf, \"False\" ise Sağ taraf çalışır..."
      ],
      "execution_count": null,
      "outputs": [
        {
          "output_type": "execute_result",
          "data": {
            "text/plain": [
              "1"
            ]
          },
          "metadata": {},
          "execution_count": 22
        }
      ]
    },
    {
      "cell_type": "code",
      "metadata": {
        "colab": {
          "base_uri": "https://localhost:8080/"
        },
        "id": "_oXf5rC7g40O",
        "outputId": "90ccdfe5-af48-41ab-dc90-b06180c6e1aa"
      },
      "source": [
        "condition = False \n",
        "1 if condition else 0           # condition \"True\" ise Sol taraf, \"False\" ise Sağ taraf çalışır..."
      ],
      "execution_count": null,
      "outputs": [
        {
          "output_type": "execute_result",
          "data": {
            "text/plain": [
              "0"
            ]
          },
          "metadata": {},
          "execution_count": 23
        }
      ]
    },
    {
      "cell_type": "code",
      "metadata": {
        "colab": {
          "base_uri": "https://localhost:8080/"
        },
        "id": "6NZ1zvbvgA4v",
        "outputId": "507d0006-44e9-4fc8-d9ef-22b77ed299f5"
      },
      "source": [
        "mylist = [1, 2, 3, 4, 5, 6]\n",
        "newlist = []\n",
        "for i in mylist :\n",
        "  if i % 2 :\n",
        "    newlist.append(i**2)\n",
        "print(newlist)                                  # Klasik yöntem ile çözümü böyle...."
      ],
      "execution_count": null,
      "outputs": [
        {
          "output_type": "stream",
          "name": "stdout",
          "text": [
            "[1, 9, 25]\n"
          ]
        }
      ]
    },
    {
      "cell_type": "code",
      "metadata": {
        "colab": {
          "base_uri": "https://localhost:8080/"
        },
        "id": "4KqpMX3Kdgzp",
        "outputId": "6748bc01-dcba-48d4-90da-ee278977d616"
      },
      "source": [
        "[i**2 for i in mylist]    # body olur"
      ],
      "execution_count": null,
      "outputs": [
        {
          "output_type": "execute_result",
          "data": {
            "text/plain": [
              "[1, 4, 9, 16, 25, 36]"
            ]
          },
          "metadata": {},
          "execution_count": 24
        }
      ]
    },
    {
      "cell_type": "code",
      "metadata": {
        "colab": {
          "base_uri": "https://localhost:8080/"
        },
        "id": "cSqea-gnkmZ0",
        "outputId": "fcfeded0-c110-4f26-8c19-419579e944b0"
      },
      "source": [
        "#        body         if i % 2 \n",
        "[i**2 for i in mylist if i % 2 ] "
      ],
      "execution_count": null,
      "outputs": [
        {
          "output_type": "execute_result",
          "data": {
            "text/plain": [
              "[1, 9, 25]"
            ]
          },
          "metadata": {},
          "execution_count": 26
        }
      ]
    }
  ]
}