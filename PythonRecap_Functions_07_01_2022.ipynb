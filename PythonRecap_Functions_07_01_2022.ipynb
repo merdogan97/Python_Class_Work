{
  "nbformat": 4,
  "nbformat_minor": 0,
  "metadata": {
    "colab": {
      "name": "PythonRecap_Functions_07.01.2022.ipynb",
      "provenance": [],
      "authorship_tag": "ABX9TyOWLh647SQiR311lFv5c595",
      "include_colab_link": true
    },
    "kernelspec": {
      "name": "python3",
      "display_name": "Python 3"
    },
    "language_info": {
      "name": "python"
    }
  },
  "cells": [
    {
      "cell_type": "markdown",
      "metadata": {
        "id": "view-in-github",
        "colab_type": "text"
      },
      "source": [
        "<a href=\"https://colab.research.google.com/github/merdogan97/Python_Class_Work/blob/main/PythonRecap_Functions_07_01_2022.ipynb\" target=\"_parent\"><img src=\"https://colab.research.google.com/assets/colab-badge.svg\" alt=\"Open In Colab\"/></a>"
      ]
    },
    {
      "cell_type": "code",
      "execution_count": 1,
      "metadata": {
        "colab": {
          "base_uri": "https://localhost:8080/"
        },
        "id": "489lAJGc0Fu-",
        "outputId": "e1d75d20-d83d-4e31-9801-5649febb51e6"
      },
      "outputs": [
        {
          "output_type": "stream",
          "name": "stdout",
          "text": [
            "Start\n",
            "Hi Ahmet\n",
            "Wellcome my home\n",
            "Finish\n"
          ]
        }
      ],
      "source": [
        "def greetUser():\n",
        "  print(\"Hi Ahmet\")\n",
        "  print(\"Wellcome my home\")\n",
        "print(\"Start\")\n",
        "greetUser()\n",
        "print(\"Finish\")"
      ]
    },
    {
      "cell_type": "code",
      "source": [
        "def greetUser(name):\n",
        "  print(\"Hi Ahmet\")\n",
        "  print(\"Wellcome my home\")\n",
        "print(\"Start\")\n",
        "greetUser(\"Ahmet\")\n",
        "print(\"Finish\")"
      ],
      "metadata": {
        "colab": {
          "base_uri": "https://localhost:8080/"
        },
        "id": "RaCFoZvB1Yy5",
        "outputId": "125f2083-15b3-4bd2-a3a6-86d4efede543"
      },
      "execution_count": 2,
      "outputs": [
        {
          "output_type": "stream",
          "name": "stdout",
          "text": [
            "Start\n",
            "Hi Ahmet\n",
            "Wellcome my home\n",
            "Finish\n"
          ]
        }
      ]
    },
    {
      "cell_type": "code",
      "source": [
        "def greetUser(firstName, lastName):         # argümanlar parametrelere atanır\n",
        "  print(f\"Hi {firstName} {lastName} \")\n",
        "  print(\"Wellcome my home\")\n",
        "\n",
        "print(\"Start\")\n",
        "greetUser(\"Ahmet\", \"Yıldırım\")\n",
        "print(\"Finish\")"
      ],
      "metadata": {
        "colab": {
          "base_uri": "https://localhost:8080/"
        },
        "id": "PKjk164m2DtJ",
        "outputId": "64a9a150-d740-438c-e0d1-3eb789efe164"
      },
      "execution_count": 3,
      "outputs": [
        {
          "output_type": "stream",
          "name": "stdout",
          "text": [
            "Start\n",
            "Hi Ahmet Yıldırım \n",
            "Wellcome my home\n",
            "Finish\n"
          ]
        }
      ]
    },
    {
      "cell_type": "code",
      "source": [
        "def greetUser(firstName, lastName):         # argümanlar parametrelere atanır\n",
        "  print(f\"Hi {firstName} {lastName} \")\n",
        "  print(\"Wellcome my home\")\n",
        "greetUser(\"Yıldırım\", \"Ahmet\")  # sıralama nasılsa o şekilde argümanlar parametrelere atanır.\n",
        "print(\"Finish\")\n",
        "\n",
        "print(\"Start\")"
      ],
      "metadata": {
        "colab": {
          "base_uri": "https://localhost:8080/"
        },
        "id": "jkHyR8Eg3DDz",
        "outputId": "a695cb61-fa78-4974-9719-c8f64a2a7bd9"
      },
      "execution_count": 4,
      "outputs": [
        {
          "output_type": "stream",
          "name": "stdout",
          "text": [
            "Start\n",
            "Hi Yıldırım Ahmet \n",
            "Wellcome my home\n",
            "Finish\n"
          ]
        }
      ]
    },
    {
      "cell_type": "code",
      "source": [
        "def greetUser(firstName, lastName):         # argümanlar parametrelere atanır\n",
        "  print(f\"Hi {firstName} {lastName} \")\n",
        "  print(\"Wellcome my home\")\n",
        "\n",
        "greetUser(lastName=\"Yıldırım\", firstName=\"Ahmet\")  # eğer parametreler belirtilirse, o şekilde argümanlar atanır.\n",
        "print(\"Finish\")\n",
        "print(\"Start\")"
      ],
      "metadata": {
        "colab": {
          "base_uri": "https://localhost:8080/"
        },
        "id": "uoDkPLxe3Z0q",
        "outputId": "43e35164-a9ea-4f0a-8c71-b7808ac715d3"
      },
      "execution_count": 5,
      "outputs": [
        {
          "output_type": "stream",
          "name": "stdout",
          "text": [
            "Hi Ahmet Yıldırım \n",
            "Wellcome my home\n",
            "Finish\n",
            "Start\n"
          ]
        }
      ]
    },
    {
      "cell_type": "code",
      "source": [
        "calculatePost(total=50, shipping=5, discount=0.1)   # ne olduğunu tanımlarsak anlarız"
      ],
      "metadata": {
        "id": "xuzDPwjl4F0q"
      },
      "execution_count": null,
      "outputs": []
    },
    {
      "cell_type": "code",
      "source": [
        "def greetUser(firstName, lastName, message):         # argümanlar parametrelere atanır\n",
        "  print(f\"Hi {firstName} {lastName} \")\n",
        "  print(message)\n",
        "\n",
        "print(\"Start\")\n",
        "greetUser(\"Ahmet\", message= \"Wellcome to home\", lastName= \"Yıldırım\" )  # önce positional, sonra kywrds argümanlarımızı yazmamız gerekir\n",
        "print(\"Finish\")\n",
        "\n"
      ],
      "metadata": {
        "colab": {
          "base_uri": "https://localhost:8080/"
        },
        "id": "KAkuaFxL4d6P",
        "outputId": "f0e5037b-57fa-4662-9956-23924fbb03d7"
      },
      "execution_count": 9,
      "outputs": [
        {
          "output_type": "stream",
          "name": "stdout",
          "text": [
            "Start\n",
            "Hi Ahmet Yıldırım \n",
            "Wellcome to home\n",
            "Finish\n"
          ]
        }
      ]
    },
    {
      "cell_type": "code",
      "source": [
        "def greetUser(firstName, lastName, message=\"Wellcome to my home\"):        \n",
        "  print(f\"Hi {firstName} {lastName} \")\n",
        "  print(message)\n",
        "\n",
        "print(\"Start\")\n",
        "greetUser(\"Ahmet\", message= \"Wellcome to home\", lastName= \"Yıldırım\" )  # önce positional, sonra kywrds argümanlarımızı yazmamız gerekir\n",
        "greetUser(\"Ebru\", \"Yılmaz\")   # varsayılan değer atanır\n",
        "print(\"Finish\")\n"
      ],
      "metadata": {
        "colab": {
          "base_uri": "https://localhost:8080/"
        },
        "id": "BpeQSBqe6GVZ",
        "outputId": "8750bba8-89f3-41b8-80c6-8fb4fa7e0eb6"
      },
      "execution_count": 13,
      "outputs": [
        {
          "output_type": "stream",
          "name": "stdout",
          "text": [
            "Start\n",
            "Hi Ahmet Yıldırım \n",
            "Wellcome to home\n",
            "Hi Ebru Yılmaz \n",
            "Wellcome to my home\n",
            "Finish\n"
          ]
        }
      ]
    },
    {
      "cell_type": "code",
      "source": [
        "email = \"ferhat@ferhat.com\"\n",
        "\n",
        "def validatemail(email):\n",
        "  if email.count(\"@\") != 1:\n",
        "    return False\n",
        "\n",
        "  numberofDots = email.count('.', email.find('@'))\n",
        "  if numberofDots != 1:\n",
        "    return False\n",
        "  return True\n",
        "\n",
        "\n",
        "if validatemail(email):\n",
        "  print(\"Your email is valid\")\n",
        "else:\n",
        "  print(\"Your email is not valid\")"
      ],
      "metadata": {
        "colab": {
          "base_uri": "https://localhost:8080/"
        },
        "id": "BFQTYa1P8xjK",
        "outputId": "16818a1f-d6b0-4fb3-84db-37ee521e0bea"
      },
      "execution_count": 18,
      "outputs": [
        {
          "output_type": "stream",
          "name": "stdout",
          "text": [
            "Your email is valid\n"
          ]
        }
      ]
    },
    {
      "cell_type": "code",
      "source": [
        "def\tikisayıtopla(a,b):\n",
        "\t\t\t\treturn\ta+b\n",
        "        \n",
        "ikisayıtopla(3,5)"
      ],
      "metadata": {
        "colab": {
          "base_uri": "https://localhost:8080/"
        },
        "id": "BLFamGfrA42V",
        "outputId": "003f048a-25ee-4c5d-bce4-48e71f2906f9"
      },
      "execution_count": 21,
      "outputs": [
        {
          "output_type": "execute_result",
          "data": {
            "text/plain": [
              "8"
            ]
          },
          "metadata": {},
          "execution_count": 21
        }
      ]
    },
    {
      "cell_type": "markdown",
      "source": [
        "# **İki sayıyı toplayan yukarıdaki fonksiyonu test eden bir fonksiyon yazalım**"
      ],
      "metadata": {
        "id": "gmurMVDiB2Y4"
      }
    },
    {
      "cell_type": "code",
      "source": [
        "def ikisayıtopla_test():\n",
        "\t\t\t\tveri1=input(\"Bir sayı giriniz:\") # veri girişi\n",
        "\t\t\t\tsayı1=eval(veri1) \t\t\t# sayıya dönüştürme işlemi\n",
        "\t\t\t\tveri2=input(\"Bir sayı giriniz:\") # veri girişi\n",
        "\t\t\t\tsayı2=eval(veri2)\t\t\t\t\t\t\t\t\t\t\t\t\t\t\t\t# sayıya dönüştürme işlemi\n",
        "\t\t\t\tsonuç=ikisayıtopla(sayı1,sayı2)\n",
        "\t\t\t\tprint(sonuç)\n",
        "ikisayıtopla_test()"
      ],
      "metadata": {
        "colab": {
          "base_uri": "https://localhost:8080/"
        },
        "id": "A-TmxYo5BlTR",
        "outputId": "f9c1aa53-dd02-4ec2-b7fc-d1314fc6866c"
      },
      "execution_count": 22,
      "outputs": [
        {
          "output_type": "stream",
          "name": "stdout",
          "text": [
            "Bir sayı giriniz:3\n",
            "Bir sayı giriniz:5\n",
            "8\n"
          ]
        }
      ]
    },
    {
      "cell_type": "markdown",
      "source": [
        "# **Kullanıcı tarafından girilen bir sayının tek mi çift mi olduğunu yazan bir fonksiyon yazalım.**"
      ],
      "metadata": {
        "id": "IaBeX8mRB804"
      }
    },
    {
      "cell_type": "code",
      "source": [
        "def tekçift():\n",
        "  sayı_text=input(\"Bir sayı giriniz:\") # veri girişi\n",
        "  sayı=eval(sayı_text) # sayıya dönüştürme işlemi\n",
        "  if (sayı%2==0):\n",
        "    print(sayı,\"sayısı çifttir\")\n",
        "  else:\n",
        "    print(sayı,\"sayısı tektir\")\n",
        "tekçift()"
      ],
      "metadata": {
        "colab": {
          "base_uri": "https://localhost:8080/"
        },
        "id": "_NKDPqAPB_Tt",
        "outputId": "205333aa-d2be-4a71-a392-0f3eaa52e77c"
      },
      "execution_count": 25,
      "outputs": [
        {
          "output_type": "stream",
          "name": "stdout",
          "text": [
            "Bir sayı giriniz:6\n",
            "6 sayısı çifttir\n"
          ]
        }
      ]
    },
    {
      "cell_type": "markdown",
      "source": [
        "**Kullanıcı tarafından Celsius cinsinden girilen sıcaklığı Fahrenheit’a dönüştüren bir fonksiyon yazalım.:**"
      ],
      "metadata": {
        "id": "gWPwchwGCjdH"
      }
    },
    {
      "cell_type": "code",
      "source": [
        "def\tCtoF():\n",
        "\t\tcelsius\t=\teval(input(\"Celsius\tcinsinden\tsıcaklık nedir?: \"))\n",
        "\t\tfahrenheit\t=\t(9/5)\t*\tcelsius\t+\t32\n",
        "\t\tprint(\"Sıcaklık\",fahrenheit,\"Fahrenheit\tderecedir.\")\n",
        "CtoF()"
      ],
      "metadata": {
        "colab": {
          "base_uri": "https://localhost:8080/"
        },
        "id": "yRVsEVlXCmJH",
        "outputId": "d04d30cb-73ea-45c8-8466-6fe1db05f5d7"
      },
      "execution_count": 29,
      "outputs": [
        {
          "output_type": "stream",
          "name": "stdout",
          "text": [
            "Celsius\tcinsinden\tsıcaklık nedir?: 67\n",
            "Sıcaklık 152.60000000000002 Fahrenheit\tderecedir.\n"
          ]
        }
      ]
    },
    {
      "cell_type": "markdown",
      "source": [
        "**A-B aralığındaki sayıları ekrana yazan bir fonksiyon yazalım.**"
      ],
      "metadata": {
        "id": "EOtxi7ERDWfQ"
      }
    },
    {
      "cell_type": "code",
      "source": [
        "def\tAdanByeYazdır(A,B):\n",
        "\t\tfor\tsayaç\tin\trange(A,B+1):\n",
        "\t\t\t\tprint(sayaç)\n",
        "AdanByeYazdır(3,7)"
      ],
      "metadata": {
        "colab": {
          "base_uri": "https://localhost:8080/"
        },
        "id": "2YMH60f7DbI9",
        "outputId": "a28e5154-4632-4a34-d676-c7fbfd7b8d06"
      },
      "execution_count": 32,
      "outputs": [
        {
          "output_type": "stream",
          "name": "stdout",
          "text": [
            "3\n",
            "4\n",
            "5\n",
            "6\n",
            "7\n"
          ]
        }
      ]
    },
    {
      "cell_type": "markdown",
      "source": [
        "**A-B aralığındaki sayıların toplamını ekrana yazan bir fonksiyon yazalım.**"
      ],
      "metadata": {
        "id": "W9F7kSssENf5"
      }
    },
    {
      "cell_type": "code",
      "source": [
        "def\tTopla(A,B):\n",
        "\t\ttoplam=0\n",
        "\t\tfor\tsayaç\tin\trange(A,B+1):\n",
        "\t\t\ttoplam\t=\ttoplam\t+\tsayaç\n",
        "\t\tprint(toplam)\n",
        "Topla(3,7)"
      ],
      "metadata": {
        "colab": {
          "base_uri": "https://localhost:8080/"
        },
        "id": "SwMzpPt2ENKG",
        "outputId": "ef0e663c-17d1-4c5a-8a52-8851f87b957a"
      },
      "execution_count": 34,
      "outputs": [
        {
          "output_type": "stream",
          "name": "stdout",
          "text": [
            "25\n"
          ]
        }
      ]
    },
    {
      "cell_type": "markdown",
      "source": [
        "**Kullanıcı tarafından girilen verinin sayı olup olmadığını kontrol eden bir fonksiyon yazalım.**"
      ],
      "metadata": {
        "id": "cF-03pN5Ekz7"
      }
    },
    {
      "cell_type": "code",
      "source": [
        "def sayımı(veri):\t\t\t\t\n",
        "\t\ttry:\n",
        "\t\t\t\tsayı=eval(veri)\t\t#\tsayıya\tdönüştürme\tişlemi\n",
        "\t\texcept\tException:\n",
        "\t\t\t\tprint(\"Hatalı\tgiriş\tyaptınız\")\n",
        "\t\t\t\treturn\tFalse\n",
        "\t\telse:\n",
        "\t\t\t\treturn\tTrue\n",
        "def\tsayımı_test():\n",
        "\t\t\t\tveri=input(\"Bir\tsayı\tgiriniz:\") #\tveri\tgirişi\n",
        "\t\t\t\tif\tsayımı(veri):\n",
        "\t\t\t\t\t\t\t\tprint(\"Bir\tsayı\tgirdiniz!\")\n",
        "sayımı_test()"
      ],
      "metadata": {
        "colab": {
          "base_uri": "https://localhost:8080/"
        },
        "id": "ozgR4dqgEm7c",
        "outputId": "89226cab-b3b9-4c3e-80a9-604da9625cb0"
      },
      "execution_count": 35,
      "outputs": [
        {
          "output_type": "stream",
          "name": "stdout",
          "text": [
            "Bir\tsayı\tgiriniz:8\n",
            "Bir\tsayı\tgirdiniz!\n"
          ]
        }
      ]
    },
    {
      "cell_type": "markdown",
      "source": [
        "tekçift() fonksiyonu kullanıcı bir sayı yazmazsa program hata vererek ayrılır. Bu hatayı kontrol altına alan  kontrollü_tekçift() adında bir fonksiyon\n",
        "oluşturalım. **kalın metin**"
      ],
      "metadata": {
        "id": "JTB_kaPEFF12"
      }
    },
    {
      "cell_type": "code",
      "source": [
        "def\tkontrollü_tekçift():\n",
        "\t  veri=input(\"Bir\tsayı\tgiriniz:\")\t#\tveri\tgirişi\n",
        "    if sayımı(veri)==True:\n",
        "\t      sayı=eval(veri)\t\t#\tsayıya\tdönüştürme\tişlemi\n",
        "\t      if (sayı%2==0):\n",
        "\t\t      print(sayı,\"sayısı\tçifttir\")\n",
        "\t      else:\n",
        "\t\t\t    print(sayı,\"sayısı\ttektir\")"
      ],
      "metadata": {
        "colab": {
          "base_uri": "https://localhost:8080/",
          "height": 131
        },
        "id": "0nb0Nq4zFOmI",
        "outputId": "23ce4310-1382-4647-b20f-f2a96aebd887"
      },
      "execution_count": 75,
      "outputs": [
        {
          "output_type": "error",
          "ename": "IndentationError",
          "evalue": "ignored",
          "traceback": [
            "\u001b[0;36m  File \u001b[0;32m\"<ipython-input-75-8a5f68390b0e>\"\u001b[0;36m, line \u001b[0;32m3\u001b[0m\n\u001b[0;31m    if sayımı(veri)==True:\u001b[0m\n\u001b[0m                          ^\u001b[0m\n\u001b[0;31mIndentationError\u001b[0m\u001b[0;31m:\u001b[0m unindent does not match any outer indentation level\n"
          ]
        }
      ]
    },
    {
      "cell_type": "markdown",
      "source": [
        "# **Ortalama örneği**"
      ],
      "metadata": {
        "id": "L-S_LItVJNcj"
      }
    },
    {
      "cell_type": "code",
      "source": [
        "def\tortalama():\n",
        "\t\t\t\ttoplam=0\n",
        "\t\t\t\tadet=eval(input(\"Kaç\tadet\tsayı\tvar?\"))\n",
        "\t\t\t\tfor\tkontör\tin\trange(1,adet+1):\n",
        "\t\t\t\t\t\t\t\tyazı=str(kontör)+\".\tsayıyı\tgiriniz:\"\n",
        "\t\t\t\t\t\t\t\tsayı=\teval(input(yazı))\n",
        "\t\t\t\t\t\t\t\ttoplam=toplam+sayı\n",
        "\t\t\t\treturn\ttoplam/adet\n",
        "print(ortalama())"
      ],
      "metadata": {
        "colab": {
          "base_uri": "https://localhost:8080/"
        },
        "id": "sJwDkLqVJLGB",
        "outputId": "329725dc-8d5c-4a4c-eb61-baf407af1efa"
      },
      "execution_count": 80,
      "outputs": [
        {
          "output_type": "stream",
          "name": "stdout",
          "text": [
            "Kaç\tadet\tsayı\tvar?6\n",
            "1.\tsayıyı\tgiriniz:3\n",
            "2.\tsayıyı\tgiriniz:5\n",
            "3.\tsayıyı\tgiriniz:8\n",
            "4.\tsayıyı\tgiriniz:11\n",
            "5.\tsayıyı\tgiriniz:34\n",
            "6.\tsayıyı\tgiriniz:45\n",
            "17.666666666666668\n"
          ]
        }
      ]
    },
    {
      "cell_type": "markdown",
      "source": [
        "# **Asal sayı örneği Asal\tsayı\ttespiti\t(for\tdöngüsü\tile)**"
      ],
      "metadata": {
        "id": "g863OMjsJ4lO"
      }
    },
    {
      "cell_type": "code",
      "source": [
        "def\tasal_mı(sayı):\n",
        "\t\t\t\tasal=True\n",
        "\t\t\t\tfor\tbölen\tin\trange(2,sayı):\n",
        "\t\t\t\t\t\t\t\tif\tsayı%bölen==0:\n",
        "\t\t\t\t\t\t\t\t\t\t\t\tasal=False\n",
        "\t\t\t\t\t\t\t\t\t\t\t\tbreak\n",
        "\t\t\t\treturn\tasal"
      ],
      "metadata": {
        "id": "PepnUCrsJ8GP"
      },
      "execution_count": 81,
      "outputs": []
    },
    {
      "cell_type": "markdown",
      "source": [
        "**#\tAsal\tsayı\ttespiti\t(while\tdöngüsü\tile)**"
      ],
      "metadata": {
        "id": "f075A2C1KJxJ"
      }
    },
    {
      "cell_type": "code",
      "source": [
        "def\tasalmı(sayı):\n",
        "\t\t\t\tasal=True\n",
        "\t\t\t\tbölen=2\n",
        "\t\t\t\twhile\t(asal==True\tand\tbölen<sayı):\t\t\t\t\t\t\t\t\n",
        "\t\t\t\t\t\t\t\tif\tsayı%bölen==0:\n",
        "\t\t\t\t\t\t\t\t\t\t\t\tasal=False\n",
        "\t\t\t\t\t\t\t\tbölen+=1\t#\tBurada\tbölen=bölen+1\tde\tyazabilirdik\n",
        "\t\t\t\treturn\tasal"
      ],
      "metadata": {
        "id": "xt8l4a29KLbJ"
      },
      "execution_count": 82,
      "outputs": []
    },
    {
      "cell_type": "code",
      "source": [
        "for\ti\tin\trange(0,3):\n",
        "\t\t\t\tprint(i)\n",
        "\t\t\t\tfor\tj\tin\trange(0,3):\n",
        "\t\t\t\t\t\t\t\tprint(i,j)"
      ],
      "metadata": {
        "colab": {
          "base_uri": "https://localhost:8080/"
        },
        "id": "Uicwg47XKakO",
        "outputId": "c6273375-d39e-4717-f08c-bb4bce9a68fb"
      },
      "execution_count": 83,
      "outputs": [
        {
          "output_type": "stream",
          "name": "stdout",
          "text": [
            "0\n",
            "0 0\n",
            "0 1\n",
            "0 2\n",
            "1\n",
            "1 0\n",
            "1 1\n",
            "1 2\n",
            "2\n",
            "2 0\n",
            "2 1\n",
            "2 2\n"
          ]
        }
      ]
    },
    {
      "cell_type": "markdown",
      "source": [
        "# **Sayıların\tbir\tüçgen\thalinde\tyazdırılması\t**\n"
      ],
      "metadata": {
        "id": "4H0fI-FBLJiy"
      }
    },
    {
      "cell_type": "code",
      "source": [
        "def\tucgen(x):\n",
        "\t\t\t\tfor\ti\tin\trange(1,x+1):\n",
        "\t\t\t\t\t\t\t\tfor\tj\tin\trange(1,i+1):\n",
        "\t\t\t\t\t\t\t\t\t\t\t\tprint(j,end=\"\t\")\n",
        "\t\t\t\t\t\t\t\tprint()"
      ],
      "metadata": {
        "id": "EK8LP3-SKetH"
      },
      "execution_count": 86,
      "outputs": []
    },
    {
      "cell_type": "code",
      "source": [
        "ucgen(15)"
      ],
      "metadata": {
        "colab": {
          "base_uri": "https://localhost:8080/"
        },
        "id": "VFJFHrjAKm2P",
        "outputId": "6ccccc2a-191a-452c-9002-39dd248a6366"
      },
      "execution_count": 88,
      "outputs": [
        {
          "output_type": "stream",
          "name": "stdout",
          "text": [
            "1\t3\n",
            "1\t2\t3\n",
            "1\t2\t3\t3\n",
            "1\t2\t3\t4\t3\n",
            "1\t2\t3\t4\t5\t3\n",
            "1\t2\t3\t4\t5\t6\t3\n",
            "1\t2\t3\t4\t5\t6\t7\t3\n",
            "1\t2\t3\t4\t5\t6\t7\t8\t3\n",
            "1\t2\t3\t4\t5\t6\t7\t8\t9\t3\n",
            "1\t2\t3\t4\t5\t6\t7\t8\t9\t10\t3\n",
            "1\t2\t3\t4\t5\t6\t7\t8\t9\t10\t11\t3\n",
            "1\t2\t3\t4\t5\t6\t7\t8\t9\t10\t11\t12\t3\n",
            "1\t2\t3\t4\t5\t6\t7\t8\t9\t10\t11\t12\t13\t3\n",
            "1\t2\t3\t4\t5\t6\t7\t8\t9\t10\t11\t12\t13\t14\t3\n",
            "1\t2\t3\t4\t5\t6\t7\t8\t9\t10\t11\t12\t13\t14\t15\t3\n"
          ]
        }
      ]
    },
    {
      "cell_type": "markdown",
      "source": [
        "# **Sayıların\tbir\tüçgen\thalinde\tyazdırılması\tiçin\tbir\tdiğer\työntem**"
      ],
      "metadata": {
        "id": "CfdeXHEYK3DA"
      }
    },
    {
      "cell_type": "code",
      "source": [
        "def\tucgen(x):\n",
        "\t\t\t\tfor\ti\tin\trange(1,x+1):\n",
        "\t\t\t\t\t\t\t\tif\ti==1:\n",
        "\t\t\t\t\t\t\t\t\t\t\t\tyazı=\"1\"\n",
        "\t\t\t\t\t\t\t\telse:\n",
        "\t\t\t\t\t\t\t\t\t\t\t\tyazı=yazı+\"\t\"+str(i)\n",
        "\t\t\t\t\t\t\t\tprint(yazı)"
      ],
      "metadata": {
        "id": "V_L2wdlRK4Tu"
      },
      "execution_count": 89,
      "outputs": []
    },
    {
      "cell_type": "code",
      "source": [
        "ucgen(6)"
      ],
      "metadata": {
        "colab": {
          "base_uri": "https://localhost:8080/"
        },
        "id": "J2T3tY8LK7Ej",
        "outputId": "8436373e-5f4a-49d0-8c53-4de73dadf38e"
      },
      "execution_count": 90,
      "outputs": [
        {
          "output_type": "stream",
          "name": "stdout",
          "text": [
            "1\n",
            "1\t2\n",
            "1\t2\t3\n",
            "1\t2\t3\t4\n",
            "1\t2\t3\t4\t5\n",
            "1\t2\t3\t4\t5\t6\n"
          ]
        }
      ]
    },
    {
      "cell_type": "markdown",
      "source": [
        "toplama fonksiyonu dışarıdan a ve b parametrelerini bekler ve gönderdiğimiz değerleri fonksiyon içerisinde toplar ve sonucu 30 olarak geriye döndürür, sonrasında fonksiyondan gelen değeri sonuc değişkenine alabiliriz."
      ],
      "metadata": {
        "id": "y0f9wMeLNAJ-"
      }
    },
    {
      "cell_type": "code",
      "source": [
        "def toplama(a,b):\n",
        "    return a+b\n",
        "\n",
        "sonuc = toplama(10,20)\n",
        "print(sonuc) # 30"
      ],
      "metadata": {
        "colab": {
          "base_uri": "https://localhost:8080/"
        },
        "id": "iyFXO-fcM5TW",
        "outputId": "c5a8f28f-05f6-43fd-cb1e-bb437a4c926e"
      },
      "execution_count": 94,
      "outputs": [
        {
          "output_type": "stream",
          "name": "stdout",
          "text": [
            "30\n"
          ]
        }
      ]
    },
    {
      "cell_type": "markdown",
      "source": [
        "Bazen tanımladığımız bir fonksiyonu başka bir fonksiyon içerisinde kullanmak isteyebiliriz."
      ],
      "metadata": {
        "id": "BV9rXxauNIy1"
      }
    },
    {
      "cell_type": "code",
      "source": [
        "def yasHesapla(dogumYili):\n",
        "    return 2019 - dogumYili\n",
        "\n",
        "ageCinar = yasHesapla(2017)\n",
        "ageAda = yasHesapla(2010)\n",
        "ageSena = yasHesapla(1999)\n",
        "\n",
        "print(ageCinar, ageAda, ageSena)"
      ],
      "metadata": {
        "colab": {
          "base_uri": "https://localhost:8080/"
        },
        "id": "SJG0EtnsMpKz",
        "outputId": "e5d88c14-b438-48aa-f14a-5c24b7622b27"
      },
      "execution_count": 92,
      "outputs": [
        {
          "output_type": "stream",
          "name": "stdout",
          "text": [
            "2 9 20\n"
          ]
        }
      ]
    },
    {
      "cell_type": "markdown",
      "source": [
        "Gördüğünüz gibi 3 kişi için yaş hesaplama işlemini tek bir yasHesapla fonksiyonu ile yapabildik. Eğer ki hesaplanan yaş bilgisine göre emekliğe kalan süre hesabını da hesaplamak istersek bu durumda başka bir fonksiyon kullanabiliriz."
      ],
      "metadata": {
        "id": "3ZMDyKN1NSi1"
      }
    },
    {
      "cell_type": "code",
      "source": [
        "def EmekliligeKacYilKaldi(dogumYili, isim):   \n",
        "    yas = yasHesapla(dogumYili)\n",
        "    emeklilik = 65 - yas\n",
        "    if emeklilik > 0:\n",
        "        print(f'emekliliğinize {emeklilik} yıl kaldı')\n",
        "    else:\n",
        "        print('Zaten emekli oldunuz')\n",
        "\n",
        "EmekliligeKacYilKaldi(1983, 'Ali')\n",
        "EmekliligeKacYilKaldi(1950, 'Ahmet')\n",
        "EmekliligeKacYilKaldi(1974, 'Yağmur')"
      ],
      "metadata": {
        "colab": {
          "base_uri": "https://localhost:8080/"
        },
        "id": "Q3dxOsJRLeIO",
        "outputId": "2d51399e-4a42-4d01-d0e6-2c1acf46393f"
      },
      "execution_count": 93,
      "outputs": [
        {
          "output_type": "stream",
          "name": "stdout",
          "text": [
            "emekliliğinize 29 yıl kaldı\n",
            "Zaten emekli oldunuz\n",
            "emekliliğinize 20 yıl kaldı\n"
          ]
        }
      ]
    },
    {
      "cell_type": "markdown",
      "source": [
        "**Gönderilen bir kelimeyi belirtilen kez ekranda gösteren python fonksiyonunu yazınız.**"
      ],
      "metadata": {
        "id": "No-U5e_hO977"
      }
    },
    {
      "cell_type": "code",
      "source": [
        "def yazdir(kelime, adet):\n",
        "    print(kelime * adet)\n",
        "\n",
        "yazdir('Merhaba\\n', 10)"
      ],
      "metadata": {
        "colab": {
          "base_uri": "https://localhost:8080/"
        },
        "id": "OLblZjcsNY5t",
        "outputId": "45f87624-a052-43f5-e2b0-3411fdf8e3f7"
      },
      "execution_count": 95,
      "outputs": [
        {
          "output_type": "stream",
          "name": "stdout",
          "text": [
            "Merhaba\n",
            "Merhaba\n",
            "Merhaba\n",
            "Merhaba\n",
            "Merhaba\n",
            "Merhaba\n",
            "Merhaba\n",
            "Merhaba\n",
            "Merhaba\n",
            "Merhaba\n",
            "\n"
          ]
        }
      ]
    },
    {
      "cell_type": "code",
      "source": [
        "def yazdir(kelime, adet):\n",
        "    print(kelime * adet)\n",
        "\n",
        "yazdir(\"Mustafa \", 5)"
      ],
      "metadata": {
        "colab": {
          "base_uri": "https://localhost:8080/"
        },
        "id": "iqZoNqMNOXce",
        "outputId": "12cf1996-4789-4b9e-d2f1-3c2ac00383c6"
      },
      "execution_count": 101,
      "outputs": [
        {
          "output_type": "stream",
          "name": "stdout",
          "text": [
            "Mustafa Mustafa Mustafa Mustafa Mustafa \n"
          ]
        }
      ]
    },
    {
      "cell_type": "code",
      "source": [
        "def yazdir(kelime, adet):\n",
        "    print(kelime * adet)\n",
        "\n",
        "yazdir(\"Ali-\", 5)"
      ],
      "metadata": {
        "colab": {
          "base_uri": "https://localhost:8080/"
        },
        "id": "0aBQZBqIOy1M",
        "outputId": "8a7dcd04-27ee-42d8-b2a4-faee2bca6194"
      },
      "execution_count": 102,
      "outputs": [
        {
          "output_type": "stream",
          "name": "stdout",
          "text": [
            "Ali-Ali-Ali-Ali-Ali-\n"
          ]
        }
      ]
    },
    {
      "cell_type": "markdown",
      "source": [
        "# **Gönderilen 2 sayı arasındaki tüm asal sayıları bulan python fonksiyon uygulamasını yapınız.**"
      ],
      "metadata": {
        "id": "G3mPCcEgPCkl"
      }
    },
    {
      "cell_type": "code",
      "source": [
        "def asalSayılariBul(sayi1, sayi2):\n",
        "    for sayi in range(sayi1, sayi2+1):\n",
        "        if sayi > 1:\n",
        "            for i in range(2, sayi):\n",
        "                if (sayi % i == 0):\n",
        "                    break\n",
        "            else:\n",
        "                print(sayi)\n",
        "\n",
        "sayi1 = int(input('sayı 1:'))\n",
        "sayi2 = int(input('sayı 2:'))\n",
        "\n",
        "print(asalSayılariBul(sayi1, sayi2))"
      ],
      "metadata": {
        "colab": {
          "base_uri": "https://localhost:8080/"
        },
        "id": "9NEjhY9jPGtj",
        "outputId": "c6ca438f-ffad-416e-c0f4-09bf31608838"
      },
      "execution_count": 104,
      "outputs": [
        {
          "output_type": "stream",
          "name": "stdout",
          "text": [
            "sayı 1:20\n",
            "sayı 2:50\n",
            "23\n",
            "29\n",
            "31\n",
            "37\n",
            "41\n",
            "43\n",
            "47\n",
            "None\n"
          ]
        }
      ]
    },
    {
      "cell_type": "markdown",
      "source": [
        "**Kendisine gönderilen bir sayının tam bölenlerini bulan python uygulamasını yapınız.**"
      ],
      "metadata": {
        "id": "XkLRbRfSPqtB"
      }
    },
    {
      "cell_type": "code",
      "source": [
        "def tamBolenleriBul(sayi):\n",
        "    tamBolenler = []\n",
        "\n",
        "    for i in range(2, sayi):\n",
        "        if (sayi % i == 0):\n",
        "            tamBolenler.append(i)    \n",
        "\n",
        "    return tamBolenler\n",
        "\n",
        "print(tamBolenleriBul(20))"
      ],
      "metadata": {
        "colab": {
          "base_uri": "https://localhost:8080/"
        },
        "id": "Rs-Dg6PMPsA1",
        "outputId": "7d9f2853-3277-4cb8-b2db-68fe738d6984"
      },
      "execution_count": 105,
      "outputs": [
        {
          "output_type": "stream",
          "name": "stdout",
          "text": [
            "[2, 4, 5, 10]\n"
          ]
        }
      ]
    },
    {
      "cell_type": "markdown",
      "source": [
        "# **Fonksiyona Key-Value Bilgisi Gönderme**\n",
        "\n",
        "Eğer ki **args şeklinde parametre belirtirsek bu durumda key-value şeklinde istediğimiz sayıda bilgiyi fonksiyona gönderebiliriz."
      ],
      "metadata": {
        "id": "DrMvP_atRtiQ"
      }
    },
    {
      "cell_type": "code",
      "source": [
        "def displayUser(**args):\n",
        "    print(type(args))  # <class 'dict'>\n",
        "    for key, value in args.items():\n",
        "        print('{} is {}'.format(key,value))\n",
        "\n",
        "displayUser(name= 'Çınar', age = 2, city = 'istanbul')\n",
        "displayUser(name= 'Ada', age = 12, city = 'kocaeli', phone = '123132')\n",
        "displayUser(name= 'Yiğit', age = 14, city = 'ankara', phone = '123132', email= 'yigit@gmail.com')"
      ],
      "metadata": {
        "colab": {
          "base_uri": "https://localhost:8080/"
        },
        "id": "4R21uDsTQENg",
        "outputId": "107daba9-8568-48a9-b034-4750ce444e45"
      },
      "execution_count": 106,
      "outputs": [
        {
          "output_type": "stream",
          "name": "stdout",
          "text": [
            "<class 'dict'>\n",
            "name is Çınar\n",
            "age is 2\n",
            "city is istanbul\n",
            "<class 'dict'>\n",
            "name is Ada\n",
            "age is 12\n",
            "city is kocaeli\n",
            "phone is 123132\n",
            "<class 'dict'>\n",
            "name is Yiğit\n",
            "age is 14\n",
            "city is ankara\n",
            "phone is 123132\n",
            "email is yigit@gmail.com\n"
          ]
        }
      ]
    },
    {
      "cell_type": "code",
      "source": [
        "def beniDegistir( mylist ):\n",
        "   \"Bu değişiklik list'e yansır\"\n",
        "   mylist.append([1,2,3,4]);\n",
        "   print(\"Fonksiyon içindeki değerler: \", mylist)\n",
        "   return\n",
        " \n",
        "mylist = [10,20,30]\n",
        "print(\"Fonksiyon çağrılmadan önce list: \", mylist)\n",
        "beniDegistir( mylist )\n",
        "print(\"Fonksiyon çağrılmasından sonra list: \", mylist)"
      ],
      "metadata": {
        "colab": {
          "base_uri": "https://localhost:8080/"
        },
        "id": "p4tFFvFPS9au",
        "outputId": "6d15bcf8-af56-4fb1-8ecb-bc29c919d9cc"
      },
      "execution_count": 107,
      "outputs": [
        {
          "output_type": "stream",
          "name": "stdout",
          "text": [
            "Fonksiyon çağrılmadan önce list:  [10, 20, 30]\n",
            "Fonksiyon içindeki değerler:  [10, 20, 30, [1, 2, 3, 4]]\n",
            "Fonksiyon çağrılmasından sonra list:  [10, 20, 30, [1, 2, 3, 4]]\n"
          ]
        }
      ]
    },
    {
      "cell_type": "code",
      "source": [
        "def öğrenci (ad,soyad,no,sınıf):\n",
        "    print (\"AD     : \",ad)\n",
        "    print (\"SAYAD  : \",soyad)\n",
        "    print (\"NUMARA : \",no)\n",
        "    print (\"SINIFI : \",sınıf)\n",
        "\n",
        "\n",
        "ad_bilgi=input (\"Adınızı Giriniz:\")\n",
        "soyad_bilgi=input (\"Soyadınızı Giriniz:\")\n",
        "no_bilgi=input (\"Numaranızı Giriniz:\")\n",
        "sınıf_bilgi=input (\"Sınıfınızı Giriniz:\")\n",
        "\n",
        "\n",
        "\n",
        "öğrenci(ad_bilgi,soyad_bilgi,no_bilgi,sınıf_bilgi)"
      ],
      "metadata": {
        "colab": {
          "base_uri": "https://localhost:8080/"
        },
        "id": "gEJaSpjzT4n-",
        "outputId": "1a400680-cb58-4299-f413-0805ce29ed2c"
      },
      "execution_count": 109,
      "outputs": [
        {
          "output_type": "stream",
          "name": "stdout",
          "text": [
            "Adınızı Giriniz:Ali\n",
            "Soyadınızı Giriniz:Akdeni\n",
            "Numaranızı Giriniz:39\n",
            "Sınıfınızı Giriniz:3\n",
            "AD     :  Ali\n",
            "SAYAD  :  Akdeni\n",
            "NUMARA :  39\n",
            "SINIFI :  3\n"
          ]
        }
      ]
    },
    {
      "cell_type": "code",
      "source": [
        "def çarp (sayı1,sayı2):\n",
        "    x=sayı1*sayı2\n",
        "    return x\n",
        "\n",
        "a=çarp(4,5)\n",
        "a=a*20+8\n",
        "print(a)"
      ],
      "metadata": {
        "colab": {
          "base_uri": "https://localhost:8080/"
        },
        "id": "xc3_-tEVULf3",
        "outputId": "d544972a-88d0-4a61-9e09-d27ed8ba6016"
      },
      "execution_count": 111,
      "outputs": [
        {
          "output_type": "stream",
          "name": "stdout",
          "text": [
            "408\n"
          ]
        }
      ]
    },
    {
      "cell_type": "markdown",
      "source": [
        "Yukarıdaki örnekte çarp isminde bir fonksiyon oluşturulmuştur. Programın ana gövdesinde ise bu fonksiyon bir değişkene atanarak çağırılmıştır."
      ],
      "metadata": {
        "id": "CuL1cUFDUbpt"
      }
    },
    {
      "cell_type": "markdown",
      "source": [
        "global b komutu ile fonksiyon içerisinde oluşturulmuş bir değişkeni GLOBAL hale döndürdük. Böylece ana gövde de rahatlıkla kullanabildik."
      ],
      "metadata": {
        "id": "nfgsZfg0Uocl"
      }
    },
    {
      "cell_type": "code",
      "source": [
        "a=1\n",
        "def fonksiyon():\n",
        "    global b\n",
        "    print (\"a nın değeri=\",a)\n",
        "    b=2\n",
        "\n",
        "fonksiyon()\n",
        "print (b)"
      ],
      "metadata": {
        "colab": {
          "base_uri": "https://localhost:8080/"
        },
        "id": "WNwDQzF7Uj_1",
        "outputId": "9f3e520e-1a94-4e8a-d064-692809c7e49c"
      },
      "execution_count": 112,
      "outputs": [
        {
          "output_type": "stream",
          "name": "stdout",
          "text": [
            "a nın değeri= 1\n",
            "2\n"
          ]
        }
      ]
    }
  ]
}