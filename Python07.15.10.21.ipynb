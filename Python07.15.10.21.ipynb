{
  "nbformat": 4,
  "nbformat_minor": 0,
  "metadata": {
    "colab": {
      "name": "Python7.ipynb",
      "provenance": [],
      "collapsed_sections": [],
      "authorship_tag": "ABX9TyOrHZKPXAfe/A26lPnpLSzE",
      "include_colab_link": true
    },
    "kernelspec": {
      "name": "python3",
      "display_name": "Python 3"
    },
    "language_info": {
      "name": "python"
    }
  },
  "cells": [
    {
      "cell_type": "markdown",
      "metadata": {
        "id": "view-in-github",
        "colab_type": "text"
      },
      "source": [
        "<a href=\"https://colab.research.google.com/github/merdogan97/Python_Class_Work/blob/main/Python07.15.10.21.ipynb\" target=\"_parent\"><img src=\"https://colab.research.google.com/assets/colab-badge.svg\" alt=\"Open In Colab\"/></a>"
      ]
    },
    {
      "cell_type": "code",
      "metadata": {
        "id": "CCs6EMtRnVfm"
      },
      "source": [
        "\"sting\".\n",
        "[]."
      ],
      "execution_count": null,
      "outputs": []
    },
    {
      "cell_type": "code",
      "metadata": {
        "colab": {
          "base_uri": "https://localhost:8080/"
        },
        "id": "ImRqdHYhodqJ",
        "outputId": "76148763-7a8f-4ce6-aa22-35db4c427fd3"
      },
      "source": [
        "listem = []\n",
        "listem.append(11)\n",
        "listem"
      ],
      "execution_count": null,
      "outputs": [
        {
          "output_type": "execute_result",
          "data": {
            "text/plain": [
              "[11]"
            ]
          },
          "metadata": {},
          "execution_count": 2
        }
      ]
    },
    {
      "cell_type": "code",
      "metadata": {
        "colab": {
          "base_uri": "https://localhost:8080/"
        },
        "id": "0uc3TZZ6os-9",
        "outputId": "f53cc3b8-0b61-48f9-c9ab-22b9ed2414ac"
      },
      "source": [
        "listem = []\n",
        "listem.append(11)\n",
        "print(listem)"
      ],
      "execution_count": null,
      "outputs": [
        {
          "output_type": "stream",
          "name": "stdout",
          "text": [
            "[11]\n"
          ]
        }
      ]
    },
    {
      "cell_type": "code",
      "metadata": {
        "colab": {
          "base_uri": "https://localhost:8080/"
        },
        "id": "Xrlfta8oo5vH",
        "outputId": "165eb3f3-566b-4094-f703-57e41bc3b0fb"
      },
      "source": [
        "küme = ['araba','ev', 'apartman', 'yat']\n",
        "küme.append('bisiklet')\n",
        "print(küme)"
      ],
      "execution_count": null,
      "outputs": [
        {
          "output_type": "stream",
          "name": "stdout",
          "text": [
            "['araba', 'ev', 'apartman', 'yat', 'bisiklet']\n"
          ]
        }
      ]
    },
    {
      "cell_type": "code",
      "metadata": {
        "colab": {
          "base_uri": "https://localhost:8080/"
        },
        "id": "CgsnBw6JsWTx",
        "outputId": "a70743b7-52a0-4996-ef4a-04e4ee14fad6"
      },
      "source": [
        "küme = ['araba','ev', 'apartman', 'yat']\n",
        "küme.pop(2)\n",
        "print(küme)"
      ],
      "execution_count": null,
      "outputs": [
        {
          "output_type": "stream",
          "name": "stdout",
          "text": [
            "['araba', 'ev', 'yat']\n"
          ]
        }
      ]
    },
    {
      "cell_type": "code",
      "metadata": {
        "id": "LnuCeqvssjvk"
      },
      "source": [
        "küme = ['araba','ev', 'apartman', 'yat']\n",
        "küme.index(2)\n",
        "print(küme)"
      ],
      "execution_count": null,
      "outputs": []
    },
    {
      "cell_type": "code",
      "metadata": {
        "colab": {
          "base_uri": "https://localhost:8080/"
        },
        "id": "SbuocZd90DyM",
        "outputId": "7457cae2-d0d4-405a-9b52-de5ccd07cdb2"
      },
      "source": [
        "sayılar1 = [1, 3, 5, 7, 9]\n",
        "sayılar1.insert(3, 11)\n",
        "print(sayılar1)"
      ],
      "execution_count": null,
      "outputs": [
        {
          "output_type": "stream",
          "name": "stdout",
          "text": [
            "[1, 3, 5, 11, 7, 9]\n"
          ]
        }
      ]
    },
    {
      "cell_type": "code",
      "metadata": {
        "colab": {
          "base_uri": "https://localhost:8080/"
        },
        "id": "VMppYV3E0jE5",
        "outputId": "96b10cbd-55c8-4399-ea3d-c6d1e331d9af"
      },
      "source": [
        "sayılar1 = [1, 3, 5, 11, 7, 9]\n",
        "sayılar1.remove(11)\n",
        "print(sayılar1)"
      ],
      "execution_count": null,
      "outputs": [
        {
          "output_type": "stream",
          "name": "stdout",
          "text": [
            "[1, 3, 5, 7, 9]\n"
          ]
        }
      ]
    },
    {
      "cell_type": "code",
      "metadata": {
        "colab": {
          "base_uri": "https://localhost:8080/"
        },
        "id": "SeZYVOX-04jj",
        "outputId": "450c5e0b-4310-4cf7-8034-72988a321598"
      },
      "source": [
        "sayılar1 = [1, 3, 5, 11, 7, 9]\n",
        "sayılar1.remove(3, )\n",
        "print(sayılar1)"
      ],
      "execution_count": null,
      "outputs": [
        {
          "output_type": "stream",
          "name": "stdout",
          "text": [
            "[1, 5, 11, 7, 9]\n"
          ]
        }
      ]
    },
    {
      "cell_type": "code",
      "metadata": {
        "colab": {
          "base_uri": "https://localhost:8080/"
        },
        "id": "f86hBzs44T0v",
        "outputId": "103886ae-626b-4604-d9d9-b15c4df6deb2"
      },
      "source": [
        "ord(\"a\")"
      ],
      "execution_count": null,
      "outputs": [
        {
          "output_type": "execute_result",
          "data": {
            "text/plain": [
              "97"
            ]
          },
          "metadata": {},
          "execution_count": 22
        }
      ]
    },
    {
      "cell_type": "code",
      "metadata": {
        "colab": {
          "base_uri": "https://localhost:8080/"
        },
        "id": "JasO3E2O4bP-",
        "outputId": "9c2afe45-dc9e-43d1-e865-dc8cdc7bf133"
      },
      "source": [
        "ord(\"i\")"
      ],
      "execution_count": null,
      "outputs": [
        {
          "output_type": "execute_result",
          "data": {
            "text/plain": [
              "105"
            ]
          },
          "metadata": {},
          "execution_count": 24
        }
      ]
    },
    {
      "cell_type": "code",
      "metadata": {
        "colab": {
          "base_uri": "https://localhost:8080/"
        },
        "id": "GA53Kmx-4lqH",
        "outputId": "9caa971e-4eaa-4958-f380-0fc3c1180050"
      },
      "source": [
        "ord(\"İ\")"
      ],
      "execution_count": null,
      "outputs": [
        {
          "output_type": "execute_result",
          "data": {
            "text/plain": [
              "304"
            ]
          },
          "metadata": {},
          "execution_count": 25
        }
      ]
    },
    {
      "cell_type": "code",
      "metadata": {
        "colab": {
          "base_uri": "https://localhost:8080/"
        },
        "id": "fQybLy0z5Irg",
        "outputId": "51c58d4f-da76-4735-f937-1dbcc6126e66"
      },
      "source": [
        "ord(\"a\")"
      ],
      "execution_count": null,
      "outputs": [
        {
          "output_type": "execute_result",
          "data": {
            "text/plain": [
              "97"
            ]
          },
          "metadata": {},
          "execution_count": 26
        }
      ]
    },
    {
      "cell_type": "code",
      "metadata": {
        "id": "wqM-3fSC5LiW",
        "colab": {
          "base_uri": "https://localhost:8080/"
        },
        "outputId": "378f9cb6-7f62-420c-ac24-0d76cc37e322"
      },
      "source": [
        "ord(\"A\")"
      ],
      "execution_count": null,
      "outputs": [
        {
          "output_type": "execute_result",
          "data": {
            "text/plain": [
              "65"
            ]
          },
          "metadata": {},
          "execution_count": 27
        }
      ]
    },
    {
      "cell_type": "code",
      "metadata": {
        "colab": {
          "base_uri": "https://localhost:8080/"
        },
        "id": "NVTBu0TfpaBG",
        "outputId": "bbb265cf-2a4d-4800-ba80-52bc5e9d1edf"
      },
      "source": [
        "küme.pop()\n",
        "print(küme)"
      ],
      "execution_count": null,
      "outputs": [
        {
          "output_type": "stream",
          "name": "stdout",
          "text": [
            "['araba', 'ev', 'apartman', 'yat']\n"
          ]
        }
      ]
    },
    {
      "cell_type": "code",
      "metadata": {
        "colab": {
          "base_uri": "https://localhost:8080/"
        },
        "id": "9ZsENCLnrnFc",
        "outputId": "c9b95c3c-9675-424f-ef2e-3e8b2be76e5b"
      },
      "source": [
        "küme.pop()\n",
        "print(küme)"
      ],
      "execution_count": null,
      "outputs": [
        {
          "output_type": "stream",
          "name": "stdout",
          "text": [
            "['araba', 'ev', 'apartman']\n"
          ]
        }
      ]
    }
  ]
}