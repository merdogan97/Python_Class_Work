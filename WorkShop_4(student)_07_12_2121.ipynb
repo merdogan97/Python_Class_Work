{
  "nbformat": 4,
  "nbformat_minor": 0,
  "metadata": {
    "kernelspec": {
      "display_name": "Python 3",
      "language": "python",
      "name": "python3"
    },
    "language_info": {
      "codemirror_mode": {
        "name": "ipython",
        "version": 3
      },
      "file_extension": ".py",
      "mimetype": "text/x-python",
      "name": "python",
      "nbconvert_exporter": "python",
      "pygments_lexer": "ipython3",
      "version": "3.7.3"
    },
    "colab": {
      "name": "WorkShop-4(student)_07.12.2121.ipynb",
      "provenance": [],
      "include_colab_link": true
    }
  },
  "cells": [
    {
      "cell_type": "markdown",
      "metadata": {
        "id": "view-in-github",
        "colab_type": "text"
      },
      "source": [
        "<a href=\"https://colab.research.google.com/github/merdogan97/Python_Class_Work/blob/main/WorkShop_4(student)_07_12_2121.ipynb\" target=\"_parent\"><img src=\"https://colab.research.google.com/assets/colab-badge.svg\" alt=\"Open In Colab\"/></a>"
      ]
    },
    {
      "cell_type": "markdown",
      "metadata": {
        "id": "IgmepA4go1w6"
      },
      "source": [
        "<center><img src=\"https://github.com/aaron-clarusway/fullstack/blob/master/itf-logo.png?raw=true\"  alt=\"alt text\" width=\"200\"/></center>\n",
        "<br>\n",
        "<h1><p style=\"text-align: center; color:darkblue\">Python Basic & Plus</p><h1>\n",
        "<center><h1>Workshop - 4</h1></center>\n",
        "<p><img align=\"right\"\n",
        "  src=\"https://secure.meetupstatic.com/photos/event/3/1/b/9/600_488352729.jpeg\"  width=\"15px\"></p>\n",
        "<br>\n",
        "\n",
        "\n",
        "# Subject: Collections - Control Flow Statements - Functions"
      ]
    },
    {
      "cell_type": "markdown",
      "metadata": {
        "id": "ew1lZhb6o1w8"
      },
      "source": [
        "## Coding Challenge -1 : Palindrome\n",
        "\n",
        "Purpose of the this coding challenge is to solve a control flow statements issue.\n",
        "\n",
        "### Learning Outcomes\n",
        "\n",
        "At the end of the this coding challenge, students will be able to;\n",
        "\n",
        "- understand the use of loops.\n",
        "- understand the importance of alphanumeric string methods.\n",
        "- get a better understanding in manipulating strings.\n",
        "\n",
        "### Problem Statement\n",
        "  \n",
        "- Write a function/functions that checks whether the sentence you get from the user is a **palindrome**. (Do not consider punctuation and special characters. Only consider \"***alphanumeric***\" characters.)\n",
        "\n",
        "\n",
        "```bash\n",
        "input : \"ey edip adana'da, pide ye!\"\n",
        "\n",
        "output : \"ey edip adana'da, pide ye!\" is a palindrome\n",
        "\n",
        "input : \"Was it a car or a cat I saw?\"\n",
        "\n",
        "output : \"Was it a car or a cat I saw?\" is a palindrome\n",
        "```"
      ]
    },
    {
      "cell_type": "markdown",
      "metadata": {
        "id": "Oikq6qX_o1w8"
      },
      "source": [
        "### Solution :"
      ]
    },
    {
      "cell_type": "code",
      "metadata": {
        "colab": {
          "base_uri": "https://localhost:8080/"
        },
        "id": "ovf4xyHVwM_Y",
        "outputId": "8c1bbc0a-ace9-4d69-888a-994004523053"
      },
      "source": [
        "a=input(\"Enter you string: \")\n",
        "w=str(a)\n",
        "if w==w[::-1]: # w[::-1] it will reverse the given string value.\n",
        "\tprint(\"Given String is palindrome\")\n",
        "else:\n",
        "\tprint(\"Given String is not palindrome\")"
      ],
      "execution_count": null,
      "outputs": [
        {
          "output_type": "stream",
          "name": "stdout",
          "text": [
            "Enter you string: Was it a car or a cat I saw\n",
            "Given String is not palindrome\n"
          ]
        }
      ]
    },
    {
      "cell_type": "code",
      "metadata": {
        "colab": {
          "base_uri": "https://localhost:8080/"
        },
        "id": "3wIMkhHho1w9",
        "outputId": "e1949b71-a124-407c-c6ec-772f8bdc494d"
      },
      "source": [
        "def is_palindrome(s):\n",
        "    if len(s) < 1:\n",
        "        return True\n",
        "    else:\n",
        "        if s[0] == s[-1]:\n",
        "            return is_palindrome(s[1:-1])\n",
        "        else:\n",
        "            return False\n",
        "a = input(\"Enter string:\")\n",
        "if is_palindrome(a) == True:\n",
        "    print(\"Yes\")\n",
        "else:\n",
        "    print(\"No\")\n"
      ],
      "execution_count": null,
      "outputs": [
        {
          "output_type": "stream",
          "name": "stdout",
          "text": [
            "Enter string:WasitacaroracatIsaw\n",
            "No\n"
          ]
        }
      ]
    },
    {
      "cell_type": "code",
      "metadata": {
        "colab": {
          "base_uri": "https://localhost:8080/"
        },
        "id": "zrgClK17xmwS",
        "outputId": "930b3ca1-c149-4df7-b557-31fab91e58c4"
      },
      "source": [
        "s=input(\"enter a word or sentence:\")\n",
        "temp=s\n",
        "c=0\n",
        "v=0\n",
        "# print(temp)\n",
        "for i in s:\n",
        "    c=c+1\n",
        "for j in range(c):\n",
        "    if temp[v]==s[c-1]:\n",
        "        c=c-1\n",
        "        v=v+1\n",
        "        flag=1\n",
        "    else:\n",
        "        flag=0\n",
        "if flag==1:\n",
        "    print(\"polindrom\")\n",
        "elif flag==0:\n",
        "     print(\"no\")"
      ],
      "execution_count": null,
      "outputs": [
        {
          "output_type": "stream",
          "name": "stdout",
          "text": [
            "enter a word or sentence:madam\n",
            "polindrom\n"
          ]
        }
      ]
    },
    {
      "cell_type": "code",
      "metadata": {
        "colab": {
          "base_uri": "https://localhost:8080/"
        },
        "id": "4azX4fa4zEkD",
        "outputId": "c52ac4df-e007-4be1-d8a0-c9d2c48b5ee5"
      },
      "source": [
        "def palindrome(x):\n",
        "    reversed_number = x[::-1]\n",
        "    k = 1\n",
        "    if x != reversed_number:\n",
        "        k = 0\n",
        "    return k\n",
        "  \n",
        "number = input(\"Enter the string: \")\n",
        "k = palindrome(number)\n",
        "if k:\n",
        "    print(\"nice! It is a palindrome number \")\n",
        "else:\n",
        "    print(\"Sorry! Try again\")"
      ],
      "execution_count": null,
      "outputs": [
        {
          "output_type": "stream",
          "name": "stdout",
          "text": [
            "Enter the string: madam\n",
            "nice! It is a palindrome number \n"
          ]
        }
      ]
    },
    {
      "cell_type": "markdown",
      "metadata": {
        "id": "rMCBQbqKo1w9"
      },
      "source": [
        "## Coding Challenge - 2: Sudoku Format Converter&Printer\n",
        "\n",
        "The purpose of this coding challenge is to write a program that prints the given lists as sudoku looking format.\n",
        "\n",
        "### Learning Outcomes\n",
        "\n",
        "At the end of this coding challenge, students will be able to;\n",
        "\n",
        "- analyze a problem, identify, and apply programming knowledge for appropriate solution.\n",
        "\n",
        "- design, implement `arithmetic operators` and nested loops effectively in Python to solve the given problem.\n",
        "\n",
        "- demonstrate their knowledge of algorithmic design principles by solving the problem effectively.\n",
        "\n",
        "### Problem Statement\n",
        "\n",
        "<div class=\"alert alert-block alert-info\">\n",
        "    <b>💡Objective:</b>\n",
        "    <ul>\n",
        "        <li>To improve your <b>control flow statement</b> skills.</li>\n",
        "    </ul>\n",
        "</div>\n",
        "\n",
        "<hr>\n",
        "<p><b>Task:</b> The department you work for has received a project that displays the solved sudoku puzzles in a digital environment.&nbsp;</p>\n",
        "<p></p>\n",
        "<p></p>\n",
        "<ul>\n",
        "    <li>Write a Python code to print out the given <code>sudoku</code> puzzle matrix in the following format.</li>\n",
        "</ul>\n",
        "<b>Given format :</b><br>\n",
        "<ol>\n",
        "</ol>\n",
        "<p>\n",
        "</p>\n",
        "<div>\n",
        "    <pre>sudoku&nbsp;=&nbsp;[<br>&nbsp;&nbsp;&nbsp;&nbsp;[0,&nbsp;0,&nbsp;0,&nbsp;0,&nbsp;6,&nbsp;4,&nbsp;0,&nbsp;0,&nbsp;0],<br>&nbsp;&nbsp;&nbsp;&nbsp;[7,&nbsp;0,&nbsp;0,&nbsp;0,&nbsp;0,&nbsp;0,&nbsp;3,&nbsp;9,&nbsp;0],<br>&nbsp;&nbsp;&nbsp;&nbsp;[8,&nbsp;0,&nbsp;0,&nbsp;0,&nbsp;0,&nbsp;0,&nbsp;0,&nbsp;0,&nbsp;0],<br>&nbsp;&nbsp;&nbsp;&nbsp;[0,&nbsp;0,&nbsp;0,&nbsp;5,&nbsp;0,&nbsp;2,&nbsp;0,&nbsp;6,&nbsp;0],<br>&nbsp;&nbsp;&nbsp;&nbsp;[0,&nbsp;8,&nbsp;0,&nbsp;4,&nbsp;0,&nbsp;0,&nbsp;0,&nbsp;0,&nbsp;0],<br>&nbsp;&nbsp;&nbsp;&nbsp;[3,&nbsp;5,&nbsp;0,&nbsp;6,&nbsp;0,&nbsp;0,&nbsp;0,&nbsp;7,&nbsp;0],<br>&nbsp;&nbsp;&nbsp;&nbsp;[0,&nbsp;0,&nbsp;2,&nbsp;0,&nbsp;0,&nbsp;0,&nbsp;1,&nbsp;0,&nbsp;3],<br>&nbsp;&nbsp;&nbsp;&nbsp;[0,&nbsp;0,&nbsp;1,&nbsp;0,&nbsp;5,&nbsp;9,&nbsp;0,&nbsp;0,&nbsp;0],<br>&nbsp;&nbsp;&nbsp;&nbsp;[0,&nbsp;0,&nbsp;0,&nbsp;0,&nbsp;0,&nbsp;0,&nbsp;7,&nbsp;0,&nbsp;0]<br>]</pre>\n",
        "    <div>\n",
        "        <b>Desired output format :</b><br>\n",
        "        <ol>\n",
        "        </ol>\n",
        "    </div>\n",
        "    <pre>- - - - - - - - - - - - - - - \n",
        "0  0  0  | 0  6  4  | 0  0  0  \n",
        "7  0  0  | 0  0  0  | 3  9  0  \n",
        "8  0  0  | 0  0  0  | 0  0  0  \n",
        "- - - - - - - - - - - - - - - \n",
        "0  0  0  | 5  0  2  | 0  6  0  \n",
        "0  8  0  | 4  0  0  | 0  0  0  \n",
        "3  5  0  | 6  0  0  | 0  7  0  \n",
        "- - - - - - - - - - - - - - - \n",
        "0  0  2  | 0  0  0  | 1  0  3  \n",
        "0  0  1  | 0  5  9  | 0  0  0  \n",
        "0  0  0  | 0  0  0  | 7  0  0  \n",
        "- - - - - - - - - - - - - - -</pre>\n",
        "</div><br>\n",
        "<p></p>\n",
        "<p></p>\n",
        "<hr>\n",
        "<p><i><b>Note that</b>; <br></i></p>\n",
        "<ul>\n",
        "    <li><i><i>Use not more than \"<b>control flow statement and boolean logic operators</b>\" in solving this code problem. </i></i>\n",
        "    </li>\n",
        "    <li><i><i>The output which we expect from you is only a new output format above. </i></i>\n",
        "    </li>\n",
        "    <li><i><i>We don't expect a sudoku puzzle solver from you.</i></i>\n",
        "    </li>\n",
        "</ul>\n",
        "<p></p>"
      ]
    },
    {
      "cell_type": "markdown",
      "metadata": {
        "id": "CSIO0jLGo1w-"
      },
      "source": [
        "### Solution :"
      ]
    },
    {
      "cell_type": "code",
      "metadata": {
        "colab": {
          "base_uri": "https://localhost:8080/",
          "height": 235
        },
        "id": "nVeF3-VVNscE",
        "outputId": "8ee16c84-e97a-4cff-8470-8295d6816d3d"
      },
      "source": [
        "squares = 9*9\n",
        "empties = squares * 3//4\n",
        "for p in sample(range(squares),empties):\n",
        "    board[p//side][p%side] = 0\n",
        "\n",
        "numSize = len(str(side))\n",
        "for line in board: print(\"[\"+\"  \".join(f\"{n or '.':{numSize}}\" for n in line)+\"]\")"
      ],
      "execution_count": null,
      "outputs": [
        {
          "output_type": "error",
          "ename": "NameError",
          "evalue": "ignored",
          "traceback": [
            "\u001b[0;31m---------------------------------------------------------------------------\u001b[0m",
            "\u001b[0;31mNameError\u001b[0m                                 Traceback (most recent call last)",
            "\u001b[0;32m<ipython-input-54-31fe6f667045>\u001b[0m in \u001b[0;36m<module>\u001b[0;34m()\u001b[0m\n\u001b[1;32m      1\u001b[0m \u001b[0msquares\u001b[0m \u001b[0;34m=\u001b[0m \u001b[0;36m9\u001b[0m\u001b[0;34m*\u001b[0m\u001b[0;36m9\u001b[0m\u001b[0;34m\u001b[0m\u001b[0;34m\u001b[0m\u001b[0m\n\u001b[1;32m      2\u001b[0m \u001b[0mempties\u001b[0m \u001b[0;34m=\u001b[0m \u001b[0msquares\u001b[0m \u001b[0;34m*\u001b[0m \u001b[0;36m3\u001b[0m\u001b[0;34m//\u001b[0m\u001b[0;36m4\u001b[0m\u001b[0;34m\u001b[0m\u001b[0;34m\u001b[0m\u001b[0m\n\u001b[0;32m----> 3\u001b[0;31m \u001b[0;32mfor\u001b[0m \u001b[0mp\u001b[0m \u001b[0;32min\u001b[0m \u001b[0msample\u001b[0m\u001b[0;34m(\u001b[0m\u001b[0mrange\u001b[0m\u001b[0;34m(\u001b[0m\u001b[0msquares\u001b[0m\u001b[0;34m)\u001b[0m\u001b[0;34m,\u001b[0m\u001b[0mempties\u001b[0m\u001b[0;34m)\u001b[0m\u001b[0;34m:\u001b[0m\u001b[0;34m\u001b[0m\u001b[0;34m\u001b[0m\u001b[0m\n\u001b[0m\u001b[1;32m      4\u001b[0m     \u001b[0mboard\u001b[0m\u001b[0;34m[\u001b[0m\u001b[0mp\u001b[0m\u001b[0;34m//\u001b[0m\u001b[0mside\u001b[0m\u001b[0;34m]\u001b[0m\u001b[0;34m[\u001b[0m\u001b[0mp\u001b[0m\u001b[0;34m%\u001b[0m\u001b[0mside\u001b[0m\u001b[0;34m]\u001b[0m \u001b[0;34m=\u001b[0m \u001b[0;36m0\u001b[0m\u001b[0;34m\u001b[0m\u001b[0;34m\u001b[0m\u001b[0m\n\u001b[1;32m      5\u001b[0m \u001b[0;34m\u001b[0m\u001b[0m\n",
            "\u001b[0;31mNameError\u001b[0m: name 'sample' is not defined"
          ]
        }
      ]
    },
    {
      "cell_type": "code",
      "metadata": {
        "id": "_jIhVgyxo1w-"
      },
      "source": [
        "sudoku = [\n",
        "    [0, 0, 0, 0, 6, 4, 0, 0, 0],\n",
        "    [7, 0, 0, 0, 0, 0, 3, 9, 0],\n",
        "    [8, 0, 0, 0, 0, 0, 0, 0, 0],\n",
        "    [0, 0, 0, 5, 0, 2, 0, 6, 0],\n",
        "    [0, 8, 0, 4, 0, 0, 0, 0, 0],\n",
        "    [3, 5, 0, 6, 0, 0, 0, 7, 0],\n",
        "    [0, 0, 2, 0, 0, 0, 1, 0, 3],\n",
        "    [0, 0, 1, 0, 5, 9, 0, 0, 0],\n",
        "    [0, 0, 0, 0, 0, 0, 7, 0, 0]\n",
        "]"
      ],
      "execution_count": null,
      "outputs": []
    },
    {
      "cell_type": "code",
      "metadata": {
        "colab": {
          "base_uri": "https://localhost:8080/"
        },
        "id": "uHvIYVmRC0Ms",
        "outputId": "c389d3f7-74fd-4791-9b39-33600a351863"
      },
      "source": [
        "x = list(range(6))\n",
        "print(list(x))"
      ],
      "execution_count": null,
      "outputs": [
        {
          "output_type": "stream",
          "name": "stdout",
          "text": [
            "[0, 1, 2, 3, 4, 5]\n"
          ]
        }
      ]
    },
    {
      "cell_type": "code",
      "metadata": {
        "colab": {
          "base_uri": "https://localhost:8080/"
        },
        "id": "EJdqRuH7DMfq",
        "outputId": "312705ba-3c0b-418f-e13e-04af544e2bfb"
      },
      "source": [
        "x = range(6)\n",
        "for n in x:\n",
        "  print(n)"
      ],
      "execution_count": null,
      "outputs": [
        {
          "output_type": "stream",
          "name": "stdout",
          "text": [
            "0\n",
            "1\n",
            "2\n",
            "3\n",
            "4\n",
            "5\n"
          ]
        }
      ]
    },
    {
      "cell_type": "code",
      "metadata": {
        "id": "CCu6Y5yoDgLF"
      },
      "source": [
        "range(start, stop, step)"
      ],
      "execution_count": null,
      "outputs": []
    },
    {
      "cell_type": "code",
      "metadata": {
        "colab": {
          "base_uri": "https://localhost:8080/"
        },
        "id": "f5aOrAb0DiR1",
        "outputId": "192db704-ee2c-4cb3-8793-444cd4e97b1a"
      },
      "source": [
        "range(1, 20, 2)"
      ],
      "execution_count": null,
      "outputs": [
        {
          "output_type": "execute_result",
          "data": {
            "text/plain": [
              "range(1, 20, 2)"
            ]
          },
          "metadata": {},
          "execution_count": 26
        }
      ]
    },
    {
      "cell_type": "code",
      "metadata": {
        "colab": {
          "base_uri": "https://localhost:8080/"
        },
        "id": "1e8co-lqDqE5",
        "outputId": "1bd93481-5f3c-4c27-ec34-11166184a3ca"
      },
      "source": [
        "x = range(1, 20, 2)\n",
        "print(x)"
      ],
      "execution_count": null,
      "outputs": [
        {
          "output_type": "stream",
          "name": "stdout",
          "text": [
            "range(1, 20, 2)\n"
          ]
        }
      ]
    },
    {
      "cell_type": "code",
      "metadata": {
        "colab": {
          "base_uri": "https://localhost:8080/"
        },
        "id": "NVG-92-vD0J8",
        "outputId": "12c42dfe-9e21-4369-c93d-08b91a48a403"
      },
      "source": [
        "x = list(range(1, 20, 2))\n",
        "print(x)"
      ],
      "execution_count": null,
      "outputs": [
        {
          "output_type": "stream",
          "name": "stdout",
          "text": [
            "[1, 3, 5, 7, 9, 11, 13, 15, 17, 19]\n"
          ]
        }
      ]
    },
    {
      "cell_type": "code",
      "metadata": {
        "colab": {
          "base_uri": "https://localhost:8080/"
        },
        "id": "vlmgxCdOD8iW",
        "outputId": "c08fcae2-0fac-4e12-a395-038b75e5095b"
      },
      "source": [
        "x = list(range(1, 20, -2))\n",
        "print(x)"
      ],
      "execution_count": null,
      "outputs": [
        {
          "output_type": "stream",
          "name": "stdout",
          "text": [
            "[]\n"
          ]
        }
      ]
    },
    {
      "cell_type": "code",
      "metadata": {
        "colab": {
          "base_uri": "https://localhost:8080/"
        },
        "id": "kggMzS0rEBcL",
        "outputId": "c4263ebc-35c0-439e-9dfe-61f51b318f87"
      },
      "source": [
        "x = list(range(20, 0, -2))\n",
        "print(x)"
      ],
      "execution_count": null,
      "outputs": [
        {
          "output_type": "stream",
          "name": "stdout",
          "text": [
            "[20, 18, 16, 14, 12, 10, 8, 6, 4, 2]\n"
          ]
        }
      ]
    },
    {
      "cell_type": "code",
      "metadata": {
        "colab": {
          "base_uri": "https://localhost:8080/"
        },
        "id": "1tq_wqUvEIUj",
        "outputId": "4ea72445-e42a-4577-be41-db5b85fa2a85"
      },
      "source": [
        "list = [0, 1, 2, 3, 4, 5]\n",
        "y = list.index(2, 0, 4)\n",
        "print(y)"
      ],
      "execution_count": null,
      "outputs": [
        {
          "output_type": "stream",
          "name": "stdout",
          "text": [
            "2\n"
          ]
        }
      ]
    }
  ]
}