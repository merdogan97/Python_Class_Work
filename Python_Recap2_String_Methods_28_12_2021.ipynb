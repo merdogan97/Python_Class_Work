{
  "nbformat": 4,
  "nbformat_minor": 0,
  "metadata": {
    "colab": {
      "name": "Python Recap2_String Methods_28.12.2021.ipynb",
      "provenance": [],
      "collapsed_sections": [],
      "authorship_tag": "ABX9TyOHbgNHZK77VjnkcLHAOB65",
      "include_colab_link": true
    },
    "kernelspec": {
      "name": "python3",
      "display_name": "Python 3"
    },
    "language_info": {
      "name": "python"
    }
  },
  "cells": [
    {
      "cell_type": "markdown",
      "metadata": {
        "id": "view-in-github",
        "colab_type": "text"
      },
      "source": [
        "<a href=\"https://colab.research.google.com/github/merdogan97/Python_Class_Work/blob/main/Python_Recap2_String_Methods_28_12_2021.ipynb\" target=\"_parent\"><img src=\"https://colab.research.google.com/assets/colab-badge.svg\" alt=\"Open In Colab\"/></a>"
      ]
    },
    {
      "cell_type": "code",
      "source": [
        "capitalize()\tConverts the first character to upper case\n",
        "casefold()\tConverts string into lower case\n",
        "center()\tReturns a centered string\n",
        "count()\tReturns the number of times a specified value occurs in a string\n",
        "encode()\tReturns an encoded version of the string\n",
        "endswith()\tReturns true if the string ends with the specified value\n",
        "expandtabs()\tSets the tab size of the string\n",
        "find()\tSearches the string for a specified value and returns the position of where it was found\n",
        "format()\tFormats specified values in a string\n",
        "format_map()\tFormats specified values in a string\n",
        "index()\tSearches the string for a specified value and returns the position of where it was found\n",
        "isalnum()\tReturns True if all characters in the string are alphanumeric\n",
        "isalpha()\tReturns True if all characters in the string are in the alphabet\n",
        "isascii()\tReturns True if all characters in the string are ascii characters\n",
        "isdecimal()\tReturns True if all characters in the string are decimals\n",
        "isdigit()\tReturns True if all characters in the string are digits\n",
        "isidentifier()\tReturns True if the string is an identifier\n",
        "islower()\tReturns True if all characters in the string are lower case\n",
        "isnumeric()\tReturns True if all characters in the string are numeric\n",
        "isprintable()\tReturns True if all characters in the string are printable\n",
        "isspace()\tReturns True if all characters in the string are whitespaces\n",
        "istitle()\tReturns True if the string follows the rules of a title\n",
        "isupper()\tReturns True if all characters in the string are upper case\n",
        "join()\tConverts the elements of an iterable into a string\n",
        "ljust()\tReturns a left justified version of the string\n",
        "lower()\tConverts a string into lower case\n",
        "lstrip()\tReturns a left trim version of the string\n",
        "maketrans()\tReturns a translation table to be used in translations\n",
        "partition()\tReturns a tuple where the string is parted into three parts\n",
        "replace()\tReturns a string where a specified value is replaced with a specified value\n",
        "rfind()\tSearches the string for a specified value and returns the last position of where it was found\n",
        "rindex()\tSearches the string for a specified value and returns the last position of where it was found\n",
        "rjust()\tReturns a right justified version of the string\n",
        "rpartition()\tReturns a tuple where the string is parted into three parts\n",
        "rsplit()\tSplits the string at the specified separator, and returns a list\n",
        "rstrip()\tReturns a right trim version of the string\n",
        "split()\tSplits the string at the specified separator, and returns a list\n",
        "splitlines()\tSplits the string at line breaks and returns a list\n",
        "startswith()\tReturns true if the string starts with the specified value\n",
        "strip()\tReturns a trimmed version of the string\n",
        "swapcase()\tSwaps cases, lower case becomes upper case and vice versa\n",
        "title()\tConverts the first character of each word to upper case\n",
        "translate()\tReturns a translated string\n",
        "upper()\tConverts a string into upper case\n",
        "zfill()\tFills the string with a specified number of 0 values at the beginning"
      ],
      "metadata": {
        "id": "IYc2q0aqX2UX"
      },
      "execution_count": null,
      "outputs": []
    },
    {
      "cell_type": "markdown",
      "source": [
        ""
      ],
      "metadata": {
        "id": "tEyExYmgX1B4"
      }
    },
    {
      "cell_type": "markdown",
      "source": [
        "capitalize() "
      ],
      "metadata": {
        "id": "8VhRBvuyks1i"
      }
    },
    {
      "cell_type": "code",
      "execution_count": null,
      "metadata": {
        "colab": {
          "base_uri": "https://localhost:8080/"
        },
        "id": "csjV_PJ8jLC-",
        "outputId": "21f96a1d-1c88-4bd8-9bd0-cee1ed249cbd"
      },
      "outputs": [
        {
          "output_type": "stream",
          "name": "stdout",
          "text": [
            "Hello, and welcome to my world.\n"
          ]
        }
      ],
      "source": [
        "txt = \"hello, and welcome to my world.\"\n",
        "\n",
        "x = txt.capitalize()\n",
        "\n",
        "print (x)"
      ]
    },
    {
      "cell_type": "code",
      "source": [
        "y = \"erdoğan\"\n",
        "z = y.capitalize()\n",
        "print(z)"
      ],
      "metadata": {
        "colab": {
          "base_uri": "https://localhost:8080/"
        },
        "id": "nPJcwKj_jkJD",
        "outputId": "a85aa738-3846-4306-cd43-0412863179d1"
      },
      "execution_count": null,
      "outputs": [
        {
          "output_type": "stream",
          "name": "stdout",
          "text": [
            "Erdoğan\n"
          ]
        }
      ]
    },
    {
      "cell_type": "code",
      "source": [
        "y = \"murat\"\n",
        "y.capitalize()"
      ],
      "metadata": {
        "colab": {
          "base_uri": "https://localhost:8080/",
          "height": 35
        },
        "id": "A24OHvbVkDQa",
        "outputId": "8e48b2f4-a47a-49a2-d1cb-4fc392335261"
      },
      "execution_count": null,
      "outputs": [
        {
          "output_type": "execute_result",
          "data": {
            "application/vnd.google.colaboratory.intrinsic+json": {
              "type": "string"
            },
            "text/plain": [
              "'Murat'"
            ]
          },
          "metadata": {},
          "execution_count": 4
        }
      ]
    },
    {
      "cell_type": "code",
      "source": [
        "txt = \"36 is my age.\"\n",
        "\n",
        "x = txt.capitalize()\n",
        "\n",
        "print (x)"
      ],
      "metadata": {
        "colab": {
          "base_uri": "https://localhost:8080/"
        },
        "id": "42gUiVbhkWG8",
        "outputId": "a70a0241-7422-484f-fb14-89201fe3cabc"
      },
      "execution_count": null,
      "outputs": [
        {
          "output_type": "stream",
          "name": "stdout",
          "text": [
            "36 is my age.\n"
          ]
        }
      ]
    },
    {
      "cell_type": "code",
      "source": [
        "txt = \"Hello, And Welcome To My World!\"\n",
        "\n",
        "x = txt.casefold()\n",
        "\n",
        "print(x)"
      ],
      "metadata": {
        "id": "F2hP1BhpkiOj"
      },
      "execution_count": null,
      "outputs": []
    },
    {
      "cell_type": "markdown",
      "source": [
        "casefold()  : Make the string lower case"
      ],
      "metadata": {
        "id": "VlZ19llwkj4r"
      }
    },
    {
      "cell_type": "code",
      "source": [
        "txt = \"HELLO WELLCOME TO WORLD!!\"\n",
        "\n",
        "x = txt.casefold()\n",
        "\n",
        "print(x)"
      ],
      "metadata": {
        "colab": {
          "base_uri": "https://localhost:8080/"
        },
        "id": "eM8M2qDSk-3k",
        "outputId": "ff68a625-fdb9-4540-dad4-7fe5a6c140ad"
      },
      "execution_count": null,
      "outputs": [
        {
          "output_type": "stream",
          "name": "stdout",
          "text": [
            "hello wellcome to world!!\n"
          ]
        }
      ]
    },
    {
      "cell_type": "code",
      "source": [
        "a = \"HELLO WORLD!\"\n",
        "a.lower()"
      ],
      "metadata": {
        "colab": {
          "base_uri": "https://localhost:8080/",
          "height": 35
        },
        "id": "su9-UZBPleQL",
        "outputId": "a40d6eae-1920-4bf4-8d7c-48500c842537"
      },
      "execution_count": null,
      "outputs": [
        {
          "output_type": "execute_result",
          "data": {
            "application/vnd.google.colaboratory.intrinsic+json": {
              "type": "string"
            },
            "text/plain": [
              "'hello world!'"
            ]
          },
          "metadata": {},
          "execution_count": 9
        }
      ]
    },
    {
      "cell_type": "code",
      "source": [
        "txt = \"HELLO WELLCOME TO WORLD!!\"\n",
        "\n",
        "txt.casefold()\n",
        "\n"
      ],
      "metadata": {
        "colab": {
          "base_uri": "https://localhost:8080/",
          "height": 35
        },
        "id": "plvJbOy1lwa7",
        "outputId": "8ae9b470-9778-4e34-96ab-0c3e2c3e698b"
      },
      "execution_count": null,
      "outputs": [
        {
          "output_type": "execute_result",
          "data": {
            "application/vnd.google.colaboratory.intrinsic+json": {
              "type": "string"
            },
            "text/plain": [
              "'hello wellcome to world!!'"
            ]
          },
          "metadata": {},
          "execution_count": 10
        }
      ]
    },
    {
      "cell_type": "markdown",
      "source": [
        "center()  :  The center() method will center align the string, using a specified character (space is default) as the fill character.\n",
        "\n"
      ],
      "metadata": {
        "id": "7As1uJCimb3r"
      }
    },
    {
      "cell_type": "code",
      "source": [
        "txt = \"banana\"\n",
        "x = txt.center(50)\n",
        "print(x)"
      ],
      "metadata": {
        "colab": {
          "base_uri": "https://localhost:8080/"
        },
        "id": "nMs_1kBGmi0V",
        "outputId": "30321b4c-4d1e-4087-d340-4586005592a1"
      },
      "execution_count": null,
      "outputs": [
        {
          "output_type": "stream",
          "name": "stdout",
          "text": [
            "                      banana                      \n"
          ]
        }
      ]
    },
    {
      "cell_type": "code",
      "source": [
        "txt = \"banana\"\n",
        "x = txt.center(60, \"*\")\n",
        "print(x)"
      ],
      "metadata": {
        "colab": {
          "base_uri": "https://localhost:8080/"
        },
        "id": "QiJs9TAVmzDx",
        "outputId": "e88e2518-b743-4dd9-8658-324abbfec290"
      },
      "execution_count": null,
      "outputs": [
        {
          "output_type": "stream",
          "name": "stdout",
          "text": [
            "***************************banana***************************\n"
          ]
        }
      ]
    },
    {
      "cell_type": "code",
      "source": [
        "txt = \"Clarusway\"\n",
        "x = txt.center(100, \"=\")\n",
        "print(x)"
      ],
      "metadata": {
        "colab": {
          "base_uri": "https://localhost:8080/"
        },
        "id": "er5PvC_IoaWu",
        "outputId": "206c1e21-4b12-41f4-9bf8-3f795a13a210"
      },
      "execution_count": null,
      "outputs": [
        {
          "output_type": "stream",
          "name": "stdout",
          "text": [
            "=============================================Clarusway==============================================\n"
          ]
        }
      ]
    },
    {
      "cell_type": "markdown",
      "source": [
        "count()  : string.count(value, start, end)          The count() method returns the number of times a specified value appears in the string.\n"
      ],
      "metadata": {
        "id": "P-T-2JTppRC6"
      }
    },
    {
      "cell_type": "code",
      "source": [
        "a = \"bugün herkes ankaraya otobüsle gidecek\"\n",
        "a.count(\"a\")"
      ],
      "metadata": {
        "colab": {
          "base_uri": "https://localhost:8080/"
        },
        "id": "FhAyHGZpp4x9",
        "outputId": "4989292f-6ee3-444a-f632-4c69a4af3952"
      },
      "execution_count": null,
      "outputs": [
        {
          "output_type": "execute_result",
          "data": {
            "text/plain": [
              "4"
            ]
          },
          "metadata": {},
          "execution_count": 17
        }
      ]
    },
    {
      "cell_type": "code",
      "source": [
        "a.count(\"e\")"
      ],
      "metadata": {
        "colab": {
          "base_uri": "https://localhost:8080/"
        },
        "id": "w0NzOD8MqWF6",
        "outputId": "23d1254a-8810-475c-a598-8bd64b552528"
      },
      "execution_count": null,
      "outputs": [
        {
          "output_type": "execute_result",
          "data": {
            "text/plain": [
              "5"
            ]
          },
          "metadata": {},
          "execution_count": 18
        }
      ]
    },
    {
      "cell_type": "code",
      "source": [
        "a.count(\"e\", 2, 10)"
      ],
      "metadata": {
        "colab": {
          "base_uri": "https://localhost:8080/"
        },
        "id": "qtb4A9PNqcup",
        "outputId": "3efd5b7b-c328-4630-adf4-c7df1966a8c5"
      },
      "execution_count": null,
      "outputs": [
        {
          "output_type": "execute_result",
          "data": {
            "text/plain": [
              "1"
            ]
          },
          "metadata": {},
          "execution_count": 19
        }
      ]
    },
    {
      "cell_type": "code",
      "source": [
        "a.count(\"o\", 20, 30)"
      ],
      "metadata": {
        "colab": {
          "base_uri": "https://localhost:8080/"
        },
        "id": "_C_nHKyxquc1",
        "outputId": "a2e4ae43-c515-43d6-ecf5-b8f1409a5481"
      },
      "execution_count": null,
      "outputs": [
        {
          "output_type": "execute_result",
          "data": {
            "text/plain": [
              "2"
            ]
          },
          "metadata": {},
          "execution_count": 21
        }
      ]
    },
    {
      "cell_type": "code",
      "source": [
        "txt = \"I love apples, apple are my favorite fruit\"\n",
        "x = txt.count(\"apple\", 10, 24)\n",
        "print(x)"
      ],
      "metadata": {
        "colab": {
          "base_uri": "https://localhost:8080/"
        },
        "id": "-sxt56-9pe-o",
        "outputId": "61e2bc32-0d56-46e8-cccc-f958ae02498a"
      },
      "execution_count": null,
      "outputs": [
        {
          "output_type": "stream",
          "name": "stdout",
          "text": [
            "1\n"
          ]
        }
      ]
    },
    {
      "cell_type": "markdown",
      "source": [
        "endswith() :  string.endswith(value, start, end)                             \n",
        "\n",
        "The endswith() method returns True if the string ends with the specified value, otherwise False."
      ],
      "metadata": {
        "id": "3eXRddwrrrpN"
      }
    },
    {
      "cell_type": "code",
      "source": [
        "txt = \"Hello, welcome to my world.\"\n",
        "x = txt.endswith(\"my world.\")\n",
        "print(x)"
      ],
      "metadata": {
        "colab": {
          "base_uri": "https://localhost:8080/"
        },
        "id": "JFOzWmrYsCNy",
        "outputId": "919d9906-dfc5-4f44-c29e-a5ffbda362b4"
      },
      "execution_count": null,
      "outputs": [
        {
          "output_type": "stream",
          "name": "stdout",
          "text": [
            "True\n"
          ]
        }
      ]
    },
    {
      "cell_type": "code",
      "source": [
        "a = \"clarusway\"\n",
        "a.endswith(\"ay\")"
      ],
      "metadata": {
        "colab": {
          "base_uri": "https://localhost:8080/"
        },
        "id": "9iknoUv0sNhS",
        "outputId": "3fa0e614-80b6-45cf-cc4b-25935d7cf1b8"
      },
      "execution_count": null,
      "outputs": [
        {
          "output_type": "execute_result",
          "data": {
            "text/plain": [
              "True"
            ]
          },
          "metadata": {},
          "execution_count": 24
        }
      ]
    },
    {
      "cell_type": "code",
      "source": [
        "x = \"123456789\"\n",
        "x.endswith(\"9\")"
      ],
      "metadata": {
        "colab": {
          "base_uri": "https://localhost:8080/"
        },
        "id": "pE1IySSGsf2B",
        "outputId": "926b65d3-bfac-4947-fbe7-23208cce3979"
      },
      "execution_count": null,
      "outputs": [
        {
          "output_type": "execute_result",
          "data": {
            "text/plain": [
              "True"
            ]
          },
          "metadata": {},
          "execution_count": 26
        }
      ]
    },
    {
      "cell_type": "code",
      "source": [
        "txt = \"Hello, welcome to my world.\"\n",
        "x = txt.endswith(\"my world.\", 5, 11)\n",
        "print(x)"
      ],
      "metadata": {
        "colab": {
          "base_uri": "https://localhost:8080/"
        },
        "id": "7g0KB3nus4P0",
        "outputId": "f767934a-ed4b-459b-9567-5ea1b103e62c"
      },
      "execution_count": null,
      "outputs": [
        {
          "output_type": "stream",
          "name": "stdout",
          "text": [
            "False\n"
          ]
        }
      ]
    },
    {
      "cell_type": "markdown",
      "source": [
        "startwith()  : string.startswith(value, start, end)\n",
        "The startswith() method returns True if the string starts with the specified value, otherwise False."
      ],
      "metadata": {
        "id": "4BLq_Nw8wtOs"
      }
    },
    {
      "cell_type": "code",
      "source": [
        "txt = \"Hello, welcome to my world.\"\n",
        "\n",
        "x = txt.startswith(\"wel\", 7, 20)\n",
        "\n",
        "print(x)"
      ],
      "metadata": {
        "colab": {
          "base_uri": "https://localhost:8080/"
        },
        "id": "S7Vz8OCUwsz7",
        "outputId": "040abfe9-f861-4641-f64e-bd5d506c2ebf"
      },
      "execution_count": null,
      "outputs": [
        {
          "output_type": "stream",
          "name": "stdout",
          "text": [
            "True\n"
          ]
        }
      ]
    },
    {
      "cell_type": "code",
      "source": [
        "a = \"clarusway\"\n",
        "a.startswith(\"c\")"
      ],
      "metadata": {
        "colab": {
          "base_uri": "https://localhost:8080/"
        },
        "id": "AOAFYoyF0O9r",
        "outputId": "97694601-67e3-4ffc-9e89-700a4491e836"
      },
      "execution_count": null,
      "outputs": [
        {
          "output_type": "execute_result",
          "data": {
            "text/plain": [
              "True"
            ]
          },
          "metadata": {},
          "execution_count": 33
        }
      ]
    },
    {
      "cell_type": "markdown",
      "source": [
        "expandtabs() : string.expandtabs(tabsize)\n",
        "\n",
        "The expandtabs() method sets the tab size to the specified number of whitespaces.\n",
        "tabsize\tOptional. A number specifying the tabsize. Default tabsize is 8"
      ],
      "metadata": {
        "id": "R1lcRg8ktlNq"
      }
    },
    {
      "cell_type": "code",
      "source": [
        "txt = \"H\\te\\tl\\tl\\to\"\n",
        "\n",
        "x =  txt.expandtabs(2)\n",
        "\n",
        "print(x)"
      ],
      "metadata": {
        "colab": {
          "base_uri": "https://localhost:8080/"
        },
        "id": "4hn_AYOitMAs",
        "outputId": "01e6bd72-d26b-4e11-d8b5-b6bf4508ea11"
      },
      "execution_count": null,
      "outputs": [
        {
          "output_type": "stream",
          "name": "stdout",
          "text": [
            "H e l l o\n"
          ]
        }
      ]
    },
    {
      "cell_type": "code",
      "source": [
        "txt = \"H\\te\\tl\\tl\\to\"\n",
        "\n",
        "print(txt)\n",
        "print(txt.expandtabs())\n",
        "print(txt.expandtabs(2))\n",
        "print(txt.expandtabs(4))\n",
        "print(txt.expandtabs(10))"
      ],
      "metadata": {
        "colab": {
          "base_uri": "https://localhost:8080/"
        },
        "id": "ehfWUDK1tsQD",
        "outputId": "b23a758f-fa67-405d-c641-ad3626f0313d"
      },
      "execution_count": null,
      "outputs": [
        {
          "output_type": "stream",
          "name": "stdout",
          "text": [
            "H\te\tl\tl\to\n",
            "H       e       l       l       o\n",
            "H e l l o\n",
            "H   e   l   l   o\n",
            "H         e         l         l         o\n"
          ]
        }
      ]
    },
    {
      "cell_type": "code",
      "source": [
        "txt = \"Mu\\trat\"\n",
        "print(txt)"
      ],
      "metadata": {
        "colab": {
          "base_uri": "https://localhost:8080/"
        },
        "id": "VpF3Hao6urb0",
        "outputId": "de44a5d6-cab8-484a-ad35-75af88d34f31"
      },
      "execution_count": null,
      "outputs": [
        {
          "output_type": "stream",
          "name": "stdout",
          "text": [
            "Mu\trat\n"
          ]
        }
      ]
    },
    {
      "cell_type": "code",
      "source": [
        "txt = \"Mu\\nrat\"\n",
        "print(txt)"
      ],
      "metadata": {
        "colab": {
          "base_uri": "https://localhost:8080/"
        },
        "id": "e_Z8KkS4u0xo",
        "outputId": "cf39e5e5-c723-4f5a-e12b-b8c8ba066d14"
      },
      "execution_count": null,
      "outputs": [
        {
          "output_type": "stream",
          "name": "stdout",
          "text": [
            "Mu\n",
            "rat\n"
          ]
        }
      ]
    },
    {
      "cell_type": "markdown",
      "source": [
        "find() : string.find(value, start, end)\n",
        "\n",
        "The find() method finds the first occurrence of the specified value.\n",
        "\n",
        "The find() method returns -1 if the value is not found.\n",
        "\n",
        "The find() method is almost the same as the index() method, the only difference is that the index() method raises an exception if the value is not found. (See example below)"
      ],
      "metadata": {
        "id": "wBMb-Oxf0l4o"
      }
    },
    {
      "cell_type": "code",
      "source": [
        "find()"
      ],
      "metadata": {
        "id": "R4XH9hyn0jYN"
      },
      "execution_count": null,
      "outputs": []
    },
    {
      "cell_type": "code",
      "source": [
        "txt = \"Hello, welcome to my world.\"\n",
        "x = txt.find(\"welcome\")\n",
        "print(x)"
      ],
      "metadata": {
        "colab": {
          "base_uri": "https://localhost:8080/"
        },
        "id": "yCoDDqW-02zS",
        "outputId": "8950911f-6c92-4393-b28c-e8ee88649751"
      },
      "execution_count": null,
      "outputs": [
        {
          "output_type": "stream",
          "name": "stdout",
          "text": [
            "7\n"
          ]
        }
      ]
    },
    {
      "cell_type": "code",
      "source": [
        "txt = \"Hello, welcome to my world.\"\n",
        "x = txt.find(\"w\")\n",
        "print(x)"
      ],
      "metadata": {
        "colab": {
          "base_uri": "https://localhost:8080/"
        },
        "id": "JnIBPNrq0-ZZ",
        "outputId": "ba7088fc-937e-454f-aa84-e498ff185298"
      },
      "execution_count": null,
      "outputs": [
        {
          "output_type": "stream",
          "name": "stdout",
          "text": [
            "7\n"
          ]
        }
      ]
    },
    {
      "cell_type": "code",
      "source": [
        "txt = \"Hello, welcome to my world.\"\n",
        "x = txt.find(\"e\", 5, 10)\n",
        "print(x)"
      ],
      "metadata": {
        "colab": {
          "base_uri": "https://localhost:8080/"
        },
        "id": "PfFF3X5A1Hpv",
        "outputId": "0998b5df-5a7e-4324-e9e5-4df1292f6260"
      },
      "execution_count": null,
      "outputs": [
        {
          "output_type": "stream",
          "name": "stdout",
          "text": [
            "8\n"
          ]
        }
      ]
    },
    {
      "cell_type": "code",
      "source": [
        "txt = \"Hello, welcome to my world.\"\n",
        "print(txt.find(\"q\"))\n",
        "print(txt.index(\"q\"))"
      ],
      "metadata": {
        "colab": {
          "base_uri": "https://localhost:8080/",
          "height": 218
        },
        "id": "gm_JxLM81Ree",
        "outputId": "f6f880ac-9492-4aa3-99d8-683cfcbb23d9"
      },
      "execution_count": null,
      "outputs": [
        {
          "output_type": "stream",
          "name": "stdout",
          "text": [
            "-1\n"
          ]
        },
        {
          "output_type": "error",
          "ename": "ValueError",
          "evalue": "ignored",
          "traceback": [
            "\u001b[0;31m---------------------------------------------------------------------------\u001b[0m",
            "\u001b[0;31mValueError\u001b[0m                                Traceback (most recent call last)",
            "\u001b[0;32m<ipython-input-39-0b83cacf5522>\u001b[0m in \u001b[0;36m<module>\u001b[0;34m()\u001b[0m\n\u001b[1;32m      1\u001b[0m \u001b[0mtxt\u001b[0m \u001b[0;34m=\u001b[0m \u001b[0;34m\"Hello, welcome to my world.\"\u001b[0m\u001b[0;34m\u001b[0m\u001b[0;34m\u001b[0m\u001b[0m\n\u001b[1;32m      2\u001b[0m \u001b[0mprint\u001b[0m\u001b[0;34m(\u001b[0m\u001b[0mtxt\u001b[0m\u001b[0;34m.\u001b[0m\u001b[0mfind\u001b[0m\u001b[0;34m(\u001b[0m\u001b[0;34m\"q\"\u001b[0m\u001b[0;34m)\u001b[0m\u001b[0;34m)\u001b[0m\u001b[0;34m\u001b[0m\u001b[0;34m\u001b[0m\u001b[0m\n\u001b[0;32m----> 3\u001b[0;31m \u001b[0mprint\u001b[0m\u001b[0;34m(\u001b[0m\u001b[0mtxt\u001b[0m\u001b[0;34m.\u001b[0m\u001b[0mindex\u001b[0m\u001b[0;34m(\u001b[0m\u001b[0;34m\"q\"\u001b[0m\u001b[0;34m)\u001b[0m\u001b[0;34m)\u001b[0m\u001b[0;34m\u001b[0m\u001b[0;34m\u001b[0m\u001b[0m\n\u001b[0m",
            "\u001b[0;31mValueError\u001b[0m: substring not found"
          ]
        }
      ]
    },
    {
      "cell_type": "code",
      "source": [
        "print(\"ali\", \"ayşe\", end=\" ***\")"
      ],
      "metadata": {
        "colab": {
          "base_uri": "https://localhost:8080/"
        },
        "id": "4bgQo-ghQC3D",
        "outputId": "707bce69-caf5-461d-ef1c-51671d424120"
      },
      "execution_count": null,
      "outputs": [
        {
          "output_type": "stream",
          "name": "stdout",
          "text": [
            "ali ayşe ***"
          ]
        }
      ]
    },
    {
      "cell_type": "code",
      "source": [
        "print(\"ali\", \"ayşe\", sep=\"***\")"
      ],
      "metadata": {
        "colab": {
          "base_uri": "https://localhost:8080/"
        },
        "id": "Z_OBNnbFQj3V",
        "outputId": "6a04b86e-733c-4cd7-a861-a365d65f3d1a"
      },
      "execution_count": null,
      "outputs": [
        {
          "output_type": "stream",
          "name": "stdout",
          "text": [
            "ali***ayşe\n"
          ]
        }
      ]
    },
    {
      "cell_type": "markdown",
      "source": [
        "format() \n",
        "string.format(value1, value2...)\n",
        "\n",
        "The format() method formats the specified value(s) and insert them inside the string's placeholder.\n",
        "\n",
        "The placeholder is defined using curly brackets: {}. Read more about the placeholders in the Placeholder section below.\n",
        "\n",
        "The format() method returns the formatted string."
      ],
      "metadata": {
        "id": "0YQH9lj0R8W_"
      }
    },
    {
      "cell_type": "code",
      "source": [
        "txt1 = \"My name is {fname}, I'm {age}\".format(fname = \"John\", age = 36)\n",
        "txt2 = \"My name is {1}, I'm {0}\".format(\"John\",36)\n",
        "txt3 = \"My name is {}, I'm {}\".format(\"John\",36)\n",
        "print(txt1)\n",
        "print(txt2)\n",
        "print(txt3)"
      ],
      "metadata": {
        "colab": {
          "base_uri": "https://localhost:8080/"
        },
        "id": "M-PtPQK_R7WK",
        "outputId": "c408d4c7-2f75-42e1-d294-12993badbae2"
      },
      "execution_count": null,
      "outputs": [
        {
          "output_type": "stream",
          "name": "stdout",
          "text": [
            "My name is John, I'm 36\n",
            "My name is 36, I'm John\n",
            "My name is John, I'm 36\n"
          ]
        }
      ]
    },
    {
      "cell_type": "markdown",
      "source": [
        ":<\t\tLeft aligns the result (within the available space)\n",
        ":>\t\tRight aligns the result (within the available space)\n",
        ":^\t\tCenter aligns the result (within the available space)\n",
        ":=\t\tPlaces the sign to the left most position\n",
        ":+\t\tUse a plus sign to indicate if the result is positive or negative\n",
        ":-\t\tUse a minus sign for negative values only\n",
        ": \t\tUse a space to insert an extra space before positive numbers (and a minus sign before negative numbers)\n",
        ":,\t\tUse a comma as a thousand separator\n",
        ":_\t\tUse a underscore as a thousand separator\n",
        ":b\t\tBinary format\n",
        ":c\t\tConverts the value into the corresponding unicode character\n",
        ":d\t\tDecimal format\n",
        ":e\t\tScientific format, with a lower case e\n",
        ":E\t\tScientific format, with an upper case E\n",
        ":f\t\tFix point number format\n",
        ":F\t\tFix point number format, in uppercase format (show inf and nan as INF and NAN)\n",
        ":g\t\tGeneral format\n",
        ":G\t\tGeneral format (using a upper case E for scientific notations)\n",
        ":o\t\tOctal format\n",
        ":x\t\tHex format, lower case\n",
        ":X\t\tHex format, upper case\n",
        ":n\t\tNumber format\n",
        ":%\t\tPercentage format"
      ],
      "metadata": {
        "id": "bNYokkX3c8Ty"
      }
    },
    {
      "cell_type": "markdown",
      "source": [
        "index()     string.index(value, start, end)\n",
        "\n",
        "The index() method finds the first occurrence of the specified value.\n",
        "\n",
        "The index() method raises an exception if the value is not found.\n",
        "\n",
        "The index() method is almost the same as the find() method, the only difference is that the find() method returns -1 if the value is not found. (See example below)\n"
      ],
      "metadata": {
        "id": "hTT2vX2_eie6"
      }
    },
    {
      "cell_type": "code",
      "source": [
        "txt = \"Hello, welcome to my world.\"\n",
        "x = txt.index(\"welcome\")\n",
        "print(x)"
      ],
      "metadata": {
        "colab": {
          "base_uri": "https://localhost:8080/"
        },
        "id": "_7Vc5uHzdRV0",
        "outputId": "3d538bb6-d083-4fdc-a5df-34352d8787c2"
      },
      "execution_count": null,
      "outputs": [
        {
          "output_type": "stream",
          "name": "stdout",
          "text": [
            "7\n"
          ]
        }
      ]
    },
    {
      "cell_type": "code",
      "source": [
        "txt = \"Hello, welcome to my world.\"\n",
        "x = txt.index(\"e\", 5, 10)\n",
        "print(x)"
      ],
      "metadata": {
        "colab": {
          "base_uri": "https://localhost:8080/"
        },
        "id": "h35hIZtffOwQ",
        "outputId": "fb0bbff8-00a4-409c-cc24-0b40e8d08c40"
      },
      "execution_count": null,
      "outputs": [
        {
          "output_type": "stream",
          "name": "stdout",
          "text": [
            "8\n"
          ]
        }
      ]
    },
    {
      "cell_type": "code",
      "source": [
        "txt = \"Hello, welcome to my world.\"\n",
        "\n",
        "print(txt.find(\"q\"))  # If the value is not found, the find() method returns -1, but the index() method will raise an exception:\n",
        "print(txt.index(\"q\"))"
      ],
      "metadata": {
        "colab": {
          "base_uri": "https://localhost:8080/",
          "height": 218
        },
        "id": "MFD78Qbufb_0",
        "outputId": "f8ff65a5-e4ba-425a-99ea-0c6bbd54a54e"
      },
      "execution_count": null,
      "outputs": [
        {
          "output_type": "stream",
          "name": "stdout",
          "text": [
            "-1\n"
          ]
        },
        {
          "output_type": "error",
          "ename": "ValueError",
          "evalue": "ignored",
          "traceback": [
            "\u001b[0;31m---------------------------------------------------------------------------\u001b[0m",
            "\u001b[0;31mValueError\u001b[0m                                Traceback (most recent call last)",
            "\u001b[0;32m<ipython-input-13-233e888b7cf2>\u001b[0m in \u001b[0;36m<module>\u001b[0;34m()\u001b[0m\n\u001b[1;32m      2\u001b[0m \u001b[0;34m\u001b[0m\u001b[0m\n\u001b[1;32m      3\u001b[0m \u001b[0mprint\u001b[0m\u001b[0;34m(\u001b[0m\u001b[0mtxt\u001b[0m\u001b[0;34m.\u001b[0m\u001b[0mfind\u001b[0m\u001b[0;34m(\u001b[0m\u001b[0;34m\"q\"\u001b[0m\u001b[0;34m)\u001b[0m\u001b[0;34m)\u001b[0m\u001b[0;34m\u001b[0m\u001b[0;34m\u001b[0m\u001b[0m\n\u001b[0;32m----> 4\u001b[0;31m \u001b[0mprint\u001b[0m\u001b[0;34m(\u001b[0m\u001b[0mtxt\u001b[0m\u001b[0;34m.\u001b[0m\u001b[0mindex\u001b[0m\u001b[0;34m(\u001b[0m\u001b[0;34m\"q\"\u001b[0m\u001b[0;34m)\u001b[0m\u001b[0;34m)\u001b[0m\u001b[0;34m\u001b[0m\u001b[0;34m\u001b[0m\u001b[0m\n\u001b[0m",
            "\u001b[0;31mValueError\u001b[0m: substring not found"
          ]
        }
      ]
    },
    {
      "cell_type": "markdown",
      "source": [
        "string.isalnum()\n",
        "The isalnum() method returns True if all the characters are alphanumeric, meaning alphabet letter (a-z) and numbers (0-9).\n",
        "\n",
        "Example of characters that are not alphanumeric: (space)!#%&? etc."
      ],
      "metadata": {
        "id": "Ym3ZBvBcf8hz"
      }
    },
    {
      "cell_type": "code",
      "source": [
        "txt = \"Company12\"\n",
        "x = txt.isalnum()\n",
        "print(x)"
      ],
      "metadata": {
        "colab": {
          "base_uri": "https://localhost:8080/"
        },
        "id": "cBmAVCAof0rY",
        "outputId": "c9420fd2-ea29-4223-8344-c432c039fb97"
      },
      "execution_count": null,
      "outputs": [
        {
          "output_type": "stream",
          "name": "stdout",
          "text": [
            "True\n"
          ]
        }
      ]
    },
    {
      "cell_type": "code",
      "source": [
        "txt = \"Company 12\"\n",
        "\n",
        "x = txt.isalnum()\n",
        "\n",
        "print(x)"
      ],
      "metadata": {
        "colab": {
          "base_uri": "https://localhost:8080/"
        },
        "id": "Lx-2_ufVgLFi",
        "outputId": "390bb95f-69ca-4dcc-e9f9-d69156258fef"
      },
      "execution_count": null,
      "outputs": [
        {
          "output_type": "stream",
          "name": "stdout",
          "text": [
            "False\n"
          ]
        }
      ]
    },
    {
      "cell_type": "markdown",
      "source": [
        "isalpha()           \n",
        "string.isalpha()\n",
        "\n",
        "The isalpha() method returns True if all the characters are alphabet letters (a-z).\n",
        "\n",
        "Example of characters that are not alphabet letters: (space)!#%&? etc."
      ],
      "metadata": {
        "id": "CsMNNr7TgZ-t"
      }
    },
    {
      "cell_type": "code",
      "source": [
        "txt = \"CompanyX\"\n",
        "x = txt.isalpha()\n",
        "print(x)\n"
      ],
      "metadata": {
        "colab": {
          "base_uri": "https://localhost:8080/"
        },
        "id": "BsPn08imgmUV",
        "outputId": "6d23b096-aadf-46ef-a0bc-a049efa1996d"
      },
      "execution_count": null,
      "outputs": [
        {
          "output_type": "stream",
          "name": "stdout",
          "text": [
            "True\n"
          ]
        }
      ]
    },
    {
      "cell_type": "code",
      "source": [
        "txt = \"Company10\"\n",
        "x = txt.isalpha()\n",
        "print(x)"
      ],
      "metadata": {
        "colab": {
          "base_uri": "https://localhost:8080/"
        },
        "id": "fCLMbpilgvsb",
        "outputId": "91b49c26-afa1-4710-ad28-55ef44801ce9"
      },
      "execution_count": null,
      "outputs": [
        {
          "output_type": "stream",
          "name": "stdout",
          "text": [
            "False\n"
          ]
        }
      ]
    },
    {
      "cell_type": "markdown",
      "source": [
        "isascii() \n",
        "string.isascii()\n",
        "\n",
        "The isascii() method returns True if all the characters are ascii characters  (a-z)."
      ],
      "metadata": {
        "id": "gFTuii8ghC_F"
      }
    },
    {
      "cell_type": "code",
      "source": [
        "txt = \"Company123\"\n",
        "x = txt.isascii()\n",
        "print(x)"
      ],
      "metadata": {
        "colab": {
          "base_uri": "https://localhost:8080/"
        },
        "id": "AbzL0M3EhCEn",
        "outputId": "d25bc76a-d063-4f5e-9211-44de46a16226"
      },
      "execution_count": null,
      "outputs": [
        {
          "output_type": "stream",
          "name": "stdout",
          "text": [
            "True\n"
          ]
        }
      ]
    },
    {
      "cell_type": "markdown",
      "source": [
        "isdecimal()\n",
        "The isdecimal() method returns True if all the characters are decimals (0-9).\n",
        "\n",
        "This method is used on unicode objects.\n",
        "\n"
      ],
      "metadata": {
        "id": "R41PArK7hYiJ"
      }
    },
    {
      "cell_type": "code",
      "source": [
        "txt = \"\\u0033\" #unicode for 3\n",
        "x = txt.isdecimal()\n",
        "print(x)\n"
      ],
      "metadata": {
        "colab": {
          "base_uri": "https://localhost:8080/"
        },
        "id": "p02QTha3hk0J",
        "outputId": "20014355-74d6-449d-ab51-4b1de3695000"
      },
      "execution_count": null,
      "outputs": [
        {
          "output_type": "stream",
          "name": "stdout",
          "text": [
            "True\n"
          ]
        }
      ]
    },
    {
      "cell_type": "code",
      "source": [
        "a = \"\\u0030\" #unicode for 0\n",
        "b = \"\\u0047\" #unicode for G\n",
        "\n",
        "print(a.isdecimal())\n",
        "print(b.isdecimal())"
      ],
      "metadata": {
        "colab": {
          "base_uri": "https://localhost:8080/"
        },
        "id": "IPSwEBIjhpAQ",
        "outputId": "8d92dbdc-cb63-4b31-e73f-65c7b6e7c5e3"
      },
      "execution_count": null,
      "outputs": [
        {
          "output_type": "stream",
          "name": "stdout",
          "text": [
            "True\n",
            "False\n"
          ]
        }
      ]
    },
    {
      "cell_type": "markdown",
      "source": [
        "isdigit()\n",
        "string.isdigit()\n",
        "\n",
        "The isdigit() method returns True if all the characters are digits, otherwise False.\n",
        "\n",
        "Exponents, like ², are also considered to be a digit."
      ],
      "metadata": {
        "id": "iiHIgMfeh-hu"
      }
    },
    {
      "cell_type": "code",
      "source": [
        "txt = \"50800\"\n",
        "x = txt.isdigit()   # digit: tamsayı\n",
        "print(x)"
      ],
      "metadata": {
        "colab": {
          "base_uri": "https://localhost:8080/"
        },
        "id": "0BubKkhaiJm3",
        "outputId": "95a49d49-1045-4d9e-9ad2-f47dd9a911a0"
      },
      "execution_count": null,
      "outputs": [
        {
          "output_type": "stream",
          "name": "stdout",
          "text": [
            "True\n"
          ]
        }
      ]
    },
    {
      "cell_type": "code",
      "source": [
        "a = \"\\u0030\" #unicode for 0\n",
        "b = \"\\u00B2\" #unicode for ²\n",
        "\n",
        "print(a.isdigit())\n",
        "print(b.isdigit())"
      ],
      "metadata": {
        "colab": {
          "base_uri": "https://localhost:8080/"
        },
        "id": "GXWwWR9aifRY",
        "outputId": "5ec14249-1152-4fb2-8849-31586119c4c2"
      },
      "execution_count": null,
      "outputs": [
        {
          "output_type": "stream",
          "name": "stdout",
          "text": [
            "True\n",
            "True\n"
          ]
        }
      ]
    },
    {
      "cell_type": "markdown",
      "source": [
        "isidentifier()\n",
        "string.isidentifier()\n",
        "\n",
        "The isidentifier() method returns True if the string is a valid identifier, otherwise False.\n",
        "\n",
        "A string is considered a valid identifier if it only contains alphanumeric letters (a-z) and (0-9), or underscores (_). A valid identifier cannot start with a number, or contain any spaces."
      ],
      "metadata": {
        "id": "JUbO5UTwjBXY"
      }
    },
    {
      "cell_type": "code",
      "source": [
        "txt = \"Demo\"\n",
        "x = txt.isidentifier()\n",
        "print(x)"
      ],
      "metadata": {
        "colab": {
          "base_uri": "https://localhost:8080/"
        },
        "id": "Bsoya5FXikk_",
        "outputId": "bcfdcfa9-8bae-45ff-aca1-d446617e6e0c"
      },
      "execution_count": null,
      "outputs": [
        {
          "output_type": "stream",
          "name": "stdout",
          "text": [
            "True\n"
          ]
        }
      ]
    },
    {
      "cell_type": "code",
      "source": [
        "a = \"MyFolder\"\n",
        "b = \"Demo002\"\n",
        "c = \"2bring\"\n",
        "d = \"my demo\"\n",
        "\n",
        "print(a.isidentifier())\n",
        "print(b.isidentifier())\n",
        "print(c.isidentifier())\n",
        "print(d.isidentifier())"
      ],
      "metadata": {
        "colab": {
          "base_uri": "https://localhost:8080/"
        },
        "id": "CbvnaOxXjSuJ",
        "outputId": "b3f9e049-cb5b-48ee-d081-eee024583053"
      },
      "execution_count": null,
      "outputs": [
        {
          "output_type": "stream",
          "name": "stdout",
          "text": [
            "True\n",
            "True\n",
            "False\n",
            "False\n"
          ]
        }
      ]
    },
    {
      "cell_type": "markdown",
      "source": [
        "istitle()  \n",
        "string.istitle()\n",
        "The istitle() method returns True if all words in a text start with a upper case letter, AND the rest of the word are lower case letters, otherwise False."
      ],
      "metadata": {
        "id": "DccXjhabowFm"
      }
    },
    {
      "cell_type": "code",
      "source": [
        "txt = \"Hello, And Welcome To My World!\"\n",
        "\n",
        "x = txt.istitle()\n",
        "\n",
        "print(x)"
      ],
      "metadata": {
        "colab": {
          "base_uri": "https://localhost:8080/"
        },
        "id": "7r8AfnypN-av",
        "outputId": "fd75c808-9a02-48b5-e1be-063cab4d620c"
      },
      "execution_count": null,
      "outputs": [
        {
          "output_type": "stream",
          "name": "stdout",
          "text": [
            "True\n"
          ]
        }
      ]
    },
    {
      "cell_type": "code",
      "source": [
        "a = \"HELLO, AND WELCOME TO MY WORLD\"\n",
        "b = \"Hello\"\n",
        "c = \"22 Names\"\n",
        "d = \"This Is %'!?\"\n",
        "\n",
        "print(a.istitle())\n",
        "print(b.istitle())\n",
        "print(c.istitle())\n",
        "print(d.istitle())"
      ],
      "metadata": {
        "colab": {
          "base_uri": "https://localhost:8080/"
        },
        "id": "dcc8RMoZOGN-",
        "outputId": "e6288d35-1207-40be-c358-acc384850b01"
      },
      "execution_count": null,
      "outputs": [
        {
          "output_type": "stream",
          "name": "stdout",
          "text": [
            "False\n",
            "True\n",
            "True\n",
            "True\n"
          ]
        }
      ]
    },
    {
      "cell_type": "code",
      "source": [
        "a = \"Murat\"\n",
        "b = \"murat\"\n",
        "c = \"MURAT\"\n",
        "print(a.istitle())\n",
        "print(b.istitle())\n",
        "print(c.istitle())"
      ],
      "metadata": {
        "colab": {
          "base_uri": "https://localhost:8080/"
        },
        "id": "dRvQ1tXNOl0_",
        "outputId": "92a8b318-ee19-4acf-c231-690569812057"
      },
      "execution_count": null,
      "outputs": [
        {
          "output_type": "stream",
          "name": "stdout",
          "text": [
            "True\n",
            "False\n",
            "False\n"
          ]
        }
      ]
    },
    {
      "cell_type": "markdown",
      "source": [
        "The isupper() method returns True if all the characters are in upper case, otherwise False.\n",
        "\n",
        "Numbers, symbols and spaces are not checked, only alphabet characters."
      ],
      "metadata": {
        "id": "wX8lOYl9PRh4"
      }
    },
    {
      "cell_type": "code",
      "source": [
        "txt = \"THIS IS NOW!\"\n",
        "x = txt.isupper()\n",
        "print(x)"
      ],
      "metadata": {
        "colab": {
          "base_uri": "https://localhost:8080/"
        },
        "id": "VjAqV2xPPXgd",
        "outputId": "4ad12251-584a-46dc-f5a7-b3641e3432cc"
      },
      "execution_count": null,
      "outputs": [
        {
          "output_type": "stream",
          "name": "stdout",
          "text": [
            "True\n"
          ]
        }
      ]
    },
    {
      "cell_type": "code",
      "source": [
        "a = \"Hello World!\"\n",
        "b = \"hello 123\"\n",
        "c = \"MY NAME IS PETER\"\n",
        "\n",
        "print(a.isupper())\n",
        "print(b.isupper())\n",
        "print(c.isupper())"
      ],
      "metadata": {
        "colab": {
          "base_uri": "https://localhost:8080/"
        },
        "id": "fgStw9rKPdng",
        "outputId": "8ace1e93-dc70-46dd-e4d2-f8040b4b2634"
      },
      "execution_count": null,
      "outputs": [
        {
          "output_type": "stream",
          "name": "stdout",
          "text": [
            "False\n",
            "False\n",
            "True\n"
          ]
        }
      ]
    },
    {
      "cell_type": "code",
      "source": [
        "a = \"Hello World!\"\n",
        "b = \"hello 123\"\n",
        "c = \"MY NAME IS PETER\"\n",
        "\n",
        "print(a.islower())\n",
        "print(b.islower())\n",
        "print(c.islower())"
      ],
      "metadata": {
        "colab": {
          "base_uri": "https://localhost:8080/"
        },
        "id": "eIyscxePPmzs",
        "outputId": "ed965955-880f-4bf2-d011-137ed54f5bbe"
      },
      "execution_count": null,
      "outputs": [
        {
          "output_type": "stream",
          "name": "stdout",
          "text": [
            "False\n",
            "True\n",
            "False\n"
          ]
        }
      ]
    },
    {
      "cell_type": "markdown",
      "source": [
        "The join() method takes all items in an iterable and joins them into one string.\n",
        "string.join(iterable)\n",
        "\n",
        "A string must be specified as the separator."
      ],
      "metadata": {
        "id": "J49OCN1xP-T5"
      }
    },
    {
      "cell_type": "code",
      "source": [
        "myTuple = (\"John\", \"Peter\", \"Vicky\")\n",
        "x = \"#\".join(myTuple)\n",
        "print(x)"
      ],
      "metadata": {
        "colab": {
          "base_uri": "https://localhost:8080/"
        },
        "id": "nOOu4lpxQBUI",
        "outputId": "c4c82fb8-6d8c-41ef-c90a-3a79d286cbdf"
      },
      "execution_count": null,
      "outputs": [
        {
          "output_type": "stream",
          "name": "stdout",
          "text": [
            "John#Peter#Vicky\n"
          ]
        }
      ]
    },
    {
      "cell_type": "code",
      "source": [
        "myDict = {\"name\": \"John\", \"country\": \"Norway\"}\n",
        "mySeparator = \"TEST\"\n",
        "\n",
        "x = mySeparator.join(myDict)\n",
        "\n",
        "print(x)    # Note: When using a dictionary as an iterable, the returned values are the keys, not the values."
      ],
      "metadata": {
        "colab": {
          "base_uri": "https://localhost:8080/"
        },
        "id": "Bdz5ruS6QmQP",
        "outputId": "28bf29c8-1da6-4704-a37d-36a0d151a5b0"
      },
      "execution_count": null,
      "outputs": [
        {
          "output_type": "stream",
          "name": "stdout",
          "text": [
            "nameTESTcountry\n"
          ]
        }
      ]
    },
    {
      "cell_type": "markdown",
      "source": [
        "The replace() method replaces a specified phrase with another specified phrase.\n",
        "\n",
        "string.replace(oldvalue, newvalue, count)\n",
        "\n",
        "Note: All occurrences of the specified phrase will be replaced, if nothing else is specified."
      ],
      "metadata": {
        "id": "xUqBIwNSSuqY"
      }
    },
    {
      "cell_type": "code",
      "source": [
        "txt = \"I like bananas\"\n",
        "\n",
        "x = txt.replace(\"bananas\", \"apples\")\n",
        "\n",
        "print(x)"
      ],
      "metadata": {
        "colab": {
          "base_uri": "https://localhost:8080/"
        },
        "id": "L8qbIzSiStZW",
        "outputId": "9837090d-4ef1-42b9-928c-e8d53e16c642"
      },
      "execution_count": null,
      "outputs": [
        {
          "output_type": "stream",
          "name": "stdout",
          "text": [
            "I like apples\n"
          ]
        }
      ]
    },
    {
      "cell_type": "code",
      "source": [
        "txt = \"I like bananas\"\n",
        "x = txt.replace(\"a\", \"u\")\n",
        "print(x)"
      ],
      "metadata": {
        "colab": {
          "base_uri": "https://localhost:8080/"
        },
        "id": "lAIdimo8TAIG",
        "outputId": "38c6888d-ebcb-4d9c-b347-998235f5903f"
      },
      "execution_count": null,
      "outputs": [
        {
          "output_type": "stream",
          "name": "stdout",
          "text": [
            "I like bununus\n"
          ]
        }
      ]
    },
    {
      "cell_type": "code",
      "source": [
        "txt = \"one one was a race horse, two two was one too.\"\n",
        "x = txt.replace(\"one\", \"three\", 2)\n",
        "print(x)"
      ],
      "metadata": {
        "colab": {
          "base_uri": "https://localhost:8080/"
        },
        "id": "iwwk2_JjTSs_",
        "outputId": "b160e837-8120-47fd-82ac-5946bf0f5420"
      },
      "execution_count": null,
      "outputs": [
        {
          "output_type": "stream",
          "name": "stdout",
          "text": [
            "three three was a race horse, two two was one too.\n"
          ]
        }
      ]
    },
    {
      "cell_type": "code",
      "source": [
        "txt = \"one one was a race horse, two two was one too.\"\n",
        "x = txt.replace(\"o\", \"i\", 9)\n",
        "print(x)"
      ],
      "metadata": {
        "colab": {
          "base_uri": "https://localhost:8080/"
        },
        "id": "hEZdVnbKTl9l",
        "outputId": "643015eb-0a21-4824-b41e-201c3f1b3b4b"
      },
      "execution_count": null,
      "outputs": [
        {
          "output_type": "stream",
          "name": "stdout",
          "text": [
            "ine ine was a race hirse, twi twi was ine tii.\n"
          ]
        }
      ]
    },
    {
      "cell_type": "markdown",
      "source": [
        "partition()\n",
        "Search for the word \"bananas\", and return a tuple with three elements:\n",
        "\n",
        "1 - everything before the \"match\"\n",
        "\n",
        "2 - the \"match\"\n",
        "\n",
        "3 - everything after the \"match\""
      ],
      "metadata": {
        "id": "90iEGQ2VUrXg"
      }
    },
    {
      "cell_type": "code",
      "source": [
        "txt = \"I could eat bananas all day\"\n",
        "x = txt.partition(\"bananas\")\n",
        "print(x)"
      ],
      "metadata": {
        "colab": {
          "base_uri": "https://localhost:8080/"
        },
        "id": "c8AGEFrPUUDg",
        "outputId": "ff6f7af0-49a2-4861-f804-e5c4e007735d"
      },
      "execution_count": null,
      "outputs": [
        {
          "output_type": "stream",
          "name": "stdout",
          "text": [
            "('I could eat ', 'bananas', ' all day')\n"
          ]
        }
      ]
    },
    {
      "cell_type": "code",
      "source": [
        "txt = \"0123456789\"\n",
        "x = txt.partition(\"5\")\n",
        "print(x)"
      ],
      "metadata": {
        "colab": {
          "base_uri": "https://localhost:8080/"
        },
        "id": "xBznLJw7Ua2t",
        "outputId": "cc9bf540-e54d-49cd-84a7-5d5eb3f8ccbe"
      },
      "execution_count": null,
      "outputs": [
        {
          "output_type": "stream",
          "name": "stdout",
          "text": [
            "('01234', '5', '6789')\n"
          ]
        }
      ]
    },
    {
      "cell_type": "code",
      "source": [
        "txt = \"I could eat bananas all day\"\n",
        "x = txt.partition(\"apples\")\n",
        "print(x)  # If the specified value is not found, the partition() method returns a tuple containing:\n",
        "            # 1 - the whole string, 2 - an empty string, 3 - an empty string"
      ],
      "metadata": {
        "colab": {
          "base_uri": "https://localhost:8080/"
        },
        "id": "sgVQ1jmDVAkL",
        "outputId": "e821032d-0912-4159-a322-7e3a0d777798"
      },
      "execution_count": null,
      "outputs": [
        {
          "output_type": "stream",
          "name": "stdout",
          "text": [
            "('I could eat bananas all day', '', '')\n"
          ]
        }
      ]
    },
    {
      "cell_type": "markdown",
      "source": [
        "The split() method splits a string into a list.\n",
        "\n",
        "You can specify the separator, default separator is any whitespace.\n",
        "\n",
        "Note: When maxsplit is specified, the list will contain the specified number of elements plus one"
      ],
      "metadata": {
        "id": "0SkyEDTRVkeP"
      }
    },
    {
      "cell_type": "markdown",
      "source": [
        "string.split(separator, maxsplit)"
      ],
      "metadata": {
        "id": "aGdiVqPYV7tZ"
      }
    },
    {
      "cell_type": "code",
      "source": [
        "txt = \"welcome to the jungle\"\n",
        "x = txt.split()\n",
        "print(x)"
      ],
      "metadata": {
        "colab": {
          "base_uri": "https://localhost:8080/"
        },
        "id": "xB0tTTprVnRK",
        "outputId": "60443351-b5b3-46f7-e8ac-5b94ec19907f"
      },
      "execution_count": null,
      "outputs": [
        {
          "output_type": "stream",
          "name": "stdout",
          "text": [
            "['welcome', 'to', 'the', 'jungle']\n"
          ]
        }
      ]
    },
    {
      "cell_type": "code",
      "source": [
        "txt = \"erdogan\"\n",
        "x = txt.split()\n",
        "print(x)"
      ],
      "metadata": {
        "colab": {
          "base_uri": "https://localhost:8080/"
        },
        "id": "QaP9vL_QVuUR",
        "outputId": "16349ebf-0446-49ad-fcad-6ec3d32a20b4"
      },
      "execution_count": null,
      "outputs": [
        {
          "output_type": "stream",
          "name": "stdout",
          "text": [
            "['erdogan']\n"
          ]
        }
      ]
    },
    {
      "cell_type": "code",
      "source": [
        "txt = \"hello, my name is Peter, I am 26 years old\"\n",
        "x = txt.split(\", \")\n",
        "print(x)\n",
        "\n"
      ],
      "metadata": {
        "colab": {
          "base_uri": "https://localhost:8080/"
        },
        "id": "ELn1l0q3VUUj",
        "outputId": "1e791a7d-1695-4086-c071-f86c63b0d86f"
      },
      "execution_count": null,
      "outputs": [
        {
          "output_type": "stream",
          "name": "stdout",
          "text": [
            "['hello', 'my name is Peter', 'I am 26 years old']\n"
          ]
        }
      ]
    },
    {
      "cell_type": "code",
      "source": [
        "txt = \"apple#banana#cherry#orange\"\n",
        "x = txt.split(\"#\")\n",
        "print(x)"
      ],
      "metadata": {
        "colab": {
          "base_uri": "https://localhost:8080/"
        },
        "id": "t54uYqaEWXuA",
        "outputId": "974d5364-ac6b-4547-9318-d3178ae44a6e"
      },
      "execution_count": null,
      "outputs": [
        {
          "output_type": "stream",
          "name": "stdout",
          "text": [
            "['apple', 'banana', 'cherry', 'orange']\n"
          ]
        }
      ]
    },
    {
      "cell_type": "code",
      "source": [
        "txt = \"apple#banana#cherry#orange\"\n",
        "\n",
        "# setting the maxsplit parameter to 1, will return a list with 2 elements!\n",
        "x = txt.split(\"#\", 1)\n",
        "\n",
        "print(x)"
      ],
      "metadata": {
        "colab": {
          "base_uri": "https://localhost:8080/"
        },
        "id": "snxApFxJWqcn",
        "outputId": "fbd2a8d5-f36c-4aed-b570-750fee36a238"
      },
      "execution_count": null,
      "outputs": [
        {
          "output_type": "stream",
          "name": "stdout",
          "text": [
            "['apple', 'banana#cherry#orange']\n"
          ]
        }
      ]
    },
    {
      "cell_type": "markdown",
      "source": [
        "The swapcase() method returns a string where all the upper case letters are lower case and vice versa.\n",
        "\n"
      ],
      "metadata": {
        "id": "mSxui6y7YKQn"
      }
    },
    {
      "cell_type": "code",
      "source": [
        "txt = \"Hello My Name Is PETER\"\n",
        "x = txt.swapcase()\n",
        "print(x)"
      ],
      "metadata": {
        "colab": {
          "base_uri": "https://localhost:8080/"
        },
        "id": "fqrjQDdZYI68",
        "outputId": "d8ec6dc1-2ac9-4883-8c16-a3493fab9011"
      },
      "execution_count": null,
      "outputs": [
        {
          "output_type": "stream",
          "name": "stdout",
          "text": [
            "hELLO mY nAME iS peter\n"
          ]
        }
      ]
    },
    {
      "cell_type": "markdown",
      "source": [
        "The title() method returns a string where the first character in every word is upper case. Like a header, or a title.\n",
        "\n",
        "If the word contains a number or a symbol, the first letter after that will be converted to upper case."
      ],
      "metadata": {
        "id": "9x0d2Nn5YbDw"
      }
    },
    {
      "cell_type": "code",
      "source": [
        "txt = \"Welcome to my world\"\n",
        "x = txt.title()\n",
        "print(x)"
      ],
      "metadata": {
        "colab": {
          "base_uri": "https://localhost:8080/"
        },
        "id": "kRwi8fNEYM3l",
        "outputId": "3ae8c9cb-53a5-41ab-fbac-2e03ae0bdc1a"
      },
      "execution_count": null,
      "outputs": [
        {
          "output_type": "stream",
          "name": "stdout",
          "text": [
            "Welcome To My World\n"
          ]
        }
      ]
    },
    {
      "cell_type": "code",
      "source": [
        "txt = \"Welcome to my 2nd world\"\n",
        "x = txt.title()\n",
        "print(x)"
      ],
      "metadata": {
        "colab": {
          "base_uri": "https://localhost:8080/"
        },
        "id": "wP2DNUnkYccg",
        "outputId": "7e9c7b9e-c827-4a27-81e9-7e9e222fe0fd"
      },
      "execution_count": null,
      "outputs": [
        {
          "output_type": "stream",
          "name": "stdout",
          "text": [
            "Welcome To My 2Nd World\n"
          ]
        }
      ]
    },
    {
      "cell_type": "code",
      "source": [
        "txt = \"hello b2b2b2 and 3g3g3g\"\n",
        "x = txt.title()\n",
        "print(x) # Note that the first letter after a non-alphabet letter is converted into a upper case letter:"
      ],
      "metadata": {
        "colab": {
          "base_uri": "https://localhost:8080/"
        },
        "id": "OscOShweYr9U",
        "outputId": "00dffc0e-51df-4296-9af9-1cd48eca53fe"
      },
      "execution_count": null,
      "outputs": [
        {
          "output_type": "stream",
          "name": "stdout",
          "text": [
            "Hello B2B2B2 And 3G3G3G\n"
          ]
        }
      ]
    },
    {
      "cell_type": "markdown",
      "source": [
        "ljust()\n",
        "\n",
        "string.ljust(length, character)\n",
        "\n",
        "Length\tRequired. The length of the returned string\n",
        "character\tOptional. A character to fill the missing space (to the right of the string). Default is \" \" (space)."
      ],
      "metadata": {
        "id": "tesYc3vyZH2m"
      }
    },
    {
      "cell_type": "code",
      "source": [
        "txt = \"banana\"\n",
        "\n",
        "x = txt.ljust(20)\n",
        "\n",
        "print(x, \"is my favorite fruit.\")"
      ],
      "metadata": {
        "colab": {
          "base_uri": "https://localhost:8080/"
        },
        "id": "Dfuvl7OqZCw_",
        "outputId": "6590dc71-3f7a-475f-98cb-035015638442"
      },
      "execution_count": null,
      "outputs": [
        {
          "output_type": "stream",
          "name": "stdout",
          "text": [
            "banana               is my favorite fruit.\n"
          ]
        }
      ]
    },
    {
      "cell_type": "code",
      "source": [
        "txt = \"banana\"\n",
        "x = txt.ljust(20, \"O\")\n",
        "print(x)"
      ],
      "metadata": {
        "colab": {
          "base_uri": "https://localhost:8080/"
        },
        "id": "XiFpC_DyZYAH",
        "outputId": "998d3fec-d08b-41e3-c800-85be0563c7aa"
      },
      "execution_count": null,
      "outputs": [
        {
          "output_type": "stream",
          "name": "stdout",
          "text": [
            "bananaOOOOOOOOOOOOOO\n"
          ]
        }
      ]
    },
    {
      "cell_type": "code",
      "source": [
        "txt = \"50\"\n",
        "\n",
        "x = txt.zfill(10)\n",
        "\n",
        "print(x)"
      ],
      "metadata": {
        "colab": {
          "base_uri": "https://localhost:8080/"
        },
        "id": "9VGc2b1GZ44H",
        "outputId": "a4398c7c-44ba-4eeb-d7c3-2c174492b3eb"
      },
      "execution_count": null,
      "outputs": [
        {
          "output_type": "stream",
          "name": "stdout",
          "text": [
            "0000000050\n"
          ]
        }
      ]
    }
  ]
}