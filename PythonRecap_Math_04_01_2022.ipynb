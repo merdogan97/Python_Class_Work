{
  "nbformat": 4,
  "nbformat_minor": 0,
  "metadata": {
    "colab": {
      "name": "PythonRecap_Math_04.01.2022.ipynb",
      "provenance": [],
      "authorship_tag": "ABX9TyNslmTe7YFpgM/f11vL2BY7",
      "include_colab_link": true
    },
    "kernelspec": {
      "name": "python3",
      "display_name": "Python 3"
    },
    "language_info": {
      "name": "python"
    }
  },
  "cells": [
    {
      "cell_type": "markdown",
      "metadata": {
        "id": "view-in-github",
        "colab_type": "text"
      },
      "source": [
        "<a href=\"https://colab.research.google.com/github/merdogan97/Python_Class_Work/blob/main/PythonRecap_Math_04_01_2022.ipynb\" target=\"_parent\"><img src=\"https://colab.research.google.com/assets/colab-badge.svg\" alt=\"Open In Colab\"/></a>"
      ]
    },
    {
      "cell_type": "code",
      "execution_count": 2,
      "metadata": {
        "colab": {
          "base_uri": "https://localhost:8080/"
        },
        "id": "uN4Uj-6Mo8cZ",
        "outputId": "e3c844c9-88f9-4e21-fe2c-34502e89e33e"
      },
      "outputs": [
        {
          "output_type": "execute_result",
          "data": {
            "text/plain": [
              "<module 'math' (built-in)>"
            ]
          },
          "metadata": {},
          "execution_count": 2
        }
      ],
      "source": [
        "import math\n",
        "math                  # tanımlanarak kullnılmaya hazır "
      ]
    },
    {
      "cell_type": "code",
      "source": [
        "math.ceil(2.9)    # ..  x 'ten büyük en yakın tam sayıyı verir"
      ],
      "metadata": {
        "colab": {
          "base_uri": "https://localhost:8080/"
        },
        "id": "fjHzLCGbpVPr",
        "outputId": "0e3ad090-0d26-4168-ef67-a469fb70d5de"
      },
      "execution_count": 3,
      "outputs": [
        {
          "output_type": "execute_result",
          "data": {
            "text/plain": [
              "3"
            ]
          },
          "metadata": {},
          "execution_count": 3
        }
      ]
    },
    {
      "cell_type": "code",
      "source": [
        "math.ceil(2.5)    # ..  x 'ten büyük en yakın tam sayıyı verir"
      ],
      "metadata": {
        "colab": {
          "base_uri": "https://localhost:8080/"
        },
        "id": "7LVu-nxgp9_5",
        "outputId": "19b17e84-466e-4a4a-c0c8-48800b6d94d3"
      },
      "execution_count": 4,
      "outputs": [
        {
          "output_type": "execute_result",
          "data": {
            "text/plain": [
              "3"
            ]
          },
          "metadata": {},
          "execution_count": 4
        }
      ]
    },
    {
      "cell_type": "code",
      "source": [
        "math.ceil(2.4)    # ..  x 'ten büyük en yakın tam sayıyı verir"
      ],
      "metadata": {
        "colab": {
          "base_uri": "https://localhost:8080/"
        },
        "id": "8WItdcXJqBuE",
        "outputId": "565b67ce-7831-4275-e498-5e21bedc5415"
      },
      "execution_count": 5,
      "outputs": [
        {
          "output_type": "execute_result",
          "data": {
            "text/plain": [
              "3"
            ]
          },
          "metadata": {},
          "execution_count": 5
        }
      ]
    },
    {
      "cell_type": "code",
      "source": [
        "math.ceil(2.1)    # ..  x 'ten büyük en yakın tam sayıyı verir ceil : tavan !"
      ],
      "metadata": {
        "colab": {
          "base_uri": "https://localhost:8080/"
        },
        "id": "0EtZxcHlqHp_",
        "outputId": "b4ebfe47-cc52-41c3-aba8-4165bad5afee"
      },
      "execution_count": 6,
      "outputs": [
        {
          "output_type": "execute_result",
          "data": {
            "text/plain": [
              "3"
            ]
          },
          "metadata": {},
          "execution_count": 6
        }
      ]
    },
    {
      "cell_type": "code",
      "source": [
        "math.ceil(-2.9)   # ..  x 'ten büyük en yakın tam sayıyı verir"
      ],
      "metadata": {
        "colab": {
          "base_uri": "https://localhost:8080/"
        },
        "id": "1YJkY64GqaWx",
        "outputId": "c67375f4-aa83-476c-cdfe-fddd01f738f9"
      },
      "execution_count": 7,
      "outputs": [
        {
          "output_type": "execute_result",
          "data": {
            "text/plain": [
              "-2"
            ]
          },
          "metadata": {},
          "execution_count": 7
        }
      ]
    },
    {
      "cell_type": "code",
      "source": [
        "math.floor(2.9)          # ..  x 'ten küçük en yakın tam sayıyı verir floor : zemin !  "
      ],
      "metadata": {
        "colab": {
          "base_uri": "https://localhost:8080/"
        },
        "id": "6m-oWHNLqx5L",
        "outputId": "47038a5c-4275-4623-baf9-555040afcd39"
      },
      "execution_count": 8,
      "outputs": [
        {
          "output_type": "execute_result",
          "data": {
            "text/plain": [
              "2"
            ]
          },
          "metadata": {},
          "execution_count": 8
        }
      ]
    },
    {
      "cell_type": "code",
      "source": [
        "math.factorial(5)"
      ],
      "metadata": {
        "colab": {
          "base_uri": "https://localhost:8080/"
        },
        "id": "n_MFGxC8raXx",
        "outputId": "74c8e3da-0682-4600-f3ad-9337e39c7502"
      },
      "execution_count": 9,
      "outputs": [
        {
          "output_type": "execute_result",
          "data": {
            "text/plain": [
              "120"
            ]
          },
          "metadata": {},
          "execution_count": 9
        }
      ]
    },
    {
      "cell_type": "code",
      "source": [
        "math.pi()"
      ],
      "metadata": {
        "id": "wvxeCiIkreeI"
      },
      "execution_count": null,
      "outputs": []
    },
    {
      "cell_type": "code",
      "source": [
        "radius = 2\n",
        "print(f\"circumferences of a circle with radius{radius}: {radius*2*math.pi} \")"
      ],
      "metadata": {
        "colab": {
          "base_uri": "https://localhost:8080/"
        },
        "id": "wgIk34kwrute",
        "outputId": "de6a583c-b385-465a-e573-64cb14bfa520"
      },
      "execution_count": 14,
      "outputs": [
        {
          "output_type": "stream",
          "name": "stdout",
          "text": [
            "circumferences of a circle with radius2: 12.566370614359172 \n"
          ]
        }
      ]
    },
    {
      "cell_type": "code",
      "source": [
        "radius = 2\n",
        "print(f\"circumferences of a circle with radius{radius}: {radius*math.tau} \")    # tau = 2 Pi demek"
      ],
      "metadata": {
        "id": "iU0e8Ap8sZU0",
        "outputId": "f227a231-f875-4378-d630-6a101c8e780e",
        "colab": {
          "base_uri": "https://localhost:8080/"
        }
      },
      "execution_count": 16,
      "outputs": [
        {
          "output_type": "stream",
          "name": "stdout",
          "text": [
            "circumferences of a circle with radius2: 12.566370614359172 \n"
          ]
        }
      ]
    },
    {
      "cell_type": "markdown",
      "source": [
        "## **Number-theoretic and representation functions**\n",
        "\n",
        "# **math.ceil(x)**\n",
        "\n",
        "Return the ceiling of x, the smallest integer greater than or equal to x. If x is not a float, delegates to x.__ceil__(), which should return an Integral value.\n",
        "\n",
        "# math.comb(n, k)\n",
        "\n",
        "Return the number of ways to choose k items from n items without repetition and without order.\n",
        "\n",
        "Evaluates to n! / (k! * (n - k)!) when k <= n and evaluates to zero when k > n.\n",
        "\n",
        "Also called the binomial coefficient because it is equivalent to the coefficient of k-th term in polynomial expansion of the expression (1 + x) ** n.\n",
        "\n",
        "Raises TypeError if either of the arguments are not integers. Raises ValueError if either of the arguments are negative.\n",
        "\n",
        "New in version 3.8.\n",
        "\n",
        "# math.copysign(x, y)\n",
        "\n",
        "Return a float with the magnitude (absolute value) of x but the sign of y. On platforms that support signed zeros, copysign(1.0, -0.0) returns -1.0.\n",
        "\n",
        "# math.fabs(x)\n",
        "\n",
        "Return the absolute value of x.\n",
        "\n",
        "# math.factorial(x)\n",
        "\n",
        "Return x factorial as an integer. Raises ValueError if x is not integral or is negative.\n",
        "\n",
        "Deprecated since version 3.9: Accepting floats with integral values (like 5.0) is deprecated.\n",
        "\n",
        "# math.floor(x)\n",
        "Return the floor of x, the largest integer less than or equal to x. If x is not a float, delegates to x.__floor__(), which should return an Integral value.\n",
        "\n",
        "# math.fmod(x, y)\n",
        "Return fmod(x, y), as defined by the platform C library. Note that the Python expression x % y may not return the same result. The intent of the C standard is that fmod(x, y) be exactly (mathematically; to infinite precision) equal to x - n*y for some integer n such that the result has the same sign as x and magnitude less than abs(y). Python’s x % y returns a result with the sign of y instead, and may not be exactly computable for float arguments. For example, fmod(-1e-100, 1e100) is -1e-100, but the result of Python’s -1e-100 % 1e100 is 1e100-1e-100, which cannot be represented exactly as a float, and rounds to the surprising 1e100. For this reason, function fmod() is generally preferred when working with floats, while Python’s x % y is preferred when working with integers.\n",
        "\n",
        "# math.frexp(x)\n",
        "\n",
        "Return the mantissa and exponent of x as the pair (m, e). m is a float and e is an integer such that x == m * 2**e exactly. If x is zero, returns (0.0, 0), otherwise 0.5 <= abs(m) < 1. This is used to “pick apart” the internal representation of a float in a portable way.\n",
        "\n",
        "# math.fsum(iterable)\n",
        "\n",
        "Return an accurate floating point sum of values in the iterable. Avoids loss of precision by tracking multiple intermediate partial sums:\n",
        "\n",
        ">>>\n",
        ">>> sum([.1, .1, .1, .1, .1, .1, .1, .1, .1, .1])\n",
        "0.9999999999999999\n",
        ">>> fsum([.1, .1, .1, .1, .1, .1, .1, .1, .1, .1])\n",
        "1.0\n",
        "The algorithm’s accuracy depends on IEEE-754 arithmetic guarantees and the typical case where the rounding mode is half-even. On some non-Windows builds, the underlying C library uses extended precision addition and may occasionally double-round an intermediate sum causing it to be off in its least significant bit.\n",
        "\n",
        "For further discussion and two alternative approaches, see the ASPN cookbook recipes for accurate floating point summation.\n",
        "\n",
        "# math.gcd(*integers)\n",
        "\n",
        "Return the greatest common divisor of the specified integer arguments. If any of the arguments is nonzero, then the returned value is the largest positive integer that is a divisor of all arguments. If all arguments are zero, then the returned value is 0. gcd() without arguments returns 0.\n",
        "\n",
        "New in version 3.5.\n",
        "\n",
        "Changed in version 3.9: Added support for an arbitrary number of arguments. Formerly, only two arguments were supported.\n",
        "\n",
        "math.isclose(a, b, *, rel_tol=1e-09, abs_tol=0.0)\n",
        "Return True if the values a and b are close to each other and False otherwise.\n",
        "\n",
        "Whether or not two values are considered close is determined according to given absolute and relative tolerances.\n",
        "\n",
        "rel_tol is the relative tolerance – it is the maximum allowed difference between a and b, relative to the larger absolute value of a or b. For example, to set a tolerance of 5%, pass rel_tol=0.05. The default tolerance is 1e-09, which assures that the two values are the same within about 9 decimal digits. rel_tol must be greater than zero.\n",
        "\n",
        "abs_tol is the minimum absolute tolerance – useful for comparisons near zero. abs_tol must be at least zero.\n",
        "\n",
        "If no errors occur, the result will be: abs(a-b) <= max(rel_tol * max(abs(a), abs(b)), abs_tol).\n",
        "\n",
        "The IEEE 754 special values of NaN, inf, and -inf will be handled according to IEEE rules. Specifically, NaN is not considered close to any other value, including NaN. inf and -inf are only considered close to themselves.\n",
        "\n",
        "New in version 3.5.\n",
        "\n",
        "See also PEP 485 – A function for testing approximate equality\n",
        "math.isfinite(x)\n",
        "Return True if x is neither an infinity nor a NaN, and False otherwise. (Note that 0.0 is considered finite.)\n",
        "\n",
        "New in version 3.2.\n",
        "\n",
        "# math.isinf(x)\n",
        "\n",
        "Return True if x is a positive or negative infinity, and False otherwise.\n",
        "\n",
        "math.isnan(x)\n",
        "Return True if x is a NaN (not a number), and False otherwise.\n",
        "\n",
        "math.isqrt(n)\n",
        "Return the integer square root of the nonnegative integer n. This is the floor of the exact square root of n, or equivalently the greatest integer a such that a² ≤ n.\n",
        "\n",
        "For some applications, it may be more convenient to have the least integer a such that n ≤ a², or in other words the ceiling of the exact square root of n. For positive n, this can be computed using a = 1 + isqrt(n - 1).\n",
        "\n",
        "New in version 3.8.\n",
        "\n",
        "math.lcm(*integers)\n",
        "Return the least common multiple of the specified integer arguments. If all arguments are nonzero, then the returned value is the smallest positive integer that is a multiple of all arguments. If any of the arguments is zero, then the returned value is 0. lcm() without arguments returns 1.\n",
        "\n",
        "New in version 3.9.\n",
        "\n",
        "math.ldexp(x, i)\n",
        "Return x * (2**i). This is essentially the inverse of function frexp().\n",
        "\n",
        "math.modf(x)\n",
        "Return the fractional and integer parts of x. Both results carry the sign of x and are floats.\n",
        "\n",
        "math.nextafter(x, y)\n",
        "Return the next floating-point value after x towards y.\n",
        "\n",
        "If x is equal to y, return y.\n",
        "\n",
        "Examples:\n",
        "\n",
        "math.nextafter(x, math.inf) goes up: towards positive infinity.\n",
        "\n",
        "math.nextafter(x, -math.inf) goes down: towards minus infinity.\n",
        "\n",
        "math.nextafter(x, 0.0) goes towards zero.\n",
        "\n",
        "math.nextafter(x, math.copysign(math.inf, x)) goes away from zero.\n",
        "\n",
        "See also math.ulp().\n",
        "\n",
        "New in version 3.9.\n",
        "\n",
        "math.perm(n, k=None)\n",
        "Return the number of ways to choose k items from n items without repetition and with order.\n",
        "\n",
        "Evaluates to n! / (n - k)! when k <= n and evaluates to zero when k > n.\n",
        "\n",
        "If k is not specified or is None, then k defaults to n and the function returns n!.\n",
        "\n",
        "Raises TypeError if either of the arguments are not integers. Raises ValueError if either of the arguments are negative.\n",
        "\n",
        "New in version 3.8.\n",
        "\n",
        "math.prod(iterable, *, start=1)\n",
        "Calculate the product of all the elements in the input iterable. The default start value for the product is 1.\n",
        "\n",
        "When the iterable is empty, return the start value. This function is intended specifically for use with numeric values and may reject non-numeric types.\n",
        "\n",
        "New in version 3.8.\n",
        "\n",
        "# math.remainder(x, y)\n",
        "\n",
        "Return the IEEE 754-style remainder of x with respect to y. For finite x and finite nonzero y, this is the difference x - n*y, where n is the closest integer to the exact value of the quotient x / y. If x / y is exactly halfway between two consecutive integers, the nearest even integer is used for n. The remainder r = remainder(x, y) thus always satisfies abs(r) <= 0.5 * abs(y).\n",
        "\n",
        "Special cases follow IEEE 754: in particular, remainder(x, math.inf) is x for any finite x, and remainder(x, 0) and remainder(math.inf, x) raise ValueError for any non-NaN x. If the result of the remainder operation is zero, that zero will have the same sign as x.\n",
        "\n",
        "On platforms using IEEE 754 binary floating-point, the result of this operation is always exactly representable: no rounding error is introduced.\n",
        "\n",
        "New in version 3.7.\n",
        "\n",
        "math.trunc(x)\n",
        "Return the Real value x truncated to an Integral (usually an integer). Delegates to x.__trunc__().\n",
        "\n",
        "math.ulp(x)\n",
        "Return the value of the least significant bit of the float x:\n",
        "\n",
        "If x is a NaN (not a number), return x.\n",
        "\n",
        "If x is negative, return ulp(-x).\n",
        "\n",
        "If x is a positive infinity, return x.\n",
        "\n",
        "If x is equal to zero, return the smallest positive denormalized representable float (smaller than the minimum positive normalized float, sys.float_info.min).\n",
        "\n",
        "If x is equal to the largest positive representable float, return the value of the least significant bit of x, such that the first float smaller than x is x - ulp(x).\n",
        "\n",
        "Otherwise (x is a positive finite number), return the value of the least significant bit of x, such that the first float bigger than x is x + ulp(x).\n",
        "\n",
        "ULP stands for “Unit in the Last Place”.\n",
        "\n",
        "See also math.nextafter() and sys.float_info.epsilon.\n",
        "\n",
        "New in version 3.9.\n",
        "\n",
        "Note that frexp() and modf() have a different call/return pattern than their C equivalents: they take a single argument and return a pair of values, rather than returning their second return value through an ‘output parameter’ (there is no such thing in Python).\n",
        "\n",
        "For the ceil(), floor(), and modf() functions, note that all floating-point numbers of sufficiently large magnitude are exact integers. Python floats typically carry no more than 53 bits of precision (the same as the platform C double type), in which case any float x with abs(x) >= 2**52 necessarily has no fractional bits.\n",
        "\n",
        "Power and logarithmic functions\n",
        "math.exp(x)\n",
        "Return e raised to the power x, where e = 2.718281… is the base of natural logarithms. This is usually more accurate than math.e ** x or pow(math.e, x).\n",
        "\n",
        "math.expm1(x)\n",
        "Return e raised to the power x, minus 1. Here e is the base of natural logarithms. For small floats x, the subtraction in exp(x) - 1 can result in a significant loss of precision; the expm1() function provides a way to compute this quantity to full precision:\n",
        "\n",
        ">>>\n",
        ">>> from math import exp, expm1\n",
        ">>> exp(1e-5) - 1  # gives result accurate to 11 places\n",
        "1.0000050000069649e-05\n",
        ">>> expm1(1e-5)    # result accurate to full precision\n",
        "1.0000050000166668e-05\n",
        "New in version 3.2.\n",
        "\n",
        "math.log(x[, base])\n",
        "With one argument, return the natural logarithm of x (to base e).\n",
        "\n",
        "With two arguments, return the logarithm of x to the given base, calculated as log(x)/log(base).\n",
        "\n",
        "math.log1p(x)\n",
        "\n",
        "Return the natural logarithm of 1+x (base e). The result is calculated in a way which is accurate for x near zero.\n",
        "\n",
        "math.log2(x)\n",
        "\n",
        "Return the base-2 logarithm of x. This is usually more accurate than log(x, 2).\n",
        "\n",
        "New in version 3.3.\n",
        "\n",
        "See also int.bit_length() returns the number of bits necessary to represent an integer in binary, excluding the sign and leading zeros.\n",
        "math.log10(x)\n",
        "Return the base-10 logarithm of x. This is usually more accurate than log(x, 10).\n",
        "\n",
        "# math.pow(x, y)\n",
        "\n",
        "Return x raised to the power y. Exceptional cases follow Annex ‘F’ of the C99 standard as far as possible. In particular, pow(1.0, x) and pow(x, 0.0) always return 1.0, even when x is a zero or a NaN. If both x and y are finite, x is negative, and y is not an integer then pow(x, y) is undefined, and raises ValueError.\n",
        "\n",
        "Unlike the built-in ** operator, math.pow() converts both its arguments to type float. Use ** or the built-in pow() function for computing exact integer powers.\n",
        "\n",
        "math.sqrt(x)\n",
        "Return the square root of x.\n",
        "\n",
        "Trigonometric functions\n",
        "math.acos(x)\n",
        "Return the arc cosine of x, in radians. The result is between 0 and pi.\n",
        "\n",
        "math.asin(x)\n",
        "Return the arc sine of x, in radians. The result is between -pi/2 and pi/2.\n",
        "\n",
        "math.atan(x)\n",
        "Return the arc tangent of x, in radians. The result is between -pi/2 and pi/2.\n",
        "\n",
        "math.atan2(y, x)\n",
        "Return atan(y / x), in radians. The result is between -pi and pi. The vector in the plane from the origin to point (x, y) makes this angle with the positive X axis. The point of atan2() is that the signs of both inputs are known to it, so it can compute the correct quadrant for the angle. For example, atan(1) and atan2(1, 1) are both pi/4, but atan2(-1, -1) is -3*pi/4.\n",
        "\n",
        "math.cos(x)\n",
        "Return the cosine of x radians.\n",
        "\n",
        "math.dist(p, q)\n",
        "Return the Euclidean distance between two points p and q, each given as a sequence (or iterable) of coordinates. The two points must have the same dimension.\n",
        "\n",
        "Roughly equivalent to:\n",
        "\n",
        "sqrt(sum((px - qx) ** 2.0 for px, qx in zip(p, q)))\n",
        "New in version 3.8.\n",
        "\n",
        "math.hypot(*coordinates)\n",
        "Return the Euclidean norm, sqrt(sum(x**2 for x in coordinates)). This is the length of the vector from the origin to the point given by the coordinates.\n",
        "\n",
        "For a two dimensional point (x, y), this is equivalent to computing the hypotenuse of a right triangle using the Pythagorean theorem, sqrt(x*x + y*y).\n",
        "\n",
        "Changed in version 3.8: Added support for n-dimensional points. Formerly, only the two dimensional case was supported.\n",
        "\n",
        "Changed in version 3.10: Improved the algorithm’s accuracy so that the maximum error is under 1 ulp (unit in the last place). More typically, the result is almost always correctly rounded to within 1/2 ulp.\n",
        "\n",
        "math.sin(x)\n",
        "Return the sine of x radians.\n",
        "\n",
        "math.tan(x)\n",
        "Return the tangent of x radians.\n",
        "\n",
        "Angular conversion\n",
        "math.degrees(x)\n",
        "Convert angle x from radians to degrees.\n",
        "\n",
        "math.radians(x)\n",
        "Convert angle x from degrees to radians.\n",
        "\n",
        "Hyperbolic functions\n",
        "Hyperbolic functions are analogs of trigonometric functions that are based on hyperbolas instead of circles.\n",
        "\n",
        "math.acosh(x)\n",
        "Return the inverse hyperbolic cosine of x.\n",
        "\n",
        "math.asinh(x)\n",
        "Return the inverse hyperbolic sine of x.\n",
        "\n",
        "math.atanh(x)\n",
        "Return the inverse hyperbolic tangent of x.\n",
        "\n",
        "math.cosh(x)\n",
        "Return the hyperbolic cosine of x.\n",
        "\n",
        "math.sinh(x)\n",
        "Return the hyperbolic sine of x.\n",
        "\n",
        "math.tanh(x)\n",
        "Return the hyperbolic tangent of x.\n",
        "\n",
        "Special functions\n",
        "math.erf(x)\n",
        "Return the error function at x.\n",
        "\n",
        "The erf() function can be used to compute traditional statistical functions such as the cumulative standard normal distribution:\n",
        "\n",
        "def phi(x):\n",
        "    'Cumulative distribution function for the standard normal distribution'\n",
        "    return (1.0 + erf(x / sqrt(2.0))) / 2.0\n",
        "New in version 3.2.\n",
        "\n",
        "math.erfc(x)\n",
        "Return the complementary error function at x. The complementary error function is defined as 1.0 - erf(x). It is used for large values of x where a subtraction from one would cause a loss of significance.\n",
        "\n",
        "New in version 3.2.\n",
        "\n",
        "math.gamma(x)\n",
        "Return the Gamma function at x.\n",
        "\n",
        "New in version 3.2.\n",
        "\n",
        "math.lgamma(x)\n",
        "Return the natural logarithm of the absolute value of the Gamma function at x.\n",
        "\n",
        "New in version 3.2.\n",
        "\n",
        "Constants\n",
        "math.pi\n",
        "The mathematical constant π = 3.141592…, to available precision.\n",
        "\n",
        "math.e\n",
        "The mathematical constant e = 2.718281…, to available precision.\n",
        "\n",
        "math.tau\n",
        "The mathematical constant τ = 6.283185…, to available precision. Tau is a circle constant equal to 2π, the ratio of a circle’s circumference to its radius. To learn more about Tau, check out Vi Hart’s video Pi is (still) Wrong, and start celebrating Tau day by eating twice as much pie!\n",
        "\n",
        "New in version 3.6.\n",
        "\n",
        "math.inf\n",
        "A floating-point positive infinity. (For negative infinity, use -math.inf.) Equivalent to the output of float('inf').\n",
        "\n",
        "New in version 3.5.\n",
        "\n",
        "math.nan\n",
        "A floating-point “not a number” (NaN) value. Equivalent to the output of float('nan').\n",
        "\n",
        "New in version 3.5.\n",
        "\n",
        "CPython implementation detail: The math module consists mostly of thin wrappers around the platform C math library functions. Behavior in exceptional cases follows Annex F of the C99 standard where appropriate. The current implementation will raise ValueError for invalid operations like sqrt(-1.0) or log(0.0) (where C99 Annex F recommends signaling invalid operation or divide-by-zero), and OverflowError for results that overflow (for example, exp(1000.0)). A NaN will not be returned from any of the functions above unless one or more of the input arguments was a NaN; in that case, most functions will return a NaN, but (again following C99 Annex F) there are some exceptions to this rule, for example pow(float('nan'), 0.0) or hypot(float('nan'), float('inf')).\n",
        "\n",
        "Note that Python makes no effort to distinguish signaling NaNs from quiet NaNs, and behavior for signaling NaNs remains unspecified. Typical behavior is to treat all NaNs as though they were quiet."
      ],
      "metadata": {
        "id": "GntqFORLtPfE"
      }
    },
    {
      "cell_type": "code",
      "source": [
        ""
      ],
      "metadata": {
        "id": "1NLiEDHVuSbM"
      },
      "execution_count": null,
      "outputs": []
    }
  ]
}