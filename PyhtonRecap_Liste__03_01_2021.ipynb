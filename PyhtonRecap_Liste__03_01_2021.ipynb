{
  "nbformat": 4,
  "nbformat_minor": 0,
  "metadata": {
    "colab": {
      "name": "PyhtonRecap_Liste _03.01.2021.ipynb",
      "provenance": [],
      "collapsed_sections": [],
      "authorship_tag": "ABX9TyNnpcLvf4amRU54t9K6MbCr",
      "include_colab_link": true
    },
    "kernelspec": {
      "name": "python3",
      "display_name": "Python 3"
    },
    "language_info": {
      "name": "python"
    }
  },
  "cells": [
    {
      "cell_type": "markdown",
      "metadata": {
        "id": "view-in-github",
        "colab_type": "text"
      },
      "source": [
        "<a href=\"https://colab.research.google.com/github/merdogan97/Python_Class_Work/blob/main/PyhtonRecap_Liste__03_01_2021.ipynb\" target=\"_parent\"><img src=\"https://colab.research.google.com/assets/colab-badge.svg\" alt=\"Open In Colab\"/></a>"
      ]
    },
    {
      "cell_type": "code",
      "execution_count": 3,
      "metadata": {
        "colab": {
          "base_uri": "https://localhost:8080/"
        },
        "id": "Rb6pJpJoEeTK",
        "outputId": "9a6e3dbb-b36f-4fdc-809d-d83ea1964acb"
      },
      "outputs": [
        {
          "output_type": "stream",
          "name": "stdout",
          "text": [
            "[1, 4, 9, 16, 25, 36, 49, 64, 81, 100]\n"
          ]
        }
      ],
      "source": [
        "numbers = [1,2,3,4,5,6,7,8,9,10]\n",
        "squares = []\n",
        "for i in numbers:\n",
        "  x = i**2\n",
        "  squares.append(x)\n",
        "print(squares)"
      ]
    },
    {
      "cell_type": "code",
      "source": [
        "numbers = [1,2,3,4,5,6,7,8,9,10]\n",
        "squares = []\n",
        "for number in numbers:\n",
        "  squares.append(number**2)\n",
        "print(squares)"
      ],
      "metadata": {
        "colab": {
          "base_uri": "https://localhost:8080/"
        },
        "id": "DVp6YVRkIJKF",
        "outputId": "3e219958-4b81-4b39-d938-d10384e3f02a"
      },
      "execution_count": 4,
      "outputs": [
        {
          "output_type": "stream",
          "name": "stdout",
          "text": [
            "[1, 4, 9, 16, 25, 36, 49, 64, 81, 100]\n"
          ]
        }
      ]
    },
    {
      "cell_type": "code",
      "source": [
        "numbers = [1,2,3,4,5,6,7,8,9,10]\n",
        "squares2 = []\n",
        "squares2= [number**2 for number in numbers]\n",
        "print(squares2)\n"
      ],
      "metadata": {
        "colab": {
          "base_uri": "https://localhost:8080/"
        },
        "id": "xk-7WsUzIyHN",
        "outputId": "28b6f33c-c15a-4407-aa38-49c7c7a5f039"
      },
      "execution_count": 12,
      "outputs": [
        {
          "output_type": "stream",
          "name": "stdout",
          "text": [
            "[1, 4, 9, 16, 25, 36, 49, 64, 81, 100]\n"
          ]
        }
      ]
    },
    {
      "cell_type": "code",
      "source": [
        "numbers = [1,2,3,4,5,6,7,8,9,10]\n",
        "squares = []\n",
        "for number in range(1, 11):\n",
        "  squares.append(number**2)\n",
        "print(squares)"
      ],
      "metadata": {
        "colab": {
          "base_uri": "https://localhost:8080/"
        },
        "id": "zPtu16l1KYeo",
        "outputId": "d38c82c0-37cd-442b-c2a8-089e275237d0"
      },
      "execution_count": 15,
      "outputs": [
        {
          "output_type": "stream",
          "name": "stdout",
          "text": [
            "[1, 4, 9, 16, 25, 36, 49, 64, 81, 100]\n"
          ]
        }
      ]
    },
    {
      "cell_type": "markdown",
      "source": [
        "Eşkenar üçgenlerin alanlarını hesaplayalım."
      ],
      "metadata": {
        "id": "3iixV3v3LO_x"
      }
    },
    {
      "cell_type": "code",
      "source": [
        "# area = (side**2)*(3**(1/2)))/4\n",
        "areas_triangle = [((side**2)*(3**(1/2)))/4 for side in range(1, 11)]\n",
        "print(areas_triangle)"
      ],
      "metadata": {
        "colab": {
          "base_uri": "https://localhost:8080/"
        },
        "id": "D-FtefuNLN6t",
        "outputId": "1155b302-9d6f-4ae4-e000-493d369e6687"
      },
      "execution_count": 21,
      "outputs": [
        {
          "output_type": "stream",
          "name": "stdout",
          "text": [
            "[0.4330127018922193, 1.7320508075688772, 3.8971143170299736, 6.928203230275509, 10.825317547305483, 15.588457268119894, 21.217622392718745, 27.712812921102035, 35.074028853269766, 43.30127018922193] \n",
            "\n"
          ]
        }
      ]
    },
    {
      "cell_type": "markdown",
      "source": [
        "Bir liste oluşturalım 100 sayılardan 3 bölünebilen çift sayılar olsun"
      ],
      "metadata": {
        "id": "xRG7VL6ENShi"
      }
    },
    {
      "cell_type": "code",
      "source": [
        "numbers =[number for number in range(2, 101, 2) if number % 3 == 0]\n",
        "print(numbers)"
      ],
      "metadata": {
        "colab": {
          "base_uri": "https://localhost:8080/"
        },
        "id": "D8aJx6ypNftG",
        "outputId": "ff476be6-252f-4ce7-eaa7-5e10f6afc56e"
      },
      "execution_count": 24,
      "outputs": [
        {
          "output_type": "stream",
          "name": "stdout",
          "text": [
            "[6, 12, 18, 24, 30, 36, 42, 48, 54, 60, 66, 72, 78, 84, 90, 96]\n"
          ]
        }
      ]
    },
    {
      "cell_type": "markdown",
      "source": [
        "\n",
        "\n",
        "# Lİstede \"O\" ile başlayan isimleri çağıralım"
      ],
      "metadata": {
        "id": "E4AInrh-O1Be"
      }
    },
    {
      "cell_type": "code",
      "source": [
        "names = ['Onur', 'Leyla', 'Lale', 'Osman', 'Jale', 'Orçun']\n",
        "\n",
        "namesstartwithO = [name for name in names if name.startswith('O')]\n",
        "print(namesstartwithO)"
      ],
      "metadata": {
        "colab": {
          "base_uri": "https://localhost:8080/"
        },
        "id": "SL7Rf_vsO6U4",
        "outputId": "2f9dcfdb-bcca-47bf-94df-1a3ec21e4236"
      },
      "execution_count": 29,
      "outputs": [
        {
          "output_type": "stream",
          "name": "stdout",
          "text": [
            "['Onur', 'Osman', 'Orçun']\n"
          ]
        }
      ]
    },
    {
      "cell_type": "code",
      "source": [
        "list1 = [10,20,30]\n",
        "list2 = [3,7,11,13]\n",
        "\n",
        "newlist= []\n",
        "\n",
        "for x in list1 :\n",
        "  for y in list2:\n",
        "    newlist.append(x*y)\n",
        "print(newlist)\n"
      ],
      "metadata": {
        "colab": {
          "base_uri": "https://localhost:8080/"
        },
        "id": "YxWO5p4aQvUn",
        "outputId": "3be5a964-16ac-4448-f9a8-78ca49b70105"
      },
      "execution_count": 31,
      "outputs": [
        {
          "output_type": "stream",
          "name": "stdout",
          "text": [
            "[30, 70, 110, 130, 60, 140, 220, 260, 90, 210, 330, 390]\n"
          ]
        }
      ]
    },
    {
      "cell_type": "code",
      "source": [
        "list1 = [10,20,30]\n",
        "list2 = [3,7,11,13]\n",
        "\n",
        "newlist= [x*y for x in list1 for y in list2]\n",
        "print(newlist)"
      ],
      "metadata": {
        "colab": {
          "base_uri": "https://localhost:8080/"
        },
        "id": "AUBVDI8ER6kg",
        "outputId": "bc9e26e5-6d6c-469d-bc66-f33497f4c84e"
      },
      "execution_count": 32,
      "outputs": [
        {
          "output_type": "stream",
          "name": "stdout",
          "text": [
            "[30, 70, 110, 130, 60, 140, 220, 260, 90, 210, 330, 390]\n"
          ]
        }
      ]
    },
    {
      "cell_type": "code",
      "source": [
        "# 200 ten büyük ifadeleri görmek istemiyorsak \n",
        "list1 = [10,20,30]\n",
        "list2 = [3,7,11,13]\n",
        "\n",
        "newlist= [x*y for x in list1 for y in list2 if x*y <= 200]\n",
        "print(newlist)"
      ],
      "metadata": {
        "colab": {
          "base_uri": "https://localhost:8080/"
        },
        "id": "NZrsbmUgSehW",
        "outputId": "f0758b0b-8536-4f0f-c9ac-dcc9a7595f8c"
      },
      "execution_count": 34,
      "outputs": [
        {
          "output_type": "stream",
          "name": "stdout",
          "text": [
            "[30, 70, 110, 130, 60, 140, 90]\n"
          ]
        }
      ]
    },
    {
      "cell_type": "code",
      "source": [
        "# 120 listede varmı? \n",
        "list1 = [10,20,30]\n",
        "list2 = [3,7,11,13]\n",
        "\n",
        "if 130 in  [x*y for x in list1 for y in list2 if x*y <= 200]:\n",
        "  print(\"130 is in the list\")"
      ],
      "metadata": {
        "colab": {
          "base_uri": "https://localhost:8080/"
        },
        "id": "vn3zAzYxTVPf",
        "outputId": "7dda674b-7cf5-4086-d579-01adc46165cc"
      },
      "execution_count": 38,
      "outputs": [
        {
          "output_type": "stream",
          "name": "stdout",
          "text": [
            "130 is in the list\n"
          ]
        }
      ]
    },
    {
      "cell_type": "code",
      "source": [
        "coordinates = [5,3,3]\n",
        "multiply = coordinates[0]* coordinates[1]* coordinates[2]\n",
        "print(multiply)"
      ],
      "metadata": {
        "colab": {
          "base_uri": "https://localhost:8080/"
        },
        "id": "a4n2zfZ9jh_B",
        "outputId": "84a68115-1585-4e90-c567-6f625725d32a"
      },
      "execution_count": 39,
      "outputs": [
        {
          "output_type": "stream",
          "name": "stdout",
          "text": [
            "45\n"
          ]
        }
      ]
    },
    {
      "cell_type": "code",
      "source": [
        "coordinates = [5,3,3]\n",
        "x = coordinates[0]\n",
        "y = coordinates[1]\n",
        "z = coordinates[2]\n",
        "multiply = x* y* z\n",
        "print(multiply)"
      ],
      "metadata": {
        "colab": {
          "base_uri": "https://localhost:8080/"
        },
        "id": "_q_nH_IHkBDf",
        "outputId": "0564c5eb-a5dc-4443-bb7f-d5543c15b8a2"
      },
      "execution_count": 40,
      "outputs": [
        {
          "output_type": "stream",
          "name": "stdout",
          "text": [
            "45\n"
          ]
        }
      ]
    },
    {
      "cell_type": "code",
      "source": [
        "coordinates = [5,3,3]     \n",
        "coordinates = x,y,z  #unpacking\n",
        "multiply = x*y*z\n",
        "print(multiply)"
      ],
      "metadata": {
        "colab": {
          "base_uri": "https://localhost:8080/"
        },
        "id": "Wl3DfA7fkkmi",
        "outputId": "8be41025-61b6-4f52-d09f-183d93a56bba"
      },
      "execution_count": 41,
      "outputs": [
        {
          "output_type": "stream",
          "name": "stdout",
          "text": [
            "45\n"
          ]
        }
      ]
    },
    {
      "cell_type": "code",
      "source": [
        "coordinates = [5,3,3,4,2,7]     \n",
        "coordinates[0:3] = x,y,z  #unpacking\n",
        "multiply = x*y*z\n",
        "print(multiply)"
      ],
      "metadata": {
        "colab": {
          "base_uri": "https://localhost:8080/"
        },
        "id": "3a4vHg2zlCuQ",
        "outputId": "89846da8-3258-482b-fbcb-93b3843a3a12"
      },
      "execution_count": 43,
      "outputs": [
        {
          "output_type": "stream",
          "name": "stdout",
          "text": [
            "45\n"
          ]
        }
      ]
    },
    {
      "cell_type": "markdown",
      "source": [
        "kullanıcıdN EN Az 10 adet tamsayı almamızı ve mükerrrer olanları silmemmizi istiyorum."
      ],
      "metadata": {
        "id": "G20aRIbwmR7R"
      }
    },
    {
      "cell_type": "code",
      "source": [
        "numbers = []\n",
        "uniques = []\n",
        "\n",
        "ndex = 1   # ilk girileni 1 olrk tanımladım\n",
        "while True:  # ne kadar dönceğimi bilmediğim için while ile yaparım..\n",
        "  number = input(f\"Enter an integer number({index}): \")\n",
        "  if number == \"\" and index > 10:\n",
        "    break\n",
        "  elif number == \"\":\n",
        "    continue\n",
        "  numbers.append(int(number))\n",
        "  if int(number) not in uniques:\n",
        "    uniques.append(int(number))\n",
        "  index += 1\n",
        "print(numbers)\n",
        "print(uniques)"
      ],
      "metadata": {
        "colab": {
          "base_uri": "https://localhost:8080/"
        },
        "id": "X6qyQ3j1mdlC",
        "outputId": "6646a4b5-14b2-41c4-fd50-55091ab14755"
      },
      "execution_count": 48,
      "outputs": [
        {
          "output_type": "stream",
          "name": "stdout",
          "text": [
            "Enter an integer number(18): 1\n",
            "Enter an integer number(19): 3\n",
            "Enter an integer number(20): 4\n",
            "Enter an integer number(21): 5\n",
            "Enter an integer number(22): 6\n",
            "Enter an integer number(23): 4\n",
            "Enter an integer number(24): 7\n",
            "Enter an integer number(25): 8\n",
            "Enter an integer number(26): 6\n",
            "Enter an integer number(27): 8\n",
            "Enter an integer number(28): 9\n",
            "Enter an integer number(29): 1\n",
            "Enter an integer number(30): 3\n",
            "Enter an integer number(31): 4\n",
            "Enter an integer number(32): 5\n",
            "Enter an integer number(33): \n",
            "[1, 3, 4, 5, 6, 4, 7, 8, 6, 8, 9, 1, 3, 4, 5]\n",
            "[1, 3, 4, 5, 6, 7, 8, 9]\n"
          ]
        }
      ]
    },
    {
      "cell_type": "markdown",
      "source": [
        "**Kullanıcıdan en az 5 farklo isim girmesini  ve eğer girdiği isim daha önce girilmişse hata vermeaisini girilmemişse listeyye eklenmesini istiyorum. program çıkışınd OLUŞAN listwyi termimnale bastırsın.**"
      ],
      "metadata": {
        "id": "fphIb9NjllJd"
      }
    },
    {
      "cell_type": "code",
      "source": [
        ""
      ],
      "metadata": {
        "id": "EnTLNiVfmIcX"
      },
      "execution_count": null,
      "outputs": []
    }
  ]
}