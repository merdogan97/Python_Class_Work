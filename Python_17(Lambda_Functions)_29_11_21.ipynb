{
  "nbformat": 4,
  "nbformat_minor": 0,
  "metadata": {
    "colab": {
      "name": "Python_17(Lambda Functions)_29.11.21.ipynb",
      "provenance": [],
      "collapsed_sections": [],
      "authorship_tag": "ABX9TyNr8f6xhjx1vZbgcHpRKk0b",
      "include_colab_link": true
    },
    "kernelspec": {
      "name": "python3",
      "display_name": "Python 3"
    },
    "language_info": {
      "name": "python"
    }
  },
  "cells": [
    {
      "cell_type": "markdown",
      "metadata": {
        "id": "view-in-github",
        "colab_type": "text"
      },
      "source": [
        "<a href=\"https://colab.research.google.com/github/merdogan97/Python_Class_Work/blob/main/Python_17(Lambda_Functions)_29_11_21.ipynb\" target=\"_parent\"><img src=\"https://colab.research.google.com/assets/colab-badge.svg\" alt=\"Open In Colab\"/></a>"
      ]
    },
    {
      "cell_type": "code",
      "metadata": {
        "id": "kqbaLPKV4dIn"
      },
      "source": [
        ""
      ],
      "execution_count": null,
      "outputs": []
    },
    {
      "cell_type": "markdown",
      "metadata": {
        "id": "SfkGekpm48RB"
      },
      "source": [
        ""
      ]
    },
    {
      "cell_type": "markdown",
      "metadata": {
        "id": "a61l5iD95qPX"
      },
      "source": [
        ""
      ]
    },
    {
      "cell_type": "code",
      "metadata": {
        "colab": {
          "base_uri": "https://localhost:8080/"
        },
        "id": "wyoEKx6C5qfx",
        "outputId": "5afd241f-173e-4f0d-adbc-69e9d75ce6a2"
      },
      "source": [
        "lambda x,y :(x+y)/2"
      ],
      "execution_count": null,
      "outputs": [
        {
          "output_type": "execute_result",
          "data": {
            "text/plain": [
              "<function __main__.<lambda>>"
            ]
          },
          "metadata": {},
          "execution_count": 1
        }
      ]
    },
    {
      "cell_type": "code",
      "metadata": {
        "id": "S_HI3j9h54Ao"
      },
      "source": [
        "\n",
        "lambda x: 'odd' if x%2 != 0 else 'even'     # on the air... Argüman göndermemiz gerekir.."
      ],
      "execution_count": null,
      "outputs": []
    },
    {
      "cell_type": "code",
      "metadata": {
        "colab": {
          "base_uri": "https://localhost:8080/"
        },
        "id": "u9d4dXPf6T1m",
        "outputId": "13bf3601-4640-4cec-e4cd-de3a3c768e31"
      },
      "source": [
        "print((lambda x: x**2)(2))    #argüman yolla."
      ],
      "execution_count": null,
      "outputs": [
        {
          "output_type": "stream",
          "name": "stdout",
          "text": [
            "4\n"
          ]
        }
      ]
    },
    {
      "cell_type": "code",
      "metadata": {
        "colab": {
          "base_uri": "https://localhost:8080/",
          "height": 35
        },
        "id": "PRGqeaNE6mq8",
        "outputId": "ee702c9c-449b-40b3-d77d-9816975b1803"
      },
      "source": [
        "(lambda x: 'odd' if x%2 != 0 else 'even')(3)"
      ],
      "execution_count": null,
      "outputs": [
        {
          "output_type": "execute_result",
          "data": {
            "application/vnd.google.colaboratory.intrinsic+json": {
              "type": "string"
            },
            "text/plain": [
              "'odd'"
            ]
          },
          "metadata": {},
          "execution_count": 8
        }
      ]
    },
    {
      "cell_type": "code",
      "metadata": {
        "colab": {
          "base_uri": "https://localhost:8080/",
          "height": 35
        },
        "id": "12P7oH157IYA",
        "outputId": "6d0284d1-c870-4084-abf7-13174f9e01fc"
      },
      "source": [
        "(lambda x: 'odd' if x%2 != 0 else 'even')(8)"
      ],
      "execution_count": null,
      "outputs": [
        {
          "output_type": "execute_result",
          "data": {
            "application/vnd.google.colaboratory.intrinsic+json": {
              "type": "string"
            },
            "text/plain": [
              "'even'"
            ]
          },
          "metadata": {},
          "execution_count": 9
        }
      ]
    },
    {
      "cell_type": "code",
      "metadata": {
        "id": "Xh7kHbdFmIby"
      },
      "source": [
        "çift_mi = lambda sayı: sayı % 2 == 0"
      ],
      "execution_count": null,
      "outputs": []
    },
    {
      "cell_type": "code",
      "metadata": {
        "colab": {
          "base_uri": "https://localhost:8080/"
        },
        "id": "DamQxaldmKme",
        "outputId": "fa747d7f-467f-402e-844c-0888342135c2"
      },
      "source": [
        "çift_mi(45)"
      ],
      "execution_count": null,
      "outputs": [
        {
          "output_type": "execute_result",
          "data": {
            "text/plain": [
              "False"
            ]
          },
          "metadata": {},
          "execution_count": 2
        }
      ]
    },
    {
      "cell_type": "code",
      "metadata": {
        "colab": {
          "base_uri": "https://localhost:8080/"
        },
        "id": "YccXRWOXmPly",
        "outputId": "24631346-7056-454f-b848-491dfe798b9b"
      },
      "source": [
        "çift_mi(8)"
      ],
      "execution_count": null,
      "outputs": [
        {
          "output_type": "execute_result",
          "data": {
            "text/plain": [
              "True"
            ]
          },
          "metadata": {},
          "execution_count": 3
        }
      ]
    },
    {
      "cell_type": "code",
      "metadata": {
        "id": "zfYRAaYw7VW9",
        "colab": {
          "base_uri": "https://localhost:8080/",
          "height": 218
        },
        "outputId": "78ba10df-2ef0-47f1-f101-93230fcda650"
      },
      "source": [
        "(lambda x: (\"x\")(reversed))(\"Ali\")"
      ],
      "execution_count": null,
      "outputs": [
        {
          "output_type": "error",
          "ename": "TypeError",
          "evalue": "ignored",
          "traceback": [
            "\u001b[0;31m---------------------------------------------------------------------------\u001b[0m",
            "\u001b[0;31mTypeError\u001b[0m                                 Traceback (most recent call last)",
            "\u001b[0;32m<ipython-input-4-2615a13ecf9c>\u001b[0m in \u001b[0;36m<module>\u001b[0;34m()\u001b[0m\n\u001b[0;32m----> 1\u001b[0;31m \u001b[0;34m(\u001b[0m\u001b[0;32mlambda\u001b[0m \u001b[0mx\u001b[0m\u001b[0;34m:\u001b[0m \u001b[0;34m(\u001b[0m\u001b[0;34m\"x\"\u001b[0m\u001b[0;34m)\u001b[0m\u001b[0;34m(\u001b[0m\u001b[0mreversed\u001b[0m\u001b[0;34m)\u001b[0m\u001b[0;34m)\u001b[0m\u001b[0;34m(\u001b[0m\u001b[0;34m\"Ali\"\u001b[0m\u001b[0;34m)\u001b[0m\u001b[0;34m\u001b[0m\u001b[0;34m\u001b[0m\u001b[0m\n\u001b[0m",
            "\u001b[0;32m<ipython-input-4-2615a13ecf9c>\u001b[0m in \u001b[0;36m<lambda>\u001b[0;34m(x)\u001b[0m\n\u001b[0;32m----> 1\u001b[0;31m \u001b[0;34m(\u001b[0m\u001b[0;32mlambda\u001b[0m \u001b[0mx\u001b[0m\u001b[0;34m:\u001b[0m \u001b[0;34m(\u001b[0m\u001b[0;34m\"x\"\u001b[0m\u001b[0;34m)\u001b[0m\u001b[0;34m(\u001b[0m\u001b[0mreversed\u001b[0m\u001b[0;34m)\u001b[0m\u001b[0;34m)\u001b[0m\u001b[0;34m(\u001b[0m\u001b[0;34m\"Ali\"\u001b[0m\u001b[0;34m)\u001b[0m\u001b[0;34m\u001b[0m\u001b[0;34m\u001b[0m\u001b[0m\n\u001b[0m",
            "\u001b[0;31mTypeError\u001b[0m: 'str' object is not callable"
          ]
        }
      ]
    },
    {
      "cell_type": "code",
      "metadata": {
        "colab": {
          "base_uri": "https://localhost:8080/",
          "height": 35
        },
        "id": "LM21W43n8Ch8",
        "outputId": "3008dac2-7ff4-4eb3-fb23-45374d628e46"
      },
      "source": [
        "(lambda x: x[::-1])(\"Ali okula gitti\")"
      ],
      "execution_count": null,
      "outputs": [
        {
          "output_type": "execute_result",
          "data": {
            "application/vnd.google.colaboratory.intrinsic+json": {
              "type": "string"
            },
            "text/plain": [
              "'ittig aluko ilA'"
            ]
          },
          "metadata": {},
          "execution_count": 5
        }
      ]
    },
    {
      "cell_type": "code",
      "metadata": {
        "colab": {
          "base_uri": "https://localhost:8080/"
        },
        "id": "vuDwZdng-Kq1",
        "outputId": "4976085e-c3a6-4bc8-d079-e92c0f3f562f"
      },
      "source": [
        "(lambda x: x[::-1])([1,2,3,4])"
      ],
      "execution_count": null,
      "outputs": [
        {
          "output_type": "execute_result",
          "data": {
            "text/plain": [
              "[4, 3, 2, 1]"
            ]
          },
          "metadata": {},
          "execution_count": 19
        }
      ]
    },
    {
      "cell_type": "code",
      "metadata": {
        "colab": {
          "base_uri": "https://localhost:8080/"
        },
        "id": "si2IHtNd8bjg",
        "outputId": "7914c240-fe78-49bf-efbd-fcb6e581bbd6"
      },
      "source": [
        "(lambda a,b : (a+b)/2)(3,5)"
      ],
      "execution_count": null,
      "outputs": [
        {
          "output_type": "execute_result",
          "data": {
            "text/plain": [
              "4.0"
            ]
          },
          "metadata": {},
          "execution_count": 17
        }
      ]
    },
    {
      "cell_type": "code",
      "metadata": {
        "colab": {
          "base_uri": "https://localhost:8080/"
        },
        "id": "Y7yXCsEn8xAW",
        "outputId": "490a8136-0593-449f-e0ab-9722747aef93"
      },
      "source": [
        "average = (lambda a,b : (a+b)/2)(3,5)       # ikinci yöntem\n",
        "print(average)"
      ],
      "execution_count": null,
      "outputs": [
        {
          "output_type": "stream",
          "name": "stdout",
          "text": [
            "4.0\n"
          ]
        }
      ]
    },
    {
      "cell_type": "code",
      "metadata": {
        "colab": {
          "base_uri": "https://localhost:8080/"
        },
        "id": "g23tDYjW9Af3",
        "outputId": "d3807971-1f35-4a60-fdf7-e6fc2d141045"
      },
      "source": [
        "# (lambda x: \"odd\" if x%2 != 0 else \"even\")(i)\n",
        "liste = [1,2,4,5,6,8,9]\n",
        "for i in liste:\n",
        "  print(i, \":\", (lambda x: \"odd\" if x%2 != 0 else \"even\")(i))\n",
        "\n"
      ],
      "execution_count": null,
      "outputs": [
        {
          "output_type": "stream",
          "name": "stdout",
          "text": [
            "1 : odd\n",
            "2 : even\n",
            "4 : even\n",
            "5 : odd\n",
            "6 : even\n",
            "8 : even\n",
            "9 : odd\n"
          ]
        }
      ]
    },
    {
      "cell_type": "code",
      "metadata": {
        "colab": {
          "base_uri": "https://localhost:8080/"
        },
        "id": "grPDvhgF_OQ_",
        "outputId": "3fa698e8-8e4f-4614-fb70-2899ca82b19f"
      },
      "source": [
        "average = lambda x,y: (x+y)/2\n",
        "print(average(3,5))"
      ],
      "execution_count": null,
      "outputs": [
        {
          "output_type": "stream",
          "name": "stdout",
          "text": [
            "4.0\n"
          ]
        }
      ]
    },
    {
      "cell_type": "code",
      "metadata": {
        "colab": {
          "base_uri": "https://localhost:8080/"
        },
        "id": "6N04waPp_mP9",
        "outputId": "5945e2c7-bbe6-40b8-99c8-630856129bb0"
      },
      "source": [
        "finder = lambda x: 'odd' if x%2 != 0 else 'even'\n",
        "print(finder(4))"
      ],
      "execution_count": null,
      "outputs": [
        {
          "output_type": "stream",
          "name": "stdout",
          "text": [
            "even\n"
          ]
        }
      ]
    },
    {
      "cell_type": "code",
      "metadata": {
        "colab": {
          "base_uri": "https://localhost:8080/"
        },
        "id": "Vdm8z_q4v0ky",
        "outputId": "eceb1c75-2aca-4314-cb18-231bd46862cc"
      },
      "source": [
        "a = \"clarusway\"\n",
        "reverser = lambda x : x[::-1]\n",
        "print(reverser(a))"
      ],
      "execution_count": null,
      "outputs": [
        {
          "output_type": "stream",
          "name": "stdout",
          "text": [
            "yawsuralc\n"
          ]
        }
      ]
    },
    {
      "cell_type": "markdown",
      "metadata": {
        "id": "A62tYvJ_Ahne"
      },
      "source": [
        "# **MAP(function, iterable )  içine function  ve iterable alır   ==> on the air**"
      ]
    },
    {
      "cell_type": "code",
      "metadata": {
        "colab": {
          "base_uri": "https://localhost:8080/"
        },
        "id": "fUmdye1HAE2s",
        "outputId": "f666ecf6-a575-4567-94c5-009b94548485"
      },
      "source": [
        "sonuc = map((lambda x: x**2), [1,2,3,4,5,6,7,8,9])\n",
        "print(*sonuc)         # * iterate seperate ediyor.."
      ],
      "execution_count": null,
      "outputs": [
        {
          "output_type": "stream",
          "name": "stdout",
          "text": [
            "1 4 9 16 25 36 49 64 81\n"
          ]
        }
      ]
    },
    {
      "cell_type": "code",
      "metadata": {
        "id": "yLscZ110FT7S"
      },
      "source": [
        "def kare(b):\n",
        "    return b ** 2"
      ],
      "execution_count": null,
      "outputs": []
    },
    {
      "cell_type": "code",
      "metadata": {
        "colab": {
          "base_uri": "https://localhost:8080/",
          "height": 183
        },
        "id": "_UkC9EFfr5rS",
        "outputId": "46a74744-fc1f-4bef-81f9-50693ae444a8"
      },
      "source": [
        "y = map(kare,iterable)\n",
        "print(*y)"
      ],
      "execution_count": null,
      "outputs": [
        {
          "output_type": "error",
          "ename": "NameError",
          "evalue": "ignored",
          "traceback": [
            "\u001b[0;31m---------------------------------------------------------------------------\u001b[0m",
            "\u001b[0;31mNameError\u001b[0m                                 Traceback (most recent call last)",
            "\u001b[0;32m<ipython-input-18-88b2512b4317>\u001b[0m in \u001b[0;36m<module>\u001b[0;34m()\u001b[0m\n\u001b[0;32m----> 1\u001b[0;31m \u001b[0my\u001b[0m \u001b[0;34m=\u001b[0m \u001b[0mmap\u001b[0m\u001b[0;34m(\u001b[0m\u001b[0mkare\u001b[0m\u001b[0;34m,\u001b[0m\u001b[0miterable\u001b[0m\u001b[0;34m)\u001b[0m\u001b[0;34m\u001b[0m\u001b[0;34m\u001b[0m\u001b[0m\n\u001b[0m\u001b[1;32m      2\u001b[0m \u001b[0mprint\u001b[0m\u001b[0;34m(\u001b[0m\u001b[0;34m*\u001b[0m\u001b[0my\u001b[0m\u001b[0;34m)\u001b[0m\u001b[0;34m\u001b[0m\u001b[0;34m\u001b[0m\u001b[0m\n",
            "\u001b[0;31mNameError\u001b[0m: name 'iterable' is not defined"
          ]
        }
      ]
    },
    {
      "cell_type": "code",
      "metadata": {
        "colab": {
          "base_uri": "https://localhost:8080/",
          "height": 35
        },
        "id": "p2x_XccIGXLB",
        "outputId": "a6380ec3-d8e3-4d9b-8c7f-5b07ba419f10"
      },
      "source": [
        "topla = lambda x,y,z : x+y+z\n",
        "topla(\"a\",\"l\",\"i\")"
      ],
      "execution_count": null,
      "outputs": [
        {
          "output_type": "execute_result",
          "data": {
            "application/vnd.google.colaboratory.intrinsic+json": {
              "type": "string"
            },
            "text/plain": [
              "'ali'"
            ]
          },
          "metadata": {},
          "execution_count": 36
        }
      ]
    },
    {
      "cell_type": "code",
      "metadata": {
        "colab": {
          "base_uri": "https://localhost:8080/"
        },
        "id": "eLMcmSIGF_ac",
        "outputId": "a6d20cdc-3096-4c3c-a3bd-5e9632185425"
      },
      "source": [
        "#    map(function, *iterables)  1'den fazla iterabl alabilir..\n",
        "letter1 = ['o','s','t','t']\n",
        "letter2 = ['n','i', 'e','w']\n",
        "letter3 = ['e', 'x','n','o']\n",
        "numbers = map(lambda x,y,z : x+y+z, letter1, letter2,letter3)\n",
        "print(list(numbers))"
      ],
      "execution_count": null,
      "outputs": [
        {
          "output_type": "stream",
          "name": "stdout",
          "text": [
            "['one', 'six', 'ten', 'two']\n"
          ]
        }
      ]
    },
    {
      "cell_type": "code",
      "metadata": {
        "colab": {
          "base_uri": "https://localhost:8080/"
        },
        "id": "eH9f_X3GHjNl",
        "outputId": "a40a324d-f1e3-47d0-94db-ff27e94a6048"
      },
      "source": [
        "num1 = [9, 6, 7, 4]\n",
        "num2 = [3, 6, 5, 8]\n",
        "func = lambda x,y : (x+y)/2   #   2 sayı geleceğinden 2 parametre alırız\n",
        "numbers = map(func, num1, num2)\n",
        "print(list(numbers))\n"
      ],
      "execution_count": null,
      "outputs": [
        {
          "output_type": "stream",
          "name": "stdout",
          "text": [
            "[6.0, 6.0, 6.0, 6.0]\n"
          ]
        }
      ]
    },
    {
      "cell_type": "code",
      "metadata": {
        "colab": {
          "base_uri": "https://localhost:8080/"
        },
        "id": "0e8RCv-LIwok",
        "outputId": "822e4331-1bba-4148-e63f-00571691c86f"
      },
      "source": [
        "words1 = [\"you\", \"much\", \"hard\"]\n",
        "words2 = [\"I\", \"You\",\"He\"]\n",
        "words3 = [\"love\", \"ate\", \"works\"]\n",
        "yazı = map(lambda x,y,z : x + \" \" + y +\" \" + z, words2, words3, words1)\n",
        "for i in yazı:     # yazı is an iterable \n",
        "  print(i)"
      ],
      "execution_count": null,
      "outputs": [
        {
          "output_type": "stream",
          "name": "stdout",
          "text": [
            "I love you\n",
            "You ate much\n",
            "He works hard\n"
          ]
        }
      ]
    },
    {
      "cell_type": "markdown",
      "metadata": {
        "id": "G9J39NwhLu4M"
      },
      "source": [
        "# **filter(function, sequence)    ===> boolean TRUE ları alır FALSE ları atar..     **\n",
        "  If function is None, return the items that are true"
      ]
    },
    {
      "cell_type": "code",
      "metadata": {
        "colab": {
          "base_uri": "https://localhost:8080/"
        },
        "id": "wcyhb_5INgC4",
        "outputId": "2a506a44-752b-4787-f770-5942f1b7def1"
      },
      "source": [
        "first_ten = [0,1,2,3,4,5,6,7,8,9]\n",
        "even = filter(lambda x:x%2 ==0, first_ten)\n",
        "print(type(even))       # we had better convert it to list\n",
        "\n",
        "print('even numbers are :' , list(even))"
      ],
      "execution_count": null,
      "outputs": [
        {
          "output_type": "stream",
          "name": "stdout",
          "text": [
            "<class 'filter'>\n",
            "even numbers are : [0, 2, 4, 6, 8]\n"
          ]
        }
      ]
    },
    {
      "cell_type": "code",
      "metadata": {
        "colab": {
          "base_uri": "https://localhost:8080/"
        },
        "id": "ambNXVLqOQFR",
        "outputId": "f982888e-5480-4102-b3bd-991c9d89fba9"
      },
      "source": [
        "words = [\"apple\", \"swim\", \"clock\", \"me\", \"kiwi\", \"banana\"]\n",
        "a = filter(lambda x: len(x)< 5, words)\n",
        "print(list(a))"
      ],
      "execution_count": null,
      "outputs": [
        {
          "output_type": "stream",
          "name": "stdout",
          "text": [
            "['swim', 'me', 'kiwi']\n"
          ]
        }
      ]
    },
    {
      "cell_type": "code",
      "metadata": {
        "colab": {
          "base_uri": "https://localhost:8080/"
        },
        "id": "2wzDriOhijcb",
        "outputId": "21227281-b7ac-4aa9-c71d-1a03eed9b6ae"
      },
      "source": [
        "words = [\"apple\", \"swim\", \"clock\", \"me\", \"kiwi\", \"banana\"]\n",
        "for a in filter(lambda x: len(x)< 5, words) :\n",
        "  print(a)"
      ],
      "execution_count": null,
      "outputs": [
        {
          "output_type": "stream",
          "name": "stdout",
          "text": [
            "swim\n",
            "me\n",
            "kiwi\n"
          ]
        }
      ]
    },
    {
      "cell_type": "code",
      "metadata": {
        "colab": {
          "base_uri": "https://localhost:8080/"
        },
        "id": "VmVfwGhjT0ho",
        "outputId": "c038df87-5ceb-464d-d783-26723287670c"
      },
      "source": [
        "first_ten = ['a','b','c','d','e','f','g','h','i','j']\n",
        "vowel_list = ['a', 'e','i','o','u']\n",
        "vowels = filter(lambda x : x in vowel_list, first_ten)\n",
        "print(list(vowels))"
      ],
      "execution_count": null,
      "outputs": [
        {
          "output_type": "stream",
          "name": "stdout",
          "text": [
            "['a', 'e', 'i']\n"
          ]
        }
      ]
    },
    {
      "cell_type": "markdown",
      "metadata": {
        "id": "gc-FIoaCU8kR"
      },
      "source": [
        "# **Lambda within DEF: **"
      ]
    },
    {
      "cell_type": "code",
      "metadata": {
        "colab": {
          "base_uri": "https://localhost:8080/"
        },
        "id": "_S8yT1QZU5RM",
        "outputId": "bfeb2c1f-8ab1-4f23-fb7d-37405ac3f174"
      },
      "source": [
        "def modular_function(n):\n",
        "  return lambda x: x ** n\n",
        "\n",
        "power_of_2 = modular_function(2)\n",
        "power_of_3 = modular_function(3)\n",
        "power_of_4 = modular_function(4)\n",
        "\n",
        "print(power_of_2(2))\n",
        "print(power_of_3(2))\n",
        "print(power_of_4(2))"
      ],
      "execution_count": null,
      "outputs": [
        {
          "output_type": "stream",
          "name": "stdout",
          "text": [
            "4\n",
            "8\n",
            "16\n"
          ]
        }
      ]
    },
    {
      "cell_type": "code",
      "metadata": {
        "id": "8BwxbvYWXJL9"
      },
      "source": [
        "def repeater(n):\n",
        "  return lambda x:x * n \n",
        "repeat2times = repeater(2)\n",
        "repeat3times = repeater(3)\n",
        "repeat4times = repeater(4)\n"
      ],
      "execution_count": null,
      "outputs": []
    },
    {
      "cell_type": "code",
      "metadata": {
        "colab": {
          "base_uri": "https://localhost:8080/"
        },
        "id": "7_BwzN4dmM38",
        "outputId": "ed949d98-183a-4760-f01e-659fe17622c5"
      },
      "source": [
        "def repeater(n):\n",
        "  return lambda x:x * n \n",
        "repeat2times = repeater(2)\n",
        "repeat3times = repeater(3)\n",
        "repeat4times = repeater(4)\n",
        "\n",
        "print(repeat2times('alex '))\n",
        "print(repeat3times('lara '))\n",
        "print(repeat4times('linda '))"
      ],
      "execution_count": null,
      "outputs": [
        {
          "output_type": "stream",
          "name": "stdout",
          "text": [
            "alex alex \n",
            "lara lara lara \n",
            "linda linda linda linda \n"
          ]
        }
      ]
    },
    {
      "cell_type": "code",
      "metadata": {
        "id": "e0yOW0lvXk5u"
      },
      "source": [
        "def functioner(emoji):\n",
        "  return lambda x : print(x, emoji)\n",
        "\n",
        "myprint_smile = functioner(\":)\")\n",
        "myprint_sad = functioner(\":(\")\n",
        "myprint_neutral = functioner(\":|\")"
      ],
      "execution_count": null,
      "outputs": []
    },
    {
      "cell_type": "code",
      "metadata": {
        "colab": {
          "base_uri": "https://localhost:8080/"
        },
        "id": "mrEOCEInaqTh",
        "outputId": "3845076a-2eb7-48f3-dfa1-3c378a36d40d"
      },
      "source": [
        "myprint_sad(\"hello\")"
      ],
      "execution_count": null,
      "outputs": [
        {
          "output_type": "stream",
          "name": "stdout",
          "text": [
            "hello :(\n"
          ]
        }
      ]
    },
    {
      "cell_type": "code",
      "metadata": {
        "id": "qUXQFuVFbjXk"
      },
      "source": [
        "# ali_print() ==> print()\n",
        "# ali_max() ==> max()\n",
        "# ali_bool() ==> bool()\n",
        "# ali_sorted ==> sorted()"
      ],
      "execution_count": null,
      "outputs": []
    },
    {
      "cell_type": "code",
      "metadata": {
        "colab": {
          "base_uri": "https://localhost:8080/"
        },
        "id": "Zo3_UkfbcDYk",
        "outputId": "60905fa7-bd2e-4073-edac-698c6d359e33"
      },
      "source": [
        "(lambda x: print(x))(\" ali veli deli\")"
      ],
      "execution_count": null,
      "outputs": [
        {
          "output_type": "stream",
          "name": "stdout",
          "text": [
            " ali veli deli\n"
          ]
        }
      ]
    },
    {
      "cell_type": "code",
      "metadata": {
        "colab": {
          "base_uri": "https://localhost:8080/"
        },
        "id": "Xa11nr92cL-E",
        "outputId": "4e360973-303d-4e22-9fde-5d1a206c675e"
      },
      "source": [
        "(lambda x: max(x))((1,2,3))"
      ],
      "execution_count": null,
      "outputs": [
        {
          "output_type": "execute_result",
          "data": {
            "text/plain": [
              "3"
            ]
          },
          "metadata": {},
          "execution_count": 77
        }
      ]
    },
    {
      "cell_type": "code",
      "metadata": {
        "colab": {
          "base_uri": "https://localhost:8080/"
        },
        "id": "lLf4WWT-cX6f",
        "outputId": "5047c2fb-e45a-49a6-f7f4-9ebf097bd2bd"
      },
      "source": [
        "(lambda x: sorted(x))((3,5,1))"
      ],
      "execution_count": null,
      "outputs": [
        {
          "output_type": "execute_result",
          "data": {
            "text/plain": [
              "[1, 3, 5]"
            ]
          },
          "metadata": {},
          "execution_count": 78
        }
      ]
    },
    {
      "cell_type": "code",
      "metadata": {
        "id": "JIx_AR770Om5"
      },
      "source": [
        "def function_generator (function_name):\n",
        "  return lambda x: function_name(x)     # returnden sonra lambda gelmesine dikkat et.."
      ],
      "execution_count": null,
      "outputs": []
    },
    {
      "cell_type": "code",
      "metadata": {
        "id": "_kePI4v4ceHd"
      },
      "source": [
        "joseph_max = function_generator(max)\n",
        "joseph_sorted = function_generator(sorted)"
      ],
      "execution_count": null,
      "outputs": []
    },
    {
      "cell_type": "code",
      "metadata": {
        "colab": {
          "base_uri": "https://localhost:8080/"
        },
        "id": "h68eXOwkc2c9",
        "outputId": "ddd31646-2db5-4949-bd53-880a319a9ff1"
      },
      "source": [
        "joseph_max((2,4,22))"
      ],
      "execution_count": null,
      "outputs": [
        {
          "output_type": "execute_result",
          "data": {
            "text/plain": [
              "22"
            ]
          },
          "metadata": {},
          "execution_count": 23
        }
      ]
    }
  ]
}