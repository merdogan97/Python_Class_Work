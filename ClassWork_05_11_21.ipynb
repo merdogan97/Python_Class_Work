{
  "nbformat": 4,
  "nbformat_minor": 0,
  "metadata": {
    "colab": {
      "name": "Classwork_05.11.21.ipynb",
      "provenance": [],
      "collapsed_sections": [],
      "authorship_tag": "ABX9TyMJkB/jF1Hg3JvAnZ2aBp1K",
      "include_colab_link": true
    },
    "kernelspec": {
      "name": "python3",
      "display_name": "Python 3"
    },
    "language_info": {
      "name": "python"
    }
  },
  "cells": [
    {
      "cell_type": "markdown",
      "metadata": {
        "id": "view-in-github",
        "colab_type": "text"
      },
      "source": [
        "<a href=\"https://colab.research.google.com/github/merdogan97/Python_Class_Work/blob/main/ClassWork_05_11_21.ipynb\" target=\"_parent\"><img src=\"https://colab.research.google.com/assets/colab-badge.svg\" alt=\"Open In Colab\"/></a>"
      ]
    },
    {
      "cell_type": "code",
      "metadata": {
        "colab": {
          "base_uri": "https://localhost:8080/"
        },
        "id": "gH8rgEGbmGoi",
        "outputId": "b30823ac-1fd5-4ee6-c374-0b6950f690ab"
      },
      "source": [
        "text = \"Hello dear friends\"\n",
        "print(text.split(\",\"))"
      ],
      "execution_count": null,
      "outputs": [
        {
          "output_type": "stream",
          "name": "stdout",
          "text": [
            "['Hello dear friends']\n"
          ]
        }
      ]
    },
    {
      "cell_type": "code",
      "metadata": {
        "colab": {
          "base_uri": "https://localhost:8080/"
        },
        "id": "FxPpCdNXpQM1",
        "outputId": "563e0224-fc5d-46ae-ad78-b069e44044f1"
      },
      "source": [
        "countries = \"Türkiye, Singapur, Malezya, Lübnan, Kanada, Portekiz, Japonya\"\n",
        "country = countries.split(\",\", 4)  # 4 ekadar limitlrdim diğerlerini tırnak içinde aldı.\n",
        "print(country)"
      ],
      "execution_count": null,
      "outputs": [
        {
          "output_type": "stream",
          "name": "stdout",
          "text": [
            "['Türkiye', ' Singapur', ' Malezya', ' Lübnan', ' Kanada, Portekiz, Japonya']\n"
          ]
        }
      ]
    },
    {
      "cell_type": "code",
      "metadata": {
        "colab": {
          "base_uri": "https://localhost:8080/"
        },
        "id": "xeXpgg41p-kx",
        "outputId": "f65c154c-04bd-43ff-8010-63d3e5dcbbee"
      },
      "source": [
        "countries = \"Türkiye, Singapur, Malezya, Lübnan, Kanada, Portekiz, Japonya\"\n",
        "country = countries.split(\",\", 4)  # 4 ekadar limitlrdim diğerlerini tırnak içinde aldı.\n",
        "print(*country, sep=\"\\n\")  # tek tek ulşamamızı sağlar"
      ],
      "execution_count": null,
      "outputs": [
        {
          "output_type": "stream",
          "name": "stdout",
          "text": [
            "Türkiye\n",
            " Singapur\n",
            " Malezya\n",
            " Lübnan\n",
            " Kanada, Portekiz, Japonya\n"
          ]
        }
      ]
    },
    {
      "cell_type": "code",
      "metadata": {
        "colab": {
          "base_uri": "https://localhost:8080/"
        },
        "id": "t-Uf1K84qWhr",
        "outputId": "fa610acf-7914-4a49-f7bc-78488fc3bf1d"
      },
      "source": [
        "text = \"ahmet\"\n",
        "print(*text, sep=\"\\n\")   "
      ],
      "execution_count": null,
      "outputs": [
        {
          "output_type": "stream",
          "name": "stdout",
          "text": [
            "a\n",
            "h\n",
            "m\n",
            "e\n",
            "t\n"
          ]
        }
      ]
    },
    {
      "cell_type": "code",
      "metadata": {
        "id": "R4-KC8E8rAXg"
      },
      "source": [
        "a = dosya.split()\n",
        "print(min(a, key = len))"
      ],
      "execution_count": null,
      "outputs": []
    },
    {
      "cell_type": "code",
      "metadata": {
        "colab": {
          "base_uri": "https://localhost:8080/"
        },
        "id": "zoyb30mtsMT6",
        "outputId": "10c2d1b5-d9d8-4c71-e89c-4c5402709a94"
      },
      "source": [
        "# map(func, iter1)\n",
        "list1 = [1, 2, 3, 4, 5]\n",
        "list2 = list(map(float, list1))\n",
        "print(list2)"
      ],
      "execution_count": null,
      "outputs": [
        {
          "output_type": "stream",
          "name": "stdout",
          "text": [
            "[1.0, 2.0, 3.0, 4.0, 5.0]\n"
          ]
        }
      ]
    },
    {
      "cell_type": "code",
      "metadata": {
        "id": "xd3sR3oQvSHa"
      },
      "source": [
        "# zip"
      ],
      "execution_count": null,
      "outputs": []
    },
    {
      "cell_type": "code",
      "metadata": {
        "colab": {
          "base_uri": "https://localhost:8080/"
        },
        "id": "hHCo6xQFvUx2",
        "outputId": "e0cdf20f-30b0-4c21-a3a0-21a9c93b4297"
      },
      "source": [
        "list1 = [1, 2, 3, 4, 5]\n",
        "list2 = [\"a\", \"b\", \"c\", \"d\",\"e\"]\n",
        "print(dict(zip(list1, list2)))\n",
        "print(list(zip(list1, list2)))"
      ],
      "execution_count": null,
      "outputs": [
        {
          "output_type": "stream",
          "name": "stdout",
          "text": [
            "{1: 'a', 2: 'b', 3: 'c', 4: 'd', 5: 'e'}\n",
            "[(1, 'a'), (2, 'b'), (3, 'c'), (4, 'd'), (5, 'e')]\n"
          ]
        }
      ]
    },
    {
      "cell_type": "code",
      "metadata": {
        "colab": {
          "base_uri": "https://localhost:8080/"
        },
        "id": "LtkpNW6qwH1D",
        "outputId": "79577b0d-b14b-46e0-f681-8e6ec26c25b0"
      },
      "source": [
        "list1 = [1, 2, 3]\n",
        "list2 = [\"a\", \"a\", \"a\", \"a\",\"e\"]\n",
        "print(set(zip(list2, list1)))"
      ],
      "execution_count": null,
      "outputs": [
        {
          "output_type": "stream",
          "name": "stdout",
          "text": [
            "{('a', 3), ('a', 1), ('a', 2)}\n"
          ]
        }
      ]
    },
    {
      "cell_type": "code",
      "metadata": {
        "id": "cRn2VrAR1k78"
      },
      "source": [
        "kullanıcıdan  alınan 5 sayı içerisinden en büyük 2. sayıyıbulan kodu yazın\n",
        "map() ve split() kullanalım"
      ],
      "execution_count": null,
      "outputs": []
    },
    {
      "cell_type": "code",
      "metadata": {
        "id": "fmiuYFK92uqE"
      },
      "source": [
        ""
      ],
      "execution_count": null,
      "outputs": []
    },
    {
      "cell_type": "code",
      "metadata": {
        "colab": {
          "base_uri": "https://localhost:8080/"
        },
        "id": "0Rk2ewdB03kq",
        "outputId": "4bf1458c-250d-4793-fad0-b27afa0d41f0"
      },
      "source": [
        "numbers = list(map(int, input(\"enter 5 number\").split()))\n",
        "sec_max = sorted(set(numbers))[-2]\n",
        "print(numbers)\n",
        "print(set(numbers))\n",
        "print(sorted(set(numbers)))\n",
        "print(sec_max)"
      ],
      "execution_count": null,
      "outputs": [
        {
          "output_type": "stream",
          "name": "stdout",
          "text": [
            "enter 5 number1 4 6 7 9\n",
            "[1, 4, 6, 7, 9]\n",
            "{1, 4, 6, 7, 9}\n",
            "[1, 4, 6, 7, 9]\n",
            "7\n"
          ]
        }
      ]
    },
    {
      "cell_type": "code",
      "metadata": {
        "colab": {
          "base_uri": "https://localhost:8080/"
        },
        "id": "3H-EKrE73bXf",
        "outputId": "111d6abc-18d8-4064-8a28-77521a2dc83f"
      },
      "source": [
        "a = int(input(\"enter number:\"))\n",
        "if a>0 :\n",
        "  print(\"positive\")\n",
        "elif a<0 :\n",
        "  print(\"negatif\")\n",
        "elif a == 0 :\n",
        "  print(\"number is zero\")\n",
        "else:\n",
        "  print(\"please enter number\")"
      ],
      "execution_count": null,
      "outputs": [
        {
          "output_type": "stream",
          "name": "stdout",
          "text": [
            "enter number:6\n",
            "positive\n"
          ]
        }
      ]
    },
    {
      "cell_type": "code",
      "metadata": {
        "colab": {
          "base_uri": "https://localhost:8080/"
        },
        "id": "-DzczB6f5eQr",
        "outputId": "8654fc30-15c5-4f35-f225-e9dd79586f98"
      },
      "source": [
        "email = 'D999@clarusway.com'\n",
        "pswrd = 'd999'\n",
        "ent_mail = input(\"enter mail : \")\n",
        "ent_pswrd = input(\"enter password: \")\n",
        "\n",
        "if (ent_mail != email and ent_pswrd == pswrd):\n",
        "  print(\"Wrong email address\")\n",
        "elif (ent_mail == email and ent_pswrd != pswrd):\n",
        "  print(\"Wrong password\")\n",
        "elif (ent_mail != email and ent_pswrd != pswrd):\n",
        "  print(\"wrong email and password\")\n",
        "else:\n",
        "  print(\"login successfull\")\n"
      ],
      "execution_count": null,
      "outputs": [
        {
          "output_type": "stream",
          "name": "stdout",
          "text": [
            "enter mail : D999@clarusway.com\n",
            "enter password: d999\n",
            "login successfull\n"
          ]
        }
      ]
    }
  ]
}