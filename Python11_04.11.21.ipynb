{
  "nbformat": 4,
  "nbformat_minor": 0,
  "metadata": {
    "colab": {
      "name": "Python11 controlstatement_041121.ipynb",
      "provenance": [],
      "collapsed_sections": [],
      "authorship_tag": "ABX9TyOeLoauhKTtuEhWVqMKVkZv",
      "include_colab_link": true
    },
    "kernelspec": {
      "name": "python3",
      "display_name": "Python 3"
    },
    "language_info": {
      "name": "python"
    }
  },
  "cells": [
    {
      "cell_type": "markdown",
      "metadata": {
        "id": "view-in-github",
        "colab_type": "text"
      },
      "source": [
        "<a href=\"https://colab.research.google.com/github/merdogan97/Python_Class_Work/blob/main/Python11_04.11.21.ipynb\" target=\"_parent\"><img src=\"https://colab.research.google.com/assets/colab-badge.svg\" alt=\"Open In Colab\"/></a>"
      ]
    },
    {
      "cell_type": "code",
      "metadata": {
        "id": "wZKakciyOGXX"
      },
      "source": [
        ""
      ],
      "execution_count": null,
      "outputs": []
    },
    {
      "cell_type": "code",
      "metadata": {
        "colab": {
          "base_uri": "https://localhost:8080/"
        },
        "id": "DZ_rI26lVjmf",
        "outputId": "2581ad77-1946-44b0-eb8b-0b051b010947"
      },
      "source": [
        "if \"0\" : # dolu string True'dur\n",
        "  print(\"hello world\")\n",
        "print(\"print me all cases.\")"
      ],
      "execution_count": null,
      "outputs": [
        {
          "output_type": "stream",
          "name": "stdout",
          "text": [
            "hello world\n",
            "print me all cases.\n"
          ]
        }
      ]
    },
    {
      "cell_type": "code",
      "metadata": {
        "colab": {
          "base_uri": "https://localhost:8080/"
        },
        "id": "l5ns_dBzV93j",
        "outputId": "0ed4d597-4361-4f4b-856f-71d4f29bb0f3"
      },
      "source": [
        "bool(\"0\")"
      ],
      "execution_count": null,
      "outputs": [
        {
          "output_type": "execute_result",
          "data": {
            "text/plain": [
              "True"
            ]
          },
          "metadata": {},
          "execution_count": 2
        }
      ]
    },
    {
      "cell_type": "code",
      "metadata": {
        "colab": {
          "base_uri": "https://localhost:8080/",
          "height": 128
        },
        "id": "-e4Ojvm6WAm_",
        "outputId": "0a017dd8-86f0-42f6-b852-8d13c6256b2f"
      },
      "source": [
        "if \"0\" and \"\"  # boş string falsy dir print etmez. True and False    ise false tur  İf True ile çalışır.\n",
        "    print(\"hello world\")"
      ],
      "execution_count": null,
      "outputs": [
        {
          "output_type": "error",
          "ename": "SyntaxError",
          "evalue": "ignored",
          "traceback": [
            "\u001b[0;36m  File \u001b[0;32m\"<ipython-input-3-fa306f3c5fe1>\"\u001b[0;36m, line \u001b[0;32m1\u001b[0m\n\u001b[0;31m    if \"0\" and \"\"\u001b[0m\n\u001b[0m                 ^\u001b[0m\n\u001b[0;31mSyntaxError\u001b[0m\u001b[0;31m:\u001b[0m invalid syntax\n"
          ]
        }
      ]
    },
    {
      "cell_type": "code",
      "metadata": {
        "colab": {
          "base_uri": "https://localhost:8080/"
        },
        "id": "08ymlXcwWabR",
        "outputId": "8cbf0513-9142-4b90-f0f9-eaeec7d0f343"
      },
      "source": [
        "if True :\n",
        "  print(\"It is True.\")"
      ],
      "execution_count": null,
      "outputs": [
        {
          "output_type": "stream",
          "name": "stdout",
          "text": [
            "It is True.\n"
          ]
        }
      ]
    },
    {
      "cell_type": "code",
      "metadata": {
        "id": "gSnTOWfCZcLr"
      },
      "source": [
        ""
      ],
      "execution_count": null,
      "outputs": []
    },
    {
      "cell_type": "code",
      "metadata": {
        "colab": {
          "base_uri": "https://localhost:8080/"
        },
        "id": "unYtNbcyXEaZ",
        "outputId": "6c7f3ead-bce9-41fc-c520-08193c474114"
      },
      "source": [
        "if 1 :\n",
        "  print(\"clarusway\")"
      ],
      "execution_count": null,
      "outputs": [
        {
          "output_type": "stream",
          "name": "stdout",
          "text": [
            "clarusway\n"
          ]
        }
      ]
    },
    {
      "cell_type": "code",
      "metadata": {
        "colab": {
          "base_uri": "https://localhost:8080/"
        },
        "id": "DtwRmwTOXQqe",
        "outputId": "0b623671-29b8-46e4-c8ab-0dfa71df1e8b"
      },
      "source": [
        "if [\"\"] :  # listenin içinde boş tırnak doludur.\n",
        "  print(\"hello\")"
      ],
      "execution_count": null,
      "outputs": [
        {
          "output_type": "stream",
          "name": "stdout",
          "text": [
            "hello\n"
          ]
        }
      ]
    },
    {
      "cell_type": "code",
      "metadata": {
        "id": "c6qDE1ZzXhde"
      },
      "source": [
        "İf grocery_store = 1 :\n",
        "   if greens = lettuce and pepper :\n",
        "     "
      ],
      "execution_count": null,
      "outputs": []
    },
    {
      "cell_type": "code",
      "metadata": {
        "id": "vI98WGJCYMaw"
      },
      "source": [
        "minced = True\n",
        "bread = True\n",
        "lettuce = True\n",
        "onion = True\n",
        "grocery = True\n",
        "hamburger = (minced and grocer and bread) and (lettuce or onion)\n"
      ],
      "execution_count": null,
      "outputs": []
    },
    {
      "cell_type": "code",
      "metadata": {
        "colab": {
          "base_uri": "https://localhost:8080/",
          "height": 162
        },
        "id": "N5Jg-6JVZjZz",
        "outputId": "f5305a12-590b-44ae-a633-57b8193b6a32"
      },
      "source": [
        "hamburger"
      ],
      "execution_count": null,
      "outputs": [
        {
          "output_type": "error",
          "ename": "NameError",
          "evalue": "ignored",
          "traceback": [
            "\u001b[0;31m---------------------------------------------------------------------------\u001b[0m",
            "\u001b[0;31mNameError\u001b[0m                                 Traceback (most recent call last)",
            "\u001b[0;32m<ipython-input-14-7fdc3c0438f5>\u001b[0m in \u001b[0;36m<module>\u001b[0;34m()\u001b[0m\n\u001b[0;32m----> 1\u001b[0;31m \u001b[0mhamburger\u001b[0m\u001b[0;34m\u001b[0m\u001b[0;34m\u001b[0m\u001b[0m\n\u001b[0m",
            "\u001b[0;31mNameError\u001b[0m: name 'hamburger' is not defined"
          ]
        }
      ]
    },
    {
      "cell_type": "code",
      "metadata": {
        "id": "0aMRaVBHaqu3"
      },
      "source": [
        ""
      ],
      "execution_count": null,
      "outputs": []
    },
    {
      "cell_type": "code",
      "metadata": {
        "id": "TwIeT-jtZe2P"
      },
      "source": [
        "if hamburger :\n",
        "  print(\"Bon Appetit\")"
      ],
      "execution_count": null,
      "outputs": []
    },
    {
      "cell_type": "code",
      "metadata": {
        "colab": {
          "base_uri": "https://localhost:8080/"
        },
        "id": "c6jcBTh2atNv",
        "outputId": "7ff45005-fed6-46d5-e498-238d17a168be"
      },
      "source": [
        "3 > 2"
      ],
      "execution_count": null,
      "outputs": [
        {
          "output_type": "execute_result",
          "data": {
            "text/plain": [
              "True"
            ]
          },
          "metadata": {},
          "execution_count": 15
        }
      ]
    },
    {
      "cell_type": "code",
      "metadata": {
        "colab": {
          "base_uri": "https://localhost:8080/"
        },
        "id": "U66fg5HpawHn",
        "outputId": "871eb6bf-87f0-48d1-a0bb-99ba084a6e2f"
      },
      "source": [
        "3 >= 3.0"
      ],
      "execution_count": null,
      "outputs": [
        {
          "output_type": "execute_result",
          "data": {
            "text/plain": [
              "True"
            ]
          },
          "metadata": {},
          "execution_count": 16
        }
      ]
    },
    {
      "cell_type": "code",
      "metadata": {
        "colab": {
          "base_uri": "https://localhost:8080/"
        },
        "id": "KQiQI156azU0",
        "outputId": "55a2735a-f415-4e2d-d02c-b318bc329862"
      },
      "source": [
        "\"ali\" == \"Ali\"  # case sensitive"
      ],
      "execution_count": null,
      "outputs": [
        {
          "output_type": "execute_result",
          "data": {
            "text/plain": [
              "False"
            ]
          },
          "metadata": {},
          "execution_count": 17
        }
      ]
    },
    {
      "cell_type": "code",
      "metadata": {
        "colab": {
          "base_uri": "https://localhost:8080/"
        },
        "id": "3iQSuTeSa8kN",
        "outputId": "357f514d-5167-42e8-e0da-bc8f59145881"
      },
      "source": [
        "\"ali\" != \"Ali\""
      ],
      "execution_count": null,
      "outputs": [
        {
          "output_type": "execute_result",
          "data": {
            "text/plain": [
              "True"
            ]
          },
          "metadata": {},
          "execution_count": 18
        }
      ]
    },
    {
      "cell_type": "code",
      "metadata": {
        "colab": {
          "base_uri": "https://localhost:8080/"
        },
        "id": "gKZbcI2RbZNk",
        "outputId": "1e9c0ea4-3d3f-4f89-f935-4d09a9c89db8"
      },
      "source": [
        "a = set (\"TWELVE PLUS ONE\")\n",
        "b = set (\"ELEVEN PLUS TWO\")\n",
        "if a == b :\n",
        "  print(\"We are the same\")\n",
        "  "
      ],
      "execution_count": null,
      "outputs": [
        {
          "output_type": "stream",
          "name": "stdout",
          "text": [
            "We are the same\n"
          ]
        }
      ]
    },
    {
      "cell_type": "code",
      "metadata": {
        "id": "7HdX3XGleHPO"
      },
      "source": [
        "user1 = \"Yes\"\n",
        "user2 = \"No\"\n",
        "input \"Yes\" = 1, \"No\" = 0\n",
        " if user1 == user2\n",
        "   print(\"you entered True\")\n"
      ],
      "execution_count": null,
      "outputs": []
    },
    {
      "cell_type": "code",
      "metadata": {
        "id": "gOWh0Fy0fWSs"
      },
      "source": [
        "type(input(\"bir şey yaz:\"))  # ekrana yazılan şeyi string olarak döndüürüyor"
      ],
      "execution_count": null,
      "outputs": []
    },
    {
      "cell_type": "code",
      "metadata": {
        "colab": {
          "base_uri": "https://localhost:8080/"
        },
        "id": "2X_ad3cGor_1",
        "outputId": "a89b668d-902b-42a4-8262-816965c3a062"
      },
      "source": [
        "Number = int(input(\"sayıyı giriniz: \"))\n",
        "if (Number % 2) == 0 :\n",
        "    print(\"Number is positif\")\n",
        "else :\n",
        "    print(\"Number is negatif\")"
      ],
      "execution_count": null,
      "outputs": [
        {
          "output_type": "stream",
          "name": "stdout",
          "text": [
            "sayıyı giriniz: -11\n",
            "Number is negatif\n"
          ]
        }
      ]
    },
    {
      "cell_type": "code",
      "metadata": {
        "colab": {
          "base_uri": "https://localhost:8080/"
        },
        "id": "Ucpn3hdZpH3J",
        "outputId": "bb7be131-acf4-4f35-f814-8151ee0eb9d3"
      },
      "source": [
        "Number = float(input(\"Enter positive or negatif number: \"))\n",
        "if Number > 0 :\n",
        "    print(\"Number is even\")\n",
        "else :\n",
        "    print(\"Number is odd\")"
      ],
      "execution_count": null,
      "outputs": [
        {
          "output_type": "stream",
          "name": "stdout",
          "text": [
            "Enter positive or negatif number: 11\n",
            "Number is even\n"
          ]
        }
      ]
    },
    {
      "cell_type": "code",
      "metadata": {
        "colab": {
          "base_uri": "https://localhost:8080/"
        },
        "id": "77AhtSL4rWWq",
        "outputId": "01951e87-7356-49e5-f39c-7cdd647a8b9f"
      },
      "source": [
        "float(\"-33\")"
      ],
      "execution_count": null,
      "outputs": [
        {
          "output_type": "execute_result",
          "data": {
            "text/plain": [
              "-33.0"
            ]
          },
          "metadata": {},
          "execution_count": 31
        }
      ]
    },
    {
      "cell_type": "code",
      "metadata": {
        "colab": {
          "base_uri": "https://localhost:8080/",
          "height": 229
        },
        "id": "kkwgfUnur4ul",
        "outputId": "7e5681de-4fcc-4e64-f0e4-19706bf69e64"
      },
      "source": [
        "Number = int(input(\"Bir sayı girin: \"))\n",
        "a = \"Number1\"\n",
        "b = \"Number2\"\n",
        "if Number1 > Number2 :\n",
        " print(\"The large Number is \") "
      ],
      "execution_count": null,
      "outputs": [
        {
          "name": "stdout",
          "output_type": "stream",
          "text": [
            "Bir sayı girin: 4\n"
          ]
        },
        {
          "output_type": "error",
          "ename": "NameError",
          "evalue": "ignored",
          "traceback": [
            "\u001b[0;31m---------------------------------------------------------------------------\u001b[0m",
            "\u001b[0;31mNameError\u001b[0m                                 Traceback (most recent call last)",
            "\u001b[0;32m<ipython-input-32-b09ed3cb7b2d>\u001b[0m in \u001b[0;36m<module>\u001b[0;34m()\u001b[0m\n\u001b[1;32m      2\u001b[0m \u001b[0ma\u001b[0m \u001b[0;34m=\u001b[0m \u001b[0;34m\"Number1\"\u001b[0m\u001b[0;34m\u001b[0m\u001b[0;34m\u001b[0m\u001b[0m\n\u001b[1;32m      3\u001b[0m \u001b[0mb\u001b[0m \u001b[0;34m=\u001b[0m \u001b[0;34m\"Number2\"\u001b[0m\u001b[0;34m\u001b[0m\u001b[0;34m\u001b[0m\u001b[0m\n\u001b[0;32m----> 4\u001b[0;31m \u001b[0;32mif\u001b[0m \u001b[0mNumber1\u001b[0m \u001b[0;34m>\u001b[0m \u001b[0mNumber2\u001b[0m \u001b[0;34m:\u001b[0m\u001b[0;34m\u001b[0m\u001b[0;34m\u001b[0m\u001b[0m\n\u001b[0m\u001b[1;32m      5\u001b[0m  \u001b[0mprint\u001b[0m\u001b[0;34m(\u001b[0m\u001b[0;34m\"The large Number is \"\u001b[0m\u001b[0;34m)\u001b[0m\u001b[0;34m\u001b[0m\u001b[0;34m\u001b[0m\u001b[0m\n",
            "\u001b[0;31mNameError\u001b[0m: name 'Number1' is not defined"
          ]
        }
      ]
    },
    {
      "cell_type": "code",
      "metadata": {
        "colab": {
          "base_uri": "https://localhost:8080/"
        },
        "id": "dzQjMNf4tIe2",
        "outputId": "daa3b8ec-b3b8-4be7-e3c7-d91194c996b4"
      },
      "source": [
        "num1 = float(input(\"Enter first number: \"))\n",
        "num2 = float(input(\"Enter first number: \"))\n",
        "if num1 >num2 :\n",
        "  larger = num1\n",
        "else :larger = num2\n",
        "print(\"the larger number is\", larger)\n"
      ],
      "execution_count": null,
      "outputs": [
        {
          "output_type": "stream",
          "name": "stdout",
          "text": [
            "Enter first number: 4\n",
            "Enter first number: 6\n",
            "the larger number is 6.0\n"
          ]
        }
      ]
    },
    {
      "cell_type": "code",
      "metadata": {
        "colab": {
          "base_uri": "https://localhost:8080/"
        },
        "id": "piBkiSMBt4qC",
        "outputId": "b10a6812-f4f4-48f1-9507-c3f26e0d78ea"
      },
      "source": [
        "num1 = int(input(\"Enter first number: \"))\n",
        "num2 = int(input(\"Enter first number: \"))\n",
        "if num1 >num2 :\n",
        "  larger = num1\n",
        "else :larger = num2\n",
        "print(\"the larger number is\", larger)"
      ],
      "execution_count": null,
      "outputs": [
        {
          "output_type": "stream",
          "name": "stdout",
          "text": [
            "Enter first number: 6\n",
            "Enter first number: 3\n",
            "the larger number is 6\n"
          ]
        }
      ]
    },
    {
      "cell_type": "code",
      "metadata": {
        "colab": {
          "base_uri": "https://localhost:8080/"
        },
        "id": "d2D5pR6ruKAp",
        "outputId": "8adcd6ee-0118-4f10-980d-78ba32d6380d"
      },
      "source": [
        "num1 = float(input(\"Enter first number: \"))\n",
        "num2 = float(input(\"Enter first number: \"))\n",
        "if num1 > num2 :\n",
        "  print(\"the larger number is\", num1)\n",
        "else :\n",
        "  print(\"the larger number is\", num2)"
      ],
      "execution_count": null,
      "outputs": [
        {
          "output_type": "stream",
          "name": "stdout",
          "text": [
            "Enter first number: 2\n",
            "Enter first number: 9\n",
            "the larger number is 9.0\n"
          ]
        }
      ]
    }
  ]
}