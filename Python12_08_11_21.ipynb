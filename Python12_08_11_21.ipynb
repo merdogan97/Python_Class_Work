{
  "nbformat": 4,
  "nbformat_minor": 0,
  "metadata": {
    "colab": {
      "name": "Python12_08.11.21.ipynb",
      "provenance": [],
      "collapsed_sections": [],
      "authorship_tag": "ABX9TyNhFJC50nNjQ36rDL72c/hO",
      "include_colab_link": true
    },
    "kernelspec": {
      "name": "python3",
      "display_name": "Python 3"
    },
    "language_info": {
      "name": "python"
    }
  },
  "cells": [
    {
      "cell_type": "markdown",
      "metadata": {
        "id": "view-in-github",
        "colab_type": "text"
      },
      "source": [
        "<a href=\"https://colab.research.google.com/github/merdogan97/Python_Class_Work/blob/main/Python12_08_11_21.ipynb\" target=\"_parent\"><img src=\"https://colab.research.google.com/assets/colab-badge.svg\" alt=\"Open In Colab\"/></a>"
      ]
    },
    {
      "cell_type": "code",
      "metadata": {
        "colab": {
          "base_uri": "https://localhost:8080/"
        },
        "id": "aMXdz8q9nmom",
        "outputId": "f70af76a-720c-426c-8164-5bbe80ca4997"
      },
      "source": [
        "bool_value = False\n",
        "if bool_value :\n",
        "  print(\"Yes\")\n",
        "else :\n",
        "  print(\"No\")\n"
      ],
      "execution_count": null,
      "outputs": [
        {
          "output_type": "stream",
          "name": "stdout",
          "text": [
            "No\n"
          ]
        }
      ]
    },
    {
      "cell_type": "code",
      "metadata": {
        "colab": {
          "base_uri": "https://localhost:8080/"
        },
        "id": "TeqrdDIiwcH2",
        "outputId": "10aa8fb7-8e0b-42a7-9311-bcc688d23d09"
      },
      "source": [
        "bool_value = True\n",
        "if bool_value :\n",
        "  print(\"Yes\")\n",
        "else :\n",
        "  print(\"No\")\n"
      ],
      "execution_count": null,
      "outputs": [
        {
          "output_type": "stream",
          "name": "stdout",
          "text": [
            "Yes\n"
          ]
        }
      ]
    },
    {
      "cell_type": "markdown",
      "metadata": {
        "id": "a-URggEHwi0j"
      },
      "source": [
        "**IF - ELIF - ELSE**\n",
        "\n"
      ]
    },
    {
      "cell_type": "code",
      "metadata": {
        "colab": {
          "base_uri": "https://localhost:8080/"
        },
        "id": "Cu4_obxnwguW",
        "outputId": "dbeb3461-8d86-431b-adf4-2d9bf05d79b0"
      },
      "source": [
        "num1 = float(input(\"Birinci sayıyı giriniz: \"))\n",
        "num2 = float(input(\"İkinci sayıyı giriniz: \"))\n",
        "num3 = float(input(\"Üçüncü sayıyı giriniz: \"))\n",
        "\n",
        "if (num1 > num2) and (num1 > num3):\n",
        "  largest = num1\n",
        "elif (num2 > num1) and (num2 > num3) :\n",
        "  largest = num2\n",
        "else :\n",
        "   largest = num3\n",
        "print(\"En büyük sayı :\", largest)"
      ],
      "execution_count": null,
      "outputs": [
        {
          "output_type": "stream",
          "name": "stdout",
          "text": [
            "Birinci sayıyı giriniz: 1\n",
            "İkinci sayıyı giriniz: 5\n",
            "Üçüncü sayıyı giriniz: 8\n",
            "En büyük sayı : 8.0\n"
          ]
        }
      ]
    },
    {
      "cell_type": "code",
      "metadata": {
        "colab": {
          "base_uri": "https://localhost:8080/"
        },
        "id": "NCJ8hRs0zwQa",
        "outputId": "85fffadb-2ee7-45f6-9225-f459b63a2cd8"
      },
      "source": [
        "num1 = float(input(\"Bir sayı giriniz: \"))\n",
        "if num1 > 0 :\n",
        "  print(\"sayı Positiftir\")\n",
        "\n",
        "elif num1 < 0 :\n",
        "  print(\"sayı negatiftir\")\n",
        "elif num1 == 0 :\n",
        "    print(\"sayı 0 dır\")\n",
        "else :\n",
        "  print(\"başka bir sayı girin!\")\n"
      ],
      "execution_count": null,
      "outputs": [
        {
          "output_type": "stream",
          "name": "stdout",
          "text": [
            "Bir sayı giriniz: 0\n",
            "sayı 0 dır\n"
          ]
        }
      ]
    },
    {
      "cell_type": "code",
      "metadata": {
        "colab": {
          "base_uri": "https://localhost:8080/"
        },
        "id": "PyY0NJUQ2p5_",
        "outputId": "5362a5c1-a8d3-4da7-cea5-a2b7254dee28"
      },
      "source": [
        "Score = int(input(\"Aldığınız notu girin: \"))\n",
        "\n",
        "if Score >= 95 :\n",
        "  print(\"Notunuz A+ :\", Score)\n",
        "elif 90 < Score < 95 :\n",
        "   print(\"Notunuz A :\", Score)\n",
        "elif 85 < Score <=90 :\n",
        "    print(\"Notunuz B+ :\", Score)\n",
        "elif 80 < Score <= 85 :\n",
        "   print(\"Notunuz B: \", Score)\n",
        "elif Score <= 79 :\n",
        "   print(\"Notunuz B altı veya B- :\", Score)"
      ],
      "execution_count": null,
      "outputs": [
        {
          "output_type": "stream",
          "name": "stdout",
          "text": [
            "Aldığınız notu girin: 86\n",
            "Notunuz B+ : 86\n"
          ]
        }
      ]
    },
    {
      "cell_type": "code",
      "metadata": {
        "id": "6HhL9qrpAWce"
      },
      "source": [
        "while 0 :  # 0 falsy dir\n",
        "  print(\"one\")\n"
      ],
      "execution_count": null,
      "outputs": []
    },
    {
      "cell_type": "code",
      "metadata": {
        "id": "2ytxjv_GAjBA"
      },
      "source": [
        "while 0 : \n",
        "  print(\"sonsuz\") # sonsuz döngüye girer.\n",
        "  "
      ],
      "execution_count": null,
      "outputs": []
    },
    {
      "cell_type": "code",
      "metadata": {
        "colab": {
          "base_uri": "https://localhost:8080/"
        },
        "id": "tMWR_MPFAswl",
        "outputId": "1d0bc7a8-87d9-4b1a-d5bf-692031dbc617"
      },
      "source": [
        "condition = 5     \n",
        "while condition : \n",
        "  condition -= 1  # con = con -1   önce eşitliğin sağ tarafı çalışır!!!!!!!! böylece yeni condition değişir..\n",
        "  print(condition)   # -1, -2, -3 .. diye devam etmedi ? 0 olunca döngüden çıkıyor.\n"
      ],
      "execution_count": null,
      "outputs": [
        {
          "output_type": "stream",
          "name": "stdout",
          "text": [
            "4\n",
            "3\n",
            "2\n",
            "1\n",
            "0\n"
          ]
        }
      ]
    },
    {
      "cell_type": "code",
      "metadata": {
        "id": "chspmJT2Dl38"
      },
      "source": [
        ""
      ],
      "execution_count": null,
      "outputs": []
    },
    {
      "cell_type": "code",
      "metadata": {
        "colab": {
          "base_uri": "https://localhost:8080/"
        },
        "id": "96SvbzajC-d4",
        "outputId": "da7b6cd2-abf4-451d-aed0-5f0162f0141f"
      },
      "source": [
        "number = 0\n",
        "while number < 6 :\n",
        "  print(number)\n",
        "  number += 1\n",
        "print(\"Noe, the number is 6 or bigger than 6\")"
      ],
      "execution_count": null,
      "outputs": [
        {
          "output_type": "stream",
          "name": "stdout",
          "text": [
            "0\n",
            "1\n",
            "2\n",
            "3\n",
            "4\n",
            "5\n",
            "Noe, the number is 6 or bigger than 6\n"
          ]
        }
      ]
    },
    {
      "cell_type": "code",
      "metadata": {
        "id": "ibusvJZ4DdYU"
      },
      "source": [
        "number = 0\n",
        "while number < 6 :\n",
        "  print(number)\n",
        "  number += 1\n",
        "print(\"Noe, the number is 6 or bigger than 6\")"
      ],
      "execution_count": null,
      "outputs": []
    },
    {
      "cell_type": "code",
      "metadata": {
        "colab": {
          "base_uri": "https://localhost:8080/"
        },
        "id": "zyAgTKZ1Dm5n",
        "outputId": "8e9feffb-53bf-4dd0-90ae-d80c85804311"
      },
      "source": [
        "condition = 5     \n",
        "while True: \n",
        "  condition -= 1  \n",
        "  print(condition) \n",
        "  if condition == 2 :\n",
        "    break     # ilk döngüden çıkar\n"
      ],
      "execution_count": null,
      "outputs": [
        {
          "output_type": "stream",
          "name": "stdout",
          "text": [
            "4\n",
            "3\n",
            "2\n"
          ]
        }
      ]
    },
    {
      "cell_type": "code",
      "metadata": {
        "id": "yzbR7iR0EF49"
      },
      "source": [
        "mylist = [\"a\", \"b\", \"c\", \"d\", \"e\"]\n",
        "a = 0\n",
        "while a < len(mylist):\n",
        "  print('square of {} is : {}'.format(a, a**2))\n",
        "a + 1"
      ],
      "execution_count": null,
      "outputs": []
    },
    {
      "cell_type": "code",
      "metadata": {
        "colab": {
          "base_uri": "https://localhost:8080/"
        },
        "id": "Zl2D1ldxFSHl",
        "outputId": "61abb7ea-e38d-4689-e463-0965339a9e01"
      },
      "source": [
        "\"onaltı\".isdigit()\n"
      ],
      "execution_count": null,
      "outputs": [
        {
          "output_type": "execute_result",
          "data": {
            "text/plain": [
              "False"
            ]
          },
          "metadata": {},
          "execution_count": 45
        }
      ]
    },
    {
      "cell_type": "code",
      "metadata": {
        "colab": {
          "base_uri": "https://localhost:8080/"
        },
        "id": "1fGWCxyMF1Ch",
        "outputId": "9c8f100d-e5c5-4723-859d-6ec89ab11cec"
      },
      "source": [
        "\"44\".isdigit()"
      ],
      "execution_count": null,
      "outputs": [
        {
          "output_type": "execute_result",
          "data": {
            "text/plain": [
              "True"
            ]
          },
          "metadata": {},
          "execution_count": 46
        }
      ]
    },
    {
      "cell_type": "code",
      "metadata": {
        "colab": {
          "base_uri": "https://localhost:8080/"
        },
        "id": "HXlsdKmYF4JB",
        "outputId": "9452bbe1-aec7-4ff6-84e8-7a8ebf6a2b95"
      },
      "source": [
        "age = input(\"Enter your age :\")\n",
        "while not age.isdigit() :       # not true = false yapar\n",
        "  print(\"You entered incorrect. Please enter again\")\n",
        "  age = input(\"Enter your age again: \")\n",
        "print(\"Great ! You entered valid input :\", age)"
      ],
      "execution_count": null,
      "outputs": [
        {
          "output_type": "stream",
          "name": "stdout",
          "text": [
            "Enter your age :90\n",
            "Great ! You entered valid input : 90\n"
          ]
        }
      ]
    },
    {
      "cell_type": "code",
      "metadata": {
        "colab": {
          "base_uri": "https://localhost:8080/"
        },
        "id": "m939GPyQPA-b",
        "outputId": "eb07f0f8-3536-4130-975a-dd997882370e"
      },
      "source": [
        "age = input(\"Enter your age :\")\n",
        "while not age.isdigit() :       # not true = false yapar\n",
        "  print(\"You entered incorrect. Please enter again\")\n",
        "  age = input(\"Enter your age again: \")\n",
        "print(\"Great ! You entered valid input :\", age)"
      ],
      "execution_count": null,
      "outputs": [
        {
          "output_type": "stream",
          "name": "stdout",
          "text": [
            "Enter your age :-24\n",
            "You entered incorrect. Please enter again\n",
            "Enter your age again: 34\n",
            "Great ! You entered valid input : 34\n"
          ]
        }
      ]
    },
    {
      "cell_type": "markdown",
      "metadata": {
        "id": "z61N3KAzO5nM"
      },
      "source": [
        ""
      ]
    },
    {
      "cell_type": "markdown",
      "metadata": {
        "id": "5Njyj6QROcEJ"
      },
      "source": [
        "# string ler     ==    ile kıyaslanır...\n"
      ]
    },
    {
      "cell_type": "code",
      "metadata": {
        "colab": {
          "base_uri": "https://localhost:8080/"
        },
        "id": "en8FkL6JOrDF",
        "outputId": "3e77bb31-f73d-4584-8939-f94aaf9f1ff9"
      },
      "source": [
        "\"a\" == \"b\""
      ],
      "execution_count": null,
      "outputs": [
        {
          "output_type": "execute_result",
          "data": {
            "text/plain": [
              "False"
            ]
          },
          "metadata": {},
          "execution_count": 51
        }
      ]
    },
    {
      "cell_type": "code",
      "metadata": {
        "id": "Zf1RwHL8PUjM"
      },
      "source": [
        "number = int(input(\"Bir sayı giriniz : \"))\n",
        "number = 0\n",
        "while True :\n",
        "  if number < 22 :\n",
        "    print(\"you are close to 22, and try again!\")\n",
        "  elif number > 22 :\n",
        "    print(\"you are a little bit over, and try again\")\n",
        "  else :\n",
        "    print(\"you are correct!\")\n",
        "    break"
      ],
      "execution_count": null,
      "outputs": []
    },
    {
      "cell_type": "code",
      "metadata": {
        "colab": {
          "base_uri": "https://localhost:8080/"
        },
        "id": "uKI_gYKrShso",
        "outputId": "dd045b90-84db-414e-a10c-6579edf94f8a"
      },
      "source": [
        "\"The best is clarusway\".split()\n",
        "\n"
      ],
      "execution_count": null,
      "outputs": [
        {
          "output_type": "execute_result",
          "data": {
            "text/plain": [
              "['The', 'best', 'is', 'clarusway']"
            ]
          },
          "metadata": {},
          "execution_count": 71
        }
      ]
    },
    {
      "cell_type": "code",
      "metadata": {
        "id": "sW87AEqkUpeP"
      },
      "source": [
        "\"The best is clarusway\".split(e)\n"
      ],
      "execution_count": null,
      "outputs": []
    },
    {
      "cell_type": "code",
      "metadata": {
        "colab": {
          "base_uri": "https://localhost:8080/"
        },
        "id": "Qg8D4wNzUemi",
        "outputId": "0930f48e-af25-4c5f-ddd8-a90e9d96eaaf"
      },
      "source": [
        "sentence = input(\"Bir cümle giriniz :\")\n",
        "wordlist= sentence.split()\n",
        "i = 0\n",
        "longest = 0     # ilk değer atadım..\n",
        "while i < len(wordlist) :\n",
        "  if len(wordlist[i]) > longest :\n",
        "    longest = len(wordlist[i])\n",
        "  i += 1\n",
        "print(\"the length of the word:\", longest)"
      ],
      "execution_count": null,
      "outputs": [
        {
          "output_type": "stream",
          "name": "stdout",
          "text": [
            "Bir cümle giriniz :the best is clarusway\n",
            "the length of the word: 9\n"
          ]
        }
      ]
    }
  ]
}