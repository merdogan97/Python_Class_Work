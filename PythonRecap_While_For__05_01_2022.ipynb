{
  "nbformat": 4,
  "nbformat_minor": 0,
  "metadata": {
    "colab": {
      "name": "PythonRecap_While/For _05.01.2022.ipynb",
      "provenance": [],
      "collapsed_sections": [],
      "authorship_tag": "ABX9TyOY8xv3nEmrRYx7+JoSBB3h",
      "include_colab_link": true
    },
    "kernelspec": {
      "name": "python3",
      "display_name": "Python 3"
    },
    "language_info": {
      "name": "python"
    }
  },
  "cells": [
    {
      "cell_type": "markdown",
      "metadata": {
        "id": "view-in-github",
        "colab_type": "text"
      },
      "source": [
        "<a href=\"https://colab.research.google.com/github/merdogan97/Python_Class_Work/blob/main/PythonRecap_While_For__05_01_2022.ipynb\" target=\"_parent\"><img src=\"https://colab.research.google.com/assets/colab-badge.svg\" alt=\"Open In Colab\"/></a>"
      ]
    },
    {
      "cell_type": "code",
      "source": [
        "index = 1\n",
        "while index <= 5:\n",
        "  print(index)\n",
        "  index += 1\n",
        "print(\"Done\")"
      ],
      "metadata": {
        "colab": {
          "base_uri": "https://localhost:8080/"
        },
        "id": "t622LIBbCLNu",
        "outputId": "8c86328e-6f8b-45ca-b3c3-8943155ec663"
      },
      "execution_count": null,
      "outputs": [
        {
          "output_type": "stream",
          "name": "stdout",
          "text": [
            "1\n",
            "2\n",
            "3\n",
            "4\n",
            "5\n",
            "Done\n"
          ]
        }
      ]
    },
    {
      "cell_type": "code",
      "source": [
        "index = 1\n",
        "while index <= 10:\n",
        "  print(\"*\" * index)\n",
        "  index += 1\n",
        "print(\"Done\")"
      ],
      "metadata": {
        "colab": {
          "base_uri": "https://localhost:8080/"
        },
        "id": "n332dchfJnlB",
        "outputId": "fa7fa6e5-fbbb-4216-931d-c56eca4c3348"
      },
      "execution_count": null,
      "outputs": [
        {
          "output_type": "stream",
          "name": "stdout",
          "text": [
            "*\n",
            "**\n",
            "***\n",
            "****\n",
            "*****\n",
            "******\n",
            "*******\n",
            "********\n",
            "*********\n",
            "**********\n",
            "Done\n"
          ]
        }
      ]
    },
    {
      "cell_type": "code",
      "source": [
        "index = 1\n",
        "while index <= 10:\n",
        "  print(f'{\"*\" * index:^10}')\n",
        "  index += 2\n",
        "print(f'{\"***\":^10}')\n",
        "print(f'{\"***\":^10}')\n",
        "print(f'{\"***\":^10}')"
      ],
      "metadata": {
        "colab": {
          "base_uri": "https://localhost:8080/"
        },
        "id": "2MmvzNs6KGbX",
        "outputId": "c89e4a1d-2a17-4496-fe54-8ee91071b6d8"
      },
      "execution_count": null,
      "outputs": [
        {
          "output_type": "stream",
          "name": "stdout",
          "text": [
            "    *     \n",
            "   ***    \n",
            "  *****   \n",
            " *******  \n",
            "********* \n",
            "   ***    \n",
            "   ***    \n",
            "   ***    \n"
          ]
        }
      ]
    },
    {
      "cell_type": "code",
      "source": [
        ""
      ],
      "metadata": {
        "id": "ECPpllG2MR1o"
      },
      "execution_count": null,
      "outputs": []
    },
    {
      "cell_type": "code",
      "execution_count": null,
      "metadata": {
        "colab": {
          "base_uri": "https://localhost:8080/"
        },
        "id": "0c3-SAwd_zbN",
        "outputId": "4168747b-519a-4721-a1dc-18eb33cdfc61"
      },
      "outputs": [
        {
          "output_type": "stream",
          "name": "stdout",
          "text": [
            "1-->Adding, 2-->Çıkarma, 3-->Çarpma, 4-->Bölme\n",
            "Birinci sayıyı giriniz:1\n",
            "İkinci sayıyı giriniz :2\n",
            "İşleminizi seçiniz    :1\n",
            "İşlemin sonucu        : 3\n"
          ]
        }
      ],
      "source": [
        "print (\"1-->Adding, 2-->Çıkarma, 3-->Çarpma, 4-->Bölme\")\n",
        "a=int (input (\"Birinci sayıyı giriniz:\"))\n",
        "b=int (input (\"İkinci sayıyı giriniz :\"))\n",
        "c=int (input (\"İşleminizi seçiniz    :\"))\n",
        "\n",
        "if (c==1): \n",
        "\tsonuc = a+b \n",
        "\tprint(\"İşlemin sonucu        :\",sonuc)\n",
        "elif (c==2): \n",
        "\tsonuc = a-b \n",
        "\tprint(\"İşlemin sonucu        :\",sonuc) \n",
        "elif (c==3): \n",
        "\tsonuc = a*b \n",
        "\tprint(\"İşlemin sonucu        :\",sonuc) \n",
        "\n",
        "elif (c==4): \n",
        "\tsonuc = a/b \n",
        "\tprint(\"İşlemin sonucu        :\",sonuc) \n",
        "else: \n",
        "\tprint(\"hatalı giriş...\") "
      ]
    },
    {
      "cell_type": "markdown",
      "source": [
        "1-5 e kadar dar seçilen sayıların kullanıcı tarafından  enfazla 3 seferde bilmesini sağlayan bir kod yazyn[bağlantı metni]"
      ],
      "metadata": {
        "id": "kc2eSGzPM6TH"
      }
    },
    {
      "cell_type": "code",
      "source": [
        "import random   # rastgele işlemler yapmak için kullanılan random modülü çok faydalıdır.\n",
        "randomNumber = random.randint(1,5) # 1-5 kadar sayı belirler\n",
        "guessCount = 0\n",
        "guessLimit = 3\n",
        "while guessCount < guessLimit:      # 0,1,2  yani 3 defa çalışacak\n",
        "  guess= int(input(\"Enter your guess: \"))\n",
        "  guessCount += 1\n",
        "  if guess == randomNumber:\n",
        "    print(\"You won!\")\n",
        "    break\n",
        "  else:\n",
        "    print(\"You did not guess right! You failed !...\")\n"
      ],
      "metadata": {
        "colab": {
          "base_uri": "https://localhost:8080/"
        },
        "id": "m9PaUqQJNdKA",
        "outputId": "5ce0d0c5-fcf4-4ad1-ce7b-6d89e893cf77"
      },
      "execution_count": null,
      "outputs": [
        {
          "output_type": "stream",
          "name": "stdout",
          "text": [
            "Enter your guess: 2\n",
            "You did not guess right! You failed !...\n",
            "Enter your guess: 5\n",
            "You did not guess right! You failed !...\n",
            "Enter your guess: 1\n",
            "You did not guess right! You failed !...\n"
          ]
        }
      ]
    },
    {
      "cell_type": "markdown",
      "source": [
        "Kullanıcıdan ismini alsın ve ismin uzunluğu 3'ten kısa veya 15'ten uzunsa hata mesajı yazdırsın ve tekraer kullanıcının ismini  istesin. Bu işlemi geçerli bir isim alna kadar veya kullanıcı \"quit\" kelimesini girene kadar devM ETSİN. Kullanıcı doğru ismi girdiiğnde ismini belirterek merhaba desin.."
      ],
      "metadata": {
        "id": "mON__PX3RX6Y"
      }
    },
    {
      "cell_type": "code",
      "source": [
        "name = input(\"Enter your name: \")\n",
        "lastName= input(\"Enter your lastname: \")\n",
        "\n",
        "if len(name) < 3:\n",
        "  print(\"Name must be at least 3 characters\")\n",
        "elif len(name) > 15:\n",
        "  print(\"Name must be maximum 15 characters\")\n",
        "elif len(lastName) < 3:\n",
        "  print(\"Last Name must be at least 3 characters\")\n",
        "elif len(lastName) > 15:\n",
        "  print(\"Last Name must be maximum 15 characters\")\n",
        "else:\n",
        "  print(f\"Hi ! {name} {lastName}\")\n"
      ],
      "metadata": {
        "colab": {
          "base_uri": "https://localhost:8080/"
        },
        "id": "8iZaDP0-NJGb",
        "outputId": "53b6bf62-edf1-4c29-ae3b-9f1d8f7edea5"
      },
      "execution_count": null,
      "outputs": [
        {
          "output_type": "stream",
          "name": "stdout",
          "text": [
            "Enter your name: Ayşe\n",
            "Enter your lastname: Ezgi\n",
            "Hi ! Ayşe Ezgi\n"
          ]
        }
      ]
    },
    {
      "cell_type": "markdown",
      "source": [
        "**while döngüsü kullanarak 1-100 arasındaki (100 dâhil) çift sayıları bularak ekrana yan yana yazan programı yazınız.**"
      ],
      "metadata": {
        "id": "swuOuYAqVqMa"
      }
    },
    {
      "cell_type": "code",
      "source": [
        "a=0\n",
        "while a <=10:\n",
        "  if a%2==0:\n",
        "    print(a,end=\",\")\n",
        "    a += 1"
      ],
      "metadata": {
        "colab": {
          "base_uri": "https://localhost:8080/",
          "height": 253
        },
        "id": "_6YySYygVt_H",
        "outputId": "bb4ab528-5579-4c1a-d0c4-2ce9b333aff0"
      },
      "execution_count": null,
      "outputs": [
        {
          "output_type": "stream",
          "name": "stdout",
          "text": [
            "0,"
          ]
        },
        {
          "output_type": "error",
          "ename": "KeyboardInterrupt",
          "evalue": "ignored",
          "traceback": [
            "\u001b[0;31m---------------------------------------------------------------------------\u001b[0m",
            "\u001b[0;31mKeyboardInterrupt\u001b[0m                         Traceback (most recent call last)",
            "\u001b[0;32m<ipython-input-48-cfeb7d04a0ae>\u001b[0m in \u001b[0;36m<module>\u001b[0;34m()\u001b[0m\n\u001b[1;32m      1\u001b[0m \u001b[0ma\u001b[0m\u001b[0;34m=\u001b[0m\u001b[0;36m0\u001b[0m\u001b[0;34m\u001b[0m\u001b[0;34m\u001b[0m\u001b[0m\n\u001b[0;32m----> 2\u001b[0;31m \u001b[0;32mwhile\u001b[0m \u001b[0ma\u001b[0m \u001b[0;34m<=\u001b[0m\u001b[0;36m10\u001b[0m\u001b[0;34m:\u001b[0m\u001b[0;34m\u001b[0m\u001b[0;34m\u001b[0m\u001b[0m\n\u001b[0m\u001b[1;32m      3\u001b[0m   \u001b[0;32mif\u001b[0m \u001b[0ma\u001b[0m\u001b[0;34m%\u001b[0m\u001b[0;36m2\u001b[0m\u001b[0;34m==\u001b[0m\u001b[0;36m0\u001b[0m\u001b[0;34m:\u001b[0m\u001b[0;34m\u001b[0m\u001b[0;34m\u001b[0m\u001b[0m\n\u001b[1;32m      4\u001b[0m     \u001b[0mprint\u001b[0m\u001b[0;34m(\u001b[0m\u001b[0ma\u001b[0m\u001b[0;34m,\u001b[0m\u001b[0mend\u001b[0m\u001b[0;34m=\u001b[0m\u001b[0;34m\",\"\u001b[0m\u001b[0;34m)\u001b[0m\u001b[0;34m\u001b[0m\u001b[0;34m\u001b[0m\u001b[0m\n\u001b[1;32m      5\u001b[0m     \u001b[0ma\u001b[0m \u001b[0;34m+=\u001b[0m \u001b[0;36m1\u001b[0m\u001b[0;34m\u001b[0m\u001b[0;34m\u001b[0m\u001b[0m\n",
            "\u001b[0;31mKeyboardInterrupt\u001b[0m: "
          ]
        }
      ]
    },
    {
      "cell_type": "markdown",
      "source": [
        "**while döngüsü kullanarak 1 – 100 arasındaki sayıların toplamını bulan programı yazınız.**"
      ],
      "metadata": {
        "id": "2EIQwepGX_jS"
      }
    },
    {
      "cell_type": "code",
      "source": [
        "toplam=0\n",
        "i=1\n",
        "while i<=100:\n",
        "    toplam=toplam+i\n",
        "    i=i+1\n",
        "print(\"sayıların toplamı\",toplam)"
      ],
      "metadata": {
        "colab": {
          "base_uri": "https://localhost:8080/"
        },
        "id": "HdbFUeFQX0Cq",
        "outputId": "1f00d5f3-bc01-4fae-b03c-8bd73598ff02"
      },
      "execution_count": null,
      "outputs": [
        {
          "output_type": "stream",
          "name": "stdout",
          "text": [
            "sayıların toplamı 5050\n"
          ]
        }
      ]
    },
    {
      "cell_type": "markdown",
      "source": [
        "Başlangıçta liste isminde boş bir liste tanımladık. Sonsuz döngü içerisinde kullanıcıdan bir ürün adı isteriz. O ürün adını listeye ekleriz. Eğere kullanıcı q harfi girerse döngüden çıkacak. En sonunda da liste ekrana yazdırılacak.** **kalın metin**kalın metin**"
      ],
      "metadata": {
        "id": "WoHaGTorYJsW"
      }
    },
    {
      "cell_type": "code",
      "source": [
        "\n",
        "liste=[]\n",
        "\n",
        "while True:\n",
        "    ürün=input(\"ürün adı giriniz:\")\n",
        "    if ürün==\"q\":\n",
        "        break\n",
        "    liste.append(ürün)\n",
        "\n",
        "print(\"Girdiğiniz meyveler:\",liste)"
      ],
      "metadata": {
        "colab": {
          "base_uri": "https://localhost:8080/"
        },
        "id": "_7FyDdY6YMKb",
        "outputId": "94bbe9e2-d258-4456-e27b-9c9a20cddbe5"
      },
      "execution_count": null,
      "outputs": [
        {
          "output_type": "stream",
          "name": "stdout",
          "text": [
            "ürün adı giriniz:elma\n",
            "ürün adı giriniz:armut\n",
            "ürün adı giriniz:muz\n",
            "ürün adı giriniz:çilek \n",
            "ürün adı giriniz:kayısı\n",
            "ürün adı giriniz:kavun\n",
            "ürün adı giriniz:q\n",
            "girdiğiniz meyveler: ['elma', 'armut', 'muz', 'çilek ', 'kayısı', 'kavun']\n"
          ]
        }
      ]
    },
    {
      "cell_type": "code",
      "source": [
        "isim=\"Mustafa\"\n",
        "for i in isim:\n",
        "    print(i,end=\"-\")"
      ],
      "metadata": {
        "colab": {
          "base_uri": "https://localhost:8080/"
        },
        "id": "B4NU2oJlYFxD",
        "outputId": "adefe4e3-c390-4d93-e9c1-e06f9ed704fb"
      },
      "execution_count": null,
      "outputs": [
        {
          "output_type": "stream",
          "name": "stdout",
          "text": [
            "M-u-s-t-a-f-a-"
          ]
        }
      ]
    },
    {
      "cell_type": "code",
      "source": [
        "isim=\"Mustafa\"\n",
        "i=0\n",
        "while i<len(isim):\n",
        "    print(isim[i],end=\"-\")\n",
        "    i=i+1\n"
      ],
      "metadata": {
        "colab": {
          "base_uri": "https://localhost:8080/"
        },
        "id": "eAXs92gcZZOZ",
        "outputId": "2a8e8d83-d725-4c6d-9c30-3db47cc0fab6"
      },
      "execution_count": null,
      "outputs": [
        {
          "output_type": "stream",
          "name": "stdout",
          "text": [
            "M-u-s-t-a-f-a-"
          ]
        }
      ]
    },
    {
      "cell_type": "markdown",
      "source": [
        "**Bir cümle içerisinde geçen bir harfin kaç defa geçtiğini bulunuz.**"
      ],
      "metadata": {
        "id": "GBSHZd35Zjao"
      }
    },
    {
      "cell_type": "code",
      "source": [
        "yazi= \"\"\"Python üst düzey basit sözdizimine sahip, öğrenmesi oldukça kolay,  \n",
        "modülerliği, okunabilirliği desktekeyen, platform bağımsız nesne \n",
        "yönelimli yorumlanabilir bir script dilidir.\"\"\"\n",
        "\n",
        "harf=\"a\"\n",
        "sayac=0\n",
        "\n",
        "for i in yazi:\n",
        "     if i==\"a\":\n",
        "         sayac=sayac+1\n",
        "print(\"Cümle içerisinde geçen 'a' harfi sayısı: \",sayac)\n",
        "\n"
      ],
      "metadata": {
        "colab": {
          "base_uri": "https://localhost:8080/"
        },
        "id": "ruIrsCLUZq9k",
        "outputId": "d5a55472-0eeb-436c-ac9e-5e643049bbb3"
      },
      "execution_count": null,
      "outputs": [
        {
          "output_type": "stream",
          "name": "stdout",
          "text": [
            "Cümle içerisinde geçen 'a' harfi sayısı:  9\n"
          ]
        }
      ]
    },
    {
      "cell_type": "code",
      "source": [
        "yazi= \"\"\"Python üst düzey basit söz dizimine sahip, öğrenmesi oldukça kolay,\n",
        " modülerliği, okunabilirliği destekleyen, platform bağımsız nesne yönelimli\n",
        " yorumlanabilir bir script dilidir.\"\"\"\n",
        "\n",
        "sesli=\"aeıioöuü\"\n",
        "sayac= 0\n",
        "for i in yazi:\n",
        "     if i in sesli:\n",
        "         print(i,end=\",\")\n"
      ],
      "metadata": {
        "colab": {
          "base_uri": "https://localhost:8080/"
        },
        "id": "9yyDzePMaUFW",
        "outputId": "9e6a564c-0bed-4170-87b6-8858c5ab3513"
      },
      "execution_count": null,
      "outputs": [
        {
          "output_type": "stream",
          "name": "stdout",
          "text": [
            "o,ü,ü,e,a,i,ö,i,i,i,e,a,i,ö,e,e,i,o,u,a,o,a,o,ü,e,i,i,o,u,a,i,i,i,i,e,e,e,e,a,o,a,ı,ı,e,e,ö,e,i,i,o,u,a,a,i,i,i,i,i,i,i,"
          ]
        }
      ]
    },
    {
      "cell_type": "code",
      "source": [
        "yazi= \"\"\"Python üst düzey basit söz dizimine sahip, öğrenmesi oldukça kolay,\n",
        " modülerliği, okunabilirliği destekleyen, platform bağımsız nesne yönelimli\n",
        " yorumlanabilir bir script dilidir.\"\"\"\n",
        "\n",
        "sesli=\"aeıioöuü\"\n",
        "\n",
        "for i in yazi:\n",
        "     if i in sesli:\n",
        "        sayac=sayac+1\n",
        "print(\"Cümle içerisinde geçen 'sesli harf' sayısı: \",sayac)\n"
      ],
      "metadata": {
        "colab": {
          "base_uri": "https://localhost:8080/"
        },
        "id": "nh3qDCWsalhC",
        "outputId": "4ffd7b50-54fb-4ac7-e09d-4ce87a418a57"
      },
      "execution_count": null,
      "outputs": [
        {
          "output_type": "stream",
          "name": "stdout",
          "text": [
            "Cümle içerisinde geçen 'sesli harf' sayısı:  129\n"
          ]
        }
      ]
    },
    {
      "cell_type": "markdown",
      "source": [
        "**Kullanıcı tarafından girilen bir karakter dizisi içerisinde geçen sesli ve sessiz harfleri ayrı ayrı listelere atayan programı yazınız.**"
      ],
      "metadata": {
        "id": "0XeMs15BbPrW"
      }
    },
    {
      "cell_type": "code",
      "source": [
        "sesli_harfler = \"aeıioöuü\"\n",
        "sessiz_harfler = \"bcçdfgğhjklmnprsştvyz\"\n",
        "sesliler=\"\"\n",
        "sessizler=\"\"\n",
        "a=input(\"Bir metin giriniz : \")\n",
        "\n",
        "for i in a:\n",
        "     if i in sesli_harfler:\n",
        "           sesliler=sesliler+i\n",
        "     if i in sessiz_harfler:\n",
        "           sessizler=sessizler+i\n",
        "\n",
        "print(\"Sesli harfler :\",sesliler)\n",
        "print(\"Sessiz harfler:\",sessizler)"
      ],
      "metadata": {
        "colab": {
          "base_uri": "https://localhost:8080/"
        },
        "id": "8dhGSSWwbRVF",
        "outputId": "f6e21901-c815-4e4f-c156-59496a86d523"
      },
      "execution_count": null,
      "outputs": [
        {
          "output_type": "stream",
          "name": "stdout",
          "text": [
            "Bir metin giriniz : Ali ve Hüseyin kavga etti\n",
            "Sesli harfler : ieüeiaaei\n",
            "Sessiz harfler: lvsynkvgtt\n"
          ]
        }
      ]
    },
    {
      "cell_type": "markdown",
      "source": [
        "**İçerisinde sayısal değerler olan bir listedeki değerlerin karesini alarak başka bir listeye atayınız.**"
      ],
      "metadata": {
        "id": "Vilk4Qd2cAgJ"
      }
    },
    {
      "cell_type": "code",
      "source": [
        "sayılar = [1,2,3,4,5]\n",
        "kareler = []\n",
        "\n",
        "for i in sayılar:\n",
        "     kareler.append(i*i)\n",
        "print(kareler)"
      ],
      "metadata": {
        "colab": {
          "base_uri": "https://localhost:8080/"
        },
        "id": "xq8Wn5rXcDpd",
        "outputId": "e223b0ce-d208-4c1f-eb69-022927c1cc13"
      },
      "execution_count": null,
      "outputs": [
        {
          "output_type": "stream",
          "name": "stdout",
          "text": [
            "[1, 4, 9, 16, 25]\n"
          ]
        }
      ]
    },
    {
      "cell_type": "markdown",
      "source": [
        "**Bir liste içerisinde bulunan değerlerin ortalamasını bulun.**"
      ],
      "metadata": {
        "id": "L5RFJvuOcOMt"
      }
    },
    {
      "cell_type": "code",
      "source": [
        "sayılar = [1,2,3,4,5,6,7,8,9]\n",
        "toplam=0\n",
        "\n",
        "for i in sayılar:\n",
        "    toplam=toplam+i\n",
        "\n",
        "print(\"Sayıların ortalaması: \",toplam/len(sayılar))"
      ],
      "metadata": {
        "colab": {
          "base_uri": "https://localhost:8080/"
        },
        "id": "xl2Pn9LocQC7",
        "outputId": "c55e2eec-f270-4eb7-a835-5fb674aa3a32"
      },
      "execution_count": null,
      "outputs": [
        {
          "output_type": "stream",
          "name": "stdout",
          "text": [
            "Sayıların ortalaması:  5.0\n"
          ]
        }
      ]
    },
    {
      "cell_type": "markdown",
      "source": [
        "**Listedeki değerlerden 3’ün katları olan sayıları ekrana yazdırın.**"
      ],
      "metadata": {
        "id": "VFsF2ZJlcxDg"
      }
    },
    {
      "cell_type": "code",
      "source": [
        "sayılar = [5,8,12,17,25,36,41,49,60,72]\n",
        "\n",
        "for i in sayılar:\n",
        "    if i%3==0:\n",
        "       print(i,end=\",\")\n",
        " "
      ],
      "metadata": {
        "colab": {
          "base_uri": "https://localhost:8080/"
        },
        "id": "Tz9YKuHxcyl1",
        "outputId": "b2ee55e8-b8e2-4af5-aa77-af41786ea07a"
      },
      "execution_count": null,
      "outputs": [
        {
          "output_type": "stream",
          "name": "stdout",
          "text": [
            "12,36,60,72,"
          ]
        }
      ]
    },
    {
      "cell_type": "code",
      "source": [
        "liste =[]\n",
        "for i in range(1, 100):\n",
        "    if i%3==0:\n",
        "      liste.append(i)\n",
        "print(\"Liste:\", liste , f\"\\nToplam {len(liste)} adet 3'e bölünebilen rakam vardır\")"
      ],
      "metadata": {
        "colab": {
          "base_uri": "https://localhost:8080/"
        },
        "id": "fKQDfQZffCs0",
        "outputId": "7e89d17e-c806-4d98-bae8-1205cbc099a7"
      },
      "execution_count": null,
      "outputs": [
        {
          "output_type": "stream",
          "name": "stdout",
          "text": [
            "Liste: [3, 6, 9, 12, 15, 18, 21, 24, 27, 30, 33, 36, 39, 42, 45, 48, 51, 54, 57, 60, 63, 66, 69, 72, 75, 78, 81, 84, 87, 90, 93, 96, 99] \n",
            "Toplam 33 adet 3'e bölünebilen rakam vardır\n"
          ]
        }
      ]
    },
    {
      "cell_type": "markdown",
      "source": [
        "**Kullanıcıdan satır ve sütun sayısı değerlerini alarak sayıları tablo şeklinde yazan programı yazınız.**"
      ],
      "metadata": {
        "id": "jzki16plhHsm"
      }
    },
    {
      "cell_type": "code",
      "source": [
        "a=int(input(\"tablonun satır uzunluğunu giriniz:\"))\n",
        "b=int(input(\"tablonun sütun uzunluğu giriniz:\"))\n",
        "\n",
        "for i in range(1,a+1):\n",
        "    for j in range(1,b+1):\n",
        "       print(j ,end=\" \")\n",
        " \n",
        "    print( )\n"
      ],
      "metadata": {
        "colab": {
          "base_uri": "https://localhost:8080/"
        },
        "id": "681iBU0fhLMS",
        "outputId": "94890bf7-6d38-4691-bc29-11102772508e"
      },
      "execution_count": null,
      "outputs": [
        {
          "output_type": "stream",
          "name": "stdout",
          "text": [
            "tablonun satır uzunluğunu giriniz:5\n",
            "tablonun sütun uzunluğu giriniz:9\n",
            "1 2 3 4 5 6 7 8 9 \n",
            "1 2 3 4 5 6 7 8 9 \n",
            "1 2 3 4 5 6 7 8 9 \n",
            "1 2 3 4 5 6 7 8 9 \n",
            "1 2 3 4 5 6 7 8 9 \n"
          ]
        }
      ]
    },
    {
      "cell_type": "code",
      "source": [
        "a=int(input(\"tablonun satır uzunluğunu giriniz:\"))\n",
        "b=int(input(\"tablonun sütun uzunluğu giriniz:\"))\n",
        "\n",
        "for i in range(1,a+1):\n",
        "    for j in range(1,b+1):\n",
        "       print(\"*\" ,end=\"  \")\n",
        " \n",
        "    print( )\n"
      ],
      "metadata": {
        "colab": {
          "base_uri": "https://localhost:8080/"
        },
        "id": "O43c6KzhiNZX",
        "outputId": "fd0e2948-0a70-454d-9b1b-6666d9889007"
      },
      "execution_count": null,
      "outputs": [
        {
          "output_type": "stream",
          "name": "stdout",
          "text": [
            "tablonun satır uzunluğunu giriniz:5\n",
            "tablonun sütun uzunluğu giriniz:9\n",
            "*  *  *  *  *  *  *  *  *  \n",
            "*  *  *  *  *  *  *  *  *  \n",
            "*  *  *  *  *  *  *  *  *  \n",
            "*  *  *  *  *  *  *  *  *  \n",
            "*  *  *  *  *  *  *  *  *  \n"
          ]
        }
      ]
    },
    {
      "cell_type": "markdown",
      "source": [
        "İç İçe geçmiş for döngüsü kullanımı.** **kalın metin**kalın metin**"
      ],
      "metadata": {
        "id": "_zJ1hOu6nykB"
      }
    },
    {
      "cell_type": "code",
      "source": [
        "dersler = [\"Ders 1\", \"Ders 2\", \"Ders 3\"]\n",
        "konular = [\"Konu 1\", \"Konu 2\", \"Konu 3\"]\n",
        "for x in dersler:\n",
        "    for y in konular:\n",
        "        print(x,\"==>\", y)\n"
      ],
      "metadata": {
        "colab": {
          "base_uri": "https://localhost:8080/"
        },
        "id": "F9Gd8VeLnv8l",
        "outputId": "a9514d99-b400-4e85-9030-5a50e5594e47"
      },
      "execution_count": null,
      "outputs": [
        {
          "output_type": "stream",
          "name": "stdout",
          "text": [
            "Ders 1 ==> Konu 1\n",
            "Ders 1 ==> Konu 2\n",
            "Ders 1 ==> Konu 3\n",
            "Ders 2 ==> Konu 1\n",
            "Ders 2 ==> Konu 2\n",
            "Ders 2 ==> Konu 3\n",
            "Ders 3 ==> Konu 1\n",
            "Ders 3 ==> Konu 2\n",
            "Ders 3 ==> Konu 3\n"
          ]
        }
      ]
    },
    {
      "cell_type": "code",
      "source": [
        "i=1 #başlangıç\n",
        "while i <= 12: #karşılaştırma\n",
        "  print(str(i)+\". sınıf\")\n",
        "  i+=1"
      ],
      "metadata": {
        "colab": {
          "base_uri": "https://localhost:8080/"
        },
        "id": "SPyCV30ComK1",
        "outputId": "947db887-a210-4440-cbc6-c196d364d592"
      },
      "execution_count": null,
      "outputs": [
        {
          "output_type": "stream",
          "name": "stdout",
          "text": [
            "1. sınıf\n",
            "2. sınıf\n",
            "3. sınıf\n",
            "4. sınıf\n",
            "5. sınıf\n",
            "6. sınıf\n",
            "7. sınıf\n",
            "8. sınıf\n",
            "9. sınıf\n",
            "10. sınıf\n",
            "11. sınıf\n",
            "12. sınıf\n"
          ]
        }
      ]
    },
    {
      "cell_type": "markdown",
      "source": [
        "Kullanıcıdan 1 ile 5 arasında bir sayı girmesi isteyiniz. Kullanıcı 3 sayısını girdiğinde break komutu ile döngüden çıkılarak “3 sayısı girildi ve döngü sona erdi” çıktısı veren kodu yazınız.\n",
        "**kalın metin**\n"
      ],
      "metadata": {
        "id": "TtQqoT_8o04p"
      }
    },
    {
      "cell_type": "code",
      "source": [
        "sayı = int(input(\"Bir sayı giriniz: \"))     # benim kendi yazdığım\n",
        "\n",
        "while sayı < 5 :\n",
        "  sayı = int(input(\"Bir başka sayı giriniz: \"))\n",
        "  if sayı == 3 :\n",
        "    print(\"3 sayısı girildi ve döngü sona erdi!\")\n",
        "    break\n",
        "else:\n",
        "  print(\"Girdiğiniz sayı 5'ten büyüktür\")"
      ],
      "metadata": {
        "colab": {
          "base_uri": "https://localhost:8080/"
        },
        "id": "h3MgNSZ4oysB",
        "outputId": "3723a41c-426d-47b4-e3f8-385358862cd0"
      },
      "execution_count": null,
      "outputs": [
        {
          "output_type": "stream",
          "name": "stdout",
          "text": [
            "Bir sayı giriniz: 1\n",
            "Bir başka sayı giriniz: 2\n",
            "Bir başka sayı giriniz: 4\n",
            "Bir başka sayı giriniz: 5\n",
            "Girdiğiniz sayı 5'ten büyüktür\n"
          ]
        }
      ]
    },
    {
      "cell_type": "code",
      "source": [
        "while True:\n",
        "  sayi =input(\"1-5 arasında bir sayı girin: \")\n",
        "  if sayi == \"3\":\n",
        "    break\n",
        " \n",
        "print(\"3 sayısı girildi ve döngü sona erdi\")\n",
        " "
      ],
      "metadata": {
        "colab": {
          "base_uri": "https://localhost:8080/"
        },
        "id": "5fbfwA_Hr1du",
        "outputId": "f87c4513-a350-4702-bdfc-f8ae16cf75b5"
      },
      "execution_count": null,
      "outputs": [
        {
          "output_type": "stream",
          "name": "stdout",
          "text": [
            "1-5 arasında bir sayı girin: 1\n",
            "1-5 arasında bir sayı girin: 2\n",
            "1-5 arasında bir sayı girin: 4\n",
            "1-5 arasında bir sayı girin: 5\n",
            "1-5 arasında bir sayı girin: 6\n",
            "1-5 arasında bir sayı girin: 7\n",
            "1-5 arasında bir sayı girin: 3\n",
            "3 sayısı girildi ve döngü sona erdi\n"
          ]
        }
      ]
    },
    {
      "cell_type": "markdown",
      "source": [
        "**Kullanıcıdan 8 karakterlik bir şifre girmesini isteyiniz. Kullanıcı 8’den az ya da daha fazla karakter içeren bir şifre girdiğinde “Şifreniz 8 karakter olmalıdır.” şeklinde uyarı verdiriniz. Kullanıcı şartlara uygun bir şifre girdiğinde de “Şifreniz kaydedildi.” uyarısı verdiriniz.**"
      ],
      "metadata": {
        "id": "1DO4ePHZsE1u"
      }
    },
    {
      "cell_type": "code",
      "source": [
        "while True:\n",
        "  sifre =input(\"8 basamaklı bir şifre girin :\")\n",
        "  if len(sifre) == 8:\n",
        "    print(\"Şifreniz kaydedildi\")\n",
        "    break\n",
        "  print(\"Şifreniz 8 karakter olmalıdır\")"
      ],
      "metadata": {
        "colab": {
          "base_uri": "https://localhost:8080/"
        },
        "id": "cCDnveh3sG5m",
        "outputId": "468a4c57-5c5a-4fd7-8595-b794087e2722"
      },
      "execution_count": null,
      "outputs": [
        {
          "output_type": "stream",
          "name": "stdout",
          "text": [
            "8 basamaklı bir şifre girin :adsdzfddf\n",
            "Şifreniz 8 karakter olmalıdır\n",
            "8 basamaklı bir şifre girin :12345678\n",
            "Şifreniz kaydedildi\n"
          ]
        }
      ]
    },
    {
      "cell_type": "markdown",
      "source": [
        "# **Girilen metnin harflerini alt alta yazdıran Python programı**"
      ],
      "metadata": {
        "id": "SMKyyuyIsdu-"
      }
    },
    {
      "cell_type": "code",
      "source": [
        "isim=input(\"Adınızı Girin \")\n",
        "sayac=0\n",
        "while sayac < len(isim):\n",
        "    print(isim[sayac])\n",
        "    sayac += 1\n",
        "else:\n",
        "  print(\"Adının harflerini listeledim.\")"
      ],
      "metadata": {
        "colab": {
          "base_uri": "https://localhost:8080/"
        },
        "id": "xsrk0legsf1U",
        "outputId": "70d21277-1eab-4fd7-d222-a25e6f6bad13"
      },
      "execution_count": null,
      "outputs": [
        {
          "output_type": "stream",
          "name": "stdout",
          "text": [
            "Adınızı Girin Mustafa\n",
            "M\n",
            "u\n",
            "s\n",
            "t\n",
            "a\n",
            "f\n",
            "a\n",
            "Adının harflerini listeledim.\n"
          ]
        }
      ]
    },
    {
      "cell_type": "markdown",
      "source": [
        "# **Python ile Sayı Tahmin Oyunu Yapımı**"
      ],
      "metadata": {
        "id": "jhygiF85swaD"
      }
    },
    {
      "cell_type": "code",
      "source": [
        "from random import randint\n",
        " \n",
        "rand=randint(1, 100)\n",
        "sayac=0\n",
        " \n",
        "while True:\n",
        "    sayac+=1\n",
        "    sayi=int(input(\"1 ile 100 arasında değer girin (0 çıkış): \"))\n",
        "    if(sayi==0):\n",
        "        print(\"Oyunu İptal Ettiniz\")\n",
        "        break\n",
        "    elif sayi < rand:\n",
        "        print(\"Daha Yüksek Bir Sayı Girin.\")\n",
        "        continue\n",
        "    elif sayi > rand:\n",
        "        print(\"Daha Düşük Bir Sayı Girin.\")\n",
        "        continue\n",
        "    else:\n",
        "        print(\"Rastele seçilen sayı {0}!\".format(rand))\n",
        "        print(\"Tahmin sayınız {0}\".format(sayac))"
      ],
      "metadata": {
        "colab": {
          "base_uri": "https://localhost:8080/",
          "height": 641
        },
        "id": "LRLfNB0xsv-L",
        "outputId": "f327d967-4f4c-453b-86cc-21a96cc77028"
      },
      "execution_count": null,
      "outputs": [
        {
          "output_type": "stream",
          "name": "stdout",
          "text": [
            "1 ile 100 arasında değer girin (0 çıkış): 3\n",
            "Daha Yüksek Bir Sayı Girin.\n",
            "1 ile 100 arasında değer girin (0 çıkış): 56\n",
            "Daha Düşük Bir Sayı Girin.\n",
            "1 ile 100 arasında değer girin (0 çıkış): 34\n",
            "Daha Düşük Bir Sayı Girin.\n"
          ]
        },
        {
          "output_type": "error",
          "ename": "KeyboardInterrupt",
          "evalue": "ignored",
          "traceback": [
            "\u001b[0;31m---------------------------------------------------------------------------\u001b[0m",
            "\u001b[0;31mKeyboardInterrupt\u001b[0m                         Traceback (most recent call last)",
            "\u001b[0;32m/usr/local/lib/python3.7/dist-packages/ipykernel/kernelbase.py\u001b[0m in \u001b[0;36m_input_request\u001b[0;34m(self, prompt, ident, parent, password)\u001b[0m\n\u001b[1;32m    728\u001b[0m             \u001b[0;32mtry\u001b[0m\u001b[0;34m:\u001b[0m\u001b[0;34m\u001b[0m\u001b[0;34m\u001b[0m\u001b[0m\n\u001b[0;32m--> 729\u001b[0;31m                 \u001b[0mident\u001b[0m\u001b[0;34m,\u001b[0m \u001b[0mreply\u001b[0m \u001b[0;34m=\u001b[0m \u001b[0mself\u001b[0m\u001b[0;34m.\u001b[0m\u001b[0msession\u001b[0m\u001b[0;34m.\u001b[0m\u001b[0mrecv\u001b[0m\u001b[0;34m(\u001b[0m\u001b[0mself\u001b[0m\u001b[0;34m.\u001b[0m\u001b[0mstdin_socket\u001b[0m\u001b[0;34m,\u001b[0m \u001b[0;36m0\u001b[0m\u001b[0;34m)\u001b[0m\u001b[0;34m\u001b[0m\u001b[0;34m\u001b[0m\u001b[0m\n\u001b[0m\u001b[1;32m    730\u001b[0m             \u001b[0;32mexcept\u001b[0m \u001b[0mException\u001b[0m\u001b[0;34m:\u001b[0m\u001b[0;34m\u001b[0m\u001b[0;34m\u001b[0m\u001b[0m\n",
            "\u001b[0;32m/usr/local/lib/python3.7/dist-packages/jupyter_client/session.py\u001b[0m in \u001b[0;36mrecv\u001b[0;34m(self, socket, mode, content, copy)\u001b[0m\n\u001b[1;32m    802\u001b[0m         \u001b[0;32mtry\u001b[0m\u001b[0;34m:\u001b[0m\u001b[0;34m\u001b[0m\u001b[0;34m\u001b[0m\u001b[0m\n\u001b[0;32m--> 803\u001b[0;31m             \u001b[0mmsg_list\u001b[0m \u001b[0;34m=\u001b[0m \u001b[0msocket\u001b[0m\u001b[0;34m.\u001b[0m\u001b[0mrecv_multipart\u001b[0m\u001b[0;34m(\u001b[0m\u001b[0mmode\u001b[0m\u001b[0;34m,\u001b[0m \u001b[0mcopy\u001b[0m\u001b[0;34m=\u001b[0m\u001b[0mcopy\u001b[0m\u001b[0;34m)\u001b[0m\u001b[0;34m\u001b[0m\u001b[0;34m\u001b[0m\u001b[0m\n\u001b[0m\u001b[1;32m    804\u001b[0m         \u001b[0;32mexcept\u001b[0m \u001b[0mzmq\u001b[0m\u001b[0;34m.\u001b[0m\u001b[0mZMQError\u001b[0m \u001b[0;32mas\u001b[0m \u001b[0me\u001b[0m\u001b[0;34m:\u001b[0m\u001b[0;34m\u001b[0m\u001b[0;34m\u001b[0m\u001b[0m\n",
            "\u001b[0;32m/usr/local/lib/python3.7/dist-packages/zmq/sugar/socket.py\u001b[0m in \u001b[0;36mrecv_multipart\u001b[0;34m(self, flags, copy, track)\u001b[0m\n\u001b[1;32m    624\u001b[0m         \"\"\"\n\u001b[0;32m--> 625\u001b[0;31m         \u001b[0mparts\u001b[0m \u001b[0;34m=\u001b[0m \u001b[0;34m[\u001b[0m\u001b[0mself\u001b[0m\u001b[0;34m.\u001b[0m\u001b[0mrecv\u001b[0m\u001b[0;34m(\u001b[0m\u001b[0mflags\u001b[0m\u001b[0;34m,\u001b[0m \u001b[0mcopy\u001b[0m\u001b[0;34m=\u001b[0m\u001b[0mcopy\u001b[0m\u001b[0;34m,\u001b[0m \u001b[0mtrack\u001b[0m\u001b[0;34m=\u001b[0m\u001b[0mtrack\u001b[0m\u001b[0;34m)\u001b[0m\u001b[0;34m]\u001b[0m\u001b[0;34m\u001b[0m\u001b[0;34m\u001b[0m\u001b[0m\n\u001b[0m\u001b[1;32m    626\u001b[0m         \u001b[0;31m# have first part already, only loop while more to receive\u001b[0m\u001b[0;34m\u001b[0m\u001b[0;34m\u001b[0m\u001b[0;34m\u001b[0m\u001b[0m\n",
            "\u001b[0;32mzmq/backend/cython/socket.pyx\u001b[0m in \u001b[0;36mzmq.backend.cython.socket.Socket.recv\u001b[0;34m()\u001b[0m\n",
            "\u001b[0;32mzmq/backend/cython/socket.pyx\u001b[0m in \u001b[0;36mzmq.backend.cython.socket.Socket.recv\u001b[0;34m()\u001b[0m\n",
            "\u001b[0;32mzmq/backend/cython/socket.pyx\u001b[0m in \u001b[0;36mzmq.backend.cython.socket._recv_copy\u001b[0;34m()\u001b[0m\n",
            "\u001b[0;32m/usr/local/lib/python3.7/dist-packages/zmq/backend/cython/checkrc.pxd\u001b[0m in \u001b[0;36mzmq.backend.cython.checkrc._check_rc\u001b[0;34m()\u001b[0m\n",
            "\u001b[0;31mKeyboardInterrupt\u001b[0m: ",
            "\nDuring handling of the above exception, another exception occurred:\n",
            "\u001b[0;31mKeyboardInterrupt\u001b[0m                         Traceback (most recent call last)",
            "\u001b[0;32m<ipython-input-124-a502c2b73a19>\u001b[0m in \u001b[0;36m<module>\u001b[0;34m()\u001b[0m\n\u001b[1;32m      6\u001b[0m \u001b[0;32mwhile\u001b[0m \u001b[0;32mTrue\u001b[0m\u001b[0;34m:\u001b[0m\u001b[0;34m\u001b[0m\u001b[0;34m\u001b[0m\u001b[0m\n\u001b[1;32m      7\u001b[0m     \u001b[0msayac\u001b[0m\u001b[0;34m+=\u001b[0m\u001b[0;36m1\u001b[0m\u001b[0;34m\u001b[0m\u001b[0;34m\u001b[0m\u001b[0m\n\u001b[0;32m----> 8\u001b[0;31m     \u001b[0msayi\u001b[0m\u001b[0;34m=\u001b[0m\u001b[0mint\u001b[0m\u001b[0;34m(\u001b[0m\u001b[0minput\u001b[0m\u001b[0;34m(\u001b[0m\u001b[0;34m\"1 ile 100 arasında değer girin (0 çıkış): \"\u001b[0m\u001b[0;34m)\u001b[0m\u001b[0;34m)\u001b[0m\u001b[0;34m\u001b[0m\u001b[0;34m\u001b[0m\u001b[0m\n\u001b[0m\u001b[1;32m      9\u001b[0m     \u001b[0;32mif\u001b[0m\u001b[0;34m(\u001b[0m\u001b[0msayi\u001b[0m\u001b[0;34m==\u001b[0m\u001b[0;36m0\u001b[0m\u001b[0;34m)\u001b[0m\u001b[0;34m:\u001b[0m\u001b[0;34m\u001b[0m\u001b[0;34m\u001b[0m\u001b[0m\n\u001b[1;32m     10\u001b[0m         \u001b[0mprint\u001b[0m\u001b[0;34m(\u001b[0m\u001b[0;34m\"Oyunu İptal Ettiniz\"\u001b[0m\u001b[0;34m)\u001b[0m\u001b[0;34m\u001b[0m\u001b[0;34m\u001b[0m\u001b[0m\n",
            "\u001b[0;32m/usr/local/lib/python3.7/dist-packages/ipykernel/kernelbase.py\u001b[0m in \u001b[0;36mraw_input\u001b[0;34m(self, prompt)\u001b[0m\n\u001b[1;32m    702\u001b[0m             \u001b[0mself\u001b[0m\u001b[0;34m.\u001b[0m\u001b[0m_parent_ident\u001b[0m\u001b[0;34m,\u001b[0m\u001b[0;34m\u001b[0m\u001b[0;34m\u001b[0m\u001b[0m\n\u001b[1;32m    703\u001b[0m             \u001b[0mself\u001b[0m\u001b[0;34m.\u001b[0m\u001b[0m_parent_header\u001b[0m\u001b[0;34m,\u001b[0m\u001b[0;34m\u001b[0m\u001b[0;34m\u001b[0m\u001b[0m\n\u001b[0;32m--> 704\u001b[0;31m             \u001b[0mpassword\u001b[0m\u001b[0;34m=\u001b[0m\u001b[0;32mFalse\u001b[0m\u001b[0;34m,\u001b[0m\u001b[0;34m\u001b[0m\u001b[0;34m\u001b[0m\u001b[0m\n\u001b[0m\u001b[1;32m    705\u001b[0m         )\n\u001b[1;32m    706\u001b[0m \u001b[0;34m\u001b[0m\u001b[0m\n",
            "\u001b[0;32m/usr/local/lib/python3.7/dist-packages/ipykernel/kernelbase.py\u001b[0m in \u001b[0;36m_input_request\u001b[0;34m(self, prompt, ident, parent, password)\u001b[0m\n\u001b[1;32m    732\u001b[0m             \u001b[0;32mexcept\u001b[0m \u001b[0mKeyboardInterrupt\u001b[0m\u001b[0;34m:\u001b[0m\u001b[0;34m\u001b[0m\u001b[0;34m\u001b[0m\u001b[0m\n\u001b[1;32m    733\u001b[0m                 \u001b[0;31m# re-raise KeyboardInterrupt, to truncate traceback\u001b[0m\u001b[0;34m\u001b[0m\u001b[0;34m\u001b[0m\u001b[0;34m\u001b[0m\u001b[0m\n\u001b[0;32m--> 734\u001b[0;31m                 \u001b[0;32mraise\u001b[0m \u001b[0mKeyboardInterrupt\u001b[0m\u001b[0;34m\u001b[0m\u001b[0;34m\u001b[0m\u001b[0m\n\u001b[0m\u001b[1;32m    735\u001b[0m             \u001b[0;32melse\u001b[0m\u001b[0;34m:\u001b[0m\u001b[0;34m\u001b[0m\u001b[0;34m\u001b[0m\u001b[0m\n\u001b[1;32m    736\u001b[0m                 \u001b[0;32mbreak\u001b[0m\u001b[0;34m\u001b[0m\u001b[0;34m\u001b[0m\u001b[0m\n",
            "\u001b[0;31mKeyboardInterrupt\u001b[0m: "
          ]
        }
      ]
    },
    {
      "cell_type": "markdown",
      "source": [
        "# **100 e kadar tek sayıların toplamını hesaplayalım.**"
      ],
      "metadata": {
        "id": "r_9BdHkct3jN"
      }
    },
    {
      "cell_type": "code",
      "source": [
        "x = 0\n",
        "result = 0\n",
        "\n",
        "while x <= 100:    \n",
        "    x+=1\n",
        "    if x % 2 == 0:\n",
        "        continue\n",
        "    result += x\n",
        "\n",
        "print(f'toplam: {result}')"
      ],
      "metadata": {
        "colab": {
          "base_uri": "https://localhost:8080/"
        },
        "id": "61_LMQp_t0GY",
        "outputId": "ae57231e-d50e-4d6a-f437-acd6a28a41b7"
      },
      "execution_count": null,
      "outputs": [
        {
          "output_type": "stream",
          "name": "stdout",
          "text": [
            "toplam: 2601\n"
          ]
        }
      ]
    },
    {
      "cell_type": "markdown",
      "source": [
        "# **100 e kadar çift sayıların toplamını hesaplayalım.**"
      ],
      "metadata": {
        "id": "9YpcNkBvualB"
      }
    },
    {
      "cell_type": "code",
      "source": [
        "x = 0\n",
        "result = 0\n",
        "\n",
        "while x <= 100:    \n",
        "    x+=1\n",
        "    if x % 2 == 0:\n",
        "      result += x\n",
        "    else:\n",
        "      continue\n",
        "\n",
        "print(f'toplam: {result}')"
      ],
      "metadata": {
        "colab": {
          "base_uri": "https://localhost:8080/"
        },
        "id": "bywrmzOSuXb4",
        "outputId": "4ad18267-6529-4085-b259-c69f5c1c481e"
      },
      "execution_count": null,
      "outputs": [
        {
          "output_type": "stream",
          "name": "stdout",
          "text": [
            "toplam: 2550\n"
          ]
        }
      ]
    },
    {
      "cell_type": "markdown",
      "source": [
        "# sayılar listesini ekrana **yazdırma** **kalın metin**"
      ],
      "metadata": {
        "id": "0u9wr20Ev0FH"
      }
    },
    {
      "cell_type": "code",
      "source": [
        "sayilar = [1,3,5,7,9,12,19,21]\n",
        "i = 0\n",
        "while (i < len(sayilar)):\n",
        "    print(sayilar[i])\n",
        "    i += 1"
      ],
      "metadata": {
        "colab": {
          "base_uri": "https://localhost:8080/"
        },
        "id": "dAl0hPWjv6yP",
        "outputId": "59dd7644-63cd-4df4-a3ba-8b7f83ce1fdd"
      },
      "execution_count": null,
      "outputs": [
        {
          "output_type": "stream",
          "name": "stdout",
          "text": [
            "1\n",
            "3\n",
            "5\n",
            "7\n",
            "9\n",
            "12\n",
            "19\n",
            "21\n"
          ]
        }
      ]
    },
    {
      "cell_type": "markdown",
      "source": [
        "# **Başlangıç ve bitiş değerlerini kullanıcıdan alıp aradaki tüm tek sayıları ekrana yazdırınız.**"
      ],
      "metadata": {
        "id": "bxEsKBhzwFmk"
      }
    },
    {
      "cell_type": "code",
      "source": [
        "baslangic = int(input('başlangıç: '))\n",
        "bitis = int(input('bitiş: '))\n",
        "\n",
        "i = baslangic\n",
        "\n",
        "while i < bitis:\n",
        "    i += 1\n",
        "    if (i % 2 == 1):\n",
        "        print(i)"
      ],
      "metadata": {
        "colab": {
          "base_uri": "https://localhost:8080/"
        },
        "id": "ucRjYemmwH1O",
        "outputId": "8904ecbc-2a75-42f1-96a7-db8bd21cf11b"
      },
      "execution_count": null,
      "outputs": [
        {
          "output_type": "stream",
          "name": "stdout",
          "text": [
            "başlangıç: 20\n",
            "bitiş: 100\n",
            "21\n",
            "23\n",
            "25\n",
            "27\n",
            "29\n",
            "31\n",
            "33\n",
            "35\n",
            "37\n",
            "39\n",
            "41\n",
            "43\n",
            "45\n",
            "47\n",
            "49\n",
            "51\n",
            "53\n",
            "55\n",
            "57\n",
            "59\n",
            "61\n",
            "63\n",
            "65\n",
            "67\n",
            "69\n",
            "71\n",
            "73\n",
            "75\n",
            "77\n",
            "79\n",
            "81\n",
            "83\n",
            "85\n",
            "87\n",
            "89\n",
            "91\n",
            "93\n",
            "95\n",
            "97\n",
            "99\n"
          ]
        }
      ]
    },
    {
      "cell_type": "markdown",
      "source": [
        "Başlangıç ve bitiş değerlerini kullanıcıdan alıp aradaki tüm tek sayıları ekrana yazdırınız."
      ],
      "metadata": {
        "id": "YQB249gvxT-I"
      }
    },
    {
      "cell_type": "code",
      "source": [
        "baslangic = int(input('başlangıç: '))\n",
        "bitis = int(input('bitiş: '))\n",
        "\n",
        "i = baslangic\n",
        "liste = []\n",
        "while i < bitis:\n",
        "    i += 1\n",
        "    if (i % 2 == 1):\n",
        "      liste.append(i)\n",
        "print(\"Tek sayılar listesi:\", liste)"
      ],
      "metadata": {
        "colab": {
          "base_uri": "https://localhost:8080/"
        },
        "id": "xbxN7skcwWsq",
        "outputId": "9d70d124-9c80-40cb-e1ec-8927f7e79d32"
      },
      "execution_count": null,
      "outputs": [
        {
          "output_type": "stream",
          "name": "stdout",
          "text": [
            "başlangıç: 10\n",
            "bitiş: 50\n",
            "Tek sayılar listesi: [11, 13, 15, 17, 19, 21, 23, 25, 27, 29, 31, 33, 35, 37, 39, 41, 43, 45, 47, 49]\n"
          ]
        }
      ]
    },
    {
      "cell_type": "markdown",
      "source": [
        "Başlangıç ve bitiş değerlerini kullanıcıdan alıp aradaki tüm çift sayıları ekrana yazdırınız."
      ],
      "metadata": {
        "id": "fCyYmnGzxWIq"
      }
    },
    {
      "cell_type": "code",
      "source": [
        "baslangic = int(input('başlangıç: '))\n",
        "bitis = int(input('bitiş: '))\n",
        "\n",
        "i = baslangic\n",
        "liste = []\n",
        "while i < bitis:\n",
        "    i += 1\n",
        "    if (i % 2 == 0):\n",
        "      liste.append(i)\n",
        "print(\"Çift sayılar listesi:\", liste)"
      ],
      "metadata": {
        "colab": {
          "base_uri": "https://localhost:8080/"
        },
        "id": "0Vcu_QsIxBzl",
        "outputId": "d393a2b8-ec3d-4f05-9156-1a40559a29f0"
      },
      "execution_count": null,
      "outputs": [
        {
          "output_type": "stream",
          "name": "stdout",
          "text": [
            "başlangıç: 10\n",
            "bitiş: 50\n",
            "Çift sayılar listesi: [12, 14, 16, 18, 20, 22, 24, 26, 28, 30, 32, 34, 36, 38, 40, 42, 44, 46, 48, 50]\n"
          ]
        }
      ]
    },
    {
      "cell_type": "markdown",
      "source": [
        "# **1-100 arasındaki sayıları azalan şekilde yazdırınız.**"
      ],
      "metadata": {
        "id": "k5huykugxMEH"
      }
    },
    {
      "cell_type": "code",
      "source": [
        "i = 10\n",
        "while i > 0:\n",
        "    print(i)\n",
        "    i -= 1"
      ],
      "metadata": {
        "colab": {
          "base_uri": "https://localhost:8080/"
        },
        "id": "uEyIIFO3xsVd",
        "outputId": "526785ca-c869-442b-d763-c0f131d91fb3"
      },
      "execution_count": null,
      "outputs": [
        {
          "output_type": "stream",
          "name": "stdout",
          "text": [
            "10\n",
            "9\n",
            "8\n",
            "7\n",
            "6\n",
            "5\n",
            "4\n",
            "3\n",
            "2\n",
            "1\n"
          ]
        }
      ]
    },
    {
      "cell_type": "markdown",
      "source": [
        "# **Kullanıcıdan alacağınız 5 sayıyı ekranda sıralı bir şekilde yazdırınız.**"
      ],
      "metadata": {
        "id": "n3UXnOUtx1Ns"
      }
    },
    {
      "cell_type": "code",
      "source": [
        "numbers = []\n",
        "i = 0\n",
        "while i<5:\n",
        "    sayi = int(input('sayı: '))\n",
        "    numbers.append(sayi)\n",
        "    i+=1\n",
        "numbers.sort()\n",
        "print(numbers)"
      ],
      "metadata": {
        "colab": {
          "base_uri": "https://localhost:8080/"
        },
        "id": "2EWIXtdRxY3r",
        "outputId": "90f1dcda-d480-4d20-9904-7cb38804ce25"
      },
      "execution_count": null,
      "outputs": [
        {
          "output_type": "stream",
          "name": "stdout",
          "text": [
            "sayı: 1\n",
            "sayı: 3\n",
            "sayı: 5\n",
            "sayı: 7\n",
            "sayı: 9\n",
            "[1, 3, 5, 7, 9]\n"
          ]
        }
      ]
    },
    {
      "cell_type": "markdown",
      "source": [
        "Kullanıcıdan alacağınız sınırsız ürün bilgisini urunler listesi içinde saklayınız.\n",
        "\n",
        "   ** ürün sayısını kullanıcıya sorun.\n",
        "\n",
        "   ** dictionary listesi yapısı (name, price) şeklinde olsun.\n",
        "\n",
        "   ** ürün ekleme işlemi bittiğinde ürünleri ekranda while ile listeleyin."
      ],
      "metadata": {
        "id": "eStcmQrgx63q"
      }
    },
    {
      "cell_type": "code",
      "source": [
        "urunler = []\n",
        "\n",
        "adet = int(input('Kaç ürün eklemek istiyorsunuz: '))\n",
        "\n",
        "i = 0\n",
        "\n",
        "while(i<adet):\n",
        "    name = input('ürün ismi: ')\n",
        "    price = input('ürün fiyatı: ')\n",
        "    urunler.append({\n",
        "        'name': name,\n",
        "        'price': price\n",
        "    })\n",
        "    i += 1\n",
        "\n",
        "for urun in urunler:\n",
        "    print(f'ürün adı: {urun[\"name\"]} ürün fiyatı: {urun[\"price\"]}')"
      ],
      "metadata": {
        "colab": {
          "base_uri": "https://localhost:8080/"
        },
        "id": "AdgHQVBbx-iA",
        "outputId": "1eab355e-2887-404f-ab9c-df478662001a"
      },
      "execution_count": null,
      "outputs": [
        {
          "output_type": "stream",
          "name": "stdout",
          "text": [
            "Kaç ürün eklemek istiyorsunuz: 3\n",
            "ürün ismi: tuz\n",
            "ürün fiyatı: 100\n",
            "ürün ismi: biber\n",
            "ürün fiyatı: 50\n",
            "ürün ismi: cam\n",
            "ürün fiyatı: 120\n",
            "ürün adı: tuz ürün fiyatı: 100\n",
            "ürün adı: biber ürün fiyatı: 50\n",
            "ürün adı: cam ürün fiyatı: 120\n"
          ]
        }
      ]
    },
    {
      "cell_type": "code",
      "source": [
        "for numberOfx in [5,2,5,2,2]:   # range olmaz;  çünkü sırasıyla artmıyor\n",
        "  print(\"x\" * numberOfx)"
      ],
      "metadata": {
        "colab": {
          "base_uri": "https://localhost:8080/"
        },
        "id": "AOfSmkH5_-jO",
        "outputId": "16983f24-e0ff-49fc-8dcc-5dd293a505b6"
      },
      "execution_count": 2,
      "outputs": [
        {
          "output_type": "stream",
          "name": "stdout",
          "text": [
            "xxxxx\n",
            "xx\n",
            "xxxxx\n",
            "xx\n",
            "xx\n"
          ]
        }
      ]
    }
  ]
}