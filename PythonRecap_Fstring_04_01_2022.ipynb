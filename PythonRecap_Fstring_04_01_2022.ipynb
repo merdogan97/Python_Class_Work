{
  "nbformat": 4,
  "nbformat_minor": 0,
  "metadata": {
    "colab": {
      "name": "PythonRecap_Fstring_04.01.2022.ipynb",
      "provenance": [],
      "collapsed_sections": [],
      "authorship_tag": "ABX9TyMxx7SVmJXMUu+ihm51fd+a",
      "include_colab_link": true
    },
    "kernelspec": {
      "name": "python3",
      "display_name": "Python 3"
    },
    "language_info": {
      "name": "python"
    }
  },
  "cells": [
    {
      "cell_type": "markdown",
      "metadata": {
        "id": "view-in-github",
        "colab_type": "text"
      },
      "source": [
        "<a href=\"https://colab.research.google.com/github/merdogan97/Python_Class_Work/blob/main/PythonRecap_Fstring_04_01_2022.ipynb\" target=\"_parent\"><img src=\"https://colab.research.google.com/assets/colab-badge.svg\" alt=\"Open In Colab\"/></a>"
      ]
    },
    {
      "cell_type": "code",
      "execution_count": 3,
      "metadata": {
        "colab": {
          "base_uri": "https://localhost:8080/"
        },
        "id": "zL0xA6RMcria",
        "outputId": "f8f32eb0-b2c2-40b0-ec1d-929a1633adba"
      },
      "outputs": [
        {
          "output_type": "stream",
          "name": "stdout",
          "text": [
            "Atilla[İlhan] is a poet\n"
          ]
        }
      ],
      "source": [
        "firstName = \"Atilla\"\n",
        "lastName = \"İlhan\"\n",
        "massage = firstName + \"[\" + lastName+ \"] is a poet\"\n",
        "print(massage)"
      ]
    },
    {
      "cell_type": "code",
      "source": [
        "firstName = \"Atilla\"\n",
        "lastName = \"İlhan\"\n",
        "formattedMassage = f\"{firstName} [{lastName}] is a poet\"\n",
        "print(formattedMassage)"
      ],
      "metadata": {
        "colab": {
          "base_uri": "https://localhost:8080/"
        },
        "id": "4tB15aL8dxz0",
        "outputId": "32d51fae-36d7-4d91-93ce-8deb73fa6f69"
      },
      "execution_count": 5,
      "outputs": [
        {
          "output_type": "stream",
          "name": "stdout",
          "text": [
            "Atilla [İlhan] is a poet\n"
          ]
        }
      ]
    },
    {
      "cell_type": "code",
      "source": [
        "firstName = \"Atilla\"\n",
        "lastName = \"İlhan\"\n",
        "formattedMassage = f\"{firstName:10} [{lastName:10}] is a poet\"    # 10 harfe boşluk koyarak tamamladı\n",
        "print(formattedMassage)"
      ],
      "metadata": {
        "colab": {
          "base_uri": "https://localhost:8080/"
        },
        "id": "h3bssZ1-epTc",
        "outputId": "bada88bb-b0f6-4bb8-a8a1-82f630fb600b"
      },
      "execution_count": 7,
      "outputs": [
        {
          "output_type": "stream",
          "name": "stdout",
          "text": [
            "Atilla     [İlhan     ] is a poet\n"
          ]
        }
      ]
    },
    {
      "cell_type": "code",
      "source": [
        "firstName = \"Atilla\"\n",
        "lastName = \"İlhan\"\n",
        "formattedMassage = f\"{firstName:3} [{lastName:3}] is a poet\"    # 3 olursa değişiklik olmaz \n",
        "print(formattedMassage)"
      ],
      "metadata": {
        "colab": {
          "base_uri": "https://localhost:8080/"
        },
        "id": "eQx5yM9Wishi",
        "outputId": "5c363bac-bf55-4cb7-f61e-ddcc9d832023"
      },
      "execution_count": 8,
      "outputs": [
        {
          "output_type": "stream",
          "name": "stdout",
          "text": [
            "Atilla [İlhan] is a poet\n"
          ]
        }
      ]
    },
    {
      "cell_type": "code",
      "source": [
        "firstName = \"Atilla\"\n",
        "lastName = \"İlhan\"\n",
        "formattedMassage = f\"{firstName:.2} [{lastName:.2}] is a poet\"   # .2 ile kelimelerin ilk 2 harfini alır\n",
        "print(formattedMassage)"
      ],
      "metadata": {
        "colab": {
          "base_uri": "https://localhost:8080/"
        },
        "id": "JgcrQEzojC2z",
        "outputId": "94594c22-27da-4f74-b739-94f680aee8ad"
      },
      "execution_count": 9,
      "outputs": [
        {
          "output_type": "stream",
          "name": "stdout",
          "text": [
            "At [İl] is a poet\n"
          ]
        }
      ]
    },
    {
      "cell_type": "code",
      "source": [
        "firstName = \"Atilla\"\n",
        "lastName = \"İlhan\"\n",
        "formattedMassage = f\"{firstName:10.2} [{lastName:10.2}] is a poet\"   # .2 ile kelimelerin ilk 2 harfini alır 10 'a tamamala\n",
        "print(formattedMassage)               # nerede kull? rapor tabloları hazırlanırken kaymamamsı için"
      ],
      "metadata": {
        "colab": {
          "base_uri": "https://localhost:8080/"
        },
        "id": "LmF7qwy5jPqm",
        "outputId": "8f102895-a53d-416e-f605-d2db39ef286d"
      },
      "execution_count": 10,
      "outputs": [
        {
          "output_type": "stream",
          "name": "stdout",
          "text": [
            "At         [İl        ] is a poet\n"
          ]
        }
      ]
    },
    {
      "cell_type": "code",
      "source": [
        "number1 = 3\n",
        "number2 = 6\n",
        "print(f'{number1} plus {number2} is {number1 + number2} and is not {2* (number1+number2)}.')"
      ],
      "metadata": {
        "colab": {
          "base_uri": "https://localhost:8080/"
        },
        "id": "GkPVg1SxkRP6",
        "outputId": "34f0088a-d27b-4e08-b36b-bfdcd82f97e0"
      },
      "execution_count": 11,
      "outputs": [
        {
          "output_type": "stream",
          "name": "stdout",
          "text": [
            "3 plus 6 is 9 and is not 18.\n"
          ]
        }
      ]
    },
    {
      "cell_type": "code",
      "source": [
        "piNumber = 3.141598083243048837283736099\n",
        "print(f\"Pi Number is {piNumber:.4} and its half is {piNumber/2:.4} \")  # rakama olarak 4 adet verir.."
      ],
      "metadata": {
        "colab": {
          "base_uri": "https://localhost:8080/"
        },
        "id": "5sCYHVWKlWWz",
        "outputId": "92e071d5-f5e7-475a-9c02-3d5c9c393602"
      },
      "execution_count": 14,
      "outputs": [
        {
          "output_type": "stream",
          "name": "stdout",
          "text": [
            "Pi Number is 3.142 and its half is 1.571 \n"
          ]
        }
      ]
    },
    {
      "cell_type": "code",
      "source": [
        "piNumber = 3.141598083243048837283736099\n",
        "print(f\"{{Pi Number}} is {{{piNumber:.4}}} and its half is {piNumber/2:.4} \")  # rakama olarak 4 adet verir.."
      ],
      "metadata": {
        "colab": {
          "base_uri": "https://localhost:8080/"
        },
        "id": "rQhnaNCUmJHg",
        "outputId": "aea7b45c-8b08-4b09-8008-138e01abaa64"
      },
      "execution_count": 16,
      "outputs": [
        {
          "output_type": "stream",
          "name": "stdout",
          "text": [
            "{Pi Number} is {3.142} and its half is 1.571 \n"
          ]
        }
      ]
    },
    {
      "cell_type": "code",
      "source": [
        "errorNo = 12345\n",
        "print(f\" There is a {errorNo:b} error!\")    # binary'e çevirdik"
      ],
      "metadata": {
        "colab": {
          "base_uri": "https://localhost:8080/"
        },
        "id": "x_XNyZRtpc7Y",
        "outputId": "9b3e1c4e-7e82-4baf-aaec-e0f3451928a0"
      },
      "execution_count": 17,
      "outputs": [
        {
          "output_type": "stream",
          "name": "stdout",
          "text": [
            " There is a 11000000111001 error!\n"
          ]
        }
      ]
    },
    {
      "cell_type": "code",
      "source": [
        "errorNo = 12345\n",
        "print(f\" There is a {errorNo:#b} error!\")    "
      ],
      "metadata": {
        "id": "zivQcHWiqCzZ"
      },
      "execution_count": null,
      "outputs": []
    },
    {
      "cell_type": "code",
      "source": [
        "number=123123123123123\n",
        "print(f\"{number:,}\")"
      ],
      "metadata": {
        "colab": {
          "base_uri": "https://localhost:8080/"
        },
        "id": "IIIJjaETNOf-",
        "outputId": "e3c44db6-a3b4-4703-d540-41920c22e32e"
      },
      "execution_count": 1,
      "outputs": [
        {
          "output_type": "stream",
          "name": "stdout",
          "text": [
            "123,123,123,123,123\n"
          ]
        }
      ]
    },
    {
      "cell_type": "code",
      "source": [
        "number=123123123123123\n",
        "print(f\"{number:-}\")    # olmadı !!!!!!!!!!!!"
      ],
      "metadata": {
        "colab": {
          "base_uri": "https://localhost:8080/"
        },
        "id": "Q9LqFnBlNh0n",
        "outputId": "9bb90f92-9234-4f91-ceb8-8f21b81c87d4"
      },
      "execution_count": 4,
      "outputs": [
        {
          "output_type": "stream",
          "name": "stdout",
          "text": [
            "123123123123123\n"
          ]
        }
      ]
    },
    {
      "cell_type": "code",
      "source": [
        "message = \"This is a Title\"\n",
        "print(f\"{message:<30}\") # sola dayar ve 30'a kadar boşlukla kapatır.\n",
        "print(f\"{message:>30}\") # sağa dayar ve 30'a kadar boşlukla kapatır.\n",
        "print(f\"{message:^30}\") # ortaya ve sağdan-soldan boşlukla 30u tamamlar.\n",
        "print(f\"{message:*^30}\") # boşlukları yuldızla tamamlar\n",
        "print(f\"{message:*<30}\")\n",
        "print(f\"{message:*>30}\")"
      ],
      "metadata": {
        "colab": {
          "base_uri": "https://localhost:8080/"
        },
        "id": "Vb4len3QN1Qj",
        "outputId": "7290e4ae-6148-44cf-d18a-25a6e6465e96"
      },
      "execution_count": 3,
      "outputs": [
        {
          "output_type": "stream",
          "name": "stdout",
          "text": [
            "This is a Title               \n",
            "               This is a Title\n",
            "       This is a Title        \n",
            "*******This is a Title********\n",
            "This is a Title***************\n",
            "***************This is a Title\n"
          ]
        }
      ]
    },
    {
      "cell_type": "code",
      "source": [
        "name = input(\" Enter your name: \")\n",
        "messageLine1 = f\"Wellcome {name:.10}\"\n",
        "messageLine2 = f\"{name:.10}, it is our pleasure\"\n",
        "messageLine3 = f\"to see you join us\"\n",
        "print(f\"{messageLine1:^30}\")\n",
        "print(f\"{messageLine2:^30}\")\n",
        "print(f\"{messageLine3:^30}\")"
      ],
      "metadata": {
        "colab": {
          "base_uri": "https://localhost:8080/"
        },
        "id": "6uIpLjlK2mDu",
        "outputId": "803108b7-08fe-4efc-d125-159df80b2205"
      },
      "execution_count": 5,
      "outputs": [
        {
          "output_type": "stream",
          "name": "stdout",
          "text": [
            " Enter your name: Hüseyin\n",
            "       Wellcome Hüseyin       \n",
            " Hüseyin, it is our pleasure  \n",
            "      to see you join us      \n"
          ]
        }
      ]
    },
    {
      "cell_type": "markdown",
      "source": [
        "Program kullanıcıdıan dairenin yarıçapını istesin ve ardından çevresini hesaplayıp aşağıdaki bir mesaj yazdırsın.(Fstring kullan)\n",
        "\"Circumference of a circle with radius 2 : 12.56\" "
      ],
      "metadata": {
        "id": "qU5Qmygz4Dgj"
      }
    },
    {
      "cell_type": "code",
      "source": [
        "yarıcap = int(input(\"Dairenin yarıçapını giriniz(cm): \"))\n",
        "pp = 3.14\n",
        "cevre = 2 * pp * yarıcap\n",
        "print(f\"Circumference of a circle with radius {yarıcap} :\", cevre)"
      ],
      "metadata": {
        "colab": {
          "base_uri": "https://localhost:8080/"
        },
        "id": "HRwRd7DU4lun",
        "outputId": "49c70bbf-7061-4b69-e8f4-ab832074508c"
      },
      "execution_count": 21,
      "outputs": [
        {
          "output_type": "stream",
          "name": "stdout",
          "text": [
            "Dairenin yarıçapını giriniz(cm): 5\n",
            "Circumference of a circle with radius 5 : 31.400000000000002\n"
          ]
        }
      ]
    },
    {
      "cell_type": "code",
      "source": [
        "distance = int(input(\"Distance (m)? \"))\n",
        "distanceInKilometers = int(distance)/1000\n",
        "print(\"Your home to office is\", distanceInKilometers, \"km\")"
      ],
      "metadata": {
        "colab": {
          "base_uri": "https://localhost:8080/"
        },
        "id": "oUVu7U4o4wOf",
        "outputId": "5145e34f-ac56-486e-c718-d1e6992b1e6f"
      },
      "execution_count": 7,
      "outputs": [
        {
          "output_type": "stream",
          "name": "stdout",
          "text": [
            "Distance (m)? 7600\n",
            "Your home to office is 7.6 km\n"
          ]
        }
      ]
    }
  ]
}