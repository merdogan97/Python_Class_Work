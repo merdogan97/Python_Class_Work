{
  "nbformat": 4,
  "nbformat_minor": 0,
  "metadata": {
    "colab": {
      "name": "Python-5.ipynb",
      "provenance": [],
      "authorship_tag": "ABX9TyMzcC5likKPZw0Ii2+D+cRx",
      "include_colab_link": true
    },
    "kernelspec": {
      "name": "python3",
      "display_name": "Python 3"
    },
    "language_info": {
      "name": "python"
    }
  },
  "cells": [
    {
      "cell_type": "markdown",
      "metadata": {
        "id": "view-in-github",
        "colab_type": "text"
      },
      "source": [
        "<a href=\"https://colab.research.google.com/github/merdogan97/Python_Class_Work/blob/main/Python05_10.10.21.ipynb\" target=\"_parent\"><img src=\"https://colab.research.google.com/assets/colab-badge.svg\" alt=\"Open In Colab\"/></a>"
      ]
    },
    {
      "cell_type": "code",
      "metadata": {
        "id": "0oj_1dDFNrLW"
      },
      "source": [
        "sonuc =str((5 + 6) ** 2)+\"121\""
      ],
      "execution_count": null,
      "outputs": []
    },
    {
      "cell_type": "code",
      "metadata": {
        "colab": {
          "base_uri": "https://localhost:8080/"
        },
        "id": "Kd4wQuCvZqR0",
        "outputId": "6e66d279-5ad7-4c6c-bb9a-ed376416e264"
      },
      "source": [
        "print(* \"hadievegidelim\")"
      ],
      "execution_count": null,
      "outputs": [
        {
          "output_type": "stream",
          "name": "stdout",
          "text": [
            "h a d i e v e g i d e l i m\n"
          ]
        }
      ]
    },
    {
      "cell_type": "code",
      "metadata": {
        "colab": {
          "base_uri": "https://localhost:8080/"
        },
        "id": "EmdO3b6tblrn",
        "outputId": "2a9b00ba-536e-4161-8926-71903c8850be"
      },
      "source": [
        "string_1 = \"clarusway\"\n",
        "print(* string_1)"
      ],
      "execution_count": null,
      "outputs": [
        {
          "output_type": "stream",
          "name": "stdout",
          "text": [
            "c l a r u s w a y\n"
          ]
        }
      ]
    },
    {
      "cell_type": "code",
      "metadata": {
        "id": "fVEx9aEriZHW"
      },
      "source": [
        "\"metodlar\".  "
      ],
      "execution_count": null,
      "outputs": []
    },
    {
      "cell_type": "code",
      "metadata": {
        "colab": {
          "base_uri": "https://localhost:8080/",
          "height": 35
        },
        "id": "npixhgHhjLLs",
        "outputId": "d645d072-8fa3-41d1-ffd6-9a45b41bb9d3"
      },
      "source": [
        "saat = \"05:00\"\n",
        "yer = \"Market\"\n",
        "miktar = \"3\"\n",
        "\"Ben sabah {} de uytandım. {}'a gittim. Gelirken de {} kg elma aldım.\".format(saat, yer, miktar)"
      ],
      "execution_count": null,
      "outputs": [
        {
          "output_type": "execute_result",
          "data": {
            "application/vnd.google.colaboratory.intrinsic+json": {
              "type": "string"
            },
            "text/plain": [
              "\"Ben sabah 05:00 de uytandım. Market'a gittim. Gelirken de 3 kg elma aldım.\""
            ]
          },
          "metadata": {},
          "execution_count": 26
        }
      ]
    },
    {
      "cell_type": "code",
      "metadata": {
        "colab": {
          "base_uri": "https://localhost:8080/",
          "height": 35
        },
        "id": "-oZDNrxtpK4f",
        "outputId": "7e826741-a986-407e-8166-b4e5c6bdc5b7"
      },
      "source": [
        "\"Ben sabah {saat}de uyandım. {yer}'e gittim. Gelirken de {miktar} kg elma aldım.\".format(miktar = \"5\", yer = \"Market\",  saat = \"06:00\")"
      ],
      "execution_count": null,
      "outputs": [
        {
          "output_type": "execute_result",
          "data": {
            "application/vnd.google.colaboratory.intrinsic+json": {
              "type": "string"
            },
            "text/plain": [
              "\"Ben sabah 06:00de uyandım. Market'e gittim. Gelirken de 5 kg elma aldım.\""
            ]
          },
          "metadata": {},
          "execution_count": 37
        }
      ]
    },
    {
      "cell_type": "code",
      "metadata": {
        "colab": {
          "base_uri": "https://localhost:8080/",
          "height": 162
        },
        "id": "-cVMq3esuXcF",
        "outputId": "989d9f6c-3736-46d2-d6f2-6c66c970acbc"
      },
      "source": [
        "\"Ben sabah {2}de uyandım. {1}'e gittim. Gelirken de {0} kg elma aldım.\".format(miktar = \"5\", yer = \"Market\",  saat = \"06:00\")"
      ],
      "execution_count": null,
      "outputs": [
        {
          "output_type": "error",
          "ename": "IndexError",
          "evalue": "ignored",
          "traceback": [
            "\u001b[0;31m---------------------------------------------------------------------------\u001b[0m",
            "\u001b[0;31mIndexError\u001b[0m                                Traceback (most recent call last)",
            "\u001b[0;32m<ipython-input-38-9d95e87621af>\u001b[0m in \u001b[0;36m<module>\u001b[0;34m()\u001b[0m\n\u001b[0;32m----> 1\u001b[0;31m \u001b[0;34m\"Ben sabah {2}de uyandım. {1}'e gittim. Gelirken de {0} kg elma aldım.\"\u001b[0m\u001b[0;34m.\u001b[0m\u001b[0mformat\u001b[0m\u001b[0;34m(\u001b[0m\u001b[0mmiktar\u001b[0m \u001b[0;34m=\u001b[0m \u001b[0;34m\"5\"\u001b[0m\u001b[0;34m,\u001b[0m \u001b[0myer\u001b[0m \u001b[0;34m=\u001b[0m \u001b[0;34m\"Market\"\u001b[0m\u001b[0;34m,\u001b[0m  \u001b[0msaat\u001b[0m \u001b[0;34m=\u001b[0m \u001b[0;34m\"06:00\"\u001b[0m\u001b[0;34m)\u001b[0m\u001b[0;34m\u001b[0m\u001b[0;34m\u001b[0m\u001b[0m\n\u001b[0m",
            "\u001b[0;31mIndexError\u001b[0m: tuple index out of range"
          ]
        }
      ]
    },
    {
      "cell_type": "code",
      "metadata": {
        "colab": {
          "base_uri": "https://localhost:8080/",
          "height": 35
        },
        "id": "-ktvU3ODYlqs",
        "outputId": "4c955b90-8afc-47ad-c580-a05211d65f1c"
      },
      "source": [
        "\"Bugün derse gireceğim \"*4"
      ],
      "execution_count": null,
      "outputs": [
        {
          "output_type": "execute_result",
          "data": {
            "application/vnd.google.colaboratory.intrinsic+json": {
              "type": "string"
            },
            "text/plain": [
              "'Bugün derse gireceğim Bugün derse gireceğim Bugün derse gireceğim Bugün derse gireceğim '"
            ]
          },
          "metadata": {},
          "execution_count": 19
        }
      ]
    },
    {
      "cell_type": "code",
      "metadata": {
        "colab": {
          "base_uri": "https://localhost:8080/",
          "height": 35
        },
        "id": "TNCA1kmcYWVl",
        "outputId": "e9593eac-7dc9-4827-a449-7f3c87ccb836"
      },
      "source": [
        "\"clarusway \" * 3"
      ],
      "execution_count": null,
      "outputs": [
        {
          "output_type": "execute_result",
          "data": {
            "application/vnd.google.colaboratory.intrinsic+json": {
              "type": "string"
            },
            "text/plain": [
              "'clarusway clarusway clarusway '"
            ]
          },
          "metadata": {},
          "execution_count": 15
        }
      ]
    }
  ]
}