{
  "nbformat": 4,
  "nbformat_minor": 0,
  "metadata": {
    "interpreter": {
      "hash": "88235260e9f937f3ff47077a9833bd167c34ec72878758c39d1cfa9789a0b5fc"
    },
    "kernelspec": {
      "display_name": "Python 3.9.6 64-bit",
      "name": "python3"
    },
    "language_info": {
      "codemirror_mode": {
        "name": "ipython",
        "version": 3
      },
      "file_extension": ".py",
      "mimetype": "text/x-python",
      "name": "python",
      "nbconvert_exporter": "python",
      "pygments_lexer": "ipython3",
      "version": "3.9.6"
    },
    "colab": {
      "name": "Python-workshop-1-lead.ipynb",
      "provenance": [],
      "collapsed_sections": [],
      "include_colab_link": true
    }
  },
  "cells": [
    {
      "cell_type": "markdown",
      "metadata": {
        "id": "view-in-github",
        "colab_type": "text"
      },
      "source": [
        "<a href=\"https://colab.research.google.com/github/merdogan97/Python_Class_Work/blob/main/PythonWorkshop1_lead.09.11.21.ipynb\" target=\"_parent\"><img src=\"https://colab.research.google.com/assets/colab-badge.svg\" alt=\"Open In Colab\"/></a>"
      ]
    },
    {
      "cell_type": "markdown",
      "metadata": {
        "id": "puZrWADbh7bL"
      },
      "source": [
        "<center><img src=\"https://github.com/aaron-clarusway/fullstack/blob/master/itf-logo.png?raw=true\"  alt=\"alt text\" width=\"200\"/></center>\n",
        "<br>\n",
        "<h1><p style=\"text-align: center; color:darkblue\">Python Basic</p><h1>\n",
        "<center><h1>Workshop - 1</h1></center>\n",
        "<p><img align=\"right\"\n",
        "  src=\"https://secure.meetupstatic.com/photos/event/3/1/b/9/600_488352729.jpeg\"  width=\"15px\"></p>\n",
        "<br>\n",
        "\n",
        "\n",
        "# Subject: Basic Data Types and Useful Operations\n",
        "\n",
        "## Learning Goals\n",
        "\n",
        "* to work with quotes in strings,\n",
        "* to practice basic data types,\n",
        "* to consolidate basic boolean operations."
      ]
    },
    {
      "cell_type": "markdown",
      "metadata": {
        "id": "VykE6Bvoh7bM"
      },
      "source": [
        "### Problem 1\n",
        "\n",
        "Write a program that multiplies three numbers entered by the user. Print the output with the format method."
      ]
    },
    {
      "cell_type": "code",
      "metadata": {
        "id": "2XYSi007h7bN"
      },
      "source": [
        "\n",
        "\n",
        "a=int(input(\"a:\"))\n",
        "b=int(input(\"b:\"))\n",
        "c=int(input(\"c:\"))  \n",
        "\n",
        "output = a * b * c\n",
        "\n",
        "print(\"{}*{}*{} = {}\".format(a, b, c, output))\n",
        "print(f\"{a}*{b}*{c} = {output}\")"
      ],
      "execution_count": null,
      "outputs": []
    },
    {
      "cell_type": "markdown",
      "metadata": {
        "id": "Po2JhAMch7bO"
      },
      "source": [
        "### Problem 2\n",
        "\n",
        "Write a program that calculates body mass index from **height** and **weight** entered by the user. \n",
        "\n",
        "Body mass index :  Weight / Height(m) * Height(m)"
      ]
    },
    {
      "cell_type": "code",
      "metadata": {
        "id": "RR-1vWeIh7bO"
      },
      "source": [
        "height=float(input(\"Enter your height (example: 1.85):\"))\n",
        "weight=int(input(\"Enter your weight (example: 75):\"))\n",
        "\n",
        "print(\"Body mass index:\",weight / (height ** 2))"
      ],
      "execution_count": null,
      "outputs": []
    },
    {
      "cell_type": "markdown",
      "metadata": {
        "id": "IuYWCQRxh7bO"
      },
      "source": [
        "### Problem 3\n",
        "\n",
        "With your $ 200, how many pieces of material can you get for $ 11 each? How much money do you have left after buying?"
      ]
    },
    {
      "cell_type": "code",
      "metadata": {
        "id": "0mXkzVqPh7bO"
      },
      "source": [
        "totalMoney = 200\n",
        "materialPrice = 11\n",
        "piece = 200 // 11\n",
        "remainingMoney = totalMoney % piece\n",
        "print(\"With your ${}, {} pieces of material you can get for ${} each.  The remaining money is ${}\".format(totalMoney, piece, materialPrice, remainingMoney))"
      ],
      "execution_count": null,
      "outputs": []
    },
    {
      "cell_type": "markdown",
      "metadata": {
        "id": "G7s-v6eyh7bP"
      },
      "source": [
        "### Problem 4\n",
        "\n",
        "Ask the user for two numbers and assign these numbers to variables and replace the values of these variables with each other."
      ]
    },
    {
      "cell_type": "code",
      "metadata": {
        "id": "-fbckyuxh7bP"
      },
      "source": [
        "a = 2\n",
        "b = 5\n",
        "\n",
        "print(\"Variables Before Replacing\\na= {} b= {}\".format(a, b))\n",
        "\n",
        "a, b = b, a\n",
        "\n",
        "print(\"Variables After Replacing\\na= {} b= {}\".format(a, b))"
      ],
      "execution_count": null,
      "outputs": []
    },
    {
      "cell_type": "markdown",
      "metadata": {
        "id": "yqFRHWVmh7bP"
      },
      "source": [
        "### Problem 5\n",
        "\n",
        "Write a Python program to solve (x - y) * (x + y)."
      ]
    },
    {
      "cell_type": "code",
      "metadata": {
        "id": "7OROlhOfh7bP"
      },
      "source": [
        "x, y = 4, 3\n",
        "result = x * x - y * y\n",
        "print(\"({} ^ 2 - {} ^ 2) = {}\".format(x, y, result))"
      ],
      "execution_count": null,
      "outputs": []
    },
    {
      "cell_type": "markdown",
      "metadata": {
        "id": "430cKrkbh7bP"
      },
      "source": [
        "### Problem 6\n",
        "\n",
        "Get **word**, **seperator** and **repetition** values from the user and print the word on the screen according to the given values. \n",
        "\n",
        "Ex: ``word = ali, sep = /, repetition = 3`` ----> ``ali/ali/ali``"
      ]
    },
    {
      "cell_type": "code",
      "metadata": {
        "id": "5EVTWCpch7bP"
      },
      "source": [
        "word = input(\"Word: \")\n",
        "seperator = input(\"Seperator: \")\n",
        "repetitions = int(input(\"repetitions: \"))\n",
        "a = (word + seperator) * (repetitions -1) + word # henry/ * 2 = henry/henry/henry\n",
        "print(a)\n",
        "# print(*list([word] * repetitions), sep=seperator)"
      ],
      "execution_count": null,
      "outputs": []
    },
    {
      "cell_type": "markdown",
      "metadata": {
        "id": "-72d73Lhh7bQ"
      },
      "source": [
        "### Problem 7\n",
        "\n",
        ">Do not run the code, try to figure out in your mind.\n",
        "\n",
        "What will be the output of the following syntax :\n",
        "\n",
        "```python\n",
        "print(True and False and (not True and False) and not (True or False))\n",
        "```"
      ]
    },
    {
      "cell_type": "code",
      "metadata": {
        "id": "nk5rbUmxh7bQ",
        "outputId": "bc34d040-1081-4b07-f357-984323bb8ab9"
      },
      "source": [
        "print(True and False and (not True and False) and not (True or False))"
      ],
      "execution_count": null,
      "outputs": [
        {
          "name": "stdout",
          "output_type": "stream",
          "text": [
            "False\n"
          ]
        }
      ]
    },
    {
      "cell_type": "code",
      "metadata": {
        "id": "QKfxWrjgh7bR"
      },
      "source": [
        ""
      ],
      "execution_count": null,
      "outputs": []
    },
    {
      "cell_type": "code",
      "metadata": {
        "id": "WRhYUMZYh7bR",
        "outputId": "97deef8e-0ea8-4d48-e820-ae4b5803275b"
      },
      "source": [
        ""
      ],
      "execution_count": null,
      "outputs": [
        {
          "data": {
            "text/plain": [
              "'kilolu'"
            ]
          },
          "execution_count": 6,
          "metadata": {},
          "output_type": "execute_result"
        }
      ]
    },
    {
      "cell_type": "markdown",
      "metadata": {
        "id": "av2QUjT1h7bR"
      },
      "source": [
        "### Problem 8\n",
        "\n",
        ">Do not run the code, try to figure out in your mind.\n",
        "\n",
        "What will be the output of the following syntax :\n",
        "\n",
        "```python\n",
        "print(True and False and not \"False\" and None and (\"None\" or None))\n",
        "```"
      ]
    },
    {
      "cell_type": "code",
      "metadata": {
        "id": "kL3IlSz_h7bR",
        "outputId": "0ffa9f31-cddd-4016-a5bb-dd0f7c3bac3b"
      },
      "source": [
        "print(True and False and not \"False\" and None and (\"None\" or None))"
      ],
      "execution_count": null,
      "outputs": [
        {
          "name": "stdout",
          "output_type": "stream",
          "text": [
            "False\n"
          ]
        }
      ]
    },
    {
      "cell_type": "markdown",
      "metadata": {
        "id": "n7anqXwch7bR"
      },
      "source": [
        "### Problem 9\n",
        "\n",
        ">Do not run the code, try to figure out in your mind.\n",
        "\n",
        "What will be the output of the following syntax :\n",
        "\n",
        "```python\n",
        "print(\"clarusway\" and 0 and not \"\" and False and (\" \" or None))\n",
        "```"
      ]
    },
    {
      "cell_type": "code",
      "metadata": {
        "id": "vAHwwfS9h7bS",
        "outputId": "dbb2bbfc-4181-4bc5-bca2-75d558060a09"
      },
      "source": [
        "print(\"clarusway\" and 0 and not \"\" and False and (\" \" or None))"
      ],
      "execution_count": null,
      "outputs": [
        {
          "name": "stdout",
          "output_type": "stream",
          "text": [
            "0\n"
          ]
        }
      ]
    }
  ]
}