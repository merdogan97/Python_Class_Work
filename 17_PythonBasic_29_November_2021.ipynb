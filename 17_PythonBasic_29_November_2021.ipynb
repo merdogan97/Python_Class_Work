{
  "nbformat": 4,
  "nbformat_minor": 5,
  "metadata": {
    "kernelspec": {
      "display_name": "Python 3",
      "language": "python",
      "name": "python3"
    },
    "language_info": {
      "codemirror_mode": {
        "name": "ipython",
        "version": 3
      },
      "file_extension": ".py",
      "mimetype": "text/x-python",
      "name": "python",
      "nbconvert_exporter": "python",
      "pygments_lexer": "ipython3",
      "version": "3.8.8"
    },
    "colab": {
      "name": "17_PythonBasic_29-November-2021.ipynb",
      "provenance": [],
      "collapsed_sections": [],
      "include_colab_link": true
    }
  },
  "cells": [
    {
      "cell_type": "markdown",
      "metadata": {
        "id": "view-in-github",
        "colab_type": "text"
      },
      "source": [
        "<a href=\"https://colab.research.google.com/github/merdogan97/Python_Class_Work/blob/main/17_PythonBasic_29_November_2021.ipynb\" target=\"_parent\"><img src=\"https://colab.research.google.com/assets/colab-badge.svg\" alt=\"Open In Colab\"/></a>"
      ]
    },
    {
      "cell_type": "markdown",
      "metadata": {
        "id": "406f2981"
      },
      "source": [
        "<img src=\"https://docs.google.com/uc?id=14xeXxFrVRjvOoUYWn_GuyE-v84wVzrqr\" class=\"img-fluid\" alt=\"CLRWY\" width=\"400\" height=\"200\">"
      ],
      "id": "406f2981"
    },
    {
      "cell_type": "markdown",
      "metadata": {
        "id": "22263af8"
      },
      "source": [
        "<h1><p style=\"text-align: center; color:darkblue\">Python In-Class, <br>29 November 2021</p><h1>"
      ],
      "id": "22263af8"
    },
    {
      "cell_type": "code",
      "metadata": {
        "id": "dd2803a0",
        "outputId": "22020209-2efd-48eb-c688-c9803daa5ee9"
      },
      "source": [
        "lambda x : \"odd\" if x % 2 != 0 else \"even\""
      ],
      "id": "dd2803a0",
      "execution_count": null,
      "outputs": [
        {
          "data": {
            "text/plain": [
              "<function __main__.<lambda>(x)>"
            ]
          },
          "execution_count": 1,
          "metadata": {},
          "output_type": "execute_result"
        }
      ]
    },
    {
      "cell_type": "code",
      "metadata": {
        "id": "a0ddf63e",
        "outputId": "8db363c9-769e-43a7-d7f6-e633d0c63d2f"
      },
      "source": [
        "(lambda x : \"odd\" if x % 2 != 0 else \"even\")(2)"
      ],
      "id": "a0ddf63e",
      "execution_count": null,
      "outputs": [
        {
          "data": {
            "text/plain": [
              "'even'"
            ]
          },
          "execution_count": 2,
          "metadata": {},
          "output_type": "execute_result"
        }
      ]
    },
    {
      "cell_type": "code",
      "metadata": {
        "id": "9eec0f3d",
        "outputId": "a0d1fb23-7ccf-4728-f477-70dfca4f6a17"
      },
      "source": [
        "(lambda x : \"odd\" if x % 2 != 0 else \"even\")(3)"
      ],
      "id": "9eec0f3d",
      "execution_count": null,
      "outputs": [
        {
          "data": {
            "text/plain": [
              "'odd'"
            ]
          },
          "execution_count": 3,
          "metadata": {},
          "output_type": "execute_result"
        }
      ]
    },
    {
      "cell_type": "code",
      "metadata": {
        "id": "bd2d76ea",
        "outputId": "570e4df7-2062-4688-e168-f07615064c49"
      },
      "source": [
        "(lambda x : x[::-1])(\"aali\")"
      ],
      "id": "bd2d76ea",
      "execution_count": null,
      "outputs": [
        {
          "data": {
            "text/plain": [
              "'ilaa'"
            ]
          },
          "execution_count": 5,
          "metadata": {},
          "output_type": "execute_result"
        }
      ]
    },
    {
      "cell_type": "code",
      "metadata": {
        "id": "b78f662b",
        "outputId": "9684758e-579e-4f3c-db1d-18a75ab26b90"
      },
      "source": [
        "(lambda x : x[::-1])([1,2,3])"
      ],
      "id": "b78f662b",
      "execution_count": null,
      "outputs": [
        {
          "data": {
            "text/plain": [
              "[3, 2, 1]"
            ]
          },
          "execution_count": 6,
          "metadata": {},
          "output_type": "execute_result"
        }
      ]
    },
    {
      "cell_type": "code",
      "metadata": {
        "id": "7eb1e60e",
        "outputId": "514c1e1d-5165-4424-c98b-da47c2ccee87"
      },
      "source": [
        "(lambda a, b : (a + b) / 2)(3, 5) "
      ],
      "id": "7eb1e60e",
      "execution_count": null,
      "outputs": [
        {
          "data": {
            "text/plain": [
              "4.0"
            ]
          },
          "execution_count": 7,
          "metadata": {},
          "output_type": "execute_result"
        }
      ]
    },
    {
      "cell_type": "code",
      "metadata": {
        "id": "192a89c2"
      },
      "source": [
        "lambda x : \"odd\" if x % 2 != 0 else \"even\""
      ],
      "id": "192a89c2",
      "execution_count": null,
      "outputs": []
    },
    {
      "cell_type": "code",
      "metadata": {
        "id": "4d98517f"
      },
      "source": [
        "sayılar = [1, 2, 3, 4, 5, 6]"
      ],
      "id": "4d98517f",
      "execution_count": null,
      "outputs": []
    },
    {
      "cell_type": "code",
      "metadata": {
        "id": "2cf982f7",
        "outputId": "f41df913-aa7e-4d5c-be70-314f07bb6d33"
      },
      "source": [
        "for a in sayılar :\n",
        "    print(a, \":\", (lambda x : \"odd\" if x % 2 != 0 else \"even\")(a))"
      ],
      "id": "2cf982f7",
      "execution_count": null,
      "outputs": [
        {
          "name": "stdout",
          "output_type": "stream",
          "text": [
            "1 : odd\n",
            "2 : even\n",
            "3 : odd\n",
            "4 : even\n",
            "5 : odd\n",
            "6 : even\n"
          ]
        }
      ]
    },
    {
      "cell_type": "code",
      "metadata": {
        "id": "a53190be"
      },
      "source": [
        "finder = lambda x : \"odd\" if x % 2 != 0 else \"even\""
      ],
      "id": "a53190be",
      "execution_count": null,
      "outputs": []
    },
    {
      "cell_type": "code",
      "metadata": {
        "id": "20deafeb",
        "outputId": "d1de2bab-f20c-4596-de70-19c7002c0dc6"
      },
      "source": [
        "print(finder(5))"
      ],
      "id": "20deafeb",
      "execution_count": null,
      "outputs": [
        {
          "name": "stdout",
          "output_type": "stream",
          "text": [
            "odd\n"
          ]
        }
      ]
    },
    {
      "cell_type": "code",
      "metadata": {
        "id": "7db8e84a"
      },
      "source": [
        "reverser = lambda x : x[::-1]"
      ],
      "id": "7db8e84a",
      "execution_count": null,
      "outputs": []
    },
    {
      "cell_type": "code",
      "metadata": {
        "id": "9ae0784b",
        "outputId": "1d46dd05-2fa9-4301-e025-5340364fc49e"
      },
      "source": [
        "reverser([1, 2, 3, 4])"
      ],
      "id": "9ae0784b",
      "execution_count": null,
      "outputs": [
        {
          "data": {
            "text/plain": [
              "[4, 3, 2, 1]"
            ]
          },
          "execution_count": 14,
          "metadata": {},
          "output_type": "execute_result"
        }
      ]
    },
    {
      "cell_type": "code",
      "metadata": {
        "id": "0da4140f"
      },
      "source": [
        "fonksiyon = lambda x : x ** 2\n",
        "iterable = [1, 2, 3]"
      ],
      "id": "0da4140f",
      "execution_count": null,
      "outputs": []
    },
    {
      "cell_type": "code",
      "metadata": {
        "id": "a60d64c8",
        "outputId": "2f710edf-eb8a-40de-ba8a-dd864dfec065"
      },
      "source": [
        "sonuc = map(fonksiyon, iterable)\n",
        "print(* sonuc)"
      ],
      "id": "a60d64c8",
      "execution_count": null,
      "outputs": [
        {
          "name": "stdout",
          "output_type": "stream",
          "text": [
            "1 4 9\n"
          ]
        }
      ]
    },
    {
      "cell_type": "code",
      "metadata": {
        "id": "36d7c2a2"
      },
      "source": [
        "def kare(b) :\n",
        "    return b ** 2"
      ],
      "id": "36d7c2a2",
      "execution_count": null,
      "outputs": []
    },
    {
      "cell_type": "code",
      "metadata": {
        "id": "3fd55033",
        "outputId": "26315c20-865e-40c5-a124-2c577ef6e37b"
      },
      "source": [
        "sonuc2 = map(kare, iterable)\n",
        "print(* sonuc2)"
      ],
      "id": "3fd55033",
      "execution_count": null,
      "outputs": [
        {
          "name": "stdout",
          "output_type": "stream",
          "text": [
            "1 4 9\n"
          ]
        }
      ]
    },
    {
      "cell_type": "code",
      "metadata": {
        "id": "1a852729"
      },
      "source": [
        "map()"
      ],
      "id": "1a852729",
      "execution_count": null,
      "outputs": []
    },
    {
      "cell_type": "code",
      "metadata": {
        "id": "87b4fa09"
      },
      "source": [
        "topla = lambda x, y, z : x + y + z"
      ],
      "id": "87b4fa09",
      "execution_count": null,
      "outputs": []
    },
    {
      "cell_type": "code",
      "metadata": {
        "id": "e4748050",
        "outputId": "e82aa144-3f0c-493f-8d91-555229f1e4bd"
      },
      "source": [
        "topla(\"a\", \"l\", \"i\")"
      ],
      "id": "e4748050",
      "execution_count": null,
      "outputs": [
        {
          "data": {
            "text/plain": [
              "'ali'"
            ]
          },
          "execution_count": 20,
          "metadata": {},
          "output_type": "execute_result"
        }
      ]
    },
    {
      "cell_type": "code",
      "metadata": {
        "id": "202fa373"
      },
      "source": [
        "num1 = [9, 6, 7, 4]\n",
        "num2 = [3, 6, 5, 8]"
      ],
      "id": "202fa373",
      "execution_count": null,
      "outputs": []
    },
    {
      "cell_type": "code",
      "metadata": {
        "id": "2e9d139f"
      },
      "source": [
        "func = lambda x, y : (x + y) / 2"
      ],
      "id": "2e9d139f",
      "execution_count": null,
      "outputs": []
    },
    {
      "cell_type": "code",
      "metadata": {
        "id": "91577a51",
        "outputId": "204190a2-25f1-4f05-f651-c6e7f3af6bf3"
      },
      "source": [
        "numbers = map(func, num1, num2)\n",
        "print(list(numbers))"
      ],
      "id": "91577a51",
      "execution_count": null,
      "outputs": [
        {
          "name": "stdout",
          "output_type": "stream",
          "text": [
            "[6.0, 6.0, 6.0, 6.0]\n"
          ]
        }
      ]
    },
    {
      "cell_type": "code",
      "metadata": {
        "id": "06686ac2"
      },
      "source": [
        "words = [\"apple\", \"swim\", \"clock\", \"me\", \"kiwi\", \"banana\"]"
      ],
      "id": "06686ac2",
      "execution_count": null,
      "outputs": []
    },
    {
      "cell_type": "code",
      "metadata": {
        "id": "05e1769f",
        "outputId": "944b7711-bdfa-42b3-957d-45f4e143e6a0"
      },
      "source": [
        "for i in filter(lambda x : len(x) < 5, words) :\n",
        "    print(i)"
      ],
      "id": "05e1769f",
      "execution_count": null,
      "outputs": [
        {
          "name": "stdout",
          "output_type": "stream",
          "text": [
            "swim\n",
            "me\n",
            "kiwi\n"
          ]
        }
      ]
    },
    {
      "cell_type": "code",
      "metadata": {
        "id": "55f12d71"
      },
      "source": [
        "vowel_list = ['a', 'e', 'i', 'o', 'u']\n",
        "first_ten = ['a', 'b', 'c', 'd', 'e', 'f', 'g', 'h', 'i', 'j']"
      ],
      "id": "55f12d71",
      "execution_count": null,
      "outputs": []
    },
    {
      "cell_type": "code",
      "metadata": {
        "id": "5e083a58",
        "outputId": "d3f1872d-3ab6-422d-aa89-9fc82a93dec4"
      },
      "source": [
        "\"a\" in vowel_list"
      ],
      "id": "5e083a58",
      "execution_count": null,
      "outputs": [
        {
          "data": {
            "text/plain": [
              "True"
            ]
          },
          "execution_count": 27,
          "metadata": {},
          "output_type": "execute_result"
        }
      ]
    },
    {
      "cell_type": "code",
      "metadata": {
        "id": "a74d49ef",
        "outputId": "56df24af-9c75-4499-d4ec-aa87c964c99a"
      },
      "source": [
        "\"b\" in vowel_list"
      ],
      "id": "a74d49ef",
      "execution_count": null,
      "outputs": [
        {
          "data": {
            "text/plain": [
              "False"
            ]
          },
          "execution_count": 28,
          "metadata": {},
          "output_type": "execute_result"
        }
      ]
    },
    {
      "cell_type": "code",
      "metadata": {
        "id": "6dda768f",
        "outputId": "036c0670-d0eb-48bb-f8fc-4c6e6923b630"
      },
      "source": [
        "vowels = filter(lambda x : x in vowel_list, first_ten)\n",
        "print(list(vowels))"
      ],
      "id": "6dda768f",
      "execution_count": null,
      "outputs": [
        {
          "name": "stdout",
          "output_type": "stream",
          "text": [
            "['a', 'e', 'i']\n"
          ]
        }
      ]
    },
    {
      "cell_type": "code",
      "metadata": {
        "id": "3bb87e27"
      },
      "source": [
        "def modular(n) :\n",
        "    return lambda x : x ** n"
      ],
      "id": "3bb87e27",
      "execution_count": null,
      "outputs": []
    },
    {
      "cell_type": "code",
      "metadata": {
        "id": "08a43ec5"
      },
      "source": [
        "karesinial = modular(2)"
      ],
      "id": "08a43ec5",
      "execution_count": null,
      "outputs": []
    },
    {
      "cell_type": "code",
      "metadata": {
        "id": "1ade37d4",
        "outputId": "9dc99321-b8ce-4ad3-c344-c9760a3efacf"
      },
      "source": [
        "karesinial(3)"
      ],
      "id": "1ade37d4",
      "execution_count": null,
      "outputs": [
        {
          "data": {
            "text/plain": [
              "9"
            ]
          },
          "execution_count": 33,
          "metadata": {},
          "output_type": "execute_result"
        }
      ]
    },
    {
      "cell_type": "code",
      "metadata": {
        "id": "3021b7f6"
      },
      "source": [
        "kupunual = modular(3)"
      ],
      "id": "3021b7f6",
      "execution_count": null,
      "outputs": []
    },
    {
      "cell_type": "code",
      "metadata": {
        "id": "ac54cebf",
        "outputId": "6b89a9da-9303-4a14-eb6e-11462c090e5f"
      },
      "source": [
        "kupunual(2)"
      ],
      "id": "ac54cebf",
      "execution_count": null,
      "outputs": [
        {
          "data": {
            "text/plain": [
              "8"
            ]
          },
          "execution_count": 35,
          "metadata": {},
          "output_type": "execute_result"
        }
      ]
    },
    {
      "cell_type": "code",
      "metadata": {
        "id": "00d0d378",
        "outputId": "ca993a36-b84a-48f4-af0a-a2cea88964fc"
      },
      "source": [
        "(lambda x : print(x, \":)\"))(\"ali\")"
      ],
      "id": "00d0d378",
      "execution_count": null,
      "outputs": [
        {
          "name": "stdout",
          "output_type": "stream",
          "text": [
            "ali :)\n"
          ]
        }
      ]
    },
    {
      "cell_type": "code",
      "metadata": {
        "id": "2fe9958e",
        "outputId": "1b02af18-84e7-416c-face-2aca06a6e841"
      },
      "source": [
        "print(\"ali\", \":)\")"
      ],
      "id": "2fe9958e",
      "execution_count": null,
      "outputs": [
        {
          "name": "stdout",
          "output_type": "stream",
          "text": [
            "ali :)\n"
          ]
        }
      ]
    },
    {
      "cell_type": "code",
      "metadata": {
        "id": "8a5cef61",
        "outputId": "6ee688b4-f8a7-4d91-a39b-dcd0c6a12465"
      },
      "source": [
        "(lambda x : print(x, \":(\"))(\"ali\")"
      ],
      "id": "8a5cef61",
      "execution_count": null,
      "outputs": [
        {
          "name": "stdout",
          "output_type": "stream",
          "text": [
            "ali :(\n"
          ]
        }
      ]
    },
    {
      "cell_type": "code",
      "metadata": {
        "id": "5a3af549",
        "outputId": "364c0c80-eae3-431e-dae4-788b44b14b27"
      },
      "source": [
        "(lambda x : print(x, \":|\"))(\"ali\")"
      ],
      "id": "5a3af549",
      "execution_count": null,
      "outputs": [
        {
          "name": "stdout",
          "output_type": "stream",
          "text": [
            "ali :|\n"
          ]
        }
      ]
    },
    {
      "cell_type": "code",
      "metadata": {
        "id": "ce225b7a"
      },
      "source": [
        "def functioner(emoji) :\n",
        "    return lambda x : print(x, emoji)"
      ],
      "id": "ce225b7a",
      "execution_count": null,
      "outputs": []
    },
    {
      "cell_type": "code",
      "metadata": {
        "id": "e1de42f2"
      },
      "source": [
        "myPrint_smile = functioner(\":)\")\n",
        "myPrint_sad = functioner(\":(\")\n",
        "myPrint_neutral = functioner(\":|\")"
      ],
      "id": "e1de42f2",
      "execution_count": null,
      "outputs": []
    },
    {
      "cell_type": "code",
      "metadata": {
        "id": "6f98b881",
        "outputId": "11488967-7d64-4171-cc8f-9fa51e4e2f3d"
      },
      "source": [
        "myPrint_sad(\"hello\")"
      ],
      "id": "6f98b881",
      "execution_count": null,
      "outputs": [
        {
          "name": "stdout",
          "output_type": "stream",
          "text": [
            "hello :(\n"
          ]
        }
      ]
    },
    {
      "cell_type": "code",
      "metadata": {
        "id": "ec853f67"
      },
      "source": [
        "def function_generator(function_name) :\n",
        "    return lambda x : function_name(x)"
      ],
      "id": "ec853f67",
      "execution_count": null,
      "outputs": []
    },
    {
      "cell_type": "code",
      "metadata": {
        "id": "f6d2da11"
      },
      "source": [
        "# ali_print() --> print()\n",
        "# ali_max() --> max()\n",
        "# ali_bool() --> bool()\n",
        "# ali_sorted() --> sorted()"
      ],
      "id": "f6d2da11",
      "execution_count": null,
      "outputs": []
    },
    {
      "cell_type": "code",
      "metadata": {
        "id": "e3f4a946",
        "outputId": "2818350a-b314-4c60-f85f-d1c53e93975e"
      },
      "source": [
        "(lambda x : print(x))(\"ali veli deli\")"
      ],
      "id": "e3f4a946",
      "execution_count": null,
      "outputs": [
        {
          "name": "stdout",
          "output_type": "stream",
          "text": [
            "ali veli deli\n"
          ]
        }
      ]
    },
    {
      "cell_type": "code",
      "metadata": {
        "id": "9d580003",
        "outputId": "280ed139-0d24-4075-91be-005c9787d664"
      },
      "source": [
        "(lambda x : max(x))((1,2,3))"
      ],
      "id": "9d580003",
      "execution_count": null,
      "outputs": [
        {
          "data": {
            "text/plain": [
              "3"
            ]
          },
          "execution_count": 47,
          "metadata": {},
          "output_type": "execute_result"
        }
      ]
    },
    {
      "cell_type": "code",
      "metadata": {
        "id": "062c8dd1",
        "outputId": "01b62a40-40a6-4c09-8189-d2034fdd3841"
      },
      "source": [
        "(lambda x : sorted(x))((3,5,1))"
      ],
      "id": "062c8dd1",
      "execution_count": null,
      "outputs": [
        {
          "data": {
            "text/plain": [
              "[1, 3, 5]"
            ]
          },
          "execution_count": 49,
          "metadata": {},
          "output_type": "execute_result"
        }
      ]
    },
    {
      "cell_type": "code",
      "metadata": {
        "id": "0d2f3e8d"
      },
      "source": [
        "joseph_max = function_generator(max)\n",
        "joseph_sorted = function_generator(sorted)"
      ],
      "id": "0d2f3e8d",
      "execution_count": null,
      "outputs": []
    },
    {
      "cell_type": "code",
      "metadata": {
        "id": "3c2492a5",
        "outputId": "a25c4e4b-421c-4f05-9168-f3014457c4e4"
      },
      "source": [
        "joseph_max((2,22,3))"
      ],
      "id": "3c2492a5",
      "execution_count": null,
      "outputs": [
        {
          "data": {
            "text/plain": [
              "22"
            ]
          },
          "execution_count": 52,
          "metadata": {},
          "output_type": "execute_result"
        }
      ]
    },
    {
      "cell_type": "code",
      "metadata": {
        "id": "4ff9f0ca"
      },
      "source": [
        ""
      ],
      "id": "4ff9f0ca",
      "execution_count": null,
      "outputs": []
    },
    {
      "cell_type": "code",
      "metadata": {
        "id": "be8c6006"
      },
      "source": [
        ""
      ],
      "id": "be8c6006",
      "execution_count": null,
      "outputs": []
    }
  ]
}